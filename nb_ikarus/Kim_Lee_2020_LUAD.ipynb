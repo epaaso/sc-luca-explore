{
 "cells": [
  {
   "cell_type": "code",
   "execution_count": 1,
   "id": "a3b30bc1-fc76-4a7c-863d-7d6e3e931c3c",
   "metadata": {
    "execution": {
     "iopub.execute_input": "2023-12-06T10:19:18.374420Z",
     "iopub.status.busy": "2023-12-06T10:19:18.373853Z",
     "iopub.status.idle": "2023-12-06T10:19:18.386526Z",
     "shell.execute_reply": "2023-12-06T10:19:18.385537Z"
    },
    "papermill": {
     "duration": 0.119743,
     "end_time": "2023-12-06T10:19:18.421900",
     "exception": false,
     "start_time": "2023-12-06T10:19:18.302157",
     "status": "completed"
    },
    "tags": [
     "parameters"
    ]
   },
   "outputs": [],
   "source": [
    "backup_dir = '/root/datos/maestria/netopaas/luca_explore/surgeries'\n",
    "ikarus_dir = '/root/datos/maestria/netopaas/ikarus'\n",
    "id_ = 'Chen_Zhang_2020_NSCLC'"
   ]
  },
  {
   "cell_type": "code",
   "execution_count": 2,
   "id": "1c4f1d52",
   "metadata": {
    "execution": {
     "iopub.execute_input": "2023-12-06T10:19:18.518395Z",
     "iopub.status.busy": "2023-12-06T10:19:18.517765Z",
     "iopub.status.idle": "2023-12-06T10:19:18.525012Z",
     "shell.execute_reply": "2023-12-06T10:19:18.523519Z"
    },
    "papermill": {
     "duration": 0.08686,
     "end_time": "2023-12-06T10:19:18.562932",
     "exception": false,
     "start_time": "2023-12-06T10:19:18.476072",
     "status": "completed"
    },
    "tags": [
     "injected-parameters"
    ]
   },
   "outputs": [],
   "source": [
    "# Parameters\n",
    "id_ = \"Kim_Lee_2020_LUAD\"\n"
   ]
  },
  {
   "cell_type": "code",
   "execution_count": 3,
   "id": "a577bd29-841e-4499-9669-e67c6a80ab5a",
   "metadata": {
    "execution": {
     "iopub.execute_input": "2023-12-06T10:19:18.718719Z",
     "iopub.status.busy": "2023-12-06T10:19:18.717658Z",
     "iopub.status.idle": "2023-12-06T10:19:24.965745Z",
     "shell.execute_reply": "2023-12-06T10:19:24.964549Z"
    },
    "papermill": {
     "duration": 6.389329,
     "end_time": "2023-12-06T10:19:24.990552",
     "exception": false,
     "start_time": "2023-12-06T10:19:18.601223",
     "status": "completed"
    },
    "tags": []
   },
   "outputs": [],
   "source": [
    "import gdown\n",
    "import anndata as ad\n",
    "import pandas as pd\n",
    "import os\n",
    "\n",
    "import scanpy as sc\n",
    "from ikarus import classifier, utils, data"
   ]
  },
  {
   "cell_type": "code",
   "execution_count": 4,
   "id": "d100eba9-3fb1-4bfd-aa41-06f3deac2373",
   "metadata": {
    "execution": {
     "iopub.execute_input": "2023-12-06T10:19:25.192690Z",
     "iopub.status.busy": "2023-12-06T10:19:25.192014Z",
     "iopub.status.idle": "2023-12-06T10:19:25.249822Z",
     "shell.execute_reply": "2023-12-06T10:19:25.249088Z"
    },
    "papermill": {
     "duration": 0.143084,
     "end_time": "2023-12-06T10:19:25.257560",
     "exception": false,
     "start_time": "2023-12-06T10:19:25.114476",
     "status": "completed"
    },
    "tags": []
   },
   "outputs": [],
   "source": [
    "url = \"https://raw.githubusercontent.com/BIMSBbioinfo/ikarus/master/tutorials/out/signatures.gmt\"\n",
    "signatures_path = f\"{ikarus_dir}/signatures.gmt\"\n",
    "gdown.download(url, signatures_path, quiet=False) if not os.path.exists(signatures_path) else None\n",
    "pd.read_csv(signatures_path, sep=\"\\t\", header=None)\n",
    "\n",
    "model_path = f\"{ikarus_dir}/core_model.joblib\""
   ]
  },
  {
   "cell_type": "code",
   "execution_count": 5,
   "id": "564db412-61e3-4f0b-9f6f-77e3abd7e6d8",
   "metadata": {
    "execution": {
     "iopub.execute_input": "2023-12-06T10:19:25.403444Z",
     "iopub.status.busy": "2023-12-06T10:19:25.402962Z",
     "iopub.status.idle": "2023-12-06T10:19:25.411780Z",
     "shell.execute_reply": "2023-12-06T10:19:25.410541Z"
    },
    "papermill": {
     "duration": 0.143409,
     "end_time": "2023-12-06T10:19:25.453817",
     "exception": false,
     "start_time": "2023-12-06T10:19:25.310408",
     "status": "completed"
    },
    "tags": []
   },
   "outputs": [],
   "source": [
    "model = classifier.Ikarus(signatures_gmt=signatures_path, out_dir=\"out\",\n",
    "                          adapt_signatures=True # This is important, we are working with a reduced gen set, \n",
    "# so the model won't work if the intesrection betwen the siganture and the avialbe genes is too small..\n",
    "# that is why the non-overlapping genes mus be removed from the signate. This flag does that automatically\n",
    "                         )\n",
    "model.load_core_model(model_path)"
   ]
  },
  {
   "cell_type": "code",
   "execution_count": 6,
   "id": "6d4b4b84-a9fb-4994-bece-b05d5da71bdb",
   "metadata": {
    "execution": {
     "iopub.execute_input": "2023-12-06T10:19:25.648458Z",
     "iopub.status.busy": "2023-12-06T10:19:25.647816Z",
     "iopub.status.idle": "2023-12-06T10:19:31.022912Z",
     "shell.execute_reply": "2023-12-06T10:19:31.021779Z"
    },
    "papermill": {
     "duration": 5.399443,
     "end_time": "2023-12-06T10:19:31.027997",
     "exception": false,
     "start_time": "2023-12-06T10:19:25.628554",
     "status": "completed"
    },
    "tags": []
   },
   "outputs": [
    {
     "data": {
      "text/plain": [
       "AnnData object with n_obs × n_vars = 204300 × 27613\n",
       "    obs: 'sample', 'patient', 'Tissue origins', 'histology', 'sex', 'age', 'smoking', 'pathology', 'EGFR', 'tumor_stage', 'geo_accession', 'tissue_orig', 'condition', 'dataset', 'origin', 'tissue', 'n_counts', 'n_genes', 'n_genes_by_counts', 'total_counts', 'total_counts_mito', 'pct_counts_mito'\n",
       "    var: 'n_counts', 'mito', 'n_cells_by_counts', 'mean_counts', 'pct_dropout_by_counts', 'total_counts'"
      ]
     },
     "execution_count": 6,
     "metadata": {},
     "output_type": "execute_result"
    }
   ],
   "source": [
    "adata = sc.read_h5ad(f'{backup_dir}/filtered_{id_}.h5ad')\n",
    "adata"
   ]
  },
  {
   "cell_type": "code",
   "execution_count": 7,
   "id": "15792c9d-df7b-4106-b9bc-fdb07fb55222",
   "metadata": {
    "execution": {
     "iopub.execute_input": "2023-12-06T10:19:31.052338Z",
     "iopub.status.busy": "2023-12-06T10:19:31.051829Z",
     "iopub.status.idle": "2023-12-06T10:19:34.087530Z",
     "shell.execute_reply": "2023-12-06T10:19:34.084856Z"
    },
    "papermill": {
     "duration": 3.053024,
     "end_time": "2023-12-06T10:19:34.092429",
     "exception": false,
     "start_time": "2023-12-06T10:19:31.039405",
     "status": "completed"
    },
    "tags": []
   },
   "outputs": [],
   "source": [
    "adata = data.preprocess_adata(adata)"
   ]
  },
  {
   "cell_type": "code",
   "execution_count": 8,
   "id": "f49aa80a-dde7-4b0e-95b7-a88d19529849",
   "metadata": {
    "execution": {
     "iopub.execute_input": "2023-12-06T10:19:34.117589Z",
     "iopub.status.busy": "2023-12-06T10:19:34.117174Z",
     "iopub.status.idle": "2023-12-06T12:34:54.889415Z",
     "shell.execute_reply": "2023-12-06T12:34:54.875810Z"
    },
    "papermill": {
     "duration": 8120.793666,
     "end_time": "2023-12-06T12:34:54.897450",
     "exception": false,
     "start_time": "2023-12-06T10:19:34.103784",
     "status": "completed"
    },
    "tags": []
   },
   "outputs": [
    {
     "name": "stderr",
     "output_type": "stream",
     "text": [
      "/usr/local/lib/python3.11/site-packages/scanpy/preprocessing/_highly_variable_genes.py:215: FutureWarning: The default of observed=False is deprecated and will be changed to True in a future version of pandas. Pass observed=False to retain current behavior or observed=True to adopt the future default and silence this warning.\n",
      "  disp_grouped = df.groupby('mean_bin')['dispersions']\n"
     ]
    },
    {
     "name": "stderr",
     "output_type": "stream",
     "text": [
      "/usr/local/lib/python3.11/site-packages/scanpy/preprocessing/_highly_variable_genes.py:539: ImplicitModificationWarning: Trying to modify attribute `._uns` of view, initializing view as actual.\n",
      "  adata.uns['hvg'] = {'flavor': flavor}\n"
     ]
    },
    {
     "name": "stderr",
     "output_type": "stream",
     "text": [
      "2023-12-06 10:43:06.214415: E external/local_xla/xla/stream_executor/cuda/cuda_dnn.cc:9261] Unable to register cuDNN factory: Attempting to register factory for plugin cuDNN when one has already been registered\n",
      "2023-12-06 10:43:06.214486: E external/local_xla/xla/stream_executor/cuda/cuda_fft.cc:607] Unable to register cuFFT factory: Attempting to register factory for plugin cuFFT when one has already been registered\n",
      "2023-12-06 10:43:06.215974: E external/local_xla/xla/stream_executor/cuda/cuda_blas.cc:1515] Unable to register cuBLAS factory: Attempting to register factory for plugin cuBLAS when one has already been registered\n",
      "2023-12-06 10:43:06.224345: I tensorflow/core/platform/cpu_feature_guard.cc:182] This TensorFlow binary is optimized to use available CPU instructions in performance-critical operations.\n",
      "To enable the following instructions: AVX2 AVX512F FMA, in other operations, rebuild TensorFlow with the appropriate compiler flags.\n"
     ]
    },
    {
     "name": "stderr",
     "output_type": "stream",
     "text": [
      "2023-12-06 10:43:07.437221: W tensorflow/compiler/tf2tensorrt/utils/py_utils.cc:38] TF-TRT Warning: Could not find TensorRT\n"
     ]
    },
    {
     "name": "stdout",
     "output_type": "stream",
     "text": [
      "converged at iteration step: 28 with 0.0009 < 0.001\n"
     ]
    }
   ],
   "source": [
    "adata.var['gene_symbol'] = adata.var.index\n",
    "_ = model.predict(adata, \"laughney\",\n",
    "                  # connectivities_path='scvi_conns.npz', # If we use the connectivites from scVI the number of predicted cells changes a lot\n",
    "                  # save=True\n",
    "                 )"
   ]
  },
  {
   "cell_type": "code",
   "execution_count": null,
   "id": "aa9e4997-578c-4dfc-8f2c-67a955dd0865",
   "metadata": {
    "papermill": {
     "duration": 0.011621,
     "end_time": "2023-12-06T12:34:54.923568",
     "exception": false,
     "start_time": "2023-12-06T12:34:54.911947",
     "status": "completed"
    },
    "tags": []
   },
   "outputs": [],
   "source": []
  },
  {
   "cell_type": "code",
   "execution_count": 9,
   "id": "258b3915-8a6b-484b-9154-ed3b8b8ff626",
   "metadata": {
    "execution": {
     "iopub.execute_input": "2023-12-06T12:34:55.038352Z",
     "iopub.status.busy": "2023-12-06T12:34:54.969739Z",
     "iopub.status.idle": "2023-12-06T12:34:55.075757Z",
     "shell.execute_reply": "2023-12-06T12:34:55.075081Z"
    },
    "papermill": {
     "duration": 0.144462,
     "end_time": "2023-12-06T12:34:55.079562",
     "exception": false,
     "start_time": "2023-12-06T12:34:54.935100",
     "status": "completed"
    },
    "tags": []
   },
   "outputs": [],
   "source": [
    "preds = model.results[\"final_pred\"].values"
   ]
  },
  {
   "cell_type": "code",
   "execution_count": 10,
   "id": "113ff65c-9694-4b4d-b290-f77a82efedee",
   "metadata": {
    "execution": {
     "iopub.execute_input": "2023-12-06T12:34:55.106471Z",
     "iopub.status.busy": "2023-12-06T12:34:55.105847Z",
     "iopub.status.idle": "2023-12-06T12:34:55.388364Z",
     "shell.execute_reply": "2023-12-06T12:34:55.387182Z"
    },
    "papermill": {
     "duration": 0.300217,
     "end_time": "2023-12-06T12:34:55.392311",
     "exception": false,
     "start_time": "2023-12-06T12:34:55.092094",
     "status": "completed"
    },
    "tags": []
   },
   "outputs": [],
   "source": [
    "preds_df = pd.DataFrame({'final_pred':preds})\n",
    "preds_df.to_csv(f'{ikarus_dir}/{id_}.csv')"
   ]
  }
 ],
 "metadata": {
  "kernelspec": {
   "display_name": "Python 3 (ipykernel)",
   "language": "python",
   "name": "python3"
  },
  "language_info": {
   "codemirror_mode": {
    "name": "ipython",
    "version": 3
   },
   "file_extension": ".py",
   "mimetype": "text/x-python",
   "name": "python",
   "nbconvert_exporter": "python",
   "pygments_lexer": "ipython3",
   "version": "3.11.4"
  },
  "papermill": {
   "default_parameters": {},
   "duration": 8141.734827,
   "end_time": "2023-12-06T12:34:58.991144",
   "environment_variables": {},
   "exception": null,
   "input_path": "nb_ikarus/ikarus_param.ipynb",
   "output_path": "nb_ikarus/Kim_Lee_2020_LUAD.ipynb",
   "parameters": {
    "id_": "Kim_Lee_2020_LUAD"
   },
   "start_time": "2023-12-06T10:19:17.256317",
   "version": "2.5.0"
  }
 },
 "nbformat": 4,
 "nbformat_minor": 5
}