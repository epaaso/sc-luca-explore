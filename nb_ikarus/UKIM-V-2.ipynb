{
 "cells": [
  {
   "cell_type": "code",
   "execution_count": 1,
   "id": "a3b30bc1-fc76-4a7c-863d-7d6e3e931c3c",
   "metadata": {
    "execution": {
     "iopub.execute_input": "2023-12-06T10:19:18.375400Z",
     "iopub.status.busy": "2023-12-06T10:19:18.374918Z",
     "iopub.status.idle": "2023-12-06T10:19:18.387485Z",
     "shell.execute_reply": "2023-12-06T10:19:18.386646Z"
    },
    "papermill": {
     "duration": 0.086417,
     "end_time": "2023-12-06T10:19:18.403374",
     "exception": false,
     "start_time": "2023-12-06T10:19:18.316957",
     "status": "completed"
    },
    "tags": [
     "parameters"
    ]
   },
   "outputs": [],
   "source": [
    "backup_dir = '/root/datos/maestria/netopaas/luca_explore/surgeries'\n",
    "ikarus_dir = '/root/datos/maestria/netopaas/ikarus'\n",
    "id_ = 'Chen_Zhang_2020_NSCLC'"
   ]
  },
  {
   "cell_type": "code",
   "execution_count": 2,
   "id": "fd2d497d",
   "metadata": {
    "execution": {
     "iopub.execute_input": "2023-12-06T10:19:18.446119Z",
     "iopub.status.busy": "2023-12-06T10:19:18.445719Z",
     "iopub.status.idle": "2023-12-06T10:19:18.450178Z",
     "shell.execute_reply": "2023-12-06T10:19:18.449005Z"
    },
    "papermill": {
     "duration": 0.067956,
     "end_time": "2023-12-06T10:19:18.486100",
     "exception": false,
     "start_time": "2023-12-06T10:19:18.418144",
     "status": "completed"
    },
    "tags": [
     "injected-parameters"
    ]
   },
   "outputs": [],
   "source": [
    "# Parameters\n",
    "id_ = \"UKIM-V-2\"\n"
   ]
  },
  {
   "cell_type": "code",
   "execution_count": 3,
   "id": "a577bd29-841e-4499-9669-e67c6a80ab5a",
   "metadata": {
    "execution": {
     "iopub.execute_input": "2023-12-06T10:19:18.534985Z",
     "iopub.status.busy": "2023-12-06T10:19:18.534255Z",
     "iopub.status.idle": "2023-12-06T10:19:24.965535Z",
     "shell.execute_reply": "2023-12-06T10:19:24.964607Z"
    },
    "papermill": {
     "duration": 6.516831,
     "end_time": "2023-12-06T10:19:25.033040",
     "exception": false,
     "start_time": "2023-12-06T10:19:18.516209",
     "status": "completed"
    },
    "tags": []
   },
   "outputs": [],
   "source": [
    "import gdown\n",
    "import anndata as ad\n",
    "import pandas as pd\n",
    "import os\n",
    "\n",
    "import scanpy as sc\n",
    "from ikarus import classifier, utils, data"
   ]
  },
  {
   "cell_type": "code",
   "execution_count": 4,
   "id": "d100eba9-3fb1-4bfd-aa41-06f3deac2373",
   "metadata": {
    "execution": {
     "iopub.execute_input": "2023-12-06T10:19:25.305969Z",
     "iopub.status.busy": "2023-12-06T10:19:25.305168Z",
     "iopub.status.idle": "2023-12-06T10:19:25.397872Z",
     "shell.execute_reply": "2023-12-06T10:19:25.397025Z"
    },
    "papermill": {
     "duration": 0.204926,
     "end_time": "2023-12-06T10:19:25.437844",
     "exception": false,
     "start_time": "2023-12-06T10:19:25.232918",
     "status": "completed"
    },
    "tags": []
   },
   "outputs": [],
   "source": [
    "url = \"https://raw.githubusercontent.com/BIMSBbioinfo/ikarus/master/tutorials/out/signatures.gmt\"\n",
    "signatures_path = f\"{ikarus_dir}/signatures.gmt\"\n",
    "gdown.download(url, signatures_path, quiet=False) if not os.path.exists(signatures_path) else None\n",
    "pd.read_csv(signatures_path, sep=\"\\t\", header=None)\n",
    "\n",
    "model_path = f\"{ikarus_dir}/core_model.joblib\""
   ]
  },
  {
   "cell_type": "code",
   "execution_count": 5,
   "id": "564db412-61e3-4f0b-9f6f-77e3abd7e6d8",
   "metadata": {
    "execution": {
     "iopub.execute_input": "2023-12-06T10:19:25.681585Z",
     "iopub.status.busy": "2023-12-06T10:19:25.680967Z",
     "iopub.status.idle": "2023-12-06T10:19:25.691656Z",
     "shell.execute_reply": "2023-12-06T10:19:25.690041Z"
    },
    "papermill": {
     "duration": 0.203118,
     "end_time": "2023-12-06T10:19:25.787516",
     "exception": false,
     "start_time": "2023-12-06T10:19:25.584398",
     "status": "completed"
    },
    "tags": []
   },
   "outputs": [],
   "source": [
    "model = classifier.Ikarus(signatures_gmt=signatures_path, out_dir=\"out\",\n",
    "                          adapt_signatures=True # This is important, we are working with a reduced gen set, \n",
    "# so the model won't work if the intesrection betwen the siganture and the avialbe genes is too small..\n",
    "# that is why the non-overlapping genes mus be removed from the signate. This flag does that automatically\n",
    "                         )\n",
    "model.load_core_model(model_path)"
   ]
  },
  {
   "cell_type": "code",
   "execution_count": 6,
   "id": "6d4b4b84-a9fb-4994-bece-b05d5da71bdb",
   "metadata": {
    "execution": {
     "iopub.execute_input": "2023-12-06T10:19:25.968012Z",
     "iopub.status.busy": "2023-12-06T10:19:25.967164Z",
     "iopub.status.idle": "2023-12-06T10:19:30.755272Z",
     "shell.execute_reply": "2023-12-06T10:19:30.754082Z"
    },
    "papermill": {
     "duration": 4.883316,
     "end_time": "2023-12-06T10:19:30.760174",
     "exception": false,
     "start_time": "2023-12-06T10:19:25.876858",
     "status": "completed"
    },
    "tags": []
   },
   "outputs": [
    {
     "data": {
      "text/plain": [
       "AnnData object with n_obs × n_vars = 127150 × 31048\n",
       "    obs: 'patient', 'file_id', 'origin', 'sex', 'age', 'uicc_stage', 'condition', 'ever_smoker', 'sample', 'platform', 'platform_fine', 'n_counts', 'n_genes', 'n_genes_by_counts', 'total_counts', 'total_counts_mito', 'pct_counts_mito'\n",
       "    var: 'n_counts', 'mito', 'n_cells_by_counts', 'mean_counts', 'pct_dropout_by_counts', 'total_counts'"
      ]
     },
     "execution_count": 6,
     "metadata": {},
     "output_type": "execute_result"
    }
   ],
   "source": [
    "adata = sc.read_h5ad(f'{backup_dir}/filtered_{id_}.h5ad')\n",
    "adata"
   ]
  },
  {
   "cell_type": "code",
   "execution_count": 7,
   "id": "15792c9d-df7b-4106-b9bc-fdb07fb55222",
   "metadata": {
    "execution": {
     "iopub.execute_input": "2023-12-06T10:19:30.784051Z",
     "iopub.status.busy": "2023-12-06T10:19:30.783730Z",
     "iopub.status.idle": "2023-12-06T10:19:31.843454Z",
     "shell.execute_reply": "2023-12-06T10:19:31.842467Z"
    },
    "papermill": {
     "duration": 1.076721,
     "end_time": "2023-12-06T10:19:31.848131",
     "exception": false,
     "start_time": "2023-12-06T10:19:30.771410",
     "status": "completed"
    },
    "tags": []
   },
   "outputs": [],
   "source": [
    "adata = data.preprocess_adata(adata)"
   ]
  },
  {
   "cell_type": "code",
   "execution_count": 8,
   "id": "f49aa80a-dde7-4b0e-95b7-a88d19529849",
   "metadata": {
    "execution": {
     "iopub.execute_input": "2023-12-06T10:19:31.872040Z",
     "iopub.status.busy": "2023-12-06T10:19:31.871598Z",
     "iopub.status.idle": "2023-12-06T10:58:30.187525Z",
     "shell.execute_reply": "2023-12-06T10:58:30.183879Z"
    },
    "papermill": {
     "duration": 2338.355939,
     "end_time": "2023-12-06T10:58:30.215407",
     "exception": false,
     "start_time": "2023-12-06T10:19:31.859468",
     "status": "completed"
    },
    "tags": []
   },
   "outputs": [
    {
     "name": "stderr",
     "output_type": "stream",
     "text": [
      "/usr/local/lib/python3.11/site-packages/scanpy/preprocessing/_highly_variable_genes.py:215: FutureWarning: The default of observed=False is deprecated and will be changed to True in a future version of pandas. Pass observed=False to retain current behavior or observed=True to adopt the future default and silence this warning.\n",
      "  disp_grouped = df.groupby('mean_bin')['dispersions']\n",
      "/usr/local/lib/python3.11/site-packages/scanpy/preprocessing/_highly_variable_genes.py:539: ImplicitModificationWarning: Trying to modify attribute `._uns` of view, initializing view as actual.\n",
      "  adata.uns['hvg'] = {'flavor': flavor}\n"
     ]
    },
    {
     "name": "stderr",
     "output_type": "stream",
     "text": [
      "2023-12-06 10:32:06.341653: E external/local_xla/xla/stream_executor/cuda/cuda_dnn.cc:9261] Unable to register cuDNN factory: Attempting to register factory for plugin cuDNN when one has already been registered\n",
      "2023-12-06 10:32:06.341813: E external/local_xla/xla/stream_executor/cuda/cuda_fft.cc:607] Unable to register cuFFT factory: Attempting to register factory for plugin cuFFT when one has already been registered\n",
      "2023-12-06 10:32:06.345190: E external/local_xla/xla/stream_executor/cuda/cuda_blas.cc:1515] Unable to register cuBLAS factory: Attempting to register factory for plugin cuBLAS when one has already been registered\n",
      "2023-12-06 10:32:06.372459: I tensorflow/core/platform/cpu_feature_guard.cc:182] This TensorFlow binary is optimized to use available CPU instructions in performance-critical operations.\n",
      "To enable the following instructions: AVX2 AVX512F FMA, in other operations, rebuild TensorFlow with the appropriate compiler flags.\n"
     ]
    },
    {
     "name": "stderr",
     "output_type": "stream",
     "text": [
      "2023-12-06 10:32:08.938492: W tensorflow/compiler/tf2tensorrt/utils/py_utils.cc:38] TF-TRT Warning: Could not find TensorRT\n"
     ]
    },
    {
     "name": "stdout",
     "output_type": "stream",
     "text": [
      "converged at iteration step: 19 with 0.0009 < 0.001\n"
     ]
    }
   ],
   "source": [
    "adata.var['gene_symbol'] = adata.var.index\n",
    "_ = model.predict(adata, \"laughney\",\n",
    "                  # connectivities_path='scvi_conns.npz', # If we use the connectivites from scVI the number of predicted cells changes a lot\n",
    "                  # save=True\n",
    "                 )"
   ]
  },
  {
   "cell_type": "code",
   "execution_count": null,
   "id": "aa9e4997-578c-4dfc-8f2c-67a955dd0865",
   "metadata": {
    "papermill": {
     "duration": 0.010185,
     "end_time": "2023-12-06T10:58:30.241728",
     "exception": false,
     "start_time": "2023-12-06T10:58:30.231543",
     "status": "completed"
    },
    "tags": []
   },
   "outputs": [],
   "source": []
  },
  {
   "cell_type": "code",
   "execution_count": 9,
   "id": "258b3915-8a6b-484b-9154-ed3b8b8ff626",
   "metadata": {
    "execution": {
     "iopub.execute_input": "2023-12-06T10:58:30.270137Z",
     "iopub.status.busy": "2023-12-06T10:58:30.263874Z",
     "iopub.status.idle": "2023-12-06T10:58:30.289106Z",
     "shell.execute_reply": "2023-12-06T10:58:30.287835Z"
    },
    "papermill": {
     "duration": 0.041914,
     "end_time": "2023-12-06T10:58:30.293048",
     "exception": false,
     "start_time": "2023-12-06T10:58:30.251134",
     "status": "completed"
    },
    "tags": []
   },
   "outputs": [],
   "source": [
    "preds = model.results[\"final_pred\"].values"
   ]
  },
  {
   "cell_type": "code",
   "execution_count": 10,
   "id": "113ff65c-9694-4b4d-b290-f77a82efedee",
   "metadata": {
    "execution": {
     "iopub.execute_input": "2023-12-06T10:58:30.316849Z",
     "iopub.status.busy": "2023-12-06T10:58:30.315593Z",
     "iopub.status.idle": "2023-12-06T10:58:30.560645Z",
     "shell.execute_reply": "2023-12-06T10:58:30.559884Z"
    },
    "papermill": {
     "duration": 0.260842,
     "end_time": "2023-12-06T10:58:30.564781",
     "exception": false,
     "start_time": "2023-12-06T10:58:30.303939",
     "status": "completed"
    },
    "tags": []
   },
   "outputs": [],
   "source": [
    "preds_df = pd.DataFrame({'final_pred':preds})\n",
    "preds_df.to_csv(f'{ikarus_dir}/{id_}.csv')"
   ]
  }
 ],
 "metadata": {
  "kernelspec": {
   "display_name": "Python 3 (ipykernel)",
   "language": "python",
   "name": "python3"
  },
  "language_info": {
   "codemirror_mode": {
    "name": "ipython",
    "version": 3
   },
   "file_extension": ".py",
   "mimetype": "text/x-python",
   "name": "python",
   "nbconvert_exporter": "python",
   "pygments_lexer": "ipython3",
   "version": "3.11.4"
  },
  "papermill": {
   "default_parameters": {},
   "duration": 2356.45104,
   "end_time": "2023-12-06T10:58:33.645302",
   "environment_variables": {},
   "exception": null,
   "input_path": "nb_ikarus/ikarus_param.ipynb",
   "output_path": "nb_ikarus/UKIM-V-2.ipynb",
   "parameters": {
    "id_": "UKIM-V-2"
   },
   "start_time": "2023-12-06T10:19:17.194262",
   "version": "2.5.0"
  }
 },
 "nbformat": 4,
 "nbformat_minor": 5
}