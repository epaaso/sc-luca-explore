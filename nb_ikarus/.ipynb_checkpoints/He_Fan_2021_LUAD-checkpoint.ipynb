{
 "cells": [
  {
   "cell_type": "code",
   "execution_count": 1,
   "id": "a3b30bc1-fc76-4a7c-863d-7d6e3e931c3c",
   "metadata": {
    "execution": {
     "iopub.execute_input": "2023-12-05T19:07:43.956153Z",
     "iopub.status.busy": "2023-12-05T19:07:43.954743Z",
     "iopub.status.idle": "2023-12-05T19:07:43.993896Z",
     "shell.execute_reply": "2023-12-05T19:07:43.990701Z"
    },
    "papermill": {
     "duration": 0.058851,
     "end_time": "2023-12-05T19:07:44.005138",
     "exception": false,
     "start_time": "2023-12-05T19:07:43.946287",
     "status": "completed"
    },
    "tags": [
     "parameters"
    ]
   },
   "outputs": [],
   "source": [
    "backup_dir = '/root/datos/maestria/netopaas/luca_explore/surgeries'\n",
    "local_dir = 'root/host_home/luca'\n",
    "id_ = 'Chen_Zhang_2020_NSCLC'"
   ]
  },
  {
   "cell_type": "code",
   "execution_count": 2,
   "id": "78594d32",
   "metadata": {
    "execution": {
     "iopub.execute_input": "2023-12-05T19:07:44.026127Z",
     "iopub.status.busy": "2023-12-05T19:07:44.025617Z",
     "iopub.status.idle": "2023-12-05T19:07:44.030139Z",
     "shell.execute_reply": "2023-12-05T19:07:44.029269Z"
    },
    "papermill": {
     "duration": 0.0147,
     "end_time": "2023-12-05T19:07:44.034626",
     "exception": false,
     "start_time": "2023-12-05T19:07:44.019926",
     "status": "completed"
    },
    "tags": [
     "injected-parameters"
    ]
   },
   "outputs": [],
   "source": [
    "# Parameters\n",
    "id_ = \"He_Fan_2021_LUAD\"\n"
   ]
  },
  {
   "cell_type": "code",
   "execution_count": 3,
   "id": "a577bd29-841e-4499-9669-e67c6a80ab5a",
   "metadata": {
    "execution": {
     "iopub.execute_input": "2023-12-05T19:07:44.053659Z",
     "iopub.status.busy": "2023-12-05T19:07:44.053165Z",
     "iopub.status.idle": "2023-12-05T19:07:51.906389Z",
     "shell.execute_reply": "2023-12-05T19:07:51.904651Z"
    },
    "papermill": {
     "duration": 7.872311,
     "end_time": "2023-12-05T19:07:51.919522",
     "exception": false,
     "start_time": "2023-12-05T19:07:44.047211",
     "status": "completed"
    },
    "tags": []
   },
   "outputs": [],
   "source": [
    "import gdown\n",
    "import anndata as ad\n",
    "import pandas as pd\n",
    "import os\n",
    "\n",
    "import scanpy as sc\n",
    "from ikarus import classifier, utils, data"
   ]
  },
  {
   "cell_type": "code",
   "execution_count": 4,
   "id": "d100eba9-3fb1-4bfd-aa41-06f3deac2373",
   "metadata": {
    "execution": {
     "iopub.execute_input": "2023-12-05T19:07:52.053715Z",
     "iopub.status.busy": "2023-12-05T19:07:52.052230Z",
     "iopub.status.idle": "2023-12-05T19:07:52.158173Z",
     "shell.execute_reply": "2023-12-05T19:07:52.157093Z"
    },
    "papermill": {
     "duration": 0.173353,
     "end_time": "2023-12-05T19:07:52.168918",
     "exception": false,
     "start_time": "2023-12-05T19:07:51.995565",
     "status": "completed"
    },
    "tags": []
   },
   "outputs": [],
   "source": [
    "url = \"https://raw.githubusercontent.com/BIMSBbioinfo/ikarus/master/tutorials/out/signatures.gmt\"\n",
    "os.makedirs(f'{local_dir}/out', exist_ok=True)\n",
    "signatures_path = f\"{local_dir}/out/signatures.gmt\"\n",
    "gdown.download(url, signatures_path, quiet=False) if not os.path.exists(signatures_path) else None\n",
    "pd.read_csv(signatures_path, sep=\"\\t\", header=None)\n",
    "\n",
    "url = \"https://raw.githubusercontent.com/BIMSBbioinfo/ikarus/master/tutorials/out/core_model.joblib\"\n",
    "model_path = f\"{local_dir}/out/core_model.joblib\"\n",
    "gdown.download(url, model_path, quiet=False) if not os.path.exists(model_path) else None"
   ]
  },
  {
   "cell_type": "code",
   "execution_count": 5,
   "id": "564db412-61e3-4f0b-9f6f-77e3abd7e6d8",
   "metadata": {
    "execution": {
     "iopub.execute_input": "2023-12-05T19:07:52.248626Z",
     "iopub.status.busy": "2023-12-05T19:07:52.248048Z",
     "iopub.status.idle": "2023-12-05T19:07:52.259098Z",
     "shell.execute_reply": "2023-12-05T19:07:52.258065Z"
    },
    "papermill": {
     "duration": 0.04595,
     "end_time": "2023-12-05T19:07:52.262091",
     "exception": false,
     "start_time": "2023-12-05T19:07:52.216141",
     "status": "completed"
    },
    "tags": []
   },
   "outputs": [
    {
     "name": "stderr",
     "output_type": "stream",
     "text": [
      "/usr/local/lib/python3.11/site-packages/sklearn/base.py:348: InconsistentVersionWarning: Trying to unpickle estimator LogisticRegression from version 0.24.2 when using version 1.3.1. This might lead to breaking code or invalid results. Use at your own risk. For more info please refer to:\n",
      "https://scikit-learn.org/stable/model_persistence.html#security-maintainability-limitations\n",
      "  warnings.warn(\n"
     ]
    }
   ],
   "source": [
    "model = classifier.Ikarus(signatures_gmt=signatures_path, out_dir=\"out\",\n",
    "                          # adapt_signatures=True # This is important, we are working with a reduced gen set, \n",
    "# so the model won't work if the intesrection betwen the siganture and the avialbe genes is too small..\n",
    "# that is why the non-overlapping genes mus be removed from the signate. This flag does that automatically\n",
    "                         )\n",
    "model.load_core_model(model_path)"
   ]
  },
  {
   "cell_type": "code",
   "execution_count": 6,
   "id": "55e8f858-9aa7-4415-b418-2b5e3ceb4c31",
   "metadata": {
    "execution": {
     "iopub.execute_input": "2023-12-05T19:07:52.282231Z",
     "iopub.status.busy": "2023-12-05T19:07:52.281696Z",
     "iopub.status.idle": "2023-12-05T19:07:52.289276Z",
     "shell.execute_reply": "2023-12-05T19:07:52.288241Z"
    },
    "papermill": {
     "duration": 0.02153,
     "end_time": "2023-12-05T19:07:52.291592",
     "exception": false,
     "start_time": "2023-12-05T19:07:52.270062",
     "status": "completed"
    },
    "tags": []
   },
   "outputs": [],
   "source": [
    "def ikarus_pred(adata: ad.AnnData, model: classifier.Ikarus, id_:str) -> pd.Series:\n",
    "    \n",
    "    \n",
    "\n",
    "    adata = data.preprocess_adata(adata)\n",
    "\n",
    "    adata.var['gene_symbol'] = adata.var.index\n",
    "    _ = model.predict(adata, \"laughney\",\n",
    "                      # connectivities_path='scvi_conns.npz', # If we use the connectivites from scVI the number of predicted cells changes a lot\n",
    "                      # save=True\n",
    "                     )\n",
    "\n",
    "    return model.results[\"final_pred\"].values"
   ]
  },
  {
   "cell_type": "code",
   "execution_count": 7,
   "id": "6d4b4b84-a9fb-4994-bece-b05d5da71bdb",
   "metadata": {
    "execution": {
     "iopub.execute_input": "2023-12-05T19:07:52.304266Z",
     "iopub.status.busy": "2023-12-05T19:07:52.303750Z",
     "iopub.status.idle": "2023-12-05T19:07:56.193762Z",
     "shell.execute_reply": "2023-12-05T19:07:56.192259Z"
    },
    "papermill": {
     "duration": 3.899875,
     "end_time": "2023-12-05T19:07:56.196825",
     "exception": false,
     "start_time": "2023-12-05T19:07:52.296950",
     "status": "completed"
    },
    "tags": []
   },
   "outputs": [],
   "source": [
    "adata = sc.read_h5ad(f'{backup_dir}/filtered_{id_}.h5ad')"
   ]
  },
  {
   "cell_type": "code",
   "execution_count": null,
   "id": "258b3915-8a6b-484b-9154-ed3b8b8ff626",
   "metadata": {
    "papermill": {
     "duration": null,
     "end_time": null,
     "exception": false,
     "start_time": "2023-12-05T19:07:56.203473",
     "status": "running"
    },
    "tags": []
   },
   "outputs": [],
   "source": [
    "preds = ikarus_pred(adata, model, id_)"
   ]
  },
  {
   "cell_type": "code",
   "execution_count": null,
   "id": "113ff65c-9694-4b4d-b290-f77a82efedee",
   "metadata": {
    "papermill": {
     "duration": null,
     "end_time": null,
     "exception": null,
     "start_time": null,
     "status": "pending"
    },
    "tags": []
   },
   "outputs": [],
   "source": [
    "preds_df = pd.DataFrame({'final_pred':preds})\n",
    "preds_df.write_csv(f'{local_dir}/{id_}.csv')"
   ]
  },
  {
   "cell_type": "code",
   "execution_count": null,
   "id": "a03937dd-60d9-4952-9a56-9e4ac0365450",
   "metadata": {
    "papermill": {
     "duration": null,
     "end_time": null,
     "exception": null,
     "start_time": null,
     "status": "pending"
    },
    "tags": []
   },
   "outputs": [],
   "source": []
  }
 ],
 "metadata": {
  "kernelspec": {
   "display_name": "Python 3 (ipykernel)",
   "language": "python",
   "name": "python3"
  },
  "language_info": {
   "codemirror_mode": {
    "name": "ipython",
    "version": 3
   },
   "file_extension": ".py",
   "mimetype": "text/x-python",
   "name": "python",
   "nbconvert_exporter": "python",
   "pygments_lexer": "ipython3",
   "version": "3.11.4"
  },
  "papermill": {
   "default_parameters": {},
   "duration": null,
   "end_time": null,
   "environment_variables": {},
   "exception": null,
   "input_path": "nb_ikarus/ikarus_param.ipynb",
   "output_path": "nb_ikarus/He_Fan_2021_LUAD.ipynb",
   "parameters": {
    "id_": "He_Fan_2021_LUAD"
   },
   "start_time": "2023-12-05T19:07:41.737805",
   "version": "2.5.0"
  }
 },
 "nbformat": 4,
 "nbformat_minor": 5
}