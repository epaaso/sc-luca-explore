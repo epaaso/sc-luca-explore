{
 "cells": [
  {
   "cell_type": "code",
   "execution_count": 1,
   "id": "a3b30bc1-fc76-4a7c-863d-7d6e3e931c3c",
   "metadata": {
    "execution": {
     "iopub.execute_input": "2023-12-05T19:08:10.325355Z",
     "iopub.status.busy": "2023-12-05T19:08:10.324764Z",
     "iopub.status.idle": "2023-12-05T19:08:10.355614Z",
     "shell.execute_reply": "2023-12-05T19:08:10.354145Z"
    },
    "papermill": {
     "duration": 0.046773,
     "end_time": "2023-12-05T19:08:10.361407",
     "exception": false,
     "start_time": "2023-12-05T19:08:10.314634",
     "status": "completed"
    },
    "tags": [
     "parameters"
    ]
   },
   "outputs": [],
   "source": [
    "backup_dir = '/root/datos/maestria/netopaas/luca_explore/surgeries'\n",
    "local_dir = 'root/host_home/luca'\n",
    "id_ = 'Chen_Zhang_2020_NSCLC'"
   ]
  },
  {
   "cell_type": "code",
   "execution_count": 2,
   "id": "1aebead9",
   "metadata": {
    "execution": {
     "iopub.execute_input": "2023-12-05T19:08:10.401322Z",
     "iopub.status.busy": "2023-12-05T19:08:10.400826Z",
     "iopub.status.idle": "2023-12-05T19:08:10.406028Z",
     "shell.execute_reply": "2023-12-05T19:08:10.405060Z"
    },
    "papermill": {
     "duration": 0.043222,
     "end_time": "2023-12-05T19:08:10.413713",
     "exception": false,
     "start_time": "2023-12-05T19:08:10.370491",
     "status": "completed"
    },
    "tags": [
     "injected-parameters"
    ]
   },
   "outputs": [],
   "source": [
    "# Parameters\n",
    "id_ = \"Zilionis_Klein_2019_NSCLC\"\n"
   ]
  },
  {
   "cell_type": "code",
   "execution_count": 3,
   "id": "a577bd29-841e-4499-9669-e67c6a80ab5a",
   "metadata": {
    "execution": {
     "iopub.execute_input": "2023-12-05T19:08:10.429711Z",
     "iopub.status.busy": "2023-12-05T19:08:10.429289Z",
     "iopub.status.idle": "2023-12-05T19:08:17.580017Z",
     "shell.execute_reply": "2023-12-05T19:08:17.578763Z"
    },
    "papermill": {
     "duration": 7.162786,
     "end_time": "2023-12-05T19:08:17.583228",
     "exception": false,
     "start_time": "2023-12-05T19:08:10.420442",
     "status": "completed"
    },
    "tags": []
   },
   "outputs": [],
   "source": [
    "import gdown\n",
    "import anndata as ad\n",
    "import pandas as pd\n",
    "import os\n",
    "\n",
    "import scanpy as sc\n",
    "from ikarus import classifier, utils, data"
   ]
  },
  {
   "cell_type": "code",
   "execution_count": 4,
   "id": "d100eba9-3fb1-4bfd-aa41-06f3deac2373",
   "metadata": {
    "execution": {
     "iopub.execute_input": "2023-12-05T19:08:17.598064Z",
     "iopub.status.busy": "2023-12-05T19:08:17.597034Z",
     "iopub.status.idle": "2023-12-05T19:08:17.705787Z",
     "shell.execute_reply": "2023-12-05T19:08:17.704748Z"
    },
    "papermill": {
     "duration": 0.119204,
     "end_time": "2023-12-05T19:08:17.708861",
     "exception": false,
     "start_time": "2023-12-05T19:08:17.589657",
     "status": "completed"
    },
    "tags": []
   },
   "outputs": [],
   "source": [
    "url = \"https://raw.githubusercontent.com/BIMSBbioinfo/ikarus/master/tutorials/out/signatures.gmt\"\n",
    "os.makedirs(f'{local_dir}/out', exist_ok=True)\n",
    "signatures_path = f\"{local_dir}/out/signatures.gmt\"\n",
    "gdown.download(url, signatures_path, quiet=False) if not os.path.exists(signatures_path) else None\n",
    "pd.read_csv(signatures_path, sep=\"\\t\", header=None)\n",
    "\n",
    "url = \"https://raw.githubusercontent.com/BIMSBbioinfo/ikarus/master/tutorials/out/core_model.joblib\"\n",
    "model_path = f\"{local_dir}/out/core_model.joblib\"\n",
    "gdown.download(url, model_path, quiet=False) if not os.path.exists(model_path) else None"
   ]
  },
  {
   "cell_type": "code",
   "execution_count": 5,
   "id": "564db412-61e3-4f0b-9f6f-77e3abd7e6d8",
   "metadata": {
    "execution": {
     "iopub.execute_input": "2023-12-05T19:08:17.722860Z",
     "iopub.status.busy": "2023-12-05T19:08:17.722325Z",
     "iopub.status.idle": "2023-12-05T19:08:17.732752Z",
     "shell.execute_reply": "2023-12-05T19:08:17.731760Z"
    },
    "papermill": {
     "duration": 0.020053,
     "end_time": "2023-12-05T19:08:17.735044",
     "exception": false,
     "start_time": "2023-12-05T19:08:17.714991",
     "status": "completed"
    },
    "tags": []
   },
   "outputs": [
    {
     "name": "stderr",
     "output_type": "stream",
     "text": [
      "/usr/local/lib/python3.11/site-packages/sklearn/base.py:348: InconsistentVersionWarning: Trying to unpickle estimator LogisticRegression from version 0.24.2 when using version 1.3.1. This might lead to breaking code or invalid results. Use at your own risk. For more info please refer to:\n",
      "https://scikit-learn.org/stable/model_persistence.html#security-maintainability-limitations\n",
      "  warnings.warn(\n"
     ]
    }
   ],
   "source": [
    "model = classifier.Ikarus(signatures_gmt=signatures_path, out_dir=\"out\",\n",
    "                          # adapt_signatures=True # This is important, we are working with a reduced gen set, \n",
    "# so the model won't work if the intesrection betwen the siganture and the avialbe genes is too small..\n",
    "# that is why the non-overlapping genes mus be removed from the signate. This flag does that automatically\n",
    "                         )\n",
    "model.load_core_model(model_path)"
   ]
  },
  {
   "cell_type": "code",
   "execution_count": 6,
   "id": "55e8f858-9aa7-4415-b418-2b5e3ceb4c31",
   "metadata": {
    "execution": {
     "iopub.execute_input": "2023-12-05T19:08:17.747513Z",
     "iopub.status.busy": "2023-12-05T19:08:17.746995Z",
     "iopub.status.idle": "2023-12-05T19:08:17.754217Z",
     "shell.execute_reply": "2023-12-05T19:08:17.753267Z"
    },
    "papermill": {
     "duration": 0.016154,
     "end_time": "2023-12-05T19:08:17.756486",
     "exception": false,
     "start_time": "2023-12-05T19:08:17.740332",
     "status": "completed"
    },
    "tags": []
   },
   "outputs": [],
   "source": [
    "def ikarus_pred(adata: ad.AnnData, model: classifier.Ikarus, id_:str) -> pd.Series:\n",
    "    \n",
    "    \n",
    "\n",
    "    adata = data.preprocess_adata(adata)\n",
    "\n",
    "    adata.var['gene_symbol'] = adata.var.index\n",
    "    _ = model.predict(adata, \"laughney\",\n",
    "                      # connectivities_path='scvi_conns.npz', # If we use the connectivites from scVI the number of predicted cells changes a lot\n",
    "                      # save=True\n",
    "                     )\n",
    "\n",
    "    return model.results[\"final_pred\"].values"
   ]
  },
  {
   "cell_type": "code",
   "execution_count": 7,
   "id": "6d4b4b84-a9fb-4994-bece-b05d5da71bdb",
   "metadata": {
    "execution": {
     "iopub.execute_input": "2023-12-05T19:08:17.769031Z",
     "iopub.status.busy": "2023-12-05T19:08:17.768552Z",
     "iopub.status.idle": "2023-12-05T19:08:18.832302Z",
     "shell.execute_reply": "2023-12-05T19:08:18.831249Z"
    },
    "papermill": {
     "duration": 1.073423,
     "end_time": "2023-12-05T19:08:18.835277",
     "exception": false,
     "start_time": "2023-12-05T19:08:17.761854",
     "status": "completed"
    },
    "tags": []
   },
   "outputs": [],
   "source": [
    "adata = sc.read_h5ad(f'{backup_dir}/filtered_{id_}.h5ad')"
   ]
  },
  {
   "cell_type": "code",
   "execution_count": null,
   "id": "258b3915-8a6b-484b-9154-ed3b8b8ff626",
   "metadata": {
    "papermill": {
     "duration": null,
     "end_time": null,
     "exception": false,
     "start_time": "2023-12-05T19:08:18.842667",
     "status": "running"
    },
    "tags": []
   },
   "outputs": [],
   "source": [
    "preds = ikarus_pred(adata, model, id_)"
   ]
  },
  {
   "cell_type": "code",
   "execution_count": null,
   "id": "113ff65c-9694-4b4d-b290-f77a82efedee",
   "metadata": {
    "papermill": {
     "duration": null,
     "end_time": null,
     "exception": null,
     "start_time": null,
     "status": "pending"
    },
    "tags": []
   },
   "outputs": [],
   "source": [
    "preds_df = pd.DataFrame({'final_pred':preds})\n",
    "preds_df.write_csv(f'{local_dir}/{id_}.csv')"
   ]
  },
  {
   "cell_type": "code",
   "execution_count": null,
   "id": "a03937dd-60d9-4952-9a56-9e4ac0365450",
   "metadata": {
    "papermill": {
     "duration": null,
     "end_time": null,
     "exception": null,
     "start_time": null,
     "status": "pending"
    },
    "tags": []
   },
   "outputs": [],
   "source": []
  }
 ],
 "metadata": {
  "kernelspec": {
   "display_name": "Python 3 (ipykernel)",
   "language": "python",
   "name": "python3"
  },
  "language_info": {
   "codemirror_mode": {
    "name": "ipython",
    "version": 3
   },
   "file_extension": ".py",
   "mimetype": "text/x-python",
   "name": "python",
   "nbconvert_exporter": "python",
   "pygments_lexer": "ipython3",
   "version": "3.11.4"
  },
  "papermill": {
   "default_parameters": {},
   "duration": null,
   "end_time": null,
   "environment_variables": {},
   "exception": null,
   "input_path": "nb_ikarus/ikarus_param.ipynb",
   "output_path": "nb_ikarus/Zilionis_Klein_2019_NSCLC.ipynb",
   "parameters": {
    "id_": "Zilionis_Klein_2019_NSCLC"
   },
   "start_time": "2023-12-05T19:08:07.845245",
   "version": "2.5.0"
  }
 },
 "nbformat": 4,
 "nbformat_minor": 5
}