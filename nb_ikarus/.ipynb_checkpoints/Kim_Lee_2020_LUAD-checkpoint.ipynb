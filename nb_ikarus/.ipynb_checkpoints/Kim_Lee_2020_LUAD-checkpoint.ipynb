{
 "cells": [
  {
   "cell_type": "code",
   "execution_count": 1,
   "id": "a3b30bc1-fc76-4a7c-863d-7d6e3e931c3c",
   "metadata": {
    "execution": {
     "iopub.execute_input": "2023-12-06T03:52:30.038238Z",
     "iopub.status.busy": "2023-12-06T03:52:30.037767Z",
     "iopub.status.idle": "2023-12-06T03:52:30.049677Z",
     "shell.execute_reply": "2023-12-06T03:52:30.048814Z"
    },
    "papermill": {
     "duration": 0.075264,
     "end_time": "2023-12-06T03:52:30.056333",
     "exception": false,
     "start_time": "2023-12-06T03:52:29.981069",
     "status": "completed"
    },
    "tags": [
     "parameters"
    ]
   },
   "outputs": [],
   "source": [
    "backup_dir = '/root/datos/maestria/netopaas/luca_explore/surgeries'\n",
    "ikarus_dir = '/root/datos/maestria/netopaas/ikarus'\n",
    "id_ = 'Chen_Zhang_2020_NSCLC'"
   ]
  },
  {
   "cell_type": "code",
   "execution_count": 2,
   "id": "04c6d616",
   "metadata": {
    "execution": {
     "iopub.execute_input": "2023-12-06T03:52:30.072115Z",
     "iopub.status.busy": "2023-12-06T03:52:30.071704Z",
     "iopub.status.idle": "2023-12-06T03:52:30.075760Z",
     "shell.execute_reply": "2023-12-06T03:52:30.074958Z"
    },
    "papermill": {
     "duration": 0.017287,
     "end_time": "2023-12-06T03:52:30.082012",
     "exception": false,
     "start_time": "2023-12-06T03:52:30.064725",
     "status": "completed"
    },
    "tags": [
     "injected-parameters"
    ]
   },
   "outputs": [],
   "source": [
    "# Parameters\n",
    "id_ = \"Kim_Lee_2020_LUAD\"\n"
   ]
  },
  {
   "cell_type": "code",
   "execution_count": 3,
   "id": "a577bd29-841e-4499-9669-e67c6a80ab5a",
   "metadata": {
    "execution": {
     "iopub.execute_input": "2023-12-06T03:52:30.094287Z",
     "iopub.status.busy": "2023-12-06T03:52:30.093920Z",
     "iopub.status.idle": "2023-12-06T03:52:35.904999Z",
     "shell.execute_reply": "2023-12-06T03:52:35.904111Z"
    },
    "papermill": {
     "duration": 5.827676,
     "end_time": "2023-12-06T03:52:35.913798",
     "exception": false,
     "start_time": "2023-12-06T03:52:30.086122",
     "status": "completed"
    },
    "tags": []
   },
   "outputs": [],
   "source": [
    "import gdown\n",
    "import anndata as ad\n",
    "import pandas as pd\n",
    "import os\n",
    "\n",
    "import scanpy as sc\n",
    "from ikarus import classifier, utils, data"
   ]
  },
  {
   "cell_type": "code",
   "execution_count": 4,
   "id": "d100eba9-3fb1-4bfd-aa41-06f3deac2373",
   "metadata": {
    "execution": {
     "iopub.execute_input": "2023-12-06T03:52:35.931813Z",
     "iopub.status.busy": "2023-12-06T03:52:35.931023Z",
     "iopub.status.idle": "2023-12-06T03:52:36.018980Z",
     "shell.execute_reply": "2023-12-06T03:52:36.018035Z"
    },
    "papermill": {
     "duration": 0.098877,
     "end_time": "2023-12-06T03:52:36.022981",
     "exception": false,
     "start_time": "2023-12-06T03:52:35.924104",
     "status": "completed"
    },
    "tags": []
   },
   "outputs": [],
   "source": [
    "url = \"https://raw.githubusercontent.com/BIMSBbioinfo/ikarus/master/tutorials/out/signatures.gmt\"\n",
    "signatures_path = f\"{ikarus_dir}/signatures.gmt\"\n",
    "gdown.download(url, signatures_path, quiet=False) if not os.path.exists(signatures_path) else None\n",
    "pd.read_csv(signatures_path, sep=\"\\t\", header=None)\n",
    "\n",
    "model_path = f\"{ikarus_dir}/core_model.joblib\""
   ]
  },
  {
   "cell_type": "code",
   "execution_count": 5,
   "id": "564db412-61e3-4f0b-9f6f-77e3abd7e6d8",
   "metadata": {
    "execution": {
     "iopub.execute_input": "2023-12-06T03:52:36.040735Z",
     "iopub.status.busy": "2023-12-06T03:52:36.040222Z",
     "iopub.status.idle": "2023-12-06T03:52:36.048415Z",
     "shell.execute_reply": "2023-12-06T03:52:36.047560Z"
    },
    "papermill": {
     "duration": 0.016925,
     "end_time": "2023-12-06T03:52:36.050425",
     "exception": false,
     "start_time": "2023-12-06T03:52:36.033500",
     "status": "completed"
    },
    "tags": []
   },
   "outputs": [],
   "source": [
    "model = classifier.Ikarus(signatures_gmt=signatures_path, out_dir=\"out\",\n",
    "                          # adapt_signatures=True # This is important, we are working with a reduced gen set, \n",
    "# so the model won't work if the intesrection betwen the siganture and the avialbe genes is too small..\n",
    "# that is why the non-overlapping genes mus be removed from the signate. This flag does that automatically\n",
    "                         )\n",
    "model.load_core_model(model_path)"
   ]
  },
  {
   "cell_type": "code",
   "execution_count": 6,
   "id": "6d4b4b84-a9fb-4994-bece-b05d5da71bdb",
   "metadata": {
    "execution": {
     "iopub.execute_input": "2023-12-06T03:52:36.060847Z",
     "iopub.status.busy": "2023-12-06T03:52:36.060387Z",
     "iopub.status.idle": "2023-12-06T03:52:43.352957Z",
     "shell.execute_reply": "2023-12-06T03:52:43.351656Z"
    },
    "papermill": {
     "duration": 7.300748,
     "end_time": "2023-12-06T03:52:43.355665",
     "exception": false,
     "start_time": "2023-12-06T03:52:36.054917",
     "status": "completed"
    },
    "tags": []
   },
   "outputs": [],
   "source": [
    "adata = sc.read_h5ad(f'{backup_dir}/filtered_{id_}.h5ad')"
   ]
  },
  {
   "cell_type": "code",
   "execution_count": 7,
   "id": "15792c9d-df7b-4106-b9bc-fdb07fb55222",
   "metadata": {
    "execution": {
     "iopub.execute_input": "2023-12-06T03:52:43.368118Z",
     "iopub.status.busy": "2023-12-06T03:52:43.367675Z",
     "iopub.status.idle": "2023-12-06T03:52:44.834268Z",
     "shell.execute_reply": "2023-12-06T03:52:44.833378Z"
    },
    "papermill": {
     "duration": 1.475597,
     "end_time": "2023-12-06T03:52:44.836877",
     "exception": false,
     "start_time": "2023-12-06T03:52:43.361280",
     "status": "completed"
    },
    "tags": []
   },
   "outputs": [],
   "source": [
    "adata = data.preprocess_adata(adata)"
   ]
  },
  {
   "cell_type": "code",
   "execution_count": 8,
   "id": "f49aa80a-dde7-4b0e-95b7-a88d19529849",
   "metadata": {
    "execution": {
     "iopub.execute_input": "2023-12-06T03:52:44.849209Z",
     "iopub.status.busy": "2023-12-06T03:52:44.848815Z"
    },
    "papermill": {
     "duration": 4091.571131,
     "end_time": "2023-12-06T05:00:56.413730",
     "exception": false,
     "start_time": "2023-12-06T03:52:44.842599",
     "status": "completed"
    },
    "tags": []
   },
   "outputs": [
    {
     "name": "stderr",
     "output_type": "stream",
     "text": [
      "/usr/local/lib/python3.11/site-packages/scanpy/preprocessing/_highly_variable_genes.py:215: FutureWarning: The default of observed=False is deprecated and will be changed to True in a future version of pandas. Pass observed=False to retain current behavior or observed=True to adopt the future default and silence this warning.\n",
      "  disp_grouped = df.groupby('mean_bin')['dispersions']\n",
      "/usr/local/lib/python3.11/site-packages/scanpy/preprocessing/_highly_variable_genes.py:539: ImplicitModificationWarning: Trying to modify attribute `._uns` of view, initializing view as actual.\n",
      "  adata.uns['hvg'] = {'flavor': flavor}\n"
     ]
    },
    {
     "name": "stderr",
     "output_type": "stream",
     "text": [
      "2023-12-06 04:17:24.435475: E external/local_xla/xla/stream_executor/cuda/cuda_dnn.cc:9261] Unable to register cuDNN factory: Attempting to register factory for plugin cuDNN when one has already been registered\n",
      "2023-12-06 04:17:24.435567: E external/local_xla/xla/stream_executor/cuda/cuda_fft.cc:607] Unable to register cuFFT factory: Attempting to register factory for plugin cuFFT when one has already been registered\n",
      "2023-12-06 04:17:24.438473: E external/local_xla/xla/stream_executor/cuda/cuda_blas.cc:1515] Unable to register cuBLAS factory: Attempting to register factory for plugin cuBLAS when one has already been registered\n",
      "2023-12-06 04:17:24.453960: I tensorflow/core/platform/cpu_feature_guard.cc:182] This TensorFlow binary is optimized to use available CPU instructions in performance-critical operations.\n",
      "To enable the following instructions: AVX2 AVX512F FMA, in other operations, rebuild TensorFlow with the appropriate compiler flags.\n"
     ]
    },
    {
     "name": "stderr",
     "output_type": "stream",
     "text": [
      "2023-12-06 04:17:26.597698: W tensorflow/compiler/tf2tensorrt/utils/py_utils.cc:38] TF-TRT Warning: Could not find TensorRT\n"
     ]
    }
   ],
   "source": [
    "adata.var['gene_symbol'] = adata.var.index\n",
    "_ = model.predict(adata, \"laughney\",\n",
    "                  # connectivities_path='scvi_conns.npz', # If we use the connectivites from scVI the number of predicted cells changes a lot\n",
    "                  # save=True\n",
    "                 )"
   ]
  },
  {
   "cell_type": "code",
   "execution_count": null,
   "id": "258b3915-8a6b-484b-9154-ed3b8b8ff626",
   "metadata": {
    "papermill": {
     "duration": null,
     "end_time": null,
     "exception": null,
     "start_time": null,
     "status": "completed"
    },
    "tags": []
   },
   "outputs": [],
   "source": [
    "preds = model.results[\"final_pred\"].values"
   ]
  },
  {
   "cell_type": "code",
   "execution_count": null,
   "id": "113ff65c-9694-4b4d-b290-f77a82efedee",
   "metadata": {
    "papermill": {
     "duration": null,
     "end_time": null,
     "exception": null,
     "start_time": null,
     "status": "completed"
    },
    "tags": []
   },
   "outputs": [],
   "source": [
    "preds_df = pd.DataFrame({'final_pred':preds})\n",
    "preds_df.to_csv(f'{ikarus_dir}/{id_}.csv')"
   ]
  }
 ],
 "metadata": {
  "kernelspec": {
   "display_name": "Python 3 (ipykernel)",
   "language": "python",
   "name": "python3"
  },
  "language_info": {
   "codemirror_mode": {
    "name": "ipython",
    "version": 3
   },
   "file_extension": ".py",
   "mimetype": "text/x-python",
   "name": "python",
   "nbconvert_exporter": "python",
   "pygments_lexer": "ipython3",
   "version": "3.11.4"
  },
  "papermill": {
   "default_parameters": {},
   "duration": 4108.803184,
   "end_time": "2023-12-06T05:00:57.425126",
   "environment_variables": {},
   "exception": null,
   "input_path": "nb_ikarus/ikarus_param.ipynb",
   "output_path": "nb_ikarus/Kim_Lee_2020_LUAD.ipynb",
   "parameters": {
    "id_": "Kim_Lee_2020_LUAD"
   },
   "start_time": "2023-12-06T03:52:28.621942",
   "version": "2.5.0"
  }
 },
 "nbformat": 4,
 "nbformat_minor": 5
}