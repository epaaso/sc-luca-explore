{
 "cells": [
  {
   "cell_type": "code",
   "execution_count": 1,
   "id": "a3b30bc1-fc76-4a7c-863d-7d6e3e931c3c",
   "metadata": {
    "execution": {
     "iopub.execute_input": "2023-12-06T10:19:18.193330Z",
     "iopub.status.busy": "2023-12-06T10:19:18.192860Z",
     "iopub.status.idle": "2023-12-06T10:19:18.203297Z",
     "shell.execute_reply": "2023-12-06T10:19:18.202507Z"
    },
    "papermill": {
     "duration": 0.023002,
     "end_time": "2023-12-06T10:19:18.207018",
     "exception": false,
     "start_time": "2023-12-06T10:19:18.184016",
     "status": "completed"
    },
    "tags": [
     "parameters"
    ]
   },
   "outputs": [],
   "source": [
    "backup_dir = '/root/datos/maestria/netopaas/luca_explore/surgeries'\n",
    "ikarus_dir = '/root/datos/maestria/netopaas/ikarus'\n",
    "id_ = 'Chen_Zhang_2020_NSCLC'"
   ]
  },
  {
   "cell_type": "code",
   "execution_count": null,
   "id": "a5bb717c-00a8-4a05-9224-201663a5e6c1",
   "metadata": {},
   "outputs": [],
   "source": [
    "2+2"
   ]
  },
  {
   "cell_type": "code",
   "execution_count": 2,
   "id": "3a3e9e91",
   "metadata": {
    "execution": {
     "iopub.execute_input": "2023-12-06T10:19:18.280695Z",
     "iopub.status.busy": "2023-12-06T10:19:18.280419Z",
     "iopub.status.idle": "2023-12-06T10:19:18.284633Z",
     "shell.execute_reply": "2023-12-06T10:19:18.283800Z"
    },
    "papermill": {
     "duration": 0.112084,
     "end_time": "2023-12-06T10:19:18.362015",
     "exception": false,
     "start_time": "2023-12-06T10:19:18.249931",
     "status": "completed"
    },
    "tags": [
     "injected-parameters"
    ]
   },
   "outputs": [],
   "source": [
    "# Parameters\n",
    "id_ = \"Chen_Zhang_2020_NSCLC\"\n"
   ]
  },
  {
   "cell_type": "code",
   "execution_count": 3,
   "id": "a577bd29-841e-4499-9669-e67c6a80ab5a",
   "metadata": {
    "execution": {
     "iopub.execute_input": "2023-12-06T10:19:18.455870Z",
     "iopub.status.busy": "2023-12-06T10:19:18.455605Z",
     "iopub.status.idle": "2023-12-06T10:19:24.965224Z",
     "shell.execute_reply": "2023-12-06T10:19:24.964380Z"
    },
    "papermill": {
     "duration": 6.569134,
     "end_time": "2023-12-06T10:19:24.981016",
     "exception": false,
     "start_time": "2023-12-06T10:19:18.411882",
     "status": "completed"
    },
    "tags": []
   },
   "outputs": [],
   "source": [
    "import gdown\n",
    "import anndata as ad\n",
    "import pandas as pd\n",
    "import os\n",
    "\n",
    "import scanpy as sc\n",
    "from ikarus import classifier, utils, data"
   ]
  },
  {
   "cell_type": "code",
   "execution_count": 4,
   "id": "d100eba9-3fb1-4bfd-aa41-06f3deac2373",
   "metadata": {
    "execution": {
     "iopub.execute_input": "2023-12-06T10:19:25.292632Z",
     "iopub.status.busy": "2023-12-06T10:19:25.292060Z",
     "iopub.status.idle": "2023-12-06T10:19:25.383640Z",
     "shell.execute_reply": "2023-12-06T10:19:25.382876Z"
    },
    "papermill": {
     "duration": 0.204486,
     "end_time": "2023-12-06T10:19:25.410054",
     "exception": false,
     "start_time": "2023-12-06T10:19:25.205568",
     "status": "completed"
    },
    "tags": []
   },
   "outputs": [],
   "source": [
    "url = \"https://raw.githubusercontent.com/BIMSBbioinfo/ikarus/master/tutorials/out/signatures.gmt\"\n",
    "signatures_path = f\"{ikarus_dir}/signatures.gmt\"\n",
    "gdown.download(url, signatures_path, quiet=False) if not os.path.exists(signatures_path) else None\n",
    "pd.read_csv(signatures_path, sep=\"\\t\", header=None)\n",
    "\n",
    "model_path = f\"{ikarus_dir}/core_model.joblib\""
   ]
  },
  {
   "cell_type": "code",
   "execution_count": 5,
   "id": "564db412-61e3-4f0b-9f6f-77e3abd7e6d8",
   "metadata": {
    "execution": {
     "iopub.execute_input": "2023-12-06T10:19:25.752808Z",
     "iopub.status.busy": "2023-12-06T10:19:25.752209Z",
     "iopub.status.idle": "2023-12-06T10:19:25.762103Z",
     "shell.execute_reply": "2023-12-06T10:19:25.760805Z"
    },
    "papermill": {
     "duration": 0.193832,
     "end_time": "2023-12-06T10:19:25.849944",
     "exception": false,
     "start_time": "2023-12-06T10:19:25.656112",
     "status": "completed"
    },
    "tags": []
   },
   "outputs": [],
   "source": [
    "model = classifier.Ikarus(signatures_gmt=signatures_path, out_dir=\"out\",\n",
    "                          adapt_signatures=True # This is important, we are working with a reduced gen set, \n",
    "# so the model won't work if the intesrection betwen the siganture and the avialbe genes is too small..\n",
    "# that is why the non-overlapping genes mus be removed from the signate. This flag does that automatically\n",
    "                         )\n",
    "model.load_core_model(model_path)"
   ]
  },
  {
   "cell_type": "code",
   "execution_count": 6,
   "id": "6d4b4b84-a9fb-4994-bece-b05d5da71bdb",
   "metadata": {
    "execution": {
     "iopub.execute_input": "2023-12-06T10:19:26.006993Z",
     "iopub.status.busy": "2023-12-06T10:19:26.005957Z",
     "iopub.status.idle": "2023-12-06T10:19:28.997642Z",
     "shell.execute_reply": "2023-12-06T10:19:28.996607Z"
    },
    "papermill": {
     "duration": 3.037375,
     "end_time": "2023-12-06T10:19:29.002747",
     "exception": false,
     "start_time": "2023-12-06T10:19:25.965372",
     "status": "completed"
    },
    "tags": []
   },
   "outputs": [
    {
     "data": {
      "text/plain": [
       "AnnData object with n_obs × n_vars = 131287 × 28863\n",
       "    obs: 'dataset', 'sample', 'accession', 'sex', 'condition', 'origin', 'patient', 'tissue', 'n_counts', 'n_genes', 'n_genes_by_counts', 'total_counts', 'total_counts_mito', 'pct_counts_mito'\n",
       "    var: 'n_counts', 'mito', 'n_cells_by_counts', 'mean_counts', 'pct_dropout_by_counts', 'total_counts'"
      ]
     },
     "execution_count": 6,
     "metadata": {},
     "output_type": "execute_result"
    }
   ],
   "source": [
    "adata = sc.read_h5ad(f'{backup_dir}/filtered_{id_}.h5ad')\n",
    "adata"
   ]
  },
  {
   "cell_type": "code",
   "execution_count": 7,
   "id": "15792c9d-df7b-4106-b9bc-fdb07fb55222",
   "metadata": {
    "execution": {
     "iopub.execute_input": "2023-12-06T10:19:29.026377Z",
     "iopub.status.busy": "2023-12-06T10:19:29.025955Z",
     "iopub.status.idle": "2023-12-06T10:19:29.668075Z",
     "shell.execute_reply": "2023-12-06T10:19:29.667199Z"
    },
    "papermill": {
     "duration": 0.658446,
     "end_time": "2023-12-06T10:19:29.672370",
     "exception": false,
     "start_time": "2023-12-06T10:19:29.013924",
     "status": "completed"
    },
    "tags": []
   },
   "outputs": [],
   "source": [
    "adata = data.preprocess_adata(adata)"
   ]
  },
  {
   "cell_type": "code",
   "execution_count": 8,
   "id": "f49aa80a-dde7-4b0e-95b7-a88d19529849",
   "metadata": {
    "execution": {
     "iopub.execute_input": "2023-12-06T10:19:29.709392Z",
     "iopub.status.busy": "2023-12-06T10:19:29.709020Z",
     "iopub.status.idle": "2023-12-06T11:31:41.408513Z",
     "shell.execute_reply": "2023-12-06T11:31:41.387974Z"
    },
    "papermill": {
     "duration": 4331.744436,
     "end_time": "2023-12-06T11:31:41.427945",
     "exception": false,
     "start_time": "2023-12-06T10:19:29.683509",
     "status": "completed"
    },
    "tags": []
   },
   "outputs": [
    {
     "name": "stderr",
     "output_type": "stream",
     "text": [
      "/usr/local/lib/python3.11/site-packages/scanpy/preprocessing/_highly_variable_genes.py:215: FutureWarning: The default of observed=False is deprecated and will be changed to True in a future version of pandas. Pass observed=False to retain current behavior or observed=True to adopt the future default and silence this warning.\n",
      "  disp_grouped = df.groupby('mean_bin')['dispersions']\n",
      "/usr/local/lib/python3.11/site-packages/scanpy/preprocessing/_highly_variable_genes.py:539: ImplicitModificationWarning: Trying to modify attribute `._uns` of view, initializing view as actual.\n",
      "  adata.uns['hvg'] = {'flavor': flavor}\n"
     ]
    },
    {
     "name": "stderr",
     "output_type": "stream",
     "text": [
      "2023-12-06 10:32:12.824844: E external/local_xla/xla/stream_executor/cuda/cuda_dnn.cc:9261] Unable to register cuDNN factory: Attempting to register factory for plugin cuDNN when one has already been registered\n",
      "2023-12-06 10:32:12.824909: E external/local_xla/xla/stream_executor/cuda/cuda_fft.cc:607] Unable to register cuFFT factory: Attempting to register factory for plugin cuFFT when one has already been registered\n",
      "2023-12-06 10:32:12.826316: E external/local_xla/xla/stream_executor/cuda/cuda_blas.cc:1515] Unable to register cuBLAS factory: Attempting to register factory for plugin cuBLAS when one has already been registered\n",
      "2023-12-06 10:32:12.835915: I tensorflow/core/platform/cpu_feature_guard.cc:182] This TensorFlow binary is optimized to use available CPU instructions in performance-critical operations.\n",
      "To enable the following instructions: AVX2 AVX512F FMA, in other operations, rebuild TensorFlow with the appropriate compiler flags.\n"
     ]
    },
    {
     "name": "stderr",
     "output_type": "stream",
     "text": [
      "2023-12-06 10:32:13.982285: W tensorflow/compiler/tf2tensorrt/utils/py_utils.cc:38] TF-TRT Warning: Could not find TensorRT\n"
     ]
    },
    {
     "name": "stdout",
     "output_type": "stream",
     "text": [
      "converged at iteration step: 36 with 0.0010 < 0.001\n"
     ]
    }
   ],
   "source": [
    "adata.var['gene_symbol'] = adata.var.index\n",
    "_ = model.predict(adata, \"laughney\",\n",
    "                  # connectivities_path='scvi_conns.npz', # If we use the connectivites from scVI the number of predicted cells changes a lot\n",
    "                  # save=True\n",
    "                 )"
   ]
  },
  {
   "cell_type": "code",
   "execution_count": null,
   "id": "aa9e4997-578c-4dfc-8f2c-67a955dd0865",
   "metadata": {
    "papermill": {
     "duration": 0.012695,
     "end_time": "2023-12-06T11:31:41.455095",
     "exception": false,
     "start_time": "2023-12-06T11:31:41.442400",
     "status": "completed"
    },
    "tags": []
   },
   "outputs": [],
   "source": []
  },
  {
   "cell_type": "code",
   "execution_count": 9,
   "id": "258b3915-8a6b-484b-9154-ed3b8b8ff626",
   "metadata": {
    "execution": {
     "iopub.execute_input": "2023-12-06T11:31:41.585018Z",
     "iopub.status.busy": "2023-12-06T11:31:41.509645Z",
     "iopub.status.idle": "2023-12-06T11:31:41.637907Z",
     "shell.execute_reply": "2023-12-06T11:31:41.637244Z"
    },
    "papermill": {
     "duration": 0.176215,
     "end_time": "2023-12-06T11:31:41.642375",
     "exception": false,
     "start_time": "2023-12-06T11:31:41.466160",
     "status": "completed"
    },
    "tags": []
   },
   "outputs": [],
   "source": [
    "preds = model.results[\"final_pred\"].values"
   ]
  },
  {
   "cell_type": "code",
   "execution_count": 10,
   "id": "113ff65c-9694-4b4d-b290-f77a82efedee",
   "metadata": {
    "execution": {
     "iopub.execute_input": "2023-12-06T11:31:41.670619Z",
     "iopub.status.busy": "2023-12-06T11:31:41.670031Z",
     "iopub.status.idle": "2023-12-06T11:31:42.103773Z",
     "shell.execute_reply": "2023-12-06T11:31:42.102698Z"
    },
    "papermill": {
     "duration": 0.453027,
     "end_time": "2023-12-06T11:31:42.107999",
     "exception": false,
     "start_time": "2023-12-06T11:31:41.654972",
     "status": "completed"
    },
    "tags": []
   },
   "outputs": [],
   "source": [
    "preds_df = pd.DataFrame({'final_pred':preds})\n",
    "preds_df.to_csv(f'{ikarus_dir}/{id_}.csv')"
   ]
  }
 ],
 "metadata": {
  "kernelspec": {
   "display_name": "Python 3 (ipykernel)",
   "language": "python",
   "name": "python3"
  },
  "language_info": {
   "codemirror_mode": {
    "name": "ipython",
    "version": 3
   },
   "file_extension": ".py",
   "mimetype": "text/x-python",
   "name": "python",
   "nbconvert_exporter": "python",
   "pygments_lexer": "ipython3",
   "version": "3.11.6"
  },
  "papermill": {
   "default_parameters": {},
   "duration": 4350.079711,
   "end_time": "2023-12-06T11:31:47.280444",
   "environment_variables": {},
   "exception": null,
   "input_path": "nb_ikarus/ikarus_param.ipynb",
   "output_path": "nb_ikarus/Chen_Zhang_2020_NSCLC.ipynb",
   "parameters": {
    "id_": "Chen_Zhang_2020_NSCLC"
   },
   "start_time": "2023-12-06T10:19:17.200733",
   "version": "2.5.0"
  }
 },
 "nbformat": 4,
 "nbformat_minor": 5
}
