{
 "cells": [
  {
   "cell_type": "code",
   "execution_count": 1,
   "id": "a3b30bc1-fc76-4a7c-863d-7d6e3e931c3c",
   "metadata": {
    "execution": {
     "iopub.execute_input": "2023-12-06T10:19:18.229572Z",
     "iopub.status.busy": "2023-12-06T10:19:18.229174Z",
     "iopub.status.idle": "2023-12-06T10:19:18.237521Z",
     "shell.execute_reply": "2023-12-06T10:19:18.236803Z"
    },
    "papermill": {
     "duration": 0.030457,
     "end_time": "2023-12-06T10:19:18.242696",
     "exception": false,
     "start_time": "2023-12-06T10:19:18.212239",
     "status": "completed"
    },
    "tags": [
     "parameters"
    ]
   },
   "outputs": [],
   "source": [
    "backup_dir = '/root/datos/maestria/netopaas/luca_explore/surgeries'\n",
    "ikarus_dir = '/root/datos/maestria/netopaas/ikarus'\n",
    "id_ = 'Chen_Zhang_2020_NSCLC'"
   ]
  },
  {
   "cell_type": "code",
   "execution_count": 2,
   "id": "3f045b32",
   "metadata": {
    "execution": {
     "iopub.execute_input": "2023-12-06T10:19:18.278509Z",
     "iopub.status.busy": "2023-12-06T10:19:18.278261Z",
     "iopub.status.idle": "2023-12-06T10:19:18.282463Z",
     "shell.execute_reply": "2023-12-06T10:19:18.281677Z"
    },
    "papermill": {
     "duration": 0.086891,
     "end_time": "2023-12-06T10:19:18.343901",
     "exception": false,
     "start_time": "2023-12-06T10:19:18.257010",
     "status": "completed"
    },
    "tags": [
     "injected-parameters"
    ]
   },
   "outputs": [],
   "source": [
    "# Parameters\n",
    "id_ = \"Wu_Zhou_2021_NSCLC\"\n"
   ]
  },
  {
   "cell_type": "code",
   "execution_count": 3,
   "id": "a577bd29-841e-4499-9669-e67c6a80ab5a",
   "metadata": {
    "execution": {
     "iopub.execute_input": "2023-12-06T10:19:18.587784Z",
     "iopub.status.busy": "2023-12-06T10:19:18.586731Z",
     "iopub.status.idle": "2023-12-06T10:19:24.964905Z",
     "shell.execute_reply": "2023-12-06T10:19:24.964010Z"
    },
    "papermill": {
     "duration": 6.512437,
     "end_time": "2023-12-06T10:19:24.976744",
     "exception": false,
     "start_time": "2023-12-06T10:19:18.464307",
     "status": "completed"
    },
    "tags": []
   },
   "outputs": [],
   "source": [
    "import gdown\n",
    "import anndata as ad\n",
    "import pandas as pd\n",
    "import os\n",
    "\n",
    "import scanpy as sc\n",
    "from ikarus import classifier, utils, data"
   ]
  },
  {
   "cell_type": "code",
   "execution_count": 4,
   "id": "d100eba9-3fb1-4bfd-aa41-06f3deac2373",
   "metadata": {
    "execution": {
     "iopub.execute_input": "2023-12-06T10:19:25.270749Z",
     "iopub.status.busy": "2023-12-06T10:19:25.270050Z",
     "iopub.status.idle": "2023-12-06T10:19:25.348425Z",
     "shell.execute_reply": "2023-12-06T10:19:25.347651Z"
    },
    "papermill": {
     "duration": 0.212324,
     "end_time": "2023-12-06T10:19:25.361762",
     "exception": false,
     "start_time": "2023-12-06T10:19:25.149438",
     "status": "completed"
    },
    "tags": []
   },
   "outputs": [],
   "source": [
    "url = \"https://raw.githubusercontent.com/BIMSBbioinfo/ikarus/master/tutorials/out/signatures.gmt\"\n",
    "signatures_path = f\"{ikarus_dir}/signatures.gmt\"\n",
    "gdown.download(url, signatures_path, quiet=False) if not os.path.exists(signatures_path) else None\n",
    "pd.read_csv(signatures_path, sep=\"\\t\", header=None)\n",
    "\n",
    "model_path = f\"{ikarus_dir}/core_model.joblib\""
   ]
  },
  {
   "cell_type": "code",
   "execution_count": 5,
   "id": "564db412-61e3-4f0b-9f6f-77e3abd7e6d8",
   "metadata": {
    "execution": {
     "iopub.execute_input": "2023-12-06T10:19:25.612794Z",
     "iopub.status.busy": "2023-12-06T10:19:25.612384Z",
     "iopub.status.idle": "2023-12-06T10:19:25.622743Z",
     "shell.execute_reply": "2023-12-06T10:19:25.621146Z"
    },
    "papermill": {
     "duration": 0.167589,
     "end_time": "2023-12-06T10:19:25.705725",
     "exception": false,
     "start_time": "2023-12-06T10:19:25.538136",
     "status": "completed"
    },
    "tags": []
   },
   "outputs": [],
   "source": [
    "model = classifier.Ikarus(signatures_gmt=signatures_path, out_dir=\"out\",\n",
    "                          adapt_signatures=True # This is important, we are working with a reduced gen set, \n",
    "# so the model won't work if the intesrection betwen the siganture and the avialbe genes is too small..\n",
    "# that is why the non-overlapping genes mus be removed from the signate. This flag does that automatically\n",
    "                         )\n",
    "model.load_core_model(model_path)"
   ]
  },
  {
   "cell_type": "code",
   "execution_count": 6,
   "id": "6d4b4b84-a9fb-4994-bece-b05d5da71bdb",
   "metadata": {
    "execution": {
     "iopub.execute_input": "2023-12-06T10:19:25.964403Z",
     "iopub.status.busy": "2023-12-06T10:19:25.963728Z",
     "iopub.status.idle": "2023-12-06T10:19:28.639253Z",
     "shell.execute_reply": "2023-12-06T10:19:28.638499Z"
    },
    "papermill": {
     "duration": 2.788404,
     "end_time": "2023-12-06T10:19:28.644436",
     "exception": false,
     "start_time": "2023-12-06T10:19:25.856032",
     "status": "completed"
    },
    "tags": []
   },
   "outputs": [
    {
     "data": {
      "text/plain": [
       "AnnData object with n_obs × n_vars = 88325 × 29146\n",
       "    obs: 'sample', 'patient', 'tissue', 'sex', 'age', 'origin', 'condition', 'platform', 'n_counts', 'n_genes', 'n_genes_by_counts', 'total_counts', 'total_counts_mito', 'pct_counts_mito'\n",
       "    var: 'n_counts', 'mito', 'n_cells_by_counts', 'mean_counts', 'pct_dropout_by_counts', 'total_counts'"
      ]
     },
     "execution_count": 6,
     "metadata": {},
     "output_type": "execute_result"
    }
   ],
   "source": [
    "adata = sc.read_h5ad(f'{backup_dir}/filtered_{id_}.h5ad')\n",
    "adata"
   ]
  },
  {
   "cell_type": "code",
   "execution_count": 7,
   "id": "15792c9d-df7b-4106-b9bc-fdb07fb55222",
   "metadata": {
    "execution": {
     "iopub.execute_input": "2023-12-06T10:19:28.668085Z",
     "iopub.status.busy": "2023-12-06T10:19:28.667641Z",
     "iopub.status.idle": "2023-12-06T10:19:29.242344Z",
     "shell.execute_reply": "2023-12-06T10:19:29.241465Z"
    },
    "papermill": {
     "duration": 0.591162,
     "end_time": "2023-12-06T10:19:29.246629",
     "exception": false,
     "start_time": "2023-12-06T10:19:28.655467",
     "status": "completed"
    },
    "tags": []
   },
   "outputs": [],
   "source": [
    "adata = data.preprocess_adata(adata)"
   ]
  },
  {
   "cell_type": "code",
   "execution_count": 8,
   "id": "f49aa80a-dde7-4b0e-95b7-a88d19529849",
   "metadata": {
    "execution": {
     "iopub.execute_input": "2023-12-06T10:19:29.270666Z",
     "iopub.status.busy": "2023-12-06T10:19:29.270261Z",
     "iopub.status.idle": "2023-12-06T11:01:13.149280Z",
     "shell.execute_reply": "2023-12-06T11:01:13.147581Z"
    },
    "papermill": {
     "duration": 2503.907449,
     "end_time": "2023-12-06T11:01:13.165268",
     "exception": false,
     "start_time": "2023-12-06T10:19:29.257819",
     "status": "completed"
    },
    "tags": []
   },
   "outputs": [
    {
     "name": "stderr",
     "output_type": "stream",
     "text": [
      "/usr/local/lib/python3.11/site-packages/scanpy/preprocessing/_highly_variable_genes.py:215: FutureWarning: The default of observed=False is deprecated and will be changed to True in a future version of pandas. Pass observed=False to retain current behavior or observed=True to adopt the future default and silence this warning.\n",
      "  disp_grouped = df.groupby('mean_bin')['dispersions']\n",
      "/usr/local/lib/python3.11/site-packages/scanpy/preprocessing/_highly_variable_genes.py:539: ImplicitModificationWarning: Trying to modify attribute `._uns` of view, initializing view as actual.\n",
      "  adata.uns['hvg'] = {'flavor': flavor}\n"
     ]
    },
    {
     "name": "stderr",
     "output_type": "stream",
     "text": [
      "2023-12-06 10:27:35.833010: E external/local_xla/xla/stream_executor/cuda/cuda_dnn.cc:9261] Unable to register cuDNN factory: Attempting to register factory for plugin cuDNN when one has already been registered\n",
      "2023-12-06 10:27:35.833070: E external/local_xla/xla/stream_executor/cuda/cuda_fft.cc:607] Unable to register cuFFT factory: Attempting to register factory for plugin cuFFT when one has already been registered\n",
      "2023-12-06 10:27:35.834576: E external/local_xla/xla/stream_executor/cuda/cuda_blas.cc:1515] Unable to register cuBLAS factory: Attempting to register factory for plugin cuBLAS when one has already been registered\n",
      "2023-12-06 10:27:35.842640: I tensorflow/core/platform/cpu_feature_guard.cc:182] This TensorFlow binary is optimized to use available CPU instructions in performance-critical operations.\n",
      "To enable the following instructions: AVX2 AVX512F FMA, in other operations, rebuild TensorFlow with the appropriate compiler flags.\n"
     ]
    },
    {
     "name": "stderr",
     "output_type": "stream",
     "text": [
      "2023-12-06 10:27:37.056236: W tensorflow/compiler/tf2tensorrt/utils/py_utils.cc:38] TF-TRT Warning: Could not find TensorRT\n"
     ]
    },
    {
     "name": "stdout",
     "output_type": "stream",
     "text": [
      "Warning: Label propagation did not converge (0.0021 >= 0.001) within 50 iterations!\n"
     ]
    }
   ],
   "source": [
    "adata.var['gene_symbol'] = adata.var.index\n",
    "_ = model.predict(adata, \"laughney\",\n",
    "                  # connectivities_path='scvi_conns.npz', # If we use the connectivites from scVI the number of predicted cells changes a lot\n",
    "                  # save=True\n",
    "                 )"
   ]
  },
  {
   "cell_type": "code",
   "execution_count": null,
   "id": "aa9e4997-578c-4dfc-8f2c-67a955dd0865",
   "metadata": {
    "papermill": {
     "duration": 0.009365,
     "end_time": "2023-12-06T11:01:13.185469",
     "exception": false,
     "start_time": "2023-12-06T11:01:13.176104",
     "status": "completed"
    },
    "tags": []
   },
   "outputs": [],
   "source": []
  },
  {
   "cell_type": "code",
   "execution_count": 9,
   "id": "258b3915-8a6b-484b-9154-ed3b8b8ff626",
   "metadata": {
    "execution": {
     "iopub.execute_input": "2023-12-06T11:01:13.208346Z",
     "iopub.status.busy": "2023-12-06T11:01:13.206033Z",
     "iopub.status.idle": "2023-12-06T11:01:13.216515Z",
     "shell.execute_reply": "2023-12-06T11:01:13.215048Z"
    },
    "papermill": {
     "duration": 0.025473,
     "end_time": "2023-12-06T11:01:13.219666",
     "exception": false,
     "start_time": "2023-12-06T11:01:13.194193",
     "status": "completed"
    },
    "tags": []
   },
   "outputs": [],
   "source": [
    "preds = model.results[\"final_pred\"].values"
   ]
  },
  {
   "cell_type": "code",
   "execution_count": 10,
   "id": "113ff65c-9694-4b4d-b290-f77a82efedee",
   "metadata": {
    "execution": {
     "iopub.execute_input": "2023-12-06T11:01:13.237382Z",
     "iopub.status.busy": "2023-12-06T11:01:13.236926Z",
     "iopub.status.idle": "2023-12-06T11:01:13.502184Z",
     "shell.execute_reply": "2023-12-06T11:01:13.501526Z"
    },
    "papermill": {
     "duration": 0.277796,
     "end_time": "2023-12-06T11:01:13.505275",
     "exception": false,
     "start_time": "2023-12-06T11:01:13.227479",
     "status": "completed"
    },
    "tags": []
   },
   "outputs": [],
   "source": [
    "preds_df = pd.DataFrame({'final_pred':preds})\n",
    "preds_df.to_csv(f'{ikarus_dir}/{id_}.csv')"
   ]
  }
 ],
 "metadata": {
  "kernelspec": {
   "display_name": "Python 3 (ipykernel)",
   "language": "python",
   "name": "python3"
  },
  "language_info": {
   "codemirror_mode": {
    "name": "ipython",
    "version": 3
   },
   "file_extension": ".py",
   "mimetype": "text/x-python",
   "name": "python",
   "nbconvert_exporter": "python",
   "pygments_lexer": "ipython3",
   "version": "3.11.4"
  },
  "papermill": {
   "default_parameters": {},
   "duration": 2519.577326,
   "end_time": "2023-12-06T11:01:16.808151",
   "environment_variables": {},
   "exception": null,
   "input_path": "nb_ikarus/ikarus_param.ipynb",
   "output_path": "nb_ikarus/Wu_Zhou_2021_NSCLC.ipynb",
   "parameters": {
    "id_": "Wu_Zhou_2021_NSCLC"
   },
   "start_time": "2023-12-06T10:19:17.230825",
   "version": "2.5.0"
  }
 },
 "nbformat": 4,
 "nbformat_minor": 5
}