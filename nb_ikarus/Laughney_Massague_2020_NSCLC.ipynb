{
 "cells": [
  {
   "cell_type": "code",
   "execution_count": 1,
   "id": "a3b30bc1-fc76-4a7c-863d-7d6e3e931c3c",
   "metadata": {
    "execution": {
     "iopub.execute_input": "2023-12-06T10:19:18.532447Z",
     "iopub.status.busy": "2023-12-06T10:19:18.531936Z",
     "iopub.status.idle": "2023-12-06T10:19:18.545231Z",
     "shell.execute_reply": "2023-12-06T10:19:18.544058Z"
    },
    "papermill": {
     "duration": 0.069227,
     "end_time": "2023-12-06T10:19:18.580920",
     "exception": false,
     "start_time": "2023-12-06T10:19:18.511693",
     "status": "completed"
    },
    "tags": [
     "parameters"
    ]
   },
   "outputs": [],
   "source": [
    "backup_dir = '/root/datos/maestria/netopaas/luca_explore/surgeries'\n",
    "ikarus_dir = '/root/datos/maestria/netopaas/ikarus'\n",
    "id_ = 'Chen_Zhang_2020_NSCLC'"
   ]
  },
  {
   "cell_type": "code",
   "execution_count": 2,
   "id": "061342f5",
   "metadata": {
    "execution": {
     "iopub.execute_input": "2023-12-06T10:19:18.648497Z",
     "iopub.status.busy": "2023-12-06T10:19:18.647624Z",
     "iopub.status.idle": "2023-12-06T10:19:18.654974Z",
     "shell.execute_reply": "2023-12-06T10:19:18.653508Z"
    },
    "papermill": {
     "duration": 0.09582,
     "end_time": "2023-12-06T10:19:18.687979",
     "exception": false,
     "start_time": "2023-12-06T10:19:18.592159",
     "status": "completed"
    },
    "tags": [
     "injected-parameters"
    ]
   },
   "outputs": [],
   "source": [
    "# Parameters\n",
    "id_ = \"Laughney_Massague_2020_NSCLC\"\n"
   ]
  },
  {
   "cell_type": "code",
   "execution_count": 3,
   "id": "a577bd29-841e-4499-9669-e67c6a80ab5a",
   "metadata": {
    "execution": {
     "iopub.execute_input": "2023-12-06T10:19:18.801067Z",
     "iopub.status.busy": "2023-12-06T10:19:18.800435Z",
     "iopub.status.idle": "2023-12-06T10:19:24.966501Z",
     "shell.execute_reply": "2023-12-06T10:19:24.965036Z"
    },
    "papermill": {
     "duration": 6.30905,
     "end_time": "2023-12-06T10:19:25.039606",
     "exception": false,
     "start_time": "2023-12-06T10:19:18.730556",
     "status": "completed"
    },
    "tags": []
   },
   "outputs": [],
   "source": [
    "import gdown\n",
    "import anndata as ad\n",
    "import pandas as pd\n",
    "import os\n",
    "\n",
    "import scanpy as sc\n",
    "from ikarus import classifier, utils, data"
   ]
  },
  {
   "cell_type": "code",
   "execution_count": 4,
   "id": "d100eba9-3fb1-4bfd-aa41-06f3deac2373",
   "metadata": {
    "execution": {
     "iopub.execute_input": "2023-12-06T10:19:25.233636Z",
     "iopub.status.busy": "2023-12-06T10:19:25.232779Z",
     "iopub.status.idle": "2023-12-06T10:19:25.334545Z",
     "shell.execute_reply": "2023-12-06T10:19:25.333400Z"
    },
    "papermill": {
     "duration": 0.228791,
     "end_time": "2023-12-06T10:19:25.403615",
     "exception": false,
     "start_time": "2023-12-06T10:19:25.174824",
     "status": "completed"
    },
    "tags": []
   },
   "outputs": [],
   "source": [
    "url = \"https://raw.githubusercontent.com/BIMSBbioinfo/ikarus/master/tutorials/out/signatures.gmt\"\n",
    "signatures_path = f\"{ikarus_dir}/signatures.gmt\"\n",
    "gdown.download(url, signatures_path, quiet=False) if not os.path.exists(signatures_path) else None\n",
    "pd.read_csv(signatures_path, sep=\"\\t\", header=None)\n",
    "\n",
    "model_path = f\"{ikarus_dir}/core_model.joblib\""
   ]
  },
  {
   "cell_type": "code",
   "execution_count": 5,
   "id": "564db412-61e3-4f0b-9f6f-77e3abd7e6d8",
   "metadata": {
    "execution": {
     "iopub.execute_input": "2023-12-06T10:19:25.616730Z",
     "iopub.status.busy": "2023-12-06T10:19:25.616168Z",
     "iopub.status.idle": "2023-12-06T10:19:25.627210Z",
     "shell.execute_reply": "2023-12-06T10:19:25.625717Z"
    },
    "papermill": {
     "duration": 0.18505,
     "end_time": "2023-12-06T10:19:25.690111",
     "exception": false,
     "start_time": "2023-12-06T10:19:25.505061",
     "status": "completed"
    },
    "tags": []
   },
   "outputs": [],
   "source": [
    "model = classifier.Ikarus(signatures_gmt=signatures_path, out_dir=\"out\",\n",
    "                          adapt_signatures=True # This is important, we are working with a reduced gen set, \n",
    "# so the model won't work if the intesrection betwen the siganture and the avialbe genes is too small..\n",
    "# that is why the non-overlapping genes mus be removed from the signate. This flag does that automatically\n",
    "                         )\n",
    "model.load_core_model(model_path)"
   ]
  },
  {
   "cell_type": "code",
   "execution_count": 6,
   "id": "6d4b4b84-a9fb-4994-bece-b05d5da71bdb",
   "metadata": {
    "execution": {
     "iopub.execute_input": "2023-12-06T10:19:25.959735Z",
     "iopub.status.busy": "2023-12-06T10:19:25.958934Z",
     "iopub.status.idle": "2023-12-06T10:19:26.974855Z",
     "shell.execute_reply": "2023-12-06T10:19:26.974053Z"
    },
    "papermill": {
     "duration": 1.115302,
     "end_time": "2023-12-06T10:19:26.978291",
     "exception": false,
     "start_time": "2023-12-06T10:19:25.862989",
     "status": "completed"
    },
    "tags": []
   },
   "outputs": [
    {
     "data": {
      "text/plain": [
       "AnnData object with n_obs × n_vars = 29690 × 21595\n",
       "    obs: 'sample', 'patient', 'origin', 'condition', 'tissue', 'n_counts', 'n_genes', 'n_genes_by_counts', 'total_counts', 'total_counts_mito', 'pct_counts_mito'\n",
       "    var: 'n_counts', 'mito', 'n_cells_by_counts', 'mean_counts', 'pct_dropout_by_counts', 'total_counts'"
      ]
     },
     "execution_count": 6,
     "metadata": {},
     "output_type": "execute_result"
    }
   ],
   "source": [
    "adata = sc.read_h5ad(f'{backup_dir}/filtered_{id_}.h5ad')\n",
    "adata"
   ]
  },
  {
   "cell_type": "code",
   "execution_count": 7,
   "id": "15792c9d-df7b-4106-b9bc-fdb07fb55222",
   "metadata": {
    "execution": {
     "iopub.execute_input": "2023-12-06T10:19:27.019386Z",
     "iopub.status.busy": "2023-12-06T10:19:27.018896Z",
     "iopub.status.idle": "2023-12-06T10:19:27.209254Z",
     "shell.execute_reply": "2023-12-06T10:19:27.208422Z"
    },
    "papermill": {
     "duration": 0.209232,
     "end_time": "2023-12-06T10:19:27.212447",
     "exception": false,
     "start_time": "2023-12-06T10:19:27.003215",
     "status": "completed"
    },
    "tags": []
   },
   "outputs": [],
   "source": [
    "adata = data.preprocess_adata(adata)"
   ]
  },
  {
   "cell_type": "code",
   "execution_count": 8,
   "id": "f49aa80a-dde7-4b0e-95b7-a88d19529849",
   "metadata": {
    "execution": {
     "iopub.execute_input": "2023-12-06T10:19:27.228552Z",
     "iopub.status.busy": "2023-12-06T10:19:27.228264Z",
     "iopub.status.idle": "2023-12-06T10:24:54.484385Z",
     "shell.execute_reply": "2023-12-06T10:24:54.482108Z"
    },
    "papermill": {
     "duration": 327.272657,
     "end_time": "2023-12-06T10:24:54.492626",
     "exception": false,
     "start_time": "2023-12-06T10:19:27.219969",
     "status": "completed"
    },
    "tags": []
   },
   "outputs": [
    {
     "name": "stderr",
     "output_type": "stream",
     "text": [
      "/usr/local/lib/python3.11/site-packages/scanpy/preprocessing/_highly_variable_genes.py:215: FutureWarning: The default of observed=False is deprecated and will be changed to True in a future version of pandas. Pass observed=False to retain current behavior or observed=True to adopt the future default and silence this warning.\n",
      "  disp_grouped = df.groupby('mean_bin')['dispersions']\n",
      "/usr/local/lib/python3.11/site-packages/scanpy/preprocessing/_highly_variable_genes.py:539: ImplicitModificationWarning: Trying to modify attribute `._uns` of view, initializing view as actual.\n",
      "  adata.uns['hvg'] = {'flavor': flavor}\n"
     ]
    },
    {
     "name": "stderr",
     "output_type": "stream",
     "text": [
      "2023-12-06 10:21:05.768728: E external/local_xla/xla/stream_executor/cuda/cuda_dnn.cc:9261] Unable to register cuDNN factory: Attempting to register factory for plugin cuDNN when one has already been registered\n",
      "2023-12-06 10:21:05.768789: E external/local_xla/xla/stream_executor/cuda/cuda_fft.cc:607] Unable to register cuFFT factory: Attempting to register factory for plugin cuFFT when one has already been registered\n",
      "2023-12-06 10:21:05.770367: E external/local_xla/xla/stream_executor/cuda/cuda_blas.cc:1515] Unable to register cuBLAS factory: Attempting to register factory for plugin cuBLAS when one has already been registered\n",
      "2023-12-06 10:21:05.779034: I tensorflow/core/platform/cpu_feature_guard.cc:182] This TensorFlow binary is optimized to use available CPU instructions in performance-critical operations.\n",
      "To enable the following instructions: AVX2 AVX512F FMA, in other operations, rebuild TensorFlow with the appropriate compiler flags.\n"
     ]
    },
    {
     "name": "stderr",
     "output_type": "stream",
     "text": [
      "2023-12-06 10:21:07.159896: W tensorflow/compiler/tf2tensorrt/utils/py_utils.cc:38] TF-TRT Warning: Could not find TensorRT\n"
     ]
    },
    {
     "name": "stdout",
     "output_type": "stream",
     "text": [
      "converged at iteration step: 34 with 0.0010 < 0.001\n"
     ]
    }
   ],
   "source": [
    "adata.var['gene_symbol'] = adata.var.index\n",
    "_ = model.predict(adata, \"laughney\",\n",
    "                  # connectivities_path='scvi_conns.npz', # If we use the connectivites from scVI the number of predicted cells changes a lot\n",
    "                  # save=True\n",
    "                 )"
   ]
  },
  {
   "cell_type": "code",
   "execution_count": null,
   "id": "aa9e4997-578c-4dfc-8f2c-67a955dd0865",
   "metadata": {
    "papermill": {
     "duration": 0.006743,
     "end_time": "2023-12-06T10:24:54.506461",
     "exception": false,
     "start_time": "2023-12-06T10:24:54.499718",
     "status": "completed"
    },
    "tags": []
   },
   "outputs": [],
   "source": []
  },
  {
   "cell_type": "code",
   "execution_count": 9,
   "id": "258b3915-8a6b-484b-9154-ed3b8b8ff626",
   "metadata": {
    "execution": {
     "iopub.execute_input": "2023-12-06T10:24:54.532125Z",
     "iopub.status.busy": "2023-12-06T10:24:54.528764Z",
     "iopub.status.idle": "2023-12-06T10:24:54.539577Z",
     "shell.execute_reply": "2023-12-06T10:24:54.538393Z"
    },
    "papermill": {
     "duration": 0.026289,
     "end_time": "2023-12-06T10:24:54.542614",
     "exception": false,
     "start_time": "2023-12-06T10:24:54.516325",
     "status": "completed"
    },
    "tags": []
   },
   "outputs": [],
   "source": [
    "preds = model.results[\"final_pred\"].values"
   ]
  },
  {
   "cell_type": "code",
   "execution_count": 10,
   "id": "113ff65c-9694-4b4d-b290-f77a82efedee",
   "metadata": {
    "execution": {
     "iopub.execute_input": "2023-12-06T10:24:54.561525Z",
     "iopub.status.busy": "2023-12-06T10:24:54.560967Z",
     "iopub.status.idle": "2023-12-06T10:24:54.637210Z",
     "shell.execute_reply": "2023-12-06T10:24:54.636014Z"
    },
    "papermill": {
     "duration": 0.090279,
     "end_time": "2023-12-06T10:24:54.641309",
     "exception": false,
     "start_time": "2023-12-06T10:24:54.551030",
     "status": "completed"
    },
    "tags": []
   },
   "outputs": [],
   "source": [
    "preds_df = pd.DataFrame({'final_pred':preds})\n",
    "preds_df.to_csv(f'{ikarus_dir}/{id_}.csv')"
   ]
  }
 ],
 "metadata": {
  "kernelspec": {
   "display_name": "Python 3 (ipykernel)",
   "language": "python",
   "name": "python3"
  },
  "language_info": {
   "codemirror_mode": {
    "name": "ipython",
    "version": 3
   },
   "file_extension": ".py",
   "mimetype": "text/x-python",
   "name": "python",
   "nbconvert_exporter": "python",
   "pygments_lexer": "ipython3",
   "version": "3.11.4"
  },
  "papermill": {
   "default_parameters": {},
   "duration": 340.339698,
   "end_time": "2023-12-06T10:24:57.590888",
   "environment_variables": {},
   "exception": null,
   "input_path": "nb_ikarus/ikarus_param.ipynb",
   "output_path": "nb_ikarus/Laughney_Massague_2020_NSCLC.ipynb",
   "parameters": {
    "id_": "Laughney_Massague_2020_NSCLC"
   },
   "start_time": "2023-12-06T10:19:17.251190",
   "version": "2.5.0"
  }
 },
 "nbformat": 4,
 "nbformat_minor": 5
}