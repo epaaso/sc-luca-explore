{
 "cells": [
  {
   "cell_type": "code",
   "execution_count": 1,
   "id": "a3b30bc1-fc76-4a7c-863d-7d6e3e931c3c",
   "metadata": {
    "execution": {
     "iopub.execute_input": "2023-12-06T10:19:18.250049Z",
     "iopub.status.busy": "2023-12-06T10:19:18.249511Z",
     "iopub.status.idle": "2023-12-06T10:19:18.267990Z",
     "shell.execute_reply": "2023-12-06T10:19:18.266356Z"
    },
    "papermill": {
     "duration": 0.068717,
     "end_time": "2023-12-06T10:19:18.288689",
     "exception": false,
     "start_time": "2023-12-06T10:19:18.219972",
     "status": "completed"
    },
    "tags": [
     "parameters"
    ]
   },
   "outputs": [],
   "source": [
    "backup_dir = '/root/datos/maestria/netopaas/luca_explore/surgeries'\n",
    "ikarus_dir = '/root/datos/maestria/netopaas/ikarus'\n",
    "id_ = 'Chen_Zhang_2020_NSCLC'"
   ]
  },
  {
   "cell_type": "code",
   "execution_count": 2,
   "id": "16894e44",
   "metadata": {
    "execution": {
     "iopub.execute_input": "2023-12-06T10:19:18.420307Z",
     "iopub.status.busy": "2023-12-06T10:19:18.419508Z",
     "iopub.status.idle": "2023-12-06T10:19:18.426733Z",
     "shell.execute_reply": "2023-12-06T10:19:18.425266Z"
    },
    "papermill": {
     "duration": 0.064758,
     "end_time": "2023-12-06T10:19:18.440550",
     "exception": false,
     "start_time": "2023-12-06T10:19:18.375792",
     "status": "completed"
    },
    "tags": [
     "injected-parameters"
    ]
   },
   "outputs": [],
   "source": [
    "# Parameters\n",
    "id_ = \"He_Fan_2021_LUAD\"\n"
   ]
  },
  {
   "cell_type": "code",
   "execution_count": 3,
   "id": "a577bd29-841e-4499-9669-e67c6a80ab5a",
   "metadata": {
    "execution": {
     "iopub.execute_input": "2023-12-06T10:19:18.640177Z",
     "iopub.status.busy": "2023-12-06T10:19:18.639396Z",
     "iopub.status.idle": "2023-12-06T10:19:24.966316Z",
     "shell.execute_reply": "2023-12-06T10:19:24.964151Z"
    },
    "papermill": {
     "duration": 6.481301,
     "end_time": "2023-12-06T10:19:25.016955",
     "exception": false,
     "start_time": "2023-12-06T10:19:18.535654",
     "status": "completed"
    },
    "tags": []
   },
   "outputs": [],
   "source": [
    "import gdown\n",
    "import anndata as ad\n",
    "import pandas as pd\n",
    "import os\n",
    "\n",
    "import scanpy as sc\n",
    "from ikarus import classifier, utils, data"
   ]
  },
  {
   "cell_type": "code",
   "execution_count": 4,
   "id": "d100eba9-3fb1-4bfd-aa41-06f3deac2373",
   "metadata": {
    "execution": {
     "iopub.execute_input": "2023-12-06T10:19:25.226173Z",
     "iopub.status.busy": "2023-12-06T10:19:25.225477Z",
     "iopub.status.idle": "2023-12-06T10:19:25.300740Z",
     "shell.execute_reply": "2023-12-06T10:19:25.299764Z"
    },
    "papermill": {
     "duration": 0.244209,
     "end_time": "2023-12-06T10:19:25.353589",
     "exception": false,
     "start_time": "2023-12-06T10:19:25.109380",
     "status": "completed"
    },
    "tags": []
   },
   "outputs": [],
   "source": [
    "url = \"https://raw.githubusercontent.com/BIMSBbioinfo/ikarus/master/tutorials/out/signatures.gmt\"\n",
    "signatures_path = f\"{ikarus_dir}/signatures.gmt\"\n",
    "gdown.download(url, signatures_path, quiet=False) if not os.path.exists(signatures_path) else None\n",
    "pd.read_csv(signatures_path, sep=\"\\t\", header=None)\n",
    "\n",
    "model_path = f\"{ikarus_dir}/core_model.joblib\""
   ]
  },
  {
   "cell_type": "code",
   "execution_count": 5,
   "id": "564db412-61e3-4f0b-9f6f-77e3abd7e6d8",
   "metadata": {
    "execution": {
     "iopub.execute_input": "2023-12-06T10:19:25.610111Z",
     "iopub.status.busy": "2023-12-06T10:19:25.609718Z",
     "iopub.status.idle": "2023-12-06T10:19:25.620361Z",
     "shell.execute_reply": "2023-12-06T10:19:25.618904Z"
    },
    "papermill": {
     "duration": 0.233021,
     "end_time": "2023-12-06T10:19:25.754630",
     "exception": false,
     "start_time": "2023-12-06T10:19:25.521609",
     "status": "completed"
    },
    "tags": []
   },
   "outputs": [],
   "source": [
    "model = classifier.Ikarus(signatures_gmt=signatures_path, out_dir=\"out\",\n",
    "                          adapt_signatures=True # This is important, we are working with a reduced gen set, \n",
    "# so the model won't work if the intesrection betwen the siganture and the avialbe genes is too small..\n",
    "# that is why the non-overlapping genes mus be removed from the signate. This flag does that automatically\n",
    "                         )\n",
    "model.load_core_model(model_path)"
   ]
  },
  {
   "cell_type": "code",
   "execution_count": 6,
   "id": "6d4b4b84-a9fb-4994-bece-b05d5da71bdb",
   "metadata": {
    "execution": {
     "iopub.execute_input": "2023-12-06T10:19:25.850475Z",
     "iopub.status.busy": "2023-12-06T10:19:25.849755Z",
     "iopub.status.idle": "2023-12-06T10:19:28.945243Z",
     "shell.execute_reply": "2023-12-06T10:19:28.944043Z"
    },
    "papermill": {
     "duration": 3.141219,
     "end_time": "2023-12-06T10:19:28.949991",
     "exception": false,
     "start_time": "2023-12-06T10:19:25.808772",
     "status": "completed"
    },
    "tags": []
   },
   "outputs": [
    {
     "data": {
      "text/plain": [
       "AnnData object with n_obs × n_vars = 113612 × 26833\n",
       "    obs: 'dataset', 'accession', 'sample', 'origin', 'tissue', 'age', 'sex', 'patient', 'condition', 'n_counts', 'n_genes', 'n_genes_by_counts', 'total_counts', 'total_counts_mito', 'pct_counts_mito'\n",
       "    var: 'n_counts', 'mito', 'n_cells_by_counts', 'mean_counts', 'pct_dropout_by_counts', 'total_counts'"
      ]
     },
     "execution_count": 6,
     "metadata": {},
     "output_type": "execute_result"
    }
   ],
   "source": [
    "adata = sc.read_h5ad(f'{backup_dir}/filtered_{id_}.h5ad')\n",
    "adata"
   ]
  },
  {
   "cell_type": "code",
   "execution_count": 7,
   "id": "15792c9d-df7b-4106-b9bc-fdb07fb55222",
   "metadata": {
    "execution": {
     "iopub.execute_input": "2023-12-06T10:19:28.974507Z",
     "iopub.status.busy": "2023-12-06T10:19:28.973997Z",
     "iopub.status.idle": "2023-12-06T10:19:29.684635Z",
     "shell.execute_reply": "2023-12-06T10:19:29.683795Z"
    },
    "papermill": {
     "duration": 0.735217,
     "end_time": "2023-12-06T10:19:29.696565",
     "exception": false,
     "start_time": "2023-12-06T10:19:28.961348",
     "status": "completed"
    },
    "tags": []
   },
   "outputs": [],
   "source": [
    "adata = data.preprocess_adata(adata)"
   ]
  },
  {
   "cell_type": "code",
   "execution_count": 8,
   "id": "f49aa80a-dde7-4b0e-95b7-a88d19529849",
   "metadata": {
    "execution": {
     "iopub.execute_input": "2023-12-06T10:19:29.726786Z",
     "iopub.status.busy": "2023-12-06T10:19:29.726381Z",
     "iopub.status.idle": "2023-12-06T10:40:30.151333Z",
     "shell.execute_reply": "2023-12-06T10:40:30.137367Z"
    },
    "papermill": {
     "duration": 1260.445994,
     "end_time": "2023-12-06T10:40:30.156304",
     "exception": false,
     "start_time": "2023-12-06T10:19:29.710310",
     "status": "completed"
    },
    "tags": []
   },
   "outputs": [
    {
     "name": "stderr",
     "output_type": "stream",
     "text": [
      "/usr/local/lib/python3.11/site-packages/scanpy/preprocessing/_highly_variable_genes.py:215: FutureWarning: The default of observed=False is deprecated and will be changed to True in a future version of pandas. Pass observed=False to retain current behavior or observed=True to adopt the future default and silence this warning.\n",
      "  disp_grouped = df.groupby('mean_bin')['dispersions']\n",
      "/usr/local/lib/python3.11/site-packages/scanpy/preprocessing/_highly_variable_genes.py:539: ImplicitModificationWarning: Trying to modify attribute `._uns` of view, initializing view as actual.\n",
      "  adata.uns['hvg'] = {'flavor': flavor}\n"
     ]
    },
    {
     "name": "stderr",
     "output_type": "stream",
     "text": [
      "2023-12-06 10:29:45.582109: E external/local_xla/xla/stream_executor/cuda/cuda_dnn.cc:9261] Unable to register cuDNN factory: Attempting to register factory for plugin cuDNN when one has already been registered\n",
      "2023-12-06 10:29:45.582170: E external/local_xla/xla/stream_executor/cuda/cuda_fft.cc:607] Unable to register cuFFT factory: Attempting to register factory for plugin cuFFT when one has already been registered\n",
      "2023-12-06 10:29:45.583661: E external/local_xla/xla/stream_executor/cuda/cuda_blas.cc:1515] Unable to register cuBLAS factory: Attempting to register factory for plugin cuBLAS when one has already been registered\n",
      "2023-12-06 10:29:45.592345: I tensorflow/core/platform/cpu_feature_guard.cc:182] This TensorFlow binary is optimized to use available CPU instructions in performance-critical operations.\n",
      "To enable the following instructions: AVX2 AVX512F FMA, in other operations, rebuild TensorFlow with the appropriate compiler flags.\n"
     ]
    },
    {
     "name": "stderr",
     "output_type": "stream",
     "text": [
      "2023-12-06 10:29:46.768101: W tensorflow/compiler/tf2tensorrt/utils/py_utils.cc:38] TF-TRT Warning: Could not find TensorRT\n"
     ]
    },
    {
     "name": "stdout",
     "output_type": "stream",
     "text": [
      "converged at iteration step: 7 with 0.0003 < 0.001\n"
     ]
    }
   ],
   "source": [
    "adata.var['gene_symbol'] = adata.var.index\n",
    "_ = model.predict(adata, \"laughney\",\n",
    "                  # connectivities_path='scvi_conns.npz', # If we use the connectivites from scVI the number of predicted cells changes a lot\n",
    "                  # save=True\n",
    "                 )"
   ]
  },
  {
   "cell_type": "code",
   "execution_count": null,
   "id": "aa9e4997-578c-4dfc-8f2c-67a955dd0865",
   "metadata": {
    "papermill": {
     "duration": 0.006559,
     "end_time": "2023-12-06T10:40:30.171824",
     "exception": false,
     "start_time": "2023-12-06T10:40:30.165265",
     "status": "completed"
    },
    "tags": []
   },
   "outputs": [],
   "source": []
  },
  {
   "cell_type": "code",
   "execution_count": 9,
   "id": "258b3915-8a6b-484b-9154-ed3b8b8ff626",
   "metadata": {
    "execution": {
     "iopub.execute_input": "2023-12-06T10:40:30.252884Z",
     "iopub.status.busy": "2023-12-06T10:40:30.207957Z",
     "iopub.status.idle": "2023-12-06T10:40:30.290411Z",
     "shell.execute_reply": "2023-12-06T10:40:30.288160Z"
    },
    "papermill": {
     "duration": 0.115644,
     "end_time": "2023-12-06T10:40:30.293996",
     "exception": false,
     "start_time": "2023-12-06T10:40:30.178352",
     "status": "completed"
    },
    "tags": []
   },
   "outputs": [],
   "source": [
    "preds = model.results[\"final_pred\"].values"
   ]
  },
  {
   "cell_type": "code",
   "execution_count": 10,
   "id": "113ff65c-9694-4b4d-b290-f77a82efedee",
   "metadata": {
    "execution": {
     "iopub.execute_input": "2023-12-06T10:40:30.316749Z",
     "iopub.status.busy": "2023-12-06T10:40:30.316062Z",
     "iopub.status.idle": "2023-12-06T10:40:30.488738Z",
     "shell.execute_reply": "2023-12-06T10:40:30.487365Z"
    },
    "papermill": {
     "duration": 0.190902,
     "end_time": "2023-12-06T10:40:30.493267",
     "exception": false,
     "start_time": "2023-12-06T10:40:30.302365",
     "status": "completed"
    },
    "tags": []
   },
   "outputs": [],
   "source": [
    "preds_df = pd.DataFrame({'final_pred':preds})\n",
    "preds_df.to_csv(f'{ikarus_dir}/{id_}.csv')"
   ]
  }
 ],
 "metadata": {
  "kernelspec": {
   "display_name": "Python 3 (ipykernel)",
   "language": "python",
   "name": "python3"
  },
  "language_info": {
   "codemirror_mode": {
    "name": "ipython",
    "version": 3
   },
   "file_extension": ".py",
   "mimetype": "text/x-python",
   "name": "python",
   "nbconvert_exporter": "python",
   "pygments_lexer": "ipython3",
   "version": "3.11.4"
  },
  "papermill": {
   "default_parameters": {},
   "duration": 1279.51162,
   "end_time": "2023-12-06T10:40:36.658295",
   "environment_variables": {},
   "exception": null,
   "input_path": "nb_ikarus/ikarus_param.ipynb",
   "output_path": "nb_ikarus/He_Fan_2021_LUAD.ipynb",
   "parameters": {
    "id_": "He_Fan_2021_LUAD"
   },
   "start_time": "2023-12-06T10:19:17.146675",
   "version": "2.5.0"
  }
 },
 "nbformat": 4,
 "nbformat_minor": 5
}