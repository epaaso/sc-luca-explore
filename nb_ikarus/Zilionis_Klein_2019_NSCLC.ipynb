{
 "cells": [
  {
   "cell_type": "code",
   "execution_count": 1,
   "id": "a3b30bc1-fc76-4a7c-863d-7d6e3e931c3c",
   "metadata": {
    "execution": {
     "iopub.execute_input": "2023-12-06T10:19:18.394326Z",
     "iopub.status.busy": "2023-12-06T10:19:18.393777Z",
     "iopub.status.idle": "2023-12-06T10:19:18.407385Z",
     "shell.execute_reply": "2023-12-06T10:19:18.405965Z"
    },
    "papermill": {
     "duration": 0.121867,
     "end_time": "2023-12-06T10:19:18.445741",
     "exception": false,
     "start_time": "2023-12-06T10:19:18.323874",
     "status": "completed"
    },
    "tags": [
     "parameters"
    ]
   },
   "outputs": [],
   "source": [
    "backup_dir = '/root/datos/maestria/netopaas/luca_explore/surgeries'\n",
    "ikarus_dir = '/root/datos/maestria/netopaas/ikarus'\n",
    "id_ = 'Chen_Zhang_2020_NSCLC'"
   ]
  },
  {
   "cell_type": "code",
   "execution_count": 2,
   "id": "f7d8f002",
   "metadata": {
    "execution": {
     "iopub.execute_input": "2023-12-06T10:19:18.536465Z",
     "iopub.status.busy": "2023-12-06T10:19:18.535374Z",
     "iopub.status.idle": "2023-12-06T10:19:18.542320Z",
     "shell.execute_reply": "2023-12-06T10:19:18.540872Z"
    },
    "papermill": {
     "duration": 0.115933,
     "end_time": "2023-12-06T10:19:18.610727",
     "exception": false,
     "start_time": "2023-12-06T10:19:18.494794",
     "status": "completed"
    },
    "tags": [
     "injected-parameters"
    ]
   },
   "outputs": [],
   "source": [
    "# Parameters\n",
    "id_ = \"Zilionis_Klein_2019_NSCLC\"\n"
   ]
  },
  {
   "cell_type": "code",
   "execution_count": 3,
   "id": "a577bd29-841e-4499-9669-e67c6a80ab5a",
   "metadata": {
    "execution": {
     "iopub.execute_input": "2023-12-06T10:19:18.742443Z",
     "iopub.status.busy": "2023-12-06T10:19:18.741200Z",
     "iopub.status.idle": "2023-12-06T10:19:24.965988Z",
     "shell.execute_reply": "2023-12-06T10:19:24.964690Z"
    },
    "papermill": {
     "duration": 6.356797,
     "end_time": "2023-12-06T10:19:25.057763",
     "exception": false,
     "start_time": "2023-12-06T10:19:18.700966",
     "status": "completed"
    },
    "tags": []
   },
   "outputs": [],
   "source": [
    "import gdown\n",
    "import anndata as ad\n",
    "import pandas as pd\n",
    "import os\n",
    "\n",
    "import scanpy as sc\n",
    "from ikarus import classifier, utils, data"
   ]
  },
  {
   "cell_type": "code",
   "execution_count": 4,
   "id": "d100eba9-3fb1-4bfd-aa41-06f3deac2373",
   "metadata": {
    "execution": {
     "iopub.execute_input": "2023-12-06T10:19:25.318925Z",
     "iopub.status.busy": "2023-12-06T10:19:25.318349Z",
     "iopub.status.idle": "2023-12-06T10:19:25.423052Z",
     "shell.execute_reply": "2023-12-06T10:19:25.422043Z"
    },
    "papermill": {
     "duration": 0.206629,
     "end_time": "2023-12-06T10:19:25.477073",
     "exception": false,
     "start_time": "2023-12-06T10:19:25.270444",
     "status": "completed"
    },
    "tags": []
   },
   "outputs": [],
   "source": [
    "url = \"https://raw.githubusercontent.com/BIMSBbioinfo/ikarus/master/tutorials/out/signatures.gmt\"\n",
    "signatures_path = f\"{ikarus_dir}/signatures.gmt\"\n",
    "gdown.download(url, signatures_path, quiet=False) if not os.path.exists(signatures_path) else None\n",
    "pd.read_csv(signatures_path, sep=\"\\t\", header=None)\n",
    "\n",
    "model_path = f\"{ikarus_dir}/core_model.joblib\""
   ]
  },
  {
   "cell_type": "code",
   "execution_count": 5,
   "id": "564db412-61e3-4f0b-9f6f-77e3abd7e6d8",
   "metadata": {
    "execution": {
     "iopub.execute_input": "2023-12-06T10:19:25.816053Z",
     "iopub.status.busy": "2023-12-06T10:19:25.815577Z",
     "iopub.status.idle": "2023-12-06T10:19:25.826082Z",
     "shell.execute_reply": "2023-12-06T10:19:25.824713Z"
    },
    "papermill": {
     "duration": 0.2417,
     "end_time": "2023-12-06T10:19:25.912235",
     "exception": false,
     "start_time": "2023-12-06T10:19:25.670535",
     "status": "completed"
    },
    "tags": []
   },
   "outputs": [],
   "source": [
    "model = classifier.Ikarus(signatures_gmt=signatures_path, out_dir=\"out\",\n",
    "                          adapt_signatures=True # This is important, we are working with a reduced gen set, \n",
    "# so the model won't work if the intesrection betwen the siganture and the avialbe genes is too small..\n",
    "# that is why the non-overlapping genes mus be removed from the signate. This flag does that automatically\n",
    "                         )\n",
    "model.load_core_model(model_path)"
   ]
  },
  {
   "cell_type": "code",
   "execution_count": 6,
   "id": "6d4b4b84-a9fb-4994-bece-b05d5da71bdb",
   "metadata": {
    "execution": {
     "iopub.execute_input": "2023-12-06T10:19:26.022665Z",
     "iopub.status.busy": "2023-12-06T10:19:26.021993Z",
     "iopub.status.idle": "2023-12-06T10:19:26.860693Z",
     "shell.execute_reply": "2023-12-06T10:19:26.859681Z"
    },
    "papermill": {
     "duration": 0.890444,
     "end_time": "2023-12-06T10:19:26.872138",
     "exception": false,
     "start_time": "2023-12-06T10:19:25.981694",
     "status": "completed"
    },
    "tags": []
   },
   "outputs": [
    {
     "data": {
      "text/plain": [
       "AnnData object with n_obs × n_vars = 32073 × 36896\n",
       "    obs: 'sample', 'gsm', 'tissue', 'sex', 'age', 'characteristics_ch1.7.treatment received prior to surgery (1= treated; 0=untreated)', 'patient', 'condition', 'origin', 'platform', 'n_counts', 'n_genes', 'n_genes_by_counts', 'total_counts', 'total_counts_mito', 'pct_counts_mito'\n",
       "    var: 'n_counts', 'mito', 'n_cells_by_counts', 'mean_counts', 'pct_dropout_by_counts', 'total_counts'"
      ]
     },
     "execution_count": 6,
     "metadata": {},
     "output_type": "execute_result"
    }
   ],
   "source": [
    "adata = sc.read_h5ad(f'{backup_dir}/filtered_{id_}.h5ad')\n",
    "adata"
   ]
  },
  {
   "cell_type": "code",
   "execution_count": 7,
   "id": "15792c9d-df7b-4106-b9bc-fdb07fb55222",
   "metadata": {
    "execution": {
     "iopub.execute_input": "2023-12-06T10:19:26.949261Z",
     "iopub.status.busy": "2023-12-06T10:19:26.948772Z",
     "iopub.status.idle": "2023-12-06T10:19:27.091079Z",
     "shell.execute_reply": "2023-12-06T10:19:27.090087Z"
    },
    "papermill": {
     "duration": 0.185777,
     "end_time": "2023-12-06T10:19:27.109013",
     "exception": false,
     "start_time": "2023-12-06T10:19:26.923236",
     "status": "completed"
    },
    "tags": []
   },
   "outputs": [],
   "source": [
    "adata = data.preprocess_adata(adata)"
   ]
  },
  {
   "cell_type": "code",
   "execution_count": 8,
   "id": "f49aa80a-dde7-4b0e-95b7-a88d19529849",
   "metadata": {
    "execution": {
     "iopub.execute_input": "2023-12-06T10:19:27.145631Z",
     "iopub.status.busy": "2023-12-06T10:19:27.145119Z",
     "iopub.status.idle": "2023-12-06T10:26:07.101751Z",
     "shell.execute_reply": "2023-12-06T10:26:07.100567Z"
    },
    "papermill": {
     "duration": 400.00329,
     "end_time": "2023-12-06T10:26:07.123560",
     "exception": false,
     "start_time": "2023-12-06T10:19:27.120270",
     "status": "completed"
    },
    "tags": []
   },
   "outputs": [
    {
     "name": "stderr",
     "output_type": "stream",
     "text": [
      "/usr/local/lib/python3.11/site-packages/scanpy/preprocessing/_highly_variable_genes.py:215: FutureWarning: The default of observed=False is deprecated and will be changed to True in a future version of pandas. Pass observed=False to retain current behavior or observed=True to adopt the future default and silence this warning.\n",
      "  disp_grouped = df.groupby('mean_bin')['dispersions']\n"
     ]
    },
    {
     "name": "stderr",
     "output_type": "stream",
     "text": [
      "/usr/local/lib/python3.11/site-packages/scanpy/preprocessing/_highly_variable_genes.py:539: ImplicitModificationWarning: Trying to modify attribute `._uns` of view, initializing view as actual.\n",
      "  adata.uns['hvg'] = {'flavor': flavor}\n"
     ]
    },
    {
     "name": "stderr",
     "output_type": "stream",
     "text": [
      "2023-12-06 10:23:33.230350: E external/local_xla/xla/stream_executor/cuda/cuda_dnn.cc:9261] Unable to register cuDNN factory: Attempting to register factory for plugin cuDNN when one has already been registered\n",
      "2023-12-06 10:23:33.230412: E external/local_xla/xla/stream_executor/cuda/cuda_fft.cc:607] Unable to register cuFFT factory: Attempting to register factory for plugin cuFFT when one has already been registered\n",
      "2023-12-06 10:23:33.232342: E external/local_xla/xla/stream_executor/cuda/cuda_blas.cc:1515] Unable to register cuBLAS factory: Attempting to register factory for plugin cuBLAS when one has already been registered\n",
      "2023-12-06 10:23:33.244267: I tensorflow/core/platform/cpu_feature_guard.cc:182] This TensorFlow binary is optimized to use available CPU instructions in performance-critical operations.\n",
      "To enable the following instructions: AVX2 AVX512F FMA, in other operations, rebuild TensorFlow with the appropriate compiler flags.\n"
     ]
    },
    {
     "name": "stderr",
     "output_type": "stream",
     "text": [
      "2023-12-06 10:23:35.214325: W tensorflow/compiler/tf2tensorrt/utils/py_utils.cc:38] TF-TRT Warning: Could not find TensorRT\n"
     ]
    },
    {
     "name": "stdout",
     "output_type": "stream",
     "text": [
      "converged at iteration step: 11 with 0.0009 < 0.001\n"
     ]
    }
   ],
   "source": [
    "adata.var['gene_symbol'] = adata.var.index\n",
    "_ = model.predict(adata, \"laughney\",\n",
    "                  # connectivities_path='scvi_conns.npz', # If we use the connectivites from scVI the number of predicted cells changes a lot\n",
    "                  # save=True\n",
    "                 )"
   ]
  },
  {
   "cell_type": "code",
   "execution_count": null,
   "id": "aa9e4997-578c-4dfc-8f2c-67a955dd0865",
   "metadata": {
    "papermill": {
     "duration": 0.012637,
     "end_time": "2023-12-06T10:26:07.150782",
     "exception": false,
     "start_time": "2023-12-06T10:26:07.138145",
     "status": "completed"
    },
    "tags": []
   },
   "outputs": [],
   "source": []
  },
  {
   "cell_type": "code",
   "execution_count": 9,
   "id": "258b3915-8a6b-484b-9154-ed3b8b8ff626",
   "metadata": {
    "execution": {
     "iopub.execute_input": "2023-12-06T10:26:07.181283Z",
     "iopub.status.busy": "2023-12-06T10:26:07.179705Z",
     "iopub.status.idle": "2023-12-06T10:26:07.186712Z",
     "shell.execute_reply": "2023-12-06T10:26:07.185846Z"
    },
    "papermill": {
     "duration": 0.024395,
     "end_time": "2023-12-06T10:26:07.189855",
     "exception": false,
     "start_time": "2023-12-06T10:26:07.165460",
     "status": "completed"
    },
    "tags": []
   },
   "outputs": [],
   "source": [
    "preds = model.results[\"final_pred\"].values"
   ]
  },
  {
   "cell_type": "code",
   "execution_count": 10,
   "id": "113ff65c-9694-4b4d-b290-f77a82efedee",
   "metadata": {
    "execution": {
     "iopub.execute_input": "2023-12-06T10:26:07.209020Z",
     "iopub.status.busy": "2023-12-06T10:26:07.208412Z",
     "iopub.status.idle": "2023-12-06T10:26:07.274766Z",
     "shell.execute_reply": "2023-12-06T10:26:07.273847Z"
    },
    "papermill": {
     "duration": 0.079915,
     "end_time": "2023-12-06T10:26:07.278076",
     "exception": false,
     "start_time": "2023-12-06T10:26:07.198161",
     "status": "completed"
    },
    "tags": []
   },
   "outputs": [],
   "source": [
    "preds_df = pd.DataFrame({'final_pred':preds})\n",
    "preds_df.to_csv(f'{ikarus_dir}/{id_}.csv')"
   ]
  }
 ],
 "metadata": {
  "kernelspec": {
   "display_name": "Python 3 (ipykernel)",
   "language": "python",
   "name": "python3"
  },
  "language_info": {
   "codemirror_mode": {
    "name": "ipython",
    "version": 3
   },
   "file_extension": ".py",
   "mimetype": "text/x-python",
   "name": "python",
   "nbconvert_exporter": "python",
   "pygments_lexer": "ipython3",
   "version": "3.11.4"
  },
  "papermill": {
   "default_parameters": {},
   "duration": 412.746853,
   "end_time": "2023-12-06T10:26:10.015996",
   "environment_variables": {},
   "exception": null,
   "input_path": "nb_ikarus/ikarus_param.ipynb",
   "output_path": "nb_ikarus/Zilionis_Klein_2019_NSCLC.ipynb",
   "parameters": {
    "id_": "Zilionis_Klein_2019_NSCLC"
   },
   "start_time": "2023-12-06T10:19:17.269143",
   "version": "2.5.0"
  }
 },
 "nbformat": 4,
 "nbformat_minor": 5
}