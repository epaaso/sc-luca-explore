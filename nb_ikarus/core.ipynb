{
 "cells": [
  {
   "cell_type": "code",
   "execution_count": 1,
   "id": "a3b30bc1-fc76-4a7c-863d-7d6e3e931c3c",
   "metadata": {
    "tags": [
     "parameters"
    ]
   },
   "outputs": [],
   "source": [
    "id_ = 'core'\n",
    "backup_dir = '/root/datos/maestria/netopaas/luca/data/atlas/'\n",
    "ikarus_dir = '/root/datos/maestria/netopaas/ikarus'"
   ]
  },
  {
   "cell_type": "code",
   "execution_count": 2,
   "id": "a577bd29-841e-4499-9669-e67c6a80ab5a",
   "metadata": {},
   "outputs": [],
   "source": [
    "import gdown\n",
    "import anndata as ad\n",
    "import pandas as pd\n",
    "import os\n",
    "\n",
    "import scanpy as sc\n",
    "from ikarus import classifier, utils, data"
   ]
  },
  {
   "cell_type": "markdown",
   "id": "6f86a4ed-6754-4dbf-bacc-0c1e381c882b",
   "metadata": {
    "editable": true,
    "slideshow": {
     "slide_type": ""
    },
    "tags": []
   },
   "source": [
    "ikarus is a stepwise machine learning pipeline that tries to cope with a task of distinguishing tumor cells from normal cells. Leveraging multiple annotated single cell datasets it can be used to define a gene set specific to tumor cells. First, the latter gene set is used to rank cells and then to train a logistic classifier for the robust classification of tumor and normal cells. Finally, sensitivity is increased by propagating the cell labels based on a custom cell-cell network. "
   ]
  },
  {
   "cell_type": "code",
   "execution_count": 3,
   "id": "d100eba9-3fb1-4bfd-aa41-06f3deac2373",
   "metadata": {
    "editable": true,
    "slideshow": {
     "slide_type": ""
    },
    "tags": []
   },
   "outputs": [
    {
     "name": "stdout",
     "output_type": "stream",
     "text": [
      "     0       1               2             3          4       5       6     \\\n",
      "0  Normal  ikarus    RP11-128M1.1       TRAV8-2  PTPRD-AS1   MEOX2  CXCL12   \n",
      "1   Tumor  ikarus  RP11-277P12.10  RP13-895J2.6       BNC1  MAGEA6     ISX   \n",
      "\n",
      "          7              8       9     ...      1305     1306 1307    1308  \\\n",
      "0  KLRC4-KLRK1          BCAS1  SCNN1A  ...  C22ORF15  CYP4F11  AK8  LRRC18   \n",
      "1       MAGEA3  RP13-614K11.2    CDH7  ...       NaN      NaN  NaN     NaN   \n",
      "\n",
      "   1309     1310    1311   1312   1313     1314  \n",
      "0  LMO2  COL12A1  ITGA11  EGFL6  RGS11  PCDHB15  \n",
      "1   NaN      NaN     NaN    NaN    NaN      NaN  \n",
      "\n",
      "[2 rows x 1315 columns]\n"
     ]
    }
   ],
   "source": [
    "url = \"https://raw.githubusercontent.com/BIMSBbioinfo/ikarus/master/tutorials/out/signatures.gmt\"\n",
    "signatures_path = f\"{ikarus_dir}/signatures.gmt\"\n",
    "gdown.download(url, signatures_path, quiet=False) if not os.path.exists(signatures_path) else None\n",
    "print(pd.read_csv(signatures_path, sep=\"\\t\", header=None))\n",
    "\n",
    "model_path = f\"{ikarus_dir}/core_model.joblib\""
   ]
  },
  {
   "cell_type": "code",
   "execution_count": 4,
   "id": "564db412-61e3-4f0b-9f6f-77e3abd7e6d8",
   "metadata": {},
   "outputs": [],
   "source": [
    "model = classifier.Ikarus(signatures_gmt=signatures_path, out_dir=\"out\",\n",
    "                          adapt_signatures=True # This is important, we are working with a reduced gen set, \n",
    "# so the model won't work if the intesrection betwen the siganture and the avialbe genes is too small..\n",
    "# that is why the non-overlapping genes mus be removed from the signate. This flag does that automatically\n",
    "                         )\n",
    "model.load_core_model(model_path)"
   ]
  },
  {
   "cell_type": "code",
   "execution_count": 21,
   "id": "6d4b4b84-a9fb-4994-bece-b05d5da71bdb",
   "metadata": {},
   "outputs": [
    {
     "data": {
      "text/plain": [
       "AnnData object with n_obs × n_vars = 892296 × 17811\n",
       "    obs: 'sample', 'uicc_stage', 'ever_smoker', 'age', 'donor_id', 'origin', 'dataset', 'ann_fine', 'cell_type_predicted', 'doublet_status', 'leiden', 'n_genes_by_counts', 'total_counts', 'total_counts_mito', 'pct_counts_mito', 'ann_coarse', 'cell_type_tumor', 'tumor_stage', 'EGFR_mutation', 'TP53_mutation', 'ALK_mutation', 'BRAF_mutation', 'ERBB2_mutation', 'KRAS_mutation', 'ROS_mutation', 'origin_fine', 'study', 'platform', 'cell_type_major', 'suspension_type', 'assay_ontology_term_id', 'cell_type_ontology_term_id', 'development_stage_ontology_term_id', 'disease_ontology_term_id', 'self_reported_ethnicity_ontology_term_id', 'is_primary_data', 'organism_ontology_term_id', 'sex_ontology_term_id', 'tissue_ontology_term_id', 'tissue_type', 'cell_type', 'assay', 'disease', 'organism', 'sex', 'tissue', 'self_reported_ethnicity', 'development_stage', 'observation_joinid'\n",
       "    var: 'is_highly_variable', 'mito', 'n_cells_by_counts', 'mean_counts', 'pct_dropout_by_counts', 'total_counts', 'feature_is_filtered', 'feature_name', 'feature_reference', 'feature_biotype', 'feature_length'\n",
       "    uns: '_scvi', 'ann_fine_colors', 'batch_condition', 'cell_type_major_colors', 'cell_type_ontology_term_id_colors', 'cell_type_predicted_colors', 'citation', 'dataset_colors', 'default_embedding', 'hvg', 'leiden_colors', 'neighbors', 'origin_colors', 'platform_colors', 'schema_reference', 'schema_version', 'title', 'umap'\n",
       "    obsm: 'X_scANVI', 'X_scVI', 'X_umap'\n",
       "    layers: 'count', 'counts_length_scaled'\n",
       "    obsp: 'connectivities', 'distances'"
      ]
     },
     "execution_count": 21,
     "metadata": {},
     "output_type": "execute_result"
    }
   ],
   "source": [
    "adata = sc.read_h5ad(f'{backup_dir}/{id_}.h5ad')\n",
    "adata"
   ]
  },
  {
   "cell_type": "code",
   "execution_count": 22,
   "id": "abaec8ec-6275-448c-ad4b-6c3333a1cace",
   "metadata": {},
   "outputs": [
    {
     "data": {
      "text/plain": [
       "001C_AAACCTGCATCGGGTC-0           normal\n",
       "001C_AAACCTGTCAACACCA-0           normal\n",
       "001C_AAACGGGAGACTAAGT-0           normal\n",
       "001C_AAACGGGAGGCTCATT-0           normal\n",
       "001C_AAACGGGAGGGAACGG-0           normal\n",
       "                               ...      \n",
       "bcBOGU_25-21               tumor_primary\n",
       "bcHDOT_25-21               tumor_primary\n",
       "bcIFTF_25-21               tumor_primary\n",
       "bcBDLT_25-21               tumor_primary\n",
       "bcBNMZ_25-21               tumor_primary\n",
       "Name: origin, Length: 892296, dtype: category\n",
       "Categories (5, object): ['nan', 'normal', 'normal_adjacent', 'tumor_metastasis', 'tumor_primary']"
      ]
     },
     "execution_count": 22,
     "metadata": {},
     "output_type": "execute_result"
    }
   ],
   "source": [
    "adata.obs.origin"
   ]
  },
  {
   "cell_type": "code",
   "execution_count": 6,
   "id": "55137e8c-6dcb-4265-a892-aac28f34b6f7",
   "metadata": {},
   "outputs": [],
   "source": [
    "adata_tumor = adata[adata.obs.origin == 'tumor_primary']"
   ]
  },
  {
   "cell_type": "code",
   "execution_count": 7,
   "id": "b42f6dc9-510e-4d0c-b1ee-c72f7e46b541",
   "metadata": {},
   "outputs": [
    {
     "name": "stderr",
     "output_type": "stream",
     "text": [
      "/tmp/ipykernel_109770/3125425414.py:3: ImplicitModificationWarning: Trying to modify attribute `.var` of view, initializing view as actual.\n",
      "  adata_tumor.var['gene_symbol'] = adata_tumor.var.index\n"
     ]
    }
   ],
   "source": [
    "adata_tumor.var.index = adata_tumor.var.feature_name\n",
    "# The predict function works with de gene_symbol column so assign it\n",
    "adata_tumor.var['gene_symbol'] = adata_tumor.var.index"
   ]
  },
  {
   "cell_type": "code",
   "execution_count": 11,
   "id": "b436b95a-f69c-4317-b836-90903217d854",
   "metadata": {},
   "outputs": [],
   "source": [
    "from scipy.sparse import save_npz, load_npz\n",
    "\n",
    "conn_path = 'tumor.npz'\n",
    "# save_npz(conn_path, adata_tumor.obsp['connectivities'])"
   ]
  },
  {
   "cell_type": "code",
   "execution_count": 8,
   "id": "b951059d-fca7-4551-bdb1-43acd6fdfb1f",
   "metadata": {},
   "outputs": [],
   "source": [
    "del adata"
   ]
  },
  {
   "cell_type": "code",
   "execution_count": 10,
   "id": "15792c9d-df7b-4106-b9bc-fdb07fb55222",
   "metadata": {},
   "outputs": [],
   "source": [
    "# adata = data.preprocess_adata(adata)"
   ]
  },
  {
   "cell_type": "code",
   "execution_count": 11,
   "id": "7232a2e2-444d-46dd-8bec-732e80b9363c",
   "metadata": {},
   "outputs": [
    {
     "data": {
      "text/plain": [
       "AAACCCAAGAGCCATG-1_0-1    tumor_primary\n",
       "AAACCCAAGATTAGAC-1_0-1    tumor_primary\n",
       "AAACCCAAGGTCGCCT-1_0-1    tumor_primary\n",
       "AAACCCAAGTCATTGC-1_0-1    tumor_primary\n",
       "AAACCCACACGGATCC-1_0-1    tumor_primary\n",
       "                              ...      \n",
       "bcBOGU_25-21              tumor_primary\n",
       "bcHDOT_25-21              tumor_primary\n",
       "bcIFTF_25-21              tumor_primary\n",
       "bcBDLT_25-21              tumor_primary\n",
       "bcBNMZ_25-21              tumor_primary\n",
       "Name: origin, Length: 378360, dtype: category\n",
       "Categories (1, object): ['tumor_primary']"
      ]
     },
     "execution_count": 11,
     "metadata": {},
     "output_type": "execute_result"
    }
   ],
   "source": [
    "adata_tumor.obs.origin"
   ]
  },
  {
   "cell_type": "code",
   "execution_count": 9,
   "id": "ed476a64-b6b7-443a-a829-285d443276f2",
   "metadata": {},
   "outputs": [
    {
     "data": {
      "text/plain": [
       "43.550621032714844"
      ]
     },
     "execution_count": 9,
     "metadata": {},
     "output_type": "execute_result"
    }
   ],
   "source": [
    "from pympler import asizeof\n",
    "asizeof.asizeof(adata_tumor.obsp['connectivities'])/(1024**2)\n"
   ]
  },
  {
   "cell_type": "code",
   "execution_count": 12,
   "id": "f49aa80a-dde7-4b0e-95b7-a88d19529849",
   "metadata": {},
   "outputs": [
    {
     "name": "stdout",
     "output_type": "stream",
     "text": [
      "Less than 80% of signature genes are available in data set. A temporary signature is stored where non-overlapping genes are removed. It is proceeded with the temporary signature.\n",
      "Warning: Label propagation did not converge (0.0015 >= 0.001) within 50 iterations!\n"
     ]
    }
   ],
   "source": [
    "# With around 800mil cells it needs ~ 2 TB, maybe if we use the connectivities from scArches\n",
    "# We edited the package to use sparse dot product from scipy\n",
    "_ = model.predict(adata_tumor, \"tumor\",\n",
    "                  connectivities_path=conn_path, # If we use the connectivites from scVI the number of predicted cells changes a lot\n",
    "                  # save=True\n",
    "                 )"
   ]
  },
  {
   "cell_type": "code",
   "execution_count": 13,
   "id": "258b3915-8a6b-484b-9154-ed3b8b8ff626",
   "metadata": {},
   "outputs": [
    {
     "data": {
      "text/plain": [
       "array(['Normal', 'Tumor', 'Normal', ..., 'Normal', 'Normal', 'Normal'],\n",
       "      dtype=object)"
      ]
     },
     "execution_count": 13,
     "metadata": {},
     "output_type": "execute_result"
    }
   ],
   "source": [
    "preds = model.results[\"final_pred\"].values\n",
    "preds"
   ]
  },
  {
   "cell_type": "code",
   "execution_count": 20,
   "id": "113ff65c-9694-4b4d-b290-f77a82efedee",
   "metadata": {
    "editable": true,
    "slideshow": {
     "slide_type": ""
    },
    "tags": []
   },
   "outputs": [],
   "source": [
    "preds_df = pd.DataFrame({'final_pred':preds})\n",
    "preds_df.index = adata_tumor.obs.index\n",
    "preds_df.to_csv(f'{ikarus_dir}/{id_}_core.csv')"
   ]
  },
  {
   "cell_type": "code",
   "execution_count": 19,
   "id": "0b075b49-8495-4711-a3fb-10f3977122bb",
   "metadata": {},
   "outputs": [
    {
     "data": {
      "text/plain": [
       "array([0.17421239])"
      ]
     },
     "execution_count": 19,
     "metadata": {},
     "output_type": "execute_result"
    }
   ],
   "source": [
    "\n",
    "(preds == 'Tumor').sum()/preds.shape"
   ]
  },
  {
   "cell_type": "code",
   "execution_count": null,
   "id": "b1a5695e-1934-4014-8c8c-0560bf4dfab1",
   "metadata": {},
   "outputs": [],
   "source": []
  }
 ],
 "metadata": {
  "kernelspec": {
   "display_name": "Python 3 (ipykernel)",
   "language": "python",
   "name": "python3"
  },
  "language_info": {
   "codemirror_mode": {
    "name": "ipython",
    "version": 3
   },
   "file_extension": ".py",
   "mimetype": "text/x-python",
   "name": "python",
   "nbconvert_exporter": "python",
   "pygments_lexer": "ipython3",
   "version": "3.11.4"
  }
 },
 "nbformat": 4,
 "nbformat_minor": 5
}
