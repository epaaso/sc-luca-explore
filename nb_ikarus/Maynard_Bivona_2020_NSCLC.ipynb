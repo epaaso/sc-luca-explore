{
 "cells": [
  {
   "cell_type": "code",
   "execution_count": 1,
   "id": "a3b30bc1-fc76-4a7c-863d-7d6e3e931c3c",
   "metadata": {
    "execution": {
     "iopub.execute_input": "2023-12-06T10:19:18.744790Z",
     "iopub.status.busy": "2023-12-06T10:19:18.744080Z",
     "iopub.status.idle": "2023-12-06T10:19:18.764634Z",
     "shell.execute_reply": "2023-12-06T10:19:18.763069Z"
    },
    "papermill": {
     "duration": 0.137431,
     "end_time": "2023-12-06T10:19:18.777019",
     "exception": false,
     "start_time": "2023-12-06T10:19:18.639588",
     "status": "completed"
    },
    "tags": [
     "parameters"
    ]
   },
   "outputs": [],
   "source": [
    "backup_dir = '/root/datos/maestria/netopaas/luca_explore/surgeries'\n",
    "ikarus_dir = '/root/datos/maestria/netopaas/ikarus'\n",
    "id_ = 'Chen_Zhang_2020_NSCLC'"
   ]
  },
  {
   "cell_type": "code",
   "execution_count": 2,
   "id": "2055f609",
   "metadata": {
    "execution": {
     "iopub.execute_input": "2023-12-06T10:19:18.823711Z",
     "iopub.status.busy": "2023-12-06T10:19:18.822055Z",
     "iopub.status.idle": "2023-12-06T10:19:18.831452Z",
     "shell.execute_reply": "2023-12-06T10:19:18.828886Z"
    },
    "papermill": {
     "duration": 0.054153,
     "end_time": "2023-12-06T10:19:18.855568",
     "exception": false,
     "start_time": "2023-12-06T10:19:18.801415",
     "status": "completed"
    },
    "tags": [
     "injected-parameters"
    ]
   },
   "outputs": [],
   "source": [
    "# Parameters\n",
    "id_ = \"Maynard_Bivona_2020_NSCLC\"\n"
   ]
  },
  {
   "cell_type": "code",
   "execution_count": 3,
   "id": "a577bd29-841e-4499-9669-e67c6a80ab5a",
   "metadata": {
    "execution": {
     "iopub.execute_input": "2023-12-06T10:19:18.909392Z",
     "iopub.status.busy": "2023-12-06T10:19:18.908273Z",
     "iopub.status.idle": "2023-12-06T10:19:24.965270Z",
     "shell.execute_reply": "2023-12-06T10:19:24.964226Z"
    },
    "papermill": {
     "duration": 6.190283,
     "end_time": "2023-12-06T10:19:25.051935",
     "exception": false,
     "start_time": "2023-12-06T10:19:18.861652",
     "status": "completed"
    },
    "tags": []
   },
   "outputs": [],
   "source": [
    "import gdown\n",
    "import anndata as ad\n",
    "import pandas as pd\n",
    "import os\n",
    "\n",
    "import scanpy as sc\n",
    "from ikarus import classifier, utils, data"
   ]
  },
  {
   "cell_type": "code",
   "execution_count": 4,
   "id": "d100eba9-3fb1-4bfd-aa41-06f3deac2373",
   "metadata": {
    "execution": {
     "iopub.execute_input": "2023-12-06T10:19:25.214386Z",
     "iopub.status.busy": "2023-12-06T10:19:25.213546Z",
     "iopub.status.idle": "2023-12-06T10:19:25.329304Z",
     "shell.execute_reply": "2023-12-06T10:19:25.328479Z"
    },
    "papermill": {
     "duration": 0.255859,
     "end_time": "2023-12-06T10:19:25.380821",
     "exception": false,
     "start_time": "2023-12-06T10:19:25.124962",
     "status": "completed"
    },
    "tags": []
   },
   "outputs": [],
   "source": [
    "url = \"https://raw.githubusercontent.com/BIMSBbioinfo/ikarus/master/tutorials/out/signatures.gmt\"\n",
    "signatures_path = f\"{ikarus_dir}/signatures.gmt\"\n",
    "gdown.download(url, signatures_path, quiet=False) if not os.path.exists(signatures_path) else None\n",
    "pd.read_csv(signatures_path, sep=\"\\t\", header=None)\n",
    "\n",
    "model_path = f\"{ikarus_dir}/core_model.joblib\""
   ]
  },
  {
   "cell_type": "code",
   "execution_count": 5,
   "id": "564db412-61e3-4f0b-9f6f-77e3abd7e6d8",
   "metadata": {
    "execution": {
     "iopub.execute_input": "2023-12-06T10:19:25.615247Z",
     "iopub.status.busy": "2023-12-06T10:19:25.614608Z",
     "iopub.status.idle": "2023-12-06T10:19:25.627054Z",
     "shell.execute_reply": "2023-12-06T10:19:25.625361Z"
    },
    "papermill": {
     "duration": 0.237334,
     "end_time": "2023-12-06T10:19:25.726252",
     "exception": false,
     "start_time": "2023-12-06T10:19:25.488918",
     "status": "completed"
    },
    "tags": []
   },
   "outputs": [],
   "source": [
    "model = classifier.Ikarus(signatures_gmt=signatures_path, out_dir=\"out\",\n",
    "                          adapt_signatures=True # This is important, we are working with a reduced gen set, \n",
    "# so the model won't work if the intesrection betwen the siganture and the avialbe genes is too small..\n",
    "# that is why the non-overlapping genes mus be removed from the signate. This flag does that automatically\n",
    "                         )\n",
    "model.load_core_model(model_path)"
   ]
  },
  {
   "cell_type": "code",
   "execution_count": 6,
   "id": "6d4b4b84-a9fb-4994-bece-b05d5da71bdb",
   "metadata": {
    "execution": {
     "iopub.execute_input": "2023-12-06T10:19:25.904094Z",
     "iopub.status.busy": "2023-12-06T10:19:25.903370Z",
     "iopub.status.idle": "2023-12-06T10:19:30.251550Z",
     "shell.execute_reply": "2023-12-06T10:19:30.250578Z"
    },
    "papermill": {
     "duration": 4.42225,
     "end_time": "2023-12-06T10:19:30.253792",
     "exception": false,
     "start_time": "2023-12-06T10:19:25.831542",
     "status": "completed"
    },
    "tags": []
   },
   "outputs": [
    {
     "data": {
      "text/plain": [
       "AnnData object with n_obs × n_vars = 20592 × 55556\n",
       "    obs: 'age', 'sex', 'well', 'plate', 'cell_id', 'sample', 'patient', 'race', 'smoking_status', 'condition', 'driver_gene', 'driver_mutation', 'secondary_mutation', 'Notes', 'stage_at_diagnosis', 'pathlogy_review', 'biopsy_date', 'sort_date', 'biopsy_type', 'tissue', 'origin', 'biopsy_time_status', 'early_treatment_status', 'best_response_status', 'biopsy_timing', 'analysis', 'treatment_history', 'treatment_history_detail', 'line_of_therapy', 'treatment_type', 'treatment', 'percent_PFS_ref_values', 'percent.PFS.reference.values', 'infections', 'early_bx_day', 'treatment_start_date', 'pfs_over_under', 'pfs_day', 'pfs_month', 'date_of_death', 'stageIII.IV_ca_dx_date', 'ca_dx_OS', 'multi_chain', 'IR_VJ_1_locus', 'IR_VJ_2_locus', 'IR_VDJ_1_locus', 'IR_VDJ_2_locus', 'IR_VJ_1_cdr3', 'IR_VJ_2_cdr3', 'IR_VDJ_1_cdr3', 'IR_VDJ_2_cdr3', 'IR_VJ_1_cdr3_nt', 'IR_VJ_2_cdr3_nt', 'IR_VDJ_1_cdr3_nt', 'IR_VDJ_2_cdr3_nt', 'IR_VJ_1_expr', 'IR_VJ_2_expr', 'IR_VDJ_1_expr', 'IR_VDJ_2_expr', 'IR_VJ_1_expr_raw', 'IR_VJ_2_expr_raw', 'IR_VDJ_1_expr_raw', 'IR_VDJ_2_expr_raw', 'IR_VJ_1_v_gene', 'IR_VJ_2_v_gene', 'IR_VDJ_1_v_gene', 'IR_VDJ_2_v_gene', 'IR_VJ_1_d_gene', 'IR_VJ_2_d_gene', 'IR_VDJ_1_d_gene', 'IR_VDJ_2_d_gene', 'IR_VJ_1_j_gene', 'IR_VJ_2_j_gene', 'IR_VDJ_1_j_gene', 'IR_VDJ_2_j_gene', 'IR_VJ_1_c_gene', 'IR_VJ_2_c_gene', 'IR_VDJ_1_c_gene', 'IR_VDJ_2_c_gene', 'IR_VJ_1_junction_ins', 'IR_VJ_2_junction_ins', 'IR_VDJ_1_junction_ins', 'IR_VDJ_2_junction_ins', 'has_ir', 'n_counts', 'n_genes', 'n_genes_by_counts', 'total_counts', 'total_counts_mito', 'pct_counts_mito'\n",
       "    var: 'ensg', 'n_counts', 'mito', 'n_cells_by_counts', 'mean_counts', 'pct_dropout_by_counts', 'total_counts'\n",
       "    layers: 'counts_length_scaled', 'tpm'"
      ]
     },
     "execution_count": 6,
     "metadata": {},
     "output_type": "execute_result"
    }
   ],
   "source": [
    "adata = sc.read_h5ad(f'{backup_dir}/filtered_{id_}.h5ad')\n",
    "adata"
   ]
  },
  {
   "cell_type": "code",
   "execution_count": 7,
   "id": "15792c9d-df7b-4106-b9bc-fdb07fb55222",
   "metadata": {
    "execution": {
     "iopub.execute_input": "2023-12-06T10:19:30.264386Z",
     "iopub.status.busy": "2023-12-06T10:19:30.263902Z",
     "iopub.status.idle": "2023-12-06T10:19:30.677299Z",
     "shell.execute_reply": "2023-12-06T10:19:30.676410Z"
    },
    "papermill": {
     "duration": 0.423539,
     "end_time": "2023-12-06T10:19:30.681465",
     "exception": false,
     "start_time": "2023-12-06T10:19:30.257926",
     "status": "completed"
    },
    "tags": []
   },
   "outputs": [],
   "source": [
    "adata = data.preprocess_adata(adata)"
   ]
  },
  {
   "cell_type": "code",
   "execution_count": 8,
   "id": "f49aa80a-dde7-4b0e-95b7-a88d19529849",
   "metadata": {
    "execution": {
     "iopub.execute_input": "2023-12-06T10:19:30.705801Z",
     "iopub.status.busy": "2023-12-06T10:19:30.705318Z",
     "iopub.status.idle": "2023-12-06T10:26:36.807937Z",
     "shell.execute_reply": "2023-12-06T10:26:36.806755Z"
    },
    "papermill": {
     "duration": 426.130675,
     "end_time": "2023-12-06T10:26:36.824070",
     "exception": false,
     "start_time": "2023-12-06T10:19:30.693395",
     "status": "completed"
    },
    "tags": []
   },
   "outputs": [
    {
     "name": "stderr",
     "output_type": "stream",
     "text": [
      "/usr/local/lib/python3.11/site-packages/scanpy/preprocessing/_highly_variable_genes.py:215: FutureWarning: The default of observed=False is deprecated and will be changed to True in a future version of pandas. Pass observed=False to retain current behavior or observed=True to adopt the future default and silence this warning.\n",
      "  disp_grouped = df.groupby('mean_bin')['dispersions']\n",
      "/usr/local/lib/python3.11/site-packages/scanpy/preprocessing/_highly_variable_genes.py:539: ImplicitModificationWarning: Trying to modify attribute `._uns` of view, initializing view as actual.\n",
      "  adata.uns['hvg'] = {'flavor': flavor}\n"
     ]
    },
    {
     "name": "stderr",
     "output_type": "stream",
     "text": [
      "2023-12-06 10:24:03.806816: E external/local_xla/xla/stream_executor/cuda/cuda_dnn.cc:9261] Unable to register cuDNN factory: Attempting to register factory for plugin cuDNN when one has already been registered\n",
      "2023-12-06 10:24:03.806876: E external/local_xla/xla/stream_executor/cuda/cuda_fft.cc:607] Unable to register cuFFT factory: Attempting to register factory for plugin cuFFT when one has already been registered\n",
      "2023-12-06 10:24:03.808470: E external/local_xla/xla/stream_executor/cuda/cuda_blas.cc:1515] Unable to register cuBLAS factory: Attempting to register factory for plugin cuBLAS when one has already been registered\n",
      "2023-12-06 10:24:03.817456: I tensorflow/core/platform/cpu_feature_guard.cc:182] This TensorFlow binary is optimized to use available CPU instructions in performance-critical operations.\n",
      "To enable the following instructions: AVX2 AVX512F FMA, in other operations, rebuild TensorFlow with the appropriate compiler flags.\n"
     ]
    },
    {
     "name": "stderr",
     "output_type": "stream",
     "text": [
      "2023-12-06 10:24:05.072587: W tensorflow/compiler/tf2tensorrt/utils/py_utils.cc:38] TF-TRT Warning: Could not find TensorRT\n"
     ]
    },
    {
     "name": "stdout",
     "output_type": "stream",
     "text": [
      "converged at iteration step: 32 with 0.0009 < 0.001\n"
     ]
    }
   ],
   "source": [
    "adata.var['gene_symbol'] = adata.var.index\n",
    "_ = model.predict(adata, \"laughney\",\n",
    "                  # connectivities_path='scvi_conns.npz', # If we use the connectivites from scVI the number of predicted cells changes a lot\n",
    "                  # save=True\n",
    "                 )"
   ]
  },
  {
   "cell_type": "code",
   "execution_count": null,
   "id": "aa9e4997-578c-4dfc-8f2c-67a955dd0865",
   "metadata": {
    "papermill": {
     "duration": 0.014438,
     "end_time": "2023-12-06T10:26:36.851759",
     "exception": false,
     "start_time": "2023-12-06T10:26:36.837321",
     "status": "completed"
    },
    "tags": []
   },
   "outputs": [],
   "source": []
  },
  {
   "cell_type": "code",
   "execution_count": 9,
   "id": "258b3915-8a6b-484b-9154-ed3b8b8ff626",
   "metadata": {
    "execution": {
     "iopub.execute_input": "2023-12-06T10:26:36.877536Z",
     "iopub.status.busy": "2023-12-06T10:26:36.875980Z",
     "iopub.status.idle": "2023-12-06T10:26:36.883067Z",
     "shell.execute_reply": "2023-12-06T10:26:36.882000Z"
    },
    "papermill": {
     "duration": 0.023616,
     "end_time": "2023-12-06T10:26:36.886695",
     "exception": false,
     "start_time": "2023-12-06T10:26:36.863079",
     "status": "completed"
    },
    "tags": []
   },
   "outputs": [],
   "source": [
    "preds = model.results[\"final_pred\"].values"
   ]
  },
  {
   "cell_type": "code",
   "execution_count": 10,
   "id": "113ff65c-9694-4b4d-b290-f77a82efedee",
   "metadata": {
    "execution": {
     "iopub.execute_input": "2023-12-06T10:26:36.907936Z",
     "iopub.status.busy": "2023-12-06T10:26:36.907349Z",
     "iopub.status.idle": "2023-12-06T10:26:36.956335Z",
     "shell.execute_reply": "2023-12-06T10:26:36.955213Z"
    },
    "papermill": {
     "duration": 0.063759,
     "end_time": "2023-12-06T10:26:36.959924",
     "exception": false,
     "start_time": "2023-12-06T10:26:36.896165",
     "status": "completed"
    },
    "tags": []
   },
   "outputs": [],
   "source": [
    "preds_df = pd.DataFrame({'final_pred':preds})\n",
    "preds_df.to_csv(f'{ikarus_dir}/{id_}.csv')"
   ]
  }
 ],
 "metadata": {
  "kernelspec": {
   "display_name": "Python 3 (ipykernel)",
   "language": "python",
   "name": "python3"
  },
  "language_info": {
   "codemirror_mode": {
    "name": "ipython",
    "version": 3
   },
   "file_extension": ".py",
   "mimetype": "text/x-python",
   "name": "python",
   "nbconvert_exporter": "python",
   "pygments_lexer": "ipython3",
   "version": "3.11.4"
  },
  "papermill": {
   "default_parameters": {},
   "duration": 442.672549,
   "end_time": "2023-12-06T10:26:39.860272",
   "environment_variables": {},
   "exception": null,
   "input_path": "nb_ikarus/ikarus_param.ipynb",
   "output_path": "nb_ikarus/Maynard_Bivona_2020_NSCLC.ipynb",
   "parameters": {
    "id_": "Maynard_Bivona_2020_NSCLC"
   },
   "start_time": "2023-12-06T10:19:17.187723",
   "version": "2.5.0"
  }
 },
 "nbformat": 4,
 "nbformat_minor": 5
}