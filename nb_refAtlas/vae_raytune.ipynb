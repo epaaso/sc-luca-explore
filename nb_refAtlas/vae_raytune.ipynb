{
 "cells": [
  {
   "cell_type": "code",
   "execution_count": 1,
   "id": "6898721d-e62d-42ed-b820-9ff0206bff9a",
   "metadata": {},
   "outputs": [],
   "source": [
    "condition_key = 'dataset'\n",
    "cell_type_key = 'cell_type_tumor'"
   ]
  },
  {
   "cell_type": "markdown",
   "id": "8114b9ec-d85f-4084-9a4f-0713d4c91ca1",
   "metadata": {},
   "source": [
    "# Ray Tune"
   ]
  },
  {
   "cell_type": "markdown",
   "id": "270f07a1-1adb-4afd-95dc-290944847160",
   "metadata": {},
   "source": [
    "## Data & libs"
   ]
  },
  {
   "cell_type": "code",
   "execution_count": 2,
   "id": "300262f2-b66a-439b-ab63-6491caf1d4e3",
   "metadata": {},
   "outputs": [
    {
     "name": "stderr",
     "output_type": "stream",
     "text": [
      "Global seed set to 0\n"
     ]
    },
    {
     "name": "stdout",
     "output_type": "stream",
     "text": [
      "Last run with scvi-tools version: 1.1.5\n"
     ]
    }
   ],
   "source": [
    "import pickle\n",
    "\n",
    "import ray\n",
    "import scanpy as sc\n",
    "import scvi\n",
    "import seaborn as sns\n",
    "import torch\n",
    "from ray import tune\n",
    "from scvi import autotune\n",
    "\n",
    "scvi.settings.seed = 0\n",
    "print(\"Last run with scvi-tools version:\", scvi.__version__)\n",
    "\n",
    "sc.set_figure_params(figsize=(6, 6), frameon=False)\n",
    "sns.set_theme()\n",
    "torch.set_float32_matmul_precision(\"high\")\n",
    "save_dir = '/root/datos/maestria/netopaas/lung_scRNA/LUCA_model/RayTuner'\n",
    "scvi.settings.logging_dir = save_dir\n",
    "\n",
    "%config InlineBackend.print_figure_kwargs={\"facecolor\": \"w\"}\n",
    "%config InlineBackend.figure_format=\"retina\""
   ]
  },
  {
   "cell_type": "code",
   "execution_count": 4,
   "id": "24713605-27b4-4707-9072-d2562b96632d",
   "metadata": {},
   "outputs": [
    {
     "data": {
      "text/plain": [
       "{'n_hidden': [256, 512, 1024],\n",
       " 'n_layers': [3, 4, 5, 6],\n",
       " 'gene_likelihood': ['nb', 'zinb']}"
      ]
     },
     "execution_count": 4,
     "metadata": {},
     "output_type": "execute_result"
    }
   ],
   "source": [
    "def extract_model_params_to_dict(pickle_file_path):\n",
    "    # Load the pickled object\n",
    "    with open(pickle_file_path, 'rb') as f:\n",
    "        data = pickle.load(f)\n",
    "\n",
    "    # Initialize a dictionary to store the extracted model parameters\n",
    "    model_params_dict = {}\n",
    "\n",
    "    # Navigate through the object structure to get model_params\n",
    "    try:\n",
    "        model_params = data['experiment'].spec['config']['model_params']\n",
    "        \n",
    "        # Extract the categories for n_hidden, n_layers, and gene_likelihood\n",
    "        for key, value in model_params.items():\n",
    "            model_params_dict[key] = value.categories\n",
    "        # model_params_dict['n_layers'] = model_params['n_layers'].categories\n",
    "        # model_params_dict['gene_likelihood'] = model_params['gene_likelihood'].categories\n",
    "        \n",
    "    except KeyError as e:\n",
    "        print(f\"Key error: {e} - Please check if the structure of the pickled object is correct.\")\n",
    "    except AttributeError as e:\n",
    "        print(f\"Attribute error: {e} - Please ensure that the objects have a 'categories' attribute.\")\n",
    "\n",
    "    return model_params_dict\n",
    "\n",
    "# Example usage:\n",
    "# Replace 'path_to_your_pickle_file.pkl' with the actual path to your pickle file.\n",
    "model_params_dict = extract_model_params_to_dict('/tmp/ray/session_2024-08-08_02-12-53_330111_1230/artifacts/2024-08-08_03-25-39/scvi1024/driver_artifacts/search_gen_state-2024-08-08_03-25-39.json')\n",
    "model_params_dict"
   ]
  },
  {
   "cell_type": "code",
   "execution_count": 146,
   "id": "00d68719-f221-4afa-aaf8-35df8c3bd995",
   "metadata": {
    "id": "h65vCUtezA2R",
    "scrolled": true
   },
   "outputs": [
    {
     "ename": "KeyboardInterrupt",
     "evalue": "",
     "output_type": "error",
     "traceback": [
      "\u001b[0;31m---------------------------------------------------------------------------\u001b[0m",
      "\u001b[0;31mKeyboardInterrupt\u001b[0m                         Traceback (most recent call last)",
      "Cell \u001b[0;32mIn[146], line 1\u001b[0m\n\u001b[0;32m----> 1\u001b[0m adata \u001b[38;5;241m=\u001b[39m \u001b[43msc\u001b[49m\u001b[38;5;241;43m.\u001b[39;49m\u001b[43mread_h5ad\u001b[49m\u001b[43m(\u001b[49m\u001b[38;5;124;43m'\u001b[39;49m\u001b[38;5;124;43m/root/datos/maestria/netopaas/luca/data/atlas/extended.h5ad\u001b[39;49m\u001b[38;5;124;43m'\u001b[39;49m\u001b[43m)\u001b[49m\n",
      "File \u001b[0;32m/usr/local/lib/python3.11/site-packages/anndata/_io/h5ad.py:254\u001b[0m, in \u001b[0;36mread_h5ad\u001b[0;34m(filename, backed, as_sparse, as_sparse_fmt, chunk_size)\u001b[0m\n\u001b[1;32m    251\u001b[0m         \u001b[38;5;28;01mreturn\u001b[39;00m read_dataframe(elem)\n\u001b[1;32m    252\u001b[0m     \u001b[38;5;28;01mreturn\u001b[39;00m func(elem)\n\u001b[0;32m--> 254\u001b[0m adata \u001b[38;5;241m=\u001b[39m \u001b[43mread_dispatched\u001b[49m\u001b[43m(\u001b[49m\u001b[43mf\u001b[49m\u001b[43m,\u001b[49m\u001b[43m \u001b[49m\u001b[43mcallback\u001b[49m\u001b[38;5;241;43m=\u001b[39;49m\u001b[43mcallback\u001b[49m\u001b[43m)\u001b[49m\n\u001b[1;32m    256\u001b[0m \u001b[38;5;66;03m# Backwards compat (should figure out which version)\u001b[39;00m\n\u001b[1;32m    257\u001b[0m \u001b[38;5;28;01mif\u001b[39;00m \u001b[38;5;124m\"\u001b[39m\u001b[38;5;124mraw.X\u001b[39m\u001b[38;5;124m\"\u001b[39m \u001b[38;5;129;01min\u001b[39;00m f:\n",
      "File \u001b[0;32m/usr/local/lib/python3.11/site-packages/anndata/experimental/_dispatch_io.py:46\u001b[0m, in \u001b[0;36mread_dispatched\u001b[0;34m(elem, callback)\u001b[0m\n\u001b[1;32m     42\u001b[0m \u001b[38;5;28;01mfrom\u001b[39;00m \u001b[38;5;21;01manndata\u001b[39;00m\u001b[38;5;21;01m.\u001b[39;00m\u001b[38;5;21;01m_io\u001b[39;00m\u001b[38;5;21;01m.\u001b[39;00m\u001b[38;5;21;01mspecs\u001b[39;00m \u001b[38;5;28;01mimport\u001b[39;00m _REGISTRY, Reader\n\u001b[1;32m     44\u001b[0m reader \u001b[38;5;241m=\u001b[39m Reader(_REGISTRY, callback\u001b[38;5;241m=\u001b[39mcallback)\n\u001b[0;32m---> 46\u001b[0m \u001b[38;5;28;01mreturn\u001b[39;00m \u001b[43mreader\u001b[49m\u001b[38;5;241;43m.\u001b[39;49m\u001b[43mread_elem\u001b[49m\u001b[43m(\u001b[49m\u001b[43melem\u001b[49m\u001b[43m)\u001b[49m\n",
      "File \u001b[0;32m/usr/local/lib/python3.11/site-packages/anndata/_io/utils.py:205\u001b[0m, in \u001b[0;36mreport_read_key_on_error.<locals>.func_wrapper\u001b[0;34m(*args, **kwargs)\u001b[0m\n\u001b[1;32m    203\u001b[0m         \u001b[38;5;28;01mbreak\u001b[39;00m\n\u001b[1;32m    204\u001b[0m \u001b[38;5;28;01mtry\u001b[39;00m:\n\u001b[0;32m--> 205\u001b[0m     \u001b[38;5;28;01mreturn\u001b[39;00m \u001b[43mfunc\u001b[49m\u001b[43m(\u001b[49m\u001b[38;5;241;43m*\u001b[39;49m\u001b[43margs\u001b[49m\u001b[43m,\u001b[49m\u001b[43m \u001b[49m\u001b[38;5;241;43m*\u001b[39;49m\u001b[38;5;241;43m*\u001b[39;49m\u001b[43mkwargs\u001b[49m\u001b[43m)\u001b[49m\n\u001b[1;32m    206\u001b[0m \u001b[38;5;28;01mexcept\u001b[39;00m \u001b[38;5;167;01mException\u001b[39;00m \u001b[38;5;28;01mas\u001b[39;00m e:\n\u001b[1;32m    207\u001b[0m     add_key_note(e, elem, elem\u001b[38;5;241m.\u001b[39mname, \u001b[38;5;124m\"\u001b[39m\u001b[38;5;124mread\u001b[39m\u001b[38;5;124m\"\u001b[39m)\n",
      "File \u001b[0;32m/usr/local/lib/python3.11/site-packages/anndata/_io/specs/registry.py:249\u001b[0m, in \u001b[0;36mReader.read_elem\u001b[0;34m(self, elem, modifiers)\u001b[0m\n\u001b[1;32m    247\u001b[0m read_func \u001b[38;5;241m=\u001b[39m partial(read_func, _reader\u001b[38;5;241m=\u001b[39m\u001b[38;5;28mself\u001b[39m)\n\u001b[1;32m    248\u001b[0m \u001b[38;5;28;01mif\u001b[39;00m \u001b[38;5;28mself\u001b[39m\u001b[38;5;241m.\u001b[39mcallback \u001b[38;5;129;01mis\u001b[39;00m \u001b[38;5;129;01mnot\u001b[39;00m \u001b[38;5;28;01mNone\u001b[39;00m:\n\u001b[0;32m--> 249\u001b[0m     \u001b[38;5;28;01mreturn\u001b[39;00m \u001b[38;5;28;43mself\u001b[39;49m\u001b[38;5;241;43m.\u001b[39;49m\u001b[43mcallback\u001b[49m\u001b[43m(\u001b[49m\u001b[43mread_func\u001b[49m\u001b[43m,\u001b[49m\u001b[43m \u001b[49m\u001b[43melem\u001b[49m\u001b[38;5;241;43m.\u001b[39;49m\u001b[43mname\u001b[49m\u001b[43m,\u001b[49m\u001b[43m \u001b[49m\u001b[43melem\u001b[49m\u001b[43m,\u001b[49m\u001b[43m \u001b[49m\u001b[43miospec\u001b[49m\u001b[38;5;241;43m=\u001b[39;49m\u001b[43mget_spec\u001b[49m\u001b[43m(\u001b[49m\u001b[43melem\u001b[49m\u001b[43m)\u001b[49m\u001b[43m)\u001b[49m\n\u001b[1;32m    250\u001b[0m \u001b[38;5;28;01melse\u001b[39;00m:\n\u001b[1;32m    251\u001b[0m     \u001b[38;5;28;01mreturn\u001b[39;00m read_func(elem)\n",
      "File \u001b[0;32m/usr/local/lib/python3.11/site-packages/anndata/_io/h5ad.py:235\u001b[0m, in \u001b[0;36mread_h5ad.<locals>.callback\u001b[0;34m(func, elem_name, elem, iospec)\u001b[0m\n\u001b[1;32m    232\u001b[0m \u001b[38;5;28;01mdef\u001b[39;00m \u001b[38;5;21mcallback\u001b[39m(func, elem_name: \u001b[38;5;28mstr\u001b[39m, elem, iospec):\n\u001b[1;32m    233\u001b[0m     \u001b[38;5;28;01mif\u001b[39;00m iospec\u001b[38;5;241m.\u001b[39mencoding_type \u001b[38;5;241m==\u001b[39m \u001b[38;5;124m\"\u001b[39m\u001b[38;5;124manndata\u001b[39m\u001b[38;5;124m\"\u001b[39m \u001b[38;5;129;01mor\u001b[39;00m elem_name\u001b[38;5;241m.\u001b[39mendswith(\u001b[38;5;124m\"\u001b[39m\u001b[38;5;124m/\u001b[39m\u001b[38;5;124m\"\u001b[39m):\n\u001b[1;32m    234\u001b[0m         \u001b[38;5;28;01mreturn\u001b[39;00m AnnData(\n\u001b[0;32m--> 235\u001b[0m             \u001b[38;5;241m*\u001b[39m\u001b[38;5;241m*\u001b[39m\u001b[43m{\u001b[49m\n\u001b[1;32m    236\u001b[0m \u001b[43m                \u001b[49m\u001b[38;5;66;43;03m# This is covering up backwards compat in the anndata initializer\u001b[39;49;00m\n\u001b[1;32m    237\u001b[0m \u001b[43m                \u001b[49m\u001b[38;5;66;43;03m# In most cases we should be able to call `func(elen[k])` instead\u001b[39;49;00m\n\u001b[1;32m    238\u001b[0m \u001b[43m                \u001b[49m\u001b[43mk\u001b[49m\u001b[43m:\u001b[49m\u001b[43m \u001b[49m\u001b[43mread_dispatched\u001b[49m\u001b[43m(\u001b[49m\u001b[43melem\u001b[49m\u001b[43m[\u001b[49m\u001b[43mk\u001b[49m\u001b[43m]\u001b[49m\u001b[43m,\u001b[49m\u001b[43m \u001b[49m\u001b[43mcallback\u001b[49m\u001b[43m)\u001b[49m\n\u001b[1;32m    239\u001b[0m \u001b[43m                \u001b[49m\u001b[38;5;28;43;01mfor\u001b[39;49;00m\u001b[43m \u001b[49m\u001b[43mk\u001b[49m\u001b[43m \u001b[49m\u001b[38;5;129;43;01min\u001b[39;49;00m\u001b[43m \u001b[49m\u001b[43melem\u001b[49m\u001b[38;5;241;43m.\u001b[39;49m\u001b[43mkeys\u001b[49m\u001b[43m(\u001b[49m\u001b[43m)\u001b[49m\n\u001b[1;32m    240\u001b[0m \u001b[43m                \u001b[49m\u001b[38;5;28;43;01mif\u001b[39;49;00m\u001b[43m \u001b[49m\u001b[38;5;129;43;01mnot\u001b[39;49;00m\u001b[43m \u001b[49m\u001b[43mk\u001b[49m\u001b[38;5;241;43m.\u001b[39;49m\u001b[43mstartswith\u001b[49m\u001b[43m(\u001b[49m\u001b[38;5;124;43m\"\u001b[39;49m\u001b[38;5;124;43mraw.\u001b[39;49m\u001b[38;5;124;43m\"\u001b[39;49m\u001b[43m)\u001b[49m\n\u001b[1;32m    241\u001b[0m \u001b[43m            \u001b[49m\u001b[43m}\u001b[49m\n\u001b[1;32m    242\u001b[0m         )\n\u001b[1;32m    243\u001b[0m     \u001b[38;5;28;01melif\u001b[39;00m elem_name\u001b[38;5;241m.\u001b[39mstartswith(\u001b[38;5;124m\"\u001b[39m\u001b[38;5;124m/raw.\u001b[39m\u001b[38;5;124m\"\u001b[39m):\n\u001b[1;32m    244\u001b[0m         \u001b[38;5;28;01mreturn\u001b[39;00m \u001b[38;5;28;01mNone\u001b[39;00m\n",
      "File \u001b[0;32m/usr/local/lib/python3.11/site-packages/anndata/_io/h5ad.py:238\u001b[0m, in \u001b[0;36m<dictcomp>\u001b[0;34m(.0)\u001b[0m\n\u001b[1;32m    232\u001b[0m \u001b[38;5;28;01mdef\u001b[39;00m \u001b[38;5;21mcallback\u001b[39m(func, elem_name: \u001b[38;5;28mstr\u001b[39m, elem, iospec):\n\u001b[1;32m    233\u001b[0m     \u001b[38;5;28;01mif\u001b[39;00m iospec\u001b[38;5;241m.\u001b[39mencoding_type \u001b[38;5;241m==\u001b[39m \u001b[38;5;124m\"\u001b[39m\u001b[38;5;124manndata\u001b[39m\u001b[38;5;124m\"\u001b[39m \u001b[38;5;129;01mor\u001b[39;00m elem_name\u001b[38;5;241m.\u001b[39mendswith(\u001b[38;5;124m\"\u001b[39m\u001b[38;5;124m/\u001b[39m\u001b[38;5;124m\"\u001b[39m):\n\u001b[1;32m    234\u001b[0m         \u001b[38;5;28;01mreturn\u001b[39;00m AnnData(\n\u001b[1;32m    235\u001b[0m             \u001b[38;5;241m*\u001b[39m\u001b[38;5;241m*\u001b[39m{\n\u001b[1;32m    236\u001b[0m                 \u001b[38;5;66;03m# This is covering up backwards compat in the anndata initializer\u001b[39;00m\n\u001b[1;32m    237\u001b[0m                 \u001b[38;5;66;03m# In most cases we should be able to call `func(elen[k])` instead\u001b[39;00m\n\u001b[0;32m--> 238\u001b[0m                 k: \u001b[43mread_dispatched\u001b[49m\u001b[43m(\u001b[49m\u001b[43melem\u001b[49m\u001b[43m[\u001b[49m\u001b[43mk\u001b[49m\u001b[43m]\u001b[49m\u001b[43m,\u001b[49m\u001b[43m \u001b[49m\u001b[43mcallback\u001b[49m\u001b[43m)\u001b[49m\n\u001b[1;32m    239\u001b[0m                 \u001b[38;5;28;01mfor\u001b[39;00m k \u001b[38;5;129;01min\u001b[39;00m elem\u001b[38;5;241m.\u001b[39mkeys()\n\u001b[1;32m    240\u001b[0m                 \u001b[38;5;28;01mif\u001b[39;00m \u001b[38;5;129;01mnot\u001b[39;00m k\u001b[38;5;241m.\u001b[39mstartswith(\u001b[38;5;124m\"\u001b[39m\u001b[38;5;124mraw.\u001b[39m\u001b[38;5;124m\"\u001b[39m)\n\u001b[1;32m    241\u001b[0m             }\n\u001b[1;32m    242\u001b[0m         )\n\u001b[1;32m    243\u001b[0m     \u001b[38;5;28;01melif\u001b[39;00m elem_name\u001b[38;5;241m.\u001b[39mstartswith(\u001b[38;5;124m\"\u001b[39m\u001b[38;5;124m/raw.\u001b[39m\u001b[38;5;124m\"\u001b[39m):\n\u001b[1;32m    244\u001b[0m         \u001b[38;5;28;01mreturn\u001b[39;00m \u001b[38;5;28;01mNone\u001b[39;00m\n",
      "File \u001b[0;32m/usr/local/lib/python3.11/site-packages/anndata/experimental/_dispatch_io.py:46\u001b[0m, in \u001b[0;36mread_dispatched\u001b[0;34m(elem, callback)\u001b[0m\n\u001b[1;32m     42\u001b[0m \u001b[38;5;28;01mfrom\u001b[39;00m \u001b[38;5;21;01manndata\u001b[39;00m\u001b[38;5;21;01m.\u001b[39;00m\u001b[38;5;21;01m_io\u001b[39;00m\u001b[38;5;21;01m.\u001b[39;00m\u001b[38;5;21;01mspecs\u001b[39;00m \u001b[38;5;28;01mimport\u001b[39;00m _REGISTRY, Reader\n\u001b[1;32m     44\u001b[0m reader \u001b[38;5;241m=\u001b[39m Reader(_REGISTRY, callback\u001b[38;5;241m=\u001b[39mcallback)\n\u001b[0;32m---> 46\u001b[0m \u001b[38;5;28;01mreturn\u001b[39;00m \u001b[43mreader\u001b[49m\u001b[38;5;241;43m.\u001b[39;49m\u001b[43mread_elem\u001b[49m\u001b[43m(\u001b[49m\u001b[43melem\u001b[49m\u001b[43m)\u001b[49m\n",
      "File \u001b[0;32m/usr/local/lib/python3.11/site-packages/anndata/_io/utils.py:205\u001b[0m, in \u001b[0;36mreport_read_key_on_error.<locals>.func_wrapper\u001b[0;34m(*args, **kwargs)\u001b[0m\n\u001b[1;32m    203\u001b[0m         \u001b[38;5;28;01mbreak\u001b[39;00m\n\u001b[1;32m    204\u001b[0m \u001b[38;5;28;01mtry\u001b[39;00m:\n\u001b[0;32m--> 205\u001b[0m     \u001b[38;5;28;01mreturn\u001b[39;00m \u001b[43mfunc\u001b[49m\u001b[43m(\u001b[49m\u001b[38;5;241;43m*\u001b[39;49m\u001b[43margs\u001b[49m\u001b[43m,\u001b[49m\u001b[43m \u001b[49m\u001b[38;5;241;43m*\u001b[39;49m\u001b[38;5;241;43m*\u001b[39;49m\u001b[43mkwargs\u001b[49m\u001b[43m)\u001b[49m\n\u001b[1;32m    206\u001b[0m \u001b[38;5;28;01mexcept\u001b[39;00m \u001b[38;5;167;01mException\u001b[39;00m \u001b[38;5;28;01mas\u001b[39;00m e:\n\u001b[1;32m    207\u001b[0m     add_key_note(e, elem, elem\u001b[38;5;241m.\u001b[39mname, \u001b[38;5;124m\"\u001b[39m\u001b[38;5;124mread\u001b[39m\u001b[38;5;124m\"\u001b[39m)\n",
      "File \u001b[0;32m/usr/local/lib/python3.11/site-packages/anndata/_io/specs/registry.py:249\u001b[0m, in \u001b[0;36mReader.read_elem\u001b[0;34m(self, elem, modifiers)\u001b[0m\n\u001b[1;32m    247\u001b[0m read_func \u001b[38;5;241m=\u001b[39m partial(read_func, _reader\u001b[38;5;241m=\u001b[39m\u001b[38;5;28mself\u001b[39m)\n\u001b[1;32m    248\u001b[0m \u001b[38;5;28;01mif\u001b[39;00m \u001b[38;5;28mself\u001b[39m\u001b[38;5;241m.\u001b[39mcallback \u001b[38;5;129;01mis\u001b[39;00m \u001b[38;5;129;01mnot\u001b[39;00m \u001b[38;5;28;01mNone\u001b[39;00m:\n\u001b[0;32m--> 249\u001b[0m     \u001b[38;5;28;01mreturn\u001b[39;00m \u001b[38;5;28;43mself\u001b[39;49m\u001b[38;5;241;43m.\u001b[39;49m\u001b[43mcallback\u001b[49m\u001b[43m(\u001b[49m\u001b[43mread_func\u001b[49m\u001b[43m,\u001b[49m\u001b[43m \u001b[49m\u001b[43melem\u001b[49m\u001b[38;5;241;43m.\u001b[39;49m\u001b[43mname\u001b[49m\u001b[43m,\u001b[49m\u001b[43m \u001b[49m\u001b[43melem\u001b[49m\u001b[43m,\u001b[49m\u001b[43m \u001b[49m\u001b[43miospec\u001b[49m\u001b[38;5;241;43m=\u001b[39;49m\u001b[43mget_spec\u001b[49m\u001b[43m(\u001b[49m\u001b[43melem\u001b[49m\u001b[43m)\u001b[49m\u001b[43m)\u001b[49m\n\u001b[1;32m    250\u001b[0m \u001b[38;5;28;01melse\u001b[39;00m:\n\u001b[1;32m    251\u001b[0m     \u001b[38;5;28;01mreturn\u001b[39;00m read_func(elem)\n",
      "File \u001b[0;32m/usr/local/lib/python3.11/site-packages/anndata/_io/h5ad.py:252\u001b[0m, in \u001b[0;36mread_h5ad.<locals>.callback\u001b[0;34m(func, elem_name, elem, iospec)\u001b[0m\n\u001b[1;32m    249\u001b[0m \u001b[38;5;28;01melif\u001b[39;00m elem_name \u001b[38;5;129;01min\u001b[39;00m {\u001b[38;5;124m\"\u001b[39m\u001b[38;5;124m/obs\u001b[39m\u001b[38;5;124m\"\u001b[39m, \u001b[38;5;124m\"\u001b[39m\u001b[38;5;124m/var\u001b[39m\u001b[38;5;124m\"\u001b[39m}:\n\u001b[1;32m    250\u001b[0m     \u001b[38;5;66;03m# Backwards compat\u001b[39;00m\n\u001b[1;32m    251\u001b[0m     \u001b[38;5;28;01mreturn\u001b[39;00m read_dataframe(elem)\n\u001b[0;32m--> 252\u001b[0m \u001b[38;5;28;01mreturn\u001b[39;00m \u001b[43mfunc\u001b[49m\u001b[43m(\u001b[49m\u001b[43melem\u001b[49m\u001b[43m)\u001b[49m\n",
      "File \u001b[0;32m/usr/local/lib/python3.11/site-packages/anndata/_io/specs/methods.py:604\u001b[0m, in \u001b[0;36mread_sparse\u001b[0;34m(elem, _reader)\u001b[0m\n\u001b[1;32m    599\u001b[0m \u001b[38;5;129m@_REGISTRY\u001b[39m\u001b[38;5;241m.\u001b[39mregister_read(H5Group, IOSpec(\u001b[38;5;124m\"\u001b[39m\u001b[38;5;124mcsc_matrix\u001b[39m\u001b[38;5;124m\"\u001b[39m, \u001b[38;5;124m\"\u001b[39m\u001b[38;5;124m0.1.0\u001b[39m\u001b[38;5;124m\"\u001b[39m))\n\u001b[1;32m    600\u001b[0m \u001b[38;5;129m@_REGISTRY\u001b[39m\u001b[38;5;241m.\u001b[39mregister_read(H5Group, IOSpec(\u001b[38;5;124m\"\u001b[39m\u001b[38;5;124mcsr_matrix\u001b[39m\u001b[38;5;124m\"\u001b[39m, \u001b[38;5;124m\"\u001b[39m\u001b[38;5;124m0.1.0\u001b[39m\u001b[38;5;124m\"\u001b[39m))\n\u001b[1;32m    601\u001b[0m \u001b[38;5;129m@_REGISTRY\u001b[39m\u001b[38;5;241m.\u001b[39mregister_read(ZarrGroup, IOSpec(\u001b[38;5;124m\"\u001b[39m\u001b[38;5;124mcsc_matrix\u001b[39m\u001b[38;5;124m\"\u001b[39m, \u001b[38;5;124m\"\u001b[39m\u001b[38;5;124m0.1.0\u001b[39m\u001b[38;5;124m\"\u001b[39m))\n\u001b[1;32m    602\u001b[0m \u001b[38;5;129m@_REGISTRY\u001b[39m\u001b[38;5;241m.\u001b[39mregister_read(ZarrGroup, IOSpec(\u001b[38;5;124m\"\u001b[39m\u001b[38;5;124mcsr_matrix\u001b[39m\u001b[38;5;124m\"\u001b[39m, \u001b[38;5;124m\"\u001b[39m\u001b[38;5;124m0.1.0\u001b[39m\u001b[38;5;124m\"\u001b[39m))\n\u001b[1;32m    603\u001b[0m \u001b[38;5;28;01mdef\u001b[39;00m \u001b[38;5;21mread_sparse\u001b[39m(elem, _reader):\n\u001b[0;32m--> 604\u001b[0m     \u001b[38;5;28;01mreturn\u001b[39;00m \u001b[43msparse_dataset\u001b[49m\u001b[43m(\u001b[49m\u001b[43melem\u001b[49m\u001b[43m)\u001b[49m\u001b[38;5;241;43m.\u001b[39;49m\u001b[43mto_memory\u001b[49m\u001b[43m(\u001b[49m\u001b[43m)\u001b[49m\n",
      "File \u001b[0;32m/usr/local/lib/python3.11/site-packages/anndata/_core/sparse_dataset.py:445\u001b[0m, in \u001b[0;36mBaseCompressedSparseDataset.to_memory\u001b[0;34m(self)\u001b[0m\n\u001b[1;32m    443\u001b[0m format_class \u001b[38;5;241m=\u001b[39m get_memory_class(\u001b[38;5;28mself\u001b[39m\u001b[38;5;241m.\u001b[39mformat)\n\u001b[1;32m    444\u001b[0m mtx \u001b[38;5;241m=\u001b[39m format_class(\u001b[38;5;28mself\u001b[39m\u001b[38;5;241m.\u001b[39mshape, dtype\u001b[38;5;241m=\u001b[39m\u001b[38;5;28mself\u001b[39m\u001b[38;5;241m.\u001b[39mdtype)\n\u001b[0;32m--> 445\u001b[0m mtx\u001b[38;5;241m.\u001b[39mdata \u001b[38;5;241m=\u001b[39m \u001b[38;5;28;43mself\u001b[39;49m\u001b[38;5;241;43m.\u001b[39;49m\u001b[43mgroup\u001b[49m\u001b[43m[\u001b[49m\u001b[38;5;124;43m\"\u001b[39;49m\u001b[38;5;124;43mdata\u001b[39;49m\u001b[38;5;124;43m\"\u001b[39;49m\u001b[43m]\u001b[49m\u001b[43m[\u001b[49m\u001b[38;5;241;43m.\u001b[39;49m\u001b[38;5;241;43m.\u001b[39;49m\u001b[38;5;241;43m.\u001b[39;49m\u001b[43m]\u001b[49m\n\u001b[1;32m    446\u001b[0m mtx\u001b[38;5;241m.\u001b[39mindices \u001b[38;5;241m=\u001b[39m \u001b[38;5;28mself\u001b[39m\u001b[38;5;241m.\u001b[39mgroup[\u001b[38;5;124m\"\u001b[39m\u001b[38;5;124mindices\u001b[39m\u001b[38;5;124m\"\u001b[39m][\u001b[38;5;241m.\u001b[39m\u001b[38;5;241m.\u001b[39m\u001b[38;5;241m.\u001b[39m]\n\u001b[1;32m    447\u001b[0m mtx\u001b[38;5;241m.\u001b[39mindptr \u001b[38;5;241m=\u001b[39m \u001b[38;5;28mself\u001b[39m\u001b[38;5;241m.\u001b[39mgroup[\u001b[38;5;124m\"\u001b[39m\u001b[38;5;124mindptr\u001b[39m\u001b[38;5;124m\"\u001b[39m][\u001b[38;5;241m.\u001b[39m\u001b[38;5;241m.\u001b[39m\u001b[38;5;241m.\u001b[39m]\n",
      "File \u001b[0;32mh5py/_objects.pyx:54\u001b[0m, in \u001b[0;36mh5py._objects.with_phil.wrapper\u001b[0;34m()\u001b[0m\n",
      "File \u001b[0;32mh5py/_objects.pyx:55\u001b[0m, in \u001b[0;36mh5py._objects.with_phil.wrapper\u001b[0;34m()\u001b[0m\n",
      "File \u001b[0;32m/usr/local/lib/python3.11/site-packages/h5py/_hl/dataset.py:768\u001b[0m, in \u001b[0;36mDataset.__getitem__\u001b[0;34m(self, args, new_dtype)\u001b[0m\n\u001b[1;32m    766\u001b[0m \u001b[38;5;28;01mif\u001b[39;00m \u001b[38;5;28mself\u001b[39m\u001b[38;5;241m.\u001b[39m_fast_read_ok \u001b[38;5;129;01mand\u001b[39;00m (new_dtype \u001b[38;5;129;01mis\u001b[39;00m \u001b[38;5;28;01mNone\u001b[39;00m):\n\u001b[1;32m    767\u001b[0m     \u001b[38;5;28;01mtry\u001b[39;00m:\n\u001b[0;32m--> 768\u001b[0m         \u001b[38;5;28;01mreturn\u001b[39;00m \u001b[38;5;28;43mself\u001b[39;49m\u001b[38;5;241;43m.\u001b[39;49m\u001b[43m_fast_reader\u001b[49m\u001b[38;5;241;43m.\u001b[39;49m\u001b[43mread\u001b[49m\u001b[43m(\u001b[49m\u001b[43margs\u001b[49m\u001b[43m)\u001b[49m\n\u001b[1;32m    769\u001b[0m     \u001b[38;5;28;01mexcept\u001b[39;00m \u001b[38;5;167;01mTypeError\u001b[39;00m:\n\u001b[1;32m    770\u001b[0m         \u001b[38;5;28;01mpass\u001b[39;00m  \u001b[38;5;66;03m# Fall back to Python read pathway below\u001b[39;00m\n",
      "\u001b[0;31mKeyboardInterrupt\u001b[0m: "
     ]
    }
   ],
   "source": [
    "adata = sc.read_h5ad('/root/datos/maestria/netopaas/luca/data/atlas/extended.h5ad')"
   ]
  },
  {
   "cell_type": "code",
   "execution_count": null,
   "id": "4fb97a30-176c-4311-80db-94332f1f7644",
   "metadata": {
    "id": "u3ThEfqPWHOV"
   },
   "outputs": [],
   "source": [
    "adata"
   ]
  },
  {
   "cell_type": "code",
   "execution_count": null,
   "id": "849e890e-4598-43b4-8e37-0c40b009cca9",
   "metadata": {
    "id": "WWzzDG5wZySj"
   },
   "outputs": [],
   "source": [
    "adata = adata[(adata.obs.origin == 'tumor_primary')]\n",
    "\n",
    "# stages = ['III','III or IV', 'IV']\n",
    "stages = ['I','II','III','III or IV', 'IV']\n",
    "adata = adata[adata.obs.uicc_stage.isin(stages)]\n",
    "\n",
    "# we remove these because some are enriched for endotheliar and some for immune cells\n",
    "studies = [\n",
    "    'Goveia_Carmeliet_2020',\n",
    "    'Leader_Merad_2021','Guo_Zhang_2018']\n",
    "adata = adata[~adata.obs.study.isin(studies)]\n",
    "adata = adata[:, adata.var.is_highly_variable == 'True']"
   ]
  },
  {
   "cell_type": "code",
   "execution_count": 5,
   "id": "45ca098b-6ddf-43dd-b75f-db4294f7784a",
   "metadata": {},
   "outputs": [
    {
     "data": {
      "text/plain": [
       "AnnData object with n_obs × n_vars = 400 × 100\n",
       "    obs: 'batch', 'labels'\n",
       "    uns: 'protein_names'\n",
       "    obsm: 'protein_expression', 'accessibility'"
      ]
     },
     "execution_count": 5,
     "metadata": {},
     "output_type": "execute_result"
    }
   ],
   "source": [
    "from scvi.data import synthetic_iid\n",
    "\n",
    "adata = synthetic_iid()\n",
    "adata"
   ]
  },
  {
   "cell_type": "code",
   "execution_count": 14,
   "id": "b2b526d1-9c45-4064-b056-fd11b45acf8d",
   "metadata": {},
   "outputs": [],
   "source": [
    "adata = adata.copy()"
   ]
  },
  {
   "cell_type": "markdown",
   "id": "3202e0ec-8472-4eac-beaf-300d4d95aa75",
   "metadata": {},
   "source": [
    "## Model and tune"
   ]
  },
  {
   "cell_type": "code",
   "execution_count": 6,
   "id": "e7f80769-1eda-4783-b4ea-90f3e6ced32a",
   "metadata": {
    "scrolled": true
   },
   "outputs": [],
   "source": [
    "model_cls = scvi.model.SCVI\n",
    "# model_cls.setup_anndata(adata, batch_key='dataset', labels_key='cell_type_tumor')\n",
    "model_cls.setup_anndata(adata, batch_key='batch', labels_key='labels')"
   ]
  },
  {
   "cell_type": "code",
   "execution_count": 10,
   "id": "d15bea88-1a3a-49e6-8b1b-5f49a49e1607",
   "metadata": {},
   "outputs": [],
   "source": [
    "search_space = {\n",
    "    \"model_params\":{\n",
    "        \"n_hidden\": tune.choice([ 512, 1024, 2048 ]),\n",
    "        \"n_layers\": tune.choice([5,6,7]),\n",
    "        \"gene_likelihood\": tune.choice(['nb','zinb']),\n",
    "    },\n",
    "    \"train_params\":{\n",
    "        'plan_kwargs':{\n",
    "            \"reduce_lr_on_plateau\": tune.choice([True,False])\n",
    "        }\n",
    "    }\n",
    "}\n",
    "\n",
    "initial_points = [\n",
    "        {\n",
    "            'model_params':{\n",
    "                \"n_hidden\": 2048,\n",
    "                \"n_layers\": 7,\n",
    "                \"gene_likelihood\": 'nb',\n",
    "            },\n",
    "             \"train_params\":{\n",
    "                'plan_kwargs':{\n",
    "                    \"reduce_lr_on_plateau\": True\n",
    "                }\n",
    "            }\n",
    "        }\n",
    "    ]"
   ]
  },
  {
   "cell_type": "code",
   "execution_count": 18,
   "id": "ec64c937-4bd5-445a-b59f-80c7a52d300b",
   "metadata": {
    "scrolled": true
   },
   "outputs": [
    {
     "data": {
      "text/html": [
       "<div class=\"tuneStatus\">\n",
       "  <div style=\"display: flex;flex-direction: row\">\n",
       "    <div style=\"display: flex;flex-direction: column;\">\n",
       "      <h3>Tune Status</h3>\n",
       "      <table>\n",
       "<tbody>\n",
       "<tr><td>Current time:</td><td>2024-08-21 03:53:33</td></tr>\n",
       "<tr><td>Running for: </td><td>00:00:59.51        </td></tr>\n",
       "<tr><td>Memory:      </td><td>522.6/1006.6 GiB   </td></tr>\n",
       "</tbody>\n",
       "</table>\n",
       "    </div>\n",
       "    <div class=\"vDivider\"></div>\n",
       "    <div class=\"systemInfo\">\n",
       "      <h3>System Info</h3>\n",
       "      Using AsyncHyperBand: num_stopped=5<br>Bracket: Iter 64.000: -317.4172668457031 | Iter 32.000: -318.1255187988281 | Iter 16.000: -320.2867736816406 | Iter 8.000: -323.03807067871094 | Iter 4.000: -325.774169921875 | Iter 2.000: -326.70506286621094 | Iter 1.000: -332.8092346191406<br>Logical resource usage: 2.0/10 CPUs, 0.25/1 GPUs (0.0/1.0 accelerator_type:G)\n",
       "    </div>\n",
       "    \n",
       "  </div>\n",
       "  <div class=\"hDivider\"></div>\n",
       "  <div class=\"trialStatus\">\n",
       "    <h3>Trial Status</h3>\n",
       "    <table>\n",
       "<thead>\n",
       "<tr><th>Trial name         </th><th>status    </th><th>loc             </th><th>model_params/gene_li\n",
       "kelihood     </th><th style=\"text-align: right;\">     model_params/n_hidde\n",
       "n</th><th style=\"text-align: right;\">  model_params/n_layer\n",
       "s</th><th>...rams/plan_kwargs/\n",
       "reduce_lr_on_plateau      </th><th style=\"text-align: right;\">  iter</th><th style=\"text-align: right;\">  total time (s)</th><th style=\"text-align: right;\">  validation_loss</th></tr>\n",
       "</thead>\n",
       "<tbody>\n",
       "<tr><td>_trainable_69079fee</td><td>PENDING   </td><td>                </td><td>zinb</td><td style=\"text-align: right;\">2048</td><td style=\"text-align: right;\">7</td><td>False</td><td style=\"text-align: right;\">      </td><td style=\"text-align: right;\">                </td><td style=\"text-align: right;\">                 </td></tr>\n",
       "<tr><td>_trainable_ee9fcca4</td><td>TERMINATED</td><td>172.17.0.2:18914</td><td>nb  </td><td style=\"text-align: right;\">2048</td><td style=\"text-align: right;\">7</td><td>True </td><td style=\"text-align: right;\">   100</td><td style=\"text-align: right;\">        17.6035 </td><td style=\"text-align: right;\">          332.432</td></tr>\n",
       "<tr><td>_trainable_8e5bf1a6</td><td>TERMINATED</td><td>172.17.0.2:19094</td><td>nb  </td><td style=\"text-align: right;\"> 512</td><td style=\"text-align: right;\">6</td><td>True </td><td style=\"text-align: right;\">     1</td><td style=\"text-align: right;\">         3.16776</td><td style=\"text-align: right;\">          333.064</td></tr>\n",
       "<tr><td>_trainable_2f76f84b</td><td>TERMINATED</td><td>172.17.0.2:19265</td><td>zinb</td><td style=\"text-align: right;\">2048</td><td style=\"text-align: right;\">7</td><td>False</td><td style=\"text-align: right;\">   100</td><td style=\"text-align: right;\">        17.5648 </td><td style=\"text-align: right;\">          304.047</td></tr>\n",
       "<tr><td>_trainable_bcfd18a9</td><td>TERMINATED</td><td>172.17.0.2:19436</td><td>nb  </td><td style=\"text-align: right;\">1024</td><td style=\"text-align: right;\">6</td><td>True </td><td style=\"text-align: right;\">     1</td><td style=\"text-align: right;\">         3.28943</td><td style=\"text-align: right;\">          332.809</td></tr>\n",
       "<tr><td>_trainable_6869e8c0</td><td>TERMINATED</td><td>172.17.0.2:19577</td><td>nb  </td><td style=\"text-align: right;\">1024</td><td style=\"text-align: right;\">5</td><td>False</td><td style=\"text-align: right;\">     1</td><td style=\"text-align: right;\">         3.39749</td><td style=\"text-align: right;\">          332.907</td></tr>\n",
       "</tbody>\n",
       "</table>\n",
       "  </div>\n",
       "</div>\n",
       "<style>\n",
       ".tuneStatus {\n",
       "  color: var(--jp-ui-font-color1);\n",
       "}\n",
       ".tuneStatus .systemInfo {\n",
       "  display: flex;\n",
       "  flex-direction: column;\n",
       "}\n",
       ".tuneStatus td {\n",
       "  white-space: nowrap;\n",
       "}\n",
       ".tuneStatus .trialStatus {\n",
       "  display: flex;\n",
       "  flex-direction: column;\n",
       "}\n",
       ".tuneStatus h3 {\n",
       "  font-weight: bold;\n",
       "}\n",
       ".tuneStatus .hDivider {\n",
       "  border-bottom-width: var(--jp-border-width);\n",
       "  border-bottom-color: var(--jp-border-color0);\n",
       "  border-bottom-style: solid;\n",
       "}\n",
       ".tuneStatus .vDivider {\n",
       "  border-left-width: var(--jp-border-width);\n",
       "  border-left-color: var(--jp-border-color0);\n",
       "  border-left-style: solid;\n",
       "  margin: 0.5em 1em 0.5em 1em;\n",
       "}\n",
       "</style>\n"
      ],
      "text/plain": [
       "<IPython.core.display.HTML object>"
      ]
     },
     "metadata": {},
     "output_type": "display_data"
    },
    {
     "name": "stderr",
     "output_type": "stream",
     "text": [
      "2024-08-21 03:53:33,628\tWARNING tune.py:219 -- Stop signal received (e.g. via SIGINT/Ctrl+C), ending Ray Tune run. This will try to checkpoint the experiment state one last time. Press CTRL+C (or send SIGINT/SIGKILL/SIGTERM) to skip. \n",
      "2024-08-21 03:53:33,654\tINFO tune.py:1007 -- Wrote the latest version of all result files and experiment state to '/root/datos/maestria/netopaas/lung_scRNA/LUCA_model/RayTuner/test_lr/test_lr' in 0.0237s.\n",
      "2024-08-21 03:53:36,148\tINFO tune.py:1039 -- Total run time: 62.03 seconds (59.48 seconds for the tuning loop).\n",
      "2024-08-21 03:53:36,149\tWARNING tune.py:1054 -- Experiment has been interrupted, but the most recent state was saved.\n",
      "Resume experiment with: Tuner.restore(path=\"/root/datos/maestria/netopaas/lung_scRNA/LUCA_model/RayTuner/test_lr/test_lr\", trainable=...)\n",
      "2024-08-21 03:53:36,175\tWARNING experiment_analysis.py:180 -- Failed to fetch metrics for 1 trial(s):\n",
      "- _trainable_69079fee: FileNotFoundError('Could not fetch metrics for _trainable_69079fee: both result.json and progress.csv were not found at /root/datos/maestria/netopaas/lung_scRNA/LUCA_model/RayTuner/test_lr/test_lr/_trainable_69079fee_6_gene_likelihood=zinb,n_hidden=2048,n_layers=7,reduce_lr_on_plateau=False_2024-08-21_03-53-26')\n"
     ]
    }
   ],
   "source": [
    "import ray\n",
    "ray.init(log_to_driver=False, ignore_reinit_error=True, num_cpus=10)\n",
    "\n",
    "scvi_tuner = autotune.run_autotune(model_cls, adata,  metrics=\"validation_loss\", mode='min',\n",
    "    search_space=search_space,\n",
    "    num_samples=50,\n",
    "    resources={\"cpu\": 2, 'gpu':0.25},\n",
    "    experiment_name='test_lr',\n",
    "    searcher_kwargs={'points_to_evaluate':initial_points},\n",
    ")\n",
    "\n",
    "\n"
   ]
  },
  {
   "cell_type": "code",
   "execution_count": 14,
   "id": "d7511802-56e2-4c99-b96b-10f619fa36a0",
   "metadata": {},
   "outputs": [],
   "source": [
    "ray.shutdown()"
   ]
  },
  {
   "cell_type": "markdown",
   "id": "dee6f06b-9354-409a-8a31-424948493240",
   "metadata": {
    "jp-MarkdownHeadingCollapsed": true
   },
   "source": [
    "## Model explore"
   ]
  },
  {
   "cell_type": "code",
   "execution_count": 26,
   "id": "4500d71b-61bb-4a33-98cc-1899539f526a",
   "metadata": {
    "scrolled": true
   },
   "outputs": [
    {
     "data": {
      "text/plain": [
       "ResultGrid<[\n",
       "  Result(\n",
       "    metrics={'validation_loss': 754.237548828125},\n",
       "    path='/tmp/tmphrzogsut/scvi1024/scvi1024/_trainable_b87f55fe_1_gene_likelihood=nb,n_hidden=256,n_layers=4_2024-08-08_03-25-39',\n",
       "    filesystem='local',\n",
       "    checkpoint=None\n",
       "  ),\n",
       "  Result(\n",
       "    metrics={'validation_loss': 790.5972900390625},\n",
       "    path='/tmp/tmphrzogsut/scvi1024/scvi1024/_trainable_899e4360_2_gene_likelihood=zinb,n_hidden=1024,n_layers=5_2024-08-08_03-25-51',\n",
       "    filesystem='local',\n",
       "    checkpoint=None\n",
       "  ),\n",
       "  Result(\n",
       "    metrics={'validation_loss': 750.9778442382812},\n",
       "    path='/tmp/tmphrzogsut/scvi1024/scvi1024/_trainable_0a38590b_3_gene_likelihood=nb,n_hidden=512,n_layers=5_2024-08-08_03-26-02',\n",
       "    filesystem='local',\n",
       "    checkpoint=None\n",
       "  ),\n",
       "  Result(\n",
       "    metrics={'validation_loss': 772.2880859375},\n",
       "    path='/tmp/tmphrzogsut/scvi1024/scvi1024/_trainable_af8dd8f4_4_gene_likelihood=nb,n_hidden=512,n_layers=4_2024-08-08_03-26-14',\n",
       "    filesystem='local',\n",
       "    checkpoint=None\n",
       "  ),\n",
       "  Result(\n",
       "    metrics={'validation_loss': 748.1448364257812},\n",
       "    path='/tmp/tmphrzogsut/scvi1024/scvi1024/_trainable_15780a2d_5_gene_likelihood=zinb,n_hidden=1024,n_layers=5_2024-08-08_03-26-25',\n",
       "    filesystem='local',\n",
       "    checkpoint=None\n",
       "  ),\n",
       "  Result(\n",
       "    metrics={'validation_loss': 794.5807495117188},\n",
       "    path='/tmp/tmphrzogsut/scvi1024/scvi1024/_trainable_8571208b_6_gene_likelihood=nb,n_hidden=256,n_layers=5_2024-08-08_03-29-01',\n",
       "    filesystem='local',\n",
       "    checkpoint=None\n",
       "  ),\n",
       "  Result(\n",
       "    metrics={'validation_loss': 797.5274658203125},\n",
       "    path='/tmp/tmphrzogsut/scvi1024/scvi1024/_trainable_d6e2ed89_7_gene_likelihood=nb,n_hidden=256,n_layers=6_2024-08-08_03-30-04',\n",
       "    filesystem='local',\n",
       "    checkpoint=None\n",
       "  ),\n",
       "  Result(\n",
       "    metrics={'validation_loss': 792.52099609375},\n",
       "    path='/tmp/tmphrzogsut/scvi1024/scvi1024/_trainable_4b42a1a6_8_gene_likelihood=nb,n_hidden=512,n_layers=6_2024-08-08_03-31-55',\n",
       "    filesystem='local',\n",
       "    checkpoint=None\n",
       "  ),\n",
       "  Result(\n",
       "    metrics={'validation_loss': 792.52099609375},\n",
       "    path='/tmp/tmphrzogsut/scvi1024/scvi1024/_trainable_6d6ea28e_9_gene_likelihood=nb,n_hidden=512,n_layers=6_2024-08-08_03-33-44',\n",
       "    filesystem='local',\n",
       "    checkpoint=None\n",
       "  ),\n",
       "  Result(\n",
       "    metrics={'validation_loss': 794.5807495117188},\n",
       "    path='/tmp/tmphrzogsut/scvi1024/scvi1024/_trainable_952f51df_10_gene_likelihood=nb,n_hidden=256,n_layers=5_2024-08-08_03-35-57',\n",
       "    filesystem='local',\n",
       "    checkpoint=None\n",
       "  )\n",
       "]>"
      ]
     },
     "execution_count": 26,
     "metadata": {},
     "output_type": "execute_result"
    }
   ],
   "source": [
    "scvi_tuner.result_grid"
   ]
  },
  {
   "cell_type": "code",
   "execution_count": 21,
   "id": "af74d534-43f8-4bd0-b7ce-3bc20d60a23d",
   "metadata": {
    "scrolled": true
   },
   "outputs": [
    {
     "data": {
      "text/plain": [
       "{'_model_cls': scvi.model._scvi.SCVI,\n",
       " '_data': AnnData object with n_obs × n_vars = 402634 × 5989\n",
       "     obs: 'sample', 'uicc_stage', 'ever_smoker', 'age', 'donor_id', 'origin', 'dataset', 'ann_fine', 'cell_type_predicted', 'doublet_status', 'leiden', 'n_genes_by_counts', 'total_counts', 'total_counts_mito', 'pct_counts_mito', 'ann_coarse', 'cell_type_tumor', 'tumor_stage', 'EGFR_mutation', 'TP53_mutation', 'ALK_mutation', 'BRAF_mutation', 'ERBB2_mutation', 'KRAS_mutation', 'ROS_mutation', 'origin_fine', 'study', 'platform', 'cell_type_major', 'cell_type_neutro', 'cell_type_neutro_coarse', 'suspension_type', 'assay_ontology_term_id', 'cell_type_ontology_term_id', 'development_stage_ontology_term_id', 'disease_ontology_term_id', 'self_reported_ethnicity_ontology_term_id', 'is_primary_data', 'organism_ontology_term_id', 'sex_ontology_term_id', 'tissue_ontology_term_id', 'tissue_type', 'cell_type', 'assay', 'disease', 'organism', 'sex', 'tissue', 'self_reported_ethnicity', 'development_stage', 'observation_joinid', '_scvi_batch', '_scvi_labels'\n",
       "     var: 'is_highly_variable', 'mito', 'n_cells_by_counts', 'mean_counts', 'pct_dropout_by_counts', 'total_counts', 'feature_is_filtered', 'feature_name', 'feature_reference', 'feature_biotype', 'feature_length'\n",
       "     uns: '_scvi', 'ann_fine_colors', 'batch_condition', 'cell_type_major_colors', 'cell_type_tumor_colors', 'citation', 'dataset_colors', 'default_embedding', 'hvg', 'neighbors', 'origin_colors', 'platform_colors', 'schema_reference', 'schema_version', 'title', 'umap', '_scvi_uuid', '_scvi_manager_uuid'\n",
       "     obsm: 'X_scANVI', 'X_scVI', 'X_umap'\n",
       "     layers: 'count', 'counts_length_scaled'\n",
       "     obsp: 'connectivities', 'distances',\n",
       " '_setup_method_name': 'setup_anndata',\n",
       " '_setup_method_args': {'layer': None,\n",
       "  'batch_key': 'dataset',\n",
       "  'labels_key': 'cell_type_tumor',\n",
       "  'size_factor_key': None,\n",
       "  'categorical_covariate_keys': None,\n",
       "  'continuous_covariate_keys': None},\n",
       " '_metrics': ['validation_loss'],\n",
       " '_mode': 'min',\n",
       " '_search_space': {'model_params': {'n_hidden': <ray.tune.search.sample.Categorical at 0x7f98b30f9810>,\n",
       "   'n_layers': <ray.tune.search.sample.Categorical at 0x7f98b310ce10>,\n",
       "   'gene_likelihood': <ray.tune.search.sample.Categorical at 0x7f98b316d210>}},\n",
       " '_num_samples': 10,\n",
       " '_seed': 0,\n",
       " '_scheduler_kwargs': {},\n",
       " '_searcher_kwargs': {},\n",
       " '_scheduler': <ray.tune.schedulers.async_hyperband.AsyncHyperBandScheduler at 0x7f98bc004350>,\n",
       " '_searcher': <ray.tune.search.hyperopt.hyperopt_search.HyperOptSearch at 0x7fa4dc9d9090>,\n",
       " '_resources': {'cpu': 50, 'gpu': 1},\n",
       " '_id': '4cda457a-320e-4534-a5da-d121cb98adf5',\n",
       " '_name': 'scvi_4cda457a-320e-4534-a5da-d121cb98adf5',\n",
       " '_logging_dir': '/tmp/tmp6se7q7uq/scvi_4cda457a-320e-4534-a5da-d121cb98adf5',\n",
       " '_result_grid': ResultGrid<[\n",
       "   Result(\n",
       "     metrics={'validation_loss': 755.4465942382812},\n",
       "     path='/tmp/tmp6se7q7uq/scvi_4cda457a-320e-4534-a5da-d121cb98adf5/scvi_4cda457a-320e-4534-a5da-d121cb98adf5/_trainable_b390060a_1_gene_likelihood=nb,n_hidden=256,n_layers=2_2024-08-07_17-19-36',\n",
       "     filesystem='local',\n",
       "     checkpoint=None\n",
       "   ),\n",
       "   Result(\n",
       "     metrics={'validation_loss': 750.2605590820312},\n",
       "     path='/tmp/tmp6se7q7uq/scvi_4cda457a-320e-4534-a5da-d121cb98adf5/scvi_4cda457a-320e-4534-a5da-d121cb98adf5/_trainable_20066b69_2_gene_likelihood=zinb,n_hidden=512,n_layers=3_2024-08-07_17-19-46',\n",
       "     filesystem='local',\n",
       "     checkpoint=None\n",
       "   ),\n",
       "   Result(\n",
       "     metrics={'validation_loss': 793.812744140625},\n",
       "     path='/tmp/tmp6se7q7uq/scvi_4cda457a-320e-4534-a5da-d121cb98adf5/scvi_4cda457a-320e-4534-a5da-d121cb98adf5/_trainable_2f6b2f14_3_gene_likelihood=nb,n_hidden=256,n_layers=1_2024-08-07_17-37-43',\n",
       "     filesystem='local',\n",
       "     checkpoint=None\n",
       "   ),\n",
       "   Result(\n",
       "     metrics={'validation_loss': 797.7709350585938},\n",
       "     path='/tmp/tmp6se7q7uq/scvi_4cda457a-320e-4534-a5da-d121cb98adf5/scvi_4cda457a-320e-4534-a5da-d121cb98adf5/_trainable_4df55a23_4_gene_likelihood=zinb,n_hidden=128,n_layers=3_2024-08-07_18-02-30',\n",
       "     filesystem='local',\n",
       "     checkpoint=None\n",
       "   ),\n",
       "   Result(\n",
       "     metrics={'validation_loss': 751.8154907226562},\n",
       "     path='/tmp/tmp6se7q7uq/scvi_4cda457a-320e-4534-a5da-d121cb98adf5/scvi_4cda457a-320e-4534-a5da-d121cb98adf5/_trainable_c138acf5_5_gene_likelihood=zinb,n_hidden=512,n_layers=2_2024-08-07_18-03-32',\n",
       "     filesystem='local',\n",
       "     checkpoint=None\n",
       "   ),\n",
       "   Result(\n",
       "     metrics={'validation_loss': 771.3327026367188},\n",
       "     path='/tmp/tmp6se7q7uq/scvi_4cda457a-320e-4534-a5da-d121cb98adf5/scvi_4cda457a-320e-4534-a5da-d121cb98adf5/_trainable_63a9abe1_6_gene_likelihood=nb,n_hidden=256,n_layers=3_2024-08-07_18-04-57',\n",
       "     filesystem='local',\n",
       "     checkpoint=None\n",
       "   ),\n",
       "   Result(\n",
       "     metrics={'validation_loss': 792.1300659179688},\n",
       "     path='/tmp/tmp6se7q7uq/scvi_4cda457a-320e-4534-a5da-d121cb98adf5/scvi_4cda457a-320e-4534-a5da-d121cb98adf5/_trainable_bf5876e6_7_gene_likelihood=nb,n_hidden=512,n_layers=1_2024-08-07_18-26-15',\n",
       "     filesystem='local',\n",
       "     checkpoint=None\n",
       "   ),\n",
       "   Result(\n",
       "     metrics={'validation_loss': 792.1300659179688},\n",
       "     path='/tmp/tmp6se7q7uq/scvi_4cda457a-320e-4534-a5da-d121cb98adf5/scvi_4cda457a-320e-4534-a5da-d121cb98adf5/_trainable_c3444dcd_8_gene_likelihood=nb,n_hidden=512,n_layers=1_2024-08-07_18-28-36',\n",
       "     filesystem='local',\n",
       "     checkpoint=None\n",
       "   ),\n",
       "   Result(\n",
       "     metrics={'validation_loss': 751.8154907226562},\n",
       "     path='/tmp/tmp6se7q7uq/scvi_4cda457a-320e-4534-a5da-d121cb98adf5/scvi_4cda457a-320e-4534-a5da-d121cb98adf5/_trainable_61343df8_9_gene_likelihood=zinb,n_hidden=512,n_layers=2_2024-08-07_18-29-42',\n",
       "     filesystem='local',\n",
       "     checkpoint=None\n",
       "   ),\n",
       "   Result(\n",
       "     metrics={'validation_loss': 792.1300659179688},\n",
       "     path='/tmp/tmp6se7q7uq/scvi_4cda457a-320e-4534-a5da-d121cb98adf5/scvi_4cda457a-320e-4534-a5da-d121cb98adf5/_trainable_3d1f9b52_10_gene_likelihood=nb,n_hidden=512,n_layers=1_2024-08-07_18-30-49',\n",
       "     filesystem='local',\n",
       "     checkpoint=None\n",
       "   )\n",
       " ]>}"
      ]
     },
     "execution_count": 21,
     "metadata": {},
     "output_type": "execute_result"
    }
   ],
   "source": [
    "scvi_tuner.__dict__"
   ]
  },
  {
   "cell_type": "code",
   "execution_count": 27,
   "id": "f2c6034e-6f09-4eaa-9cf9-39a44b34d585",
   "metadata": {},
   "outputs": [],
   "source": [
    "best_result = results.get_best_result('validation_loss', mode='min')"
   ]
  },
  {
   "cell_type": "code",
   "execution_count": 28,
   "id": "19e3f804-8c70-494d-bef2-42122e276495",
   "metadata": {
    "scrolled": true
   },
   "outputs": [
    {
     "data": {
      "text/plain": [
       "{'metrics': {'validation_loss': 748.1448364257812,\n",
       "  'timestamp': 1723090185,\n",
       "  'checkpoint_dir_name': None,\n",
       "  'done': True,\n",
       "  'training_iteration': 20,\n",
       "  'trial_id': '15780a2d',\n",
       "  'date': '2024-08-08_04-09-45',\n",
       "  'time_this_iter_s': 96.944420337677,\n",
       "  'time_total_s': 2443.7222259044647,\n",
       "  'pid': 11872,\n",
       "  'hostname': '6ec9f87ec9e7',\n",
       "  'node_ip': '172.17.0.3',\n",
       "  'config': {'model_params': {'n_hidden': 1024,\n",
       "    'n_layers': 5,\n",
       "    'gene_likelihood': 'zinb'},\n",
       "   'train_params': {'plan_kwargs': {}}},\n",
       "  'time_since_restore': 2443.7222259044647,\n",
       "  'iterations_since_restore': 20,\n",
       "  'experiment_tag': '5_gene_likelihood=zinb,n_hidden=1024,n_layers=5'},\n",
       " 'checkpoint': None,\n",
       " 'error': None,\n",
       " 'path': '/tmp/tmphrzogsut/scvi1024/scvi1024/_trainable_15780a2d_5_gene_likelihood=zinb,n_hidden=1024,n_layers=5_2024-08-08_03-26-25',\n",
       " 'metrics_dataframe':     validation_loss   timestamp checkpoint_dir_name   done  \\\n",
       " 0        790.597290  1723087906                None  False   \n",
       " 1        768.241699  1723088066                None  False   \n",
       " 2        761.966370  1723088234                None  False   \n",
       " 3        758.097961  1723088389                None  False   \n",
       " 4        755.986816  1723088522                None  False   \n",
       " 5        755.106140  1723088649                None  False   \n",
       " 6        753.169922  1723088778                None  False   \n",
       " 7        752.303528  1723088911                None  False   \n",
       " 8        751.494080  1723089040                None  False   \n",
       " 9        750.364807  1723089168                None  False   \n",
       " 10       752.317200  1723089285                None  False   \n",
       " 11       750.080933  1723089397                None  False   \n",
       " 12       749.397888  1723089510                None  False   \n",
       " 13       749.297302  1723089602                None  False   \n",
       " 14       748.835327  1723089699                None  False   \n",
       " 15       749.194153  1723089797                None  False   \n",
       " 16       750.331238  1723089894                None  False   \n",
       " 17       749.441772  1723089991                None  False   \n",
       " 18       748.445862  1723090088                None  False   \n",
       " 19       748.144836  1723090185                None  False   \n",
       " \n",
       "     training_iteration  trial_id                 date  time_this_iter_s  \\\n",
       " 0                    1  15780a2d  2024-08-08_03-31-46        165.511750   \n",
       " 1                    2  15780a2d  2024-08-08_03-34-26        159.719136   \n",
       " 2                    3  15780a2d  2024-08-08_03-37-14        167.993105   \n",
       " 3                    4  15780a2d  2024-08-08_03-39-49        155.329422   \n",
       " 4                    5  15780a2d  2024-08-08_03-42-02        132.408768   \n",
       " 5                    6  15780a2d  2024-08-08_03-44-09        127.502588   \n",
       " 6                    7  15780a2d  2024-08-08_03-46-18        129.030637   \n",
       " 7                    8  15780a2d  2024-08-08_03-48-31        132.678252   \n",
       " 8                    9  15780a2d  2024-08-08_03-50-40        128.390594   \n",
       " 9                   10  15780a2d  2024-08-08_03-52-48        128.191315   \n",
       " 10                  11  15780a2d  2024-08-08_03-54-45        117.185407   \n",
       " 11                  12  15780a2d  2024-08-08_03-56-37        112.184178   \n",
       " 12                  13  15780a2d  2024-08-08_03-58-30        112.805844   \n",
       " 13                  14  15780a2d  2024-08-08_04-00-02         91.813034   \n",
       " 14                  15  15780a2d  2024-08-08_04-01-39         97.700926   \n",
       " 15                  16  15780a2d  2024-08-08_04-03-17         97.380404   \n",
       " 16                  17  15780a2d  2024-08-08_04-04-54         97.217522   \n",
       " 17                  18  15780a2d  2024-08-08_04-06-31         96.954570   \n",
       " 18                  19  15780a2d  2024-08-08_04-08-08         96.780352   \n",
       " 19                  20  15780a2d  2024-08-08_04-09-45         96.944420   \n",
       " \n",
       "     time_total_s    pid      hostname     node_ip  time_since_restore  \\\n",
       " 0     165.511750  11872  6ec9f87ec9e7  172.17.0.3          165.511750   \n",
       " 1     325.230886  11872  6ec9f87ec9e7  172.17.0.3          325.230886   \n",
       " 2     493.223991  11872  6ec9f87ec9e7  172.17.0.3          493.223991   \n",
       " 3     648.553413  11872  6ec9f87ec9e7  172.17.0.3          648.553413   \n",
       " 4     780.962181  11872  6ec9f87ec9e7  172.17.0.3          780.962181   \n",
       " 5     908.464770  11872  6ec9f87ec9e7  172.17.0.3          908.464770   \n",
       " 6    1037.495407  11872  6ec9f87ec9e7  172.17.0.3         1037.495407   \n",
       " 7    1170.173659  11872  6ec9f87ec9e7  172.17.0.3         1170.173659   \n",
       " 8    1298.564253  11872  6ec9f87ec9e7  172.17.0.3         1298.564253   \n",
       " 9    1426.755568  11872  6ec9f87ec9e7  172.17.0.3         1426.755568   \n",
       " 10   1543.940975  11872  6ec9f87ec9e7  172.17.0.3         1543.940975   \n",
       " 11   1656.125153  11872  6ec9f87ec9e7  172.17.0.3         1656.125153   \n",
       " 12   1768.930998  11872  6ec9f87ec9e7  172.17.0.3         1768.930998   \n",
       " 13   1860.744032  11872  6ec9f87ec9e7  172.17.0.3         1860.744032   \n",
       " 14   1958.444958  11872  6ec9f87ec9e7  172.17.0.3         1958.444958   \n",
       " 15   2055.825361  11872  6ec9f87ec9e7  172.17.0.3         2055.825361   \n",
       " 16   2153.042883  11872  6ec9f87ec9e7  172.17.0.3         2153.042883   \n",
       " 17   2249.997454  11872  6ec9f87ec9e7  172.17.0.3         2249.997454   \n",
       " 18   2346.777806  11872  6ec9f87ec9e7  172.17.0.3         2346.777806   \n",
       " 19   2443.722226  11872  6ec9f87ec9e7  172.17.0.3         2443.722226   \n",
       " \n",
       "     iterations_since_restore  config/model_params/n_hidden  \\\n",
       " 0                          1                          1024   \n",
       " 1                          2                          1024   \n",
       " 2                          3                          1024   \n",
       " 3                          4                          1024   \n",
       " 4                          5                          1024   \n",
       " 5                          6                          1024   \n",
       " 6                          7                          1024   \n",
       " 7                          8                          1024   \n",
       " 8                          9                          1024   \n",
       " 9                         10                          1024   \n",
       " 10                        11                          1024   \n",
       " 11                        12                          1024   \n",
       " 12                        13                          1024   \n",
       " 13                        14                          1024   \n",
       " 14                        15                          1024   \n",
       " 15                        16                          1024   \n",
       " 16                        17                          1024   \n",
       " 17                        18                          1024   \n",
       " 18                        19                          1024   \n",
       " 19                        20                          1024   \n",
       " \n",
       "     config/model_params/n_layers config/model_params/gene_likelihood  \n",
       " 0                              5                                zinb  \n",
       " 1                              5                                zinb  \n",
       " 2                              5                                zinb  \n",
       " 3                              5                                zinb  \n",
       " 4                              5                                zinb  \n",
       " 5                              5                                zinb  \n",
       " 6                              5                                zinb  \n",
       " 7                              5                                zinb  \n",
       " 8                              5                                zinb  \n",
       " 9                              5                                zinb  \n",
       " 10                             5                                zinb  \n",
       " 11                             5                                zinb  \n",
       " 12                             5                                zinb  \n",
       " 13                             5                                zinb  \n",
       " 14                             5                                zinb  \n",
       " 15                             5                                zinb  \n",
       " 16                             5                                zinb  \n",
       " 17                             5                                zinb  \n",
       " 18                             5                                zinb  \n",
       " 19                             5                                zinb  ,\n",
       " 'best_checkpoints': [],\n",
       " '_storage_filesystem': <pyarrow._fs.LocalFileSystem at 0x7fee90d760f0>}"
      ]
     },
     "execution_count": 28,
     "metadata": {},
     "output_type": "execute_result"
    }
   ],
   "source": [
    "best_result.__dict__"
   ]
  },
  {
   "cell_type": "markdown",
   "id": "d424d19d-af3b-4f5e-b50f-2b1494bdd06a",
   "metadata": {},
   "source": [
    "## Tuning comparison"
   ]
  },
  {
   "cell_type": "code",
   "execution_count": 73,
   "id": "ade88444-30bb-433a-915c-52a570c16b4a",
   "metadata": {},
   "outputs": [
    {
     "name": "stdout",
     "output_type": "stream",
     "text": [
      "/tmp/ray/session_2024-08-08_13-37-30_046242_94/artifacts/2024-08-08_13-37-46/scvi2048_2\n",
      "/tmp/ray/session_2024-08-08_02-12-53_330111_1230/artifacts/2024-08-08_05-50-51/scvi2048\n",
      "/tmp/ray/session_2024-08-08_02-12-53_330111_1230/artifacts/2024-08-08_03-25-39/scvi1024\n"
     ]
    }
   ],
   "source": [
    "!find /tmp -type d -name 'scvi*'"
   ]
  },
  {
   "cell_type": "code",
   "execution_count": 129,
   "id": "8582c7f3-68b2-4602-ad34-76e3739c3d73",
   "metadata": {},
   "outputs": [
    {
     "data": {
      "text/plain": [
       "<hyperopt.pyll.base.Apply at 0x7f4fe87e6b90>"
      ]
     },
     "execution_count": 129,
     "metadata": {},
     "output_type": "execute_result"
    }
   ],
   "source": [
    "import pickle\n",
    "file_path = '/tmp/ray/session_2024-08-08_02-12-53_330111_1230/artifacts/2024-08-08_03-25-39/scvi1024/driver_artifacts/searcher-state-2024-08-08_03-25-39.pkl'\n",
    "\n",
    "\n",
    "with open(file_path, 'rb') as f:\n",
    "    data = pickle.load(f)\n",
    "\n",
    "data['_space']['model_params']['n_hidden']"
   ]
  },
  {
   "cell_type": "code",
   "execution_count": 143,
   "id": "022e4432-eb5c-4e49-8a4d-4757c85244e0",
   "metadata": {},
   "outputs": [
    {
     "name": "stdout",
     "output_type": "stream",
     "text": [
      "Search space: {'n_hidden': [256, 512, 1024], 'n_layers': [3, 4, 5, 6], 'gene_likelihood': ['nb', 'zinb']}\n",
      "Best Configuration: {'model_params': {'n_hidden': 1024, 'n_layers': 5, 'gene_likelihood': 'zinb'}, 'train_params': {'plan_kwargs': {}}}\n",
      "Best Accuracy: 748.1448364257812\n",
      "Epochs: 20\n",
      "Time: 96.944420337677\n",
      "\n",
      "\n",
      "\n",
      "Search space: {'n_hidden': [512, 1024, 2048], 'n_layers': [5, 6, 7], 'gene_likelihood': ['nb', 'zinb']}\n",
      "Best Configuration: {'model_params': {'n_hidden': 1024, 'n_layers': 5, 'gene_likelihood': 'nb'}, 'train_params': {'plan_kwargs': {}}}\n",
      "Best Accuracy: 749.8037109375\n",
      "Epochs: 20\n",
      "Time: 84.13480496406555\n",
      "\n",
      "\n",
      "\n",
      "Search space: {'n_hidden': [512, 1024, 2048], 'n_layers': [5, 6, 7], 'gene_likelihood': ['nb', 'zinb']}\n",
      "Best Configuration: {'model_params': {'n_hidden': 1024, 'n_layers': 6, 'gene_likelihood': 'nb'}}\n",
      "Best Accuracy: 749.8407592773438\n",
      "Epochs: 20\n",
      "Time: 104.96014261245728\n",
      "\n",
      "\n",
      "\n"
     ]
    }
   ],
   "source": [
    "import glob\n",
    "from ray.tune.analysis import ExperimentAnalysis\n",
    "\n",
    "paths = [\n",
    "    '/root/datos/maestria/netopaas/lung_scRNA/LUCA_model/RayTuner/scvi1024',\n",
    "    '/root/datos/maestria/netopaas/lung_scRNA/LUCA_model/RayTuner/scvi2048',\n",
    "    '/root/datos/maestria/netopaas/lung_scRNA/LUCA_model/RayTuner/scvi2048_2',\n",
    "]\n",
    "\n",
    "for path in paths:\n",
    "\n",
    "    # Load the experiment analysis\n",
    "    analysis = ExperimentAnalysis(path)\n",
    "    files = glob.glob(f'{path}/search_gen*')\n",
    "    search_dict = extract_model_params_to_dict(files[0])\n",
    "    \n",
    "    \n",
    "    best_trial = analysis.get_best_trial(metric=\"validation_loss\", mode=\"min\")\n",
    "    \n",
    "    best_config = best_trial.config\n",
    "    \n",
    "    # Get the best result (e.g., accuracy)\n",
    "    best_result = best_trial.metric_analysis['validation_loss']['min']\n",
    "\n",
    "    print(\"Search space:\", search_dict)\n",
    "    print(\"Best Configuration:\", best_config)\n",
    "    print(\"Best Accuracy:\", best_result)\n",
    "    print(\"Epochs:\", best_trial.last_result['training_iteration'])\n",
    "    print(\"Time:\", best_trial.last_result['time_this_iter_s'])\n",
    "    print('\\n\\n')"
   ]
  },
  {
   "cell_type": "code",
   "execution_count": null,
   "id": "ed6cca21-0580-466c-aa2c-6510c6f0fada",
   "metadata": {},
   "outputs": [],
   "source": []
  }
 ],
 "metadata": {
  "kernelspec": {
   "display_name": "Python 3 (ipykernel)",
   "language": "python",
   "name": "python3"
  },
  "language_info": {
   "codemirror_mode": {
    "name": "ipython",
    "version": 3
   },
   "file_extension": ".py",
   "mimetype": "text/x-python",
   "name": "python",
   "nbconvert_exporter": "python",
   "pygments_lexer": "ipython3",
   "version": "3.11.4"
  }
 },
 "nbformat": 4,
 "nbformat_minor": 5
}
