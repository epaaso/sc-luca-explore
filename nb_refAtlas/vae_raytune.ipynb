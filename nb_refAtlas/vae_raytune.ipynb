{
 "cells": [
  {
   "cell_type": "markdown",
   "id": "8114b9ec-d85f-4084-9a4f-0713d4c91ca1",
   "metadata": {},
   "source": [
    "### Ray Tune"
   ]
  },
  {
   "cell_type": "code",
   "execution_count": 10,
   "id": "00d68719-f221-4afa-aaf8-35df8c3bd995",
   "metadata": {
    "id": "h65vCUtezA2R"
   },
   "outputs": [],
   "source": [
    "adata = sc.read_h5ad('/root/datos/maestria/netopaas/luca/data/atlas/extended.h5ad')"
   ]
  },
  {
   "cell_type": "code",
   "execution_count": null,
   "id": "6898721d-e62d-42ed-b820-9ff0206bff9a",
   "metadata": {},
   "outputs": [],
   "source": [
    "condition_key = 'dataset'\n",
    "cell_type_key = 'cell_type_tumor'"
   ]
  },
  {
   "cell_type": "code",
   "execution_count": 11,
   "id": "4fb97a30-176c-4311-80db-94332f1f7644",
   "metadata": {
    "id": "u3ThEfqPWHOV"
   },
   "outputs": [
    {
     "data": {
      "text/plain": [
       "AnnData object with n_obs × n_vars = 1283972 × 17811\n",
       "    obs: 'sample', 'uicc_stage', 'ever_smoker', 'age', 'donor_id', 'origin', 'dataset', 'ann_fine', 'cell_type_predicted', 'doublet_status', 'leiden', 'n_genes_by_counts', 'total_counts', 'total_counts_mito', 'pct_counts_mito', 'ann_coarse', 'cell_type_tumor', 'tumor_stage', 'EGFR_mutation', 'TP53_mutation', 'ALK_mutation', 'BRAF_mutation', 'ERBB2_mutation', 'KRAS_mutation', 'ROS_mutation', 'origin_fine', 'study', 'platform', 'cell_type_major', 'cell_type_neutro', 'cell_type_neutro_coarse', 'suspension_type', 'assay_ontology_term_id', 'cell_type_ontology_term_id', 'development_stage_ontology_term_id', 'disease_ontology_term_id', 'self_reported_ethnicity_ontology_term_id', 'is_primary_data', 'organism_ontology_term_id', 'sex_ontology_term_id', 'tissue_ontology_term_id', 'tissue_type', 'cell_type', 'assay', 'disease', 'organism', 'sex', 'tissue', 'self_reported_ethnicity', 'development_stage', 'observation_joinid'\n",
       "    var: 'is_highly_variable', 'mito', 'n_cells_by_counts', 'mean_counts', 'pct_dropout_by_counts', 'total_counts', 'feature_is_filtered', 'feature_name', 'feature_reference', 'feature_biotype', 'feature_length'\n",
       "    uns: '_scvi', 'ann_fine_colors', 'batch_condition', 'cell_type_major_colors', 'cell_type_tumor_colors', 'citation', 'dataset_colors', 'default_embedding', 'hvg', 'neighbors', 'origin_colors', 'platform_colors', 'schema_reference', 'schema_version', 'title', 'umap'\n",
       "    obsm: 'X_scANVI', 'X_scVI', 'X_umap'\n",
       "    layers: 'count', 'counts_length_scaled'\n",
       "    obsp: 'connectivities', 'distances'"
      ]
     },
     "execution_count": 11,
     "metadata": {},
     "output_type": "execute_result"
    }
   ],
   "source": [
    "adata"
   ]
  },
  {
   "cell_type": "code",
   "execution_count": 12,
   "id": "849e890e-4598-43b4-8e37-0c40b009cca9",
   "metadata": {
    "id": "WWzzDG5wZySj"
   },
   "outputs": [],
   "source": [
    "adata = adata[(adata.obs.origin == 'tumor_primary')]\n",
    "\n",
    "# stages = ['III','III or IV', 'IV']\n",
    "stages = ['I','II','III','III or IV', 'IV']\n",
    "adata = adata[adata.obs.uicc_stage.isin(stages)]\n",
    "\n",
    "# we remove these because some are enriched for endotheliar and some for immune cells\n",
    "studies = [\n",
    "    'Goveia_Carmeliet_2020',\n",
    "    'Leader_Merad_2021','Guo_Zhang_2018']\n",
    "adata = adata[~adata.obs.study.isin(studies)]\n",
    "adata = adata[:, adata.var.is_highly_variable == 'True']"
   ]
  },
  {
   "cell_type": "code",
   "execution_count": 13,
   "id": "300262f2-b66a-439b-ab63-6491caf1d4e3",
   "metadata": {},
   "outputs": [
    {
     "name": "stderr",
     "output_type": "stream",
     "text": [
      "INFO: Global seed set to 0\n",
      "INFO:lightning.fabric.utilities.seed:Global seed set to 0\n"
     ]
    },
    {
     "name": "stdout",
     "output_type": "stream",
     "text": [
      "Last run with scvi-tools version: 1.1.5\n"
     ]
    }
   ],
   "source": [
    "import tempfile\n",
    "\n",
    "import ray\n",
    "import scanpy as sc\n",
    "import scvi\n",
    "import seaborn as sns\n",
    "import torch\n",
    "from ray import tune\n",
    "from scvi import autotune\n",
    "\n",
    "scvi.settings.seed = 0\n",
    "print(\"Last run with scvi-tools version:\", scvi.__version__)\n",
    "\n",
    "sc.set_figure_params(figsize=(6, 6), frameon=False)\n",
    "sns.set_theme()\n",
    "torch.set_float32_matmul_precision(\"high\")\n",
    "save_dir = tempfile.TemporaryDirectory()\n",
    "scvi.settings.logging_dir = save_dir.name\n",
    "\n",
    "%config InlineBackend.print_figure_kwargs={\"facecolor\": \"w\"}\n",
    "%config InlineBackend.figure_format=\"retina\""
   ]
  },
  {
   "cell_type": "code",
   "execution_count": 6,
   "id": "45ca098b-6ddf-43dd-b75f-db4294f7784a",
   "metadata": {},
   "outputs": [],
   "source": [
    "# source_adata = adata.copy()\n",
    "# from scvi.data import synthetic_iid\n",
    "\n",
    "# source_adata = synthetic_iid()"
   ]
  },
  {
   "cell_type": "code",
   "execution_count": 14,
   "id": "b2b526d1-9c45-4064-b056-fd11b45acf8d",
   "metadata": {},
   "outputs": [],
   "source": [
    "adata = adata.copy()"
   ]
  },
  {
   "cell_type": "code",
   "execution_count": 15,
   "id": "e7f80769-1eda-4783-b4ea-90f3e6ced32a",
   "metadata": {
    "scrolled": true
   },
   "outputs": [
    {
     "name": "stderr",
     "output_type": "stream",
     "text": [
      "/usr/local/lib/python3.11/site-packages/scvi/data/fields/_base_field.py:64: UserWarning: adata.X does not contain unnormalized count data. Are you sure this is what you want?\n",
      "  self.validate_field(adata)\n"
     ]
    }
   ],
   "source": [
    "model_cls = scvi.model.SCVI\n",
    "model_cls.setup_anndata(adata, batch_key='dataset', labels_key='cell_type_tumor')"
   ]
  },
  {
   "cell_type": "code",
   "execution_count": 11,
   "id": "d15bea88-1a3a-49e6-8b1b-5f49a49e1607",
   "metadata": {},
   "outputs": [],
   "source": [
    "search_space = {\n",
    "    \"model_params\":{\n",
    "        \"n_hidden\": tune.choice([ 512, 1024, 2048 ]),\n",
    "        \"n_layers\": tune.choice([5,6,7]),\n",
    "        \"gene_likelihood\": tune.choice(['nb','zinb']),\n",
    "    },\n",
    "    \"train_params\":{\n",
    "        'plan_kwargs':tune.choice([{\"reduce_lr_on_plateau\": True}, {\"reduce_lr_on_plateau\": False}])\n",
    "    }\n",
    "}"
   ]
  },
  {
   "cell_type": "code",
   "execution_count": 13,
   "id": "ec64c937-4bd5-445a-b59f-80c7a52d300b",
   "metadata": {
    "scrolled": true
   },
   "outputs": [
    {
     "data": {
      "text/html": [
       "<div class=\"tuneStatus\">\n",
       "  <div style=\"display: flex;flex-direction: row\">\n",
       "    <div style=\"display: flex;flex-direction: column;\">\n",
       "      <h3>Tune Status</h3>\n",
       "      <table>\n",
       "<tbody>\n",
       "<tr><td>Current time:</td><td>2024-08-08 15:21:19</td></tr>\n",
       "<tr><td>Running for: </td><td>01:43:33.74        </td></tr>\n",
       "<tr><td>Memory:      </td><td>575.9/1006.6 GiB   </td></tr>\n",
       "</tbody>\n",
       "</table>\n",
       "    </div>\n",
       "    <div class=\"vDivider\"></div>\n",
       "    <div class=\"systemInfo\">\n",
       "      <h3>System Info</h3>\n",
       "      Using AsyncHyperBand: num_stopped=16<br>Bracket: Iter 64.000: None | Iter 32.000: None | Iter 16.000: -751.5980224609375 | Iter 8.000: -756.2013549804688 | Iter 4.000: -761.465087890625 | Iter 2.000: -774.6576538085938 | Iter 1.000: -795.3478393554688<br>Logical resource usage: 66.0/80 CPUs, 0.75/1 GPUs (0.0/1.0 accelerator_type:G)\n",
       "    </div>\n",
       "    \n",
       "  </div>\n",
       "  <div class=\"hDivider\"></div>\n",
       "  <div class=\"trialStatus\">\n",
       "    <h3>Trial Status</h3>\n",
       "    <table>\n",
       "<thead>\n",
       "<tr><th>Trial name         </th><th>status    </th><th>loc             </th><th>model_params/gene_li\n",
       "kelihood     </th><th style=\"text-align: right;\">     model_params/n_hidde\n",
       "n</th><th style=\"text-align: right;\">  model_params/n_layer\n",
       "s</th><th style=\"text-align: right;\">  iter</th><th style=\"text-align: right;\">  total time (s)</th><th style=\"text-align: right;\">  validation_loss</th></tr>\n",
       "</thead>\n",
       "<tbody>\n",
       "<tr><td>_trainable_d48bdb71</td><td>RUNNING   </td><td>172.17.0.2:11638</td><td>nb  </td><td style=\"text-align: right;\">1024</td><td style=\"text-align: right;\">5</td><td style=\"text-align: right;\">     3</td><td style=\"text-align: right;\">        1403.91 </td><td style=\"text-align: right;\">          764.247</td></tr>\n",
       "<tr><td>_trainable_4fb299a4</td><td>RUNNING   </td><td>172.17.0.2:12303</td><td>zinb</td><td style=\"text-align: right;\"> 512</td><td style=\"text-align: right;\">6</td><td style=\"text-align: right;\">     1</td><td style=\"text-align: right;\">         338.014</td><td style=\"text-align: right;\">          792.089</td></tr>\n",
       "<tr><td>_trainable_6763d53e</td><td>PENDING   </td><td>                </td><td>nb  </td><td style=\"text-align: right;\"> 512</td><td style=\"text-align: right;\">7</td><td style=\"text-align: right;\">      </td><td style=\"text-align: right;\">                </td><td style=\"text-align: right;\">                 </td></tr>\n",
       "<tr><td>_trainable_6cf80f80</td><td>TERMINATED</td><td>172.17.0.2:6840 </td><td>nb  </td><td style=\"text-align: right;\">2048</td><td style=\"text-align: right;\">7</td><td style=\"text-align: right;\">     1</td><td style=\"text-align: right;\">         367.571</td><td style=\"text-align: right;\">          835.669</td></tr>\n",
       "<tr><td>_trainable_53882f25</td><td>TERMINATED</td><td>172.17.0.2:7208 </td><td>nb  </td><td style=\"text-align: right;\">1024</td><td style=\"text-align: right;\">6</td><td style=\"text-align: right;\">    20</td><td style=\"text-align: right;\">        2977.18 </td><td style=\"text-align: right;\">          750.177</td></tr>\n",
       "<tr><td>_trainable_1844f66d</td><td>TERMINATED</td><td>172.17.0.2:7444 </td><td>zinb</td><td style=\"text-align: right;\">2048</td><td style=\"text-align: right;\">7</td><td style=\"text-align: right;\">     1</td><td style=\"text-align: right;\">         482.594</td><td style=\"text-align: right;\">          854.169</td></tr>\n",
       "<tr><td>_trainable_46e3a77a</td><td>TERMINATED</td><td>172.17.0.2:7782 </td><td>nb  </td><td style=\"text-align: right;\">1024</td><td style=\"text-align: right;\">5</td><td style=\"text-align: right;\">     4</td><td style=\"text-align: right;\">         551.264</td><td style=\"text-align: right;\">          759.085</td></tr>\n",
       "<tr><td>_trainable_db792fd2</td><td>TERMINATED</td><td>172.17.0.2:8031 </td><td>zinb</td><td style=\"text-align: right;\"> 512</td><td style=\"text-align: right;\">7</td><td style=\"text-align: right;\">     2</td><td style=\"text-align: right;\">         307.559</td><td style=\"text-align: right;\">          777.508</td></tr>\n",
       "<tr><td>_trainable_8778860e</td><td>TERMINATED</td><td>172.17.0.2:8336 </td><td>zinb</td><td style=\"text-align: right;\">2048</td><td style=\"text-align: right;\">6</td><td style=\"text-align: right;\">     1</td><td style=\"text-align: right;\">         412.1  </td><td style=\"text-align: right;\">          803.883</td></tr>\n",
       "<tr><td>_trainable_1fe49448</td><td>TERMINATED</td><td>172.17.0.2:8577 </td><td>nb  </td><td style=\"text-align: right;\">1024</td><td style=\"text-align: right;\">7</td><td style=\"text-align: right;\">     4</td><td style=\"text-align: right;\">         707.352</td><td style=\"text-align: right;\">          759.203</td></tr>\n",
       "<tr><td>_trainable_a19c4bb8</td><td>TERMINATED</td><td>172.17.0.2:8871 </td><td>nb  </td><td style=\"text-align: right;\">2048</td><td style=\"text-align: right;\">5</td><td style=\"text-align: right;\">     2</td><td style=\"text-align: right;\">         595.536</td><td style=\"text-align: right;\">          798.747</td></tr>\n",
       "<tr><td>_trainable_157d6928</td><td>TERMINATED</td><td>172.17.0.2:9191 </td><td>nb  </td><td style=\"text-align: right;\">2048</td><td style=\"text-align: right;\">5</td><td style=\"text-align: right;\">     2</td><td style=\"text-align: right;\">         617.439</td><td style=\"text-align: right;\">          798.747</td></tr>\n",
       "<tr><td>_trainable_f57b5c34</td><td>TERMINATED</td><td>172.17.0.2:9462 </td><td>zinb</td><td style=\"text-align: right;\">2048</td><td style=\"text-align: right;\">6</td><td style=\"text-align: right;\">     1</td><td style=\"text-align: right;\">         446.141</td><td style=\"text-align: right;\">          803.883</td></tr>\n",
       "<tr><td>_trainable_037b4aa5</td><td>TERMINATED</td><td>172.17.0.2:9761 </td><td>nb  </td><td style=\"text-align: right;\">2048</td><td style=\"text-align: right;\">5</td><td style=\"text-align: right;\">     1</td><td style=\"text-align: right;\">         907.229</td><td style=\"text-align: right;\">         1044.99 </td></tr>\n",
       "<tr><td>_trainable_272d847b</td><td>TERMINATED</td><td>172.17.0.2:9980 </td><td>zinb</td><td style=\"text-align: right;\"> 512</td><td style=\"text-align: right;\">6</td><td style=\"text-align: right;\">     4</td><td style=\"text-align: right;\">        1553.84 </td><td style=\"text-align: right;\">          761.465</td></tr>\n",
       "<tr><td>_trainable_594ef8bf</td><td>TERMINATED</td><td>172.17.0.2:10357</td><td>zinb</td><td style=\"text-align: right;\">2048</td><td style=\"text-align: right;\">7</td><td style=\"text-align: right;\">     1</td><td style=\"text-align: right;\">        1386.58 </td><td style=\"text-align: right;\">          826.133</td></tr>\n",
       "<tr><td>_trainable_c6585c80</td><td>TERMINATED</td><td>172.17.0.2:10624</td><td>zinb</td><td style=\"text-align: right;\"> 512</td><td style=\"text-align: right;\">6</td><td style=\"text-align: right;\">     4</td><td style=\"text-align: right;\">        1408.15 </td><td style=\"text-align: right;\">          761.465</td></tr>\n",
       "<tr><td>_trainable_efdd5027</td><td>TERMINATED</td><td>172.17.0.2:11017</td><td>nb  </td><td style=\"text-align: right;\"> 512</td><td style=\"text-align: right;\">6</td><td style=\"text-align: right;\">     4</td><td style=\"text-align: right;\">        1148.6  </td><td style=\"text-align: right;\">          761.79 </td></tr>\n",
       "<tr><td>_trainable_491e2b1f</td><td>TERMINATED</td><td>172.17.0.2:11365</td><td>nb  </td><td style=\"text-align: right;\"> 512</td><td style=\"text-align: right;\">7</td><td style=\"text-align: right;\">     4</td><td style=\"text-align: right;\">        1136.35 </td><td style=\"text-align: right;\">          762.353</td></tr>\n",
       "<tr><td>_trainable_26b9f232</td><td>TERMINATED</td><td>172.17.0.2:11958</td><td>nb  </td><td style=\"text-align: right;\">2048</td><td style=\"text-align: right;\">6</td><td style=\"text-align: right;\">     1</td><td style=\"text-align: right;\">        1128.23 </td><td style=\"text-align: right;\">          833.297</td></tr>\n",
       "</tbody>\n",
       "</table>\n",
       "  </div>\n",
       "</div>\n",
       "<style>\n",
       ".tuneStatus {\n",
       "  color: var(--jp-ui-font-color1);\n",
       "}\n",
       ".tuneStatus .systemInfo {\n",
       "  display: flex;\n",
       "  flex-direction: column;\n",
       "}\n",
       ".tuneStatus td {\n",
       "  white-space: nowrap;\n",
       "}\n",
       ".tuneStatus .trialStatus {\n",
       "  display: flex;\n",
       "  flex-direction: column;\n",
       "}\n",
       ".tuneStatus h3 {\n",
       "  font-weight: bold;\n",
       "}\n",
       ".tuneStatus .hDivider {\n",
       "  border-bottom-width: var(--jp-border-width);\n",
       "  border-bottom-color: var(--jp-border-color0);\n",
       "  border-bottom-style: solid;\n",
       "}\n",
       ".tuneStatus .vDivider {\n",
       "  border-left-width: var(--jp-border-width);\n",
       "  border-left-color: var(--jp-border-color0);\n",
       "  border-left-style: solid;\n",
       "  margin: 0.5em 1em 0.5em 1em;\n",
       "}\n",
       "</style>\n"
      ],
      "text/plain": [
       "<IPython.core.display.HTML object>"
      ]
     },
     "metadata": {},
     "output_type": "display_data"
    },
    {
     "ename": "KeyError",
     "evalue": "'model_params/gene_likelihood'",
     "output_type": "error",
     "traceback": [
      "\u001b[0;31m---------------------------------------------------------------------------\u001b[0m",
      "\u001b[0;31mKeyError\u001b[0m                                  Traceback (most recent call last)",
      "Cell \u001b[0;32mIn[13], line 1\u001b[0m\n\u001b[0;32m----> 1\u001b[0m scvi_tuner \u001b[38;5;241m=\u001b[39m \u001b[43mautotune\u001b[49m\u001b[38;5;241;43m.\u001b[39;49m\u001b[43mrun_autotune\u001b[49m\u001b[43m(\u001b[49m\u001b[43mmodel_cls\u001b[49m\u001b[43m,\u001b[49m\u001b[43m \u001b[49m\u001b[43madata\u001b[49m\u001b[43m,\u001b[49m\u001b[43m  \u001b[49m\u001b[43mmetrics\u001b[49m\u001b[38;5;241;43m=\u001b[39;49m\u001b[38;5;124;43m\"\u001b[39;49m\u001b[38;5;124;43mvalidation_loss\u001b[39;49m\u001b[38;5;124;43m\"\u001b[39;49m\u001b[43m,\u001b[49m\u001b[43m \u001b[49m\u001b[43mmode\u001b[49m\u001b[38;5;241;43m=\u001b[39;49m\u001b[38;5;124;43m'\u001b[39;49m\u001b[38;5;124;43mmin\u001b[39;49m\u001b[38;5;124;43m'\u001b[39;49m\u001b[43m,\u001b[49m\n\u001b[1;32m      2\u001b[0m \u001b[43m    \u001b[49m\u001b[43msearch_space\u001b[49m\u001b[38;5;241;43m=\u001b[39;49m\u001b[43msearch_space\u001b[49m\u001b[43m,\u001b[49m\n\u001b[1;32m      3\u001b[0m \u001b[43m    \u001b[49m\u001b[43mnum_samples\u001b[49m\u001b[38;5;241;43m=\u001b[39;49m\u001b[38;5;241;43m50\u001b[39;49m\u001b[43m,\u001b[49m\n\u001b[1;32m      4\u001b[0m \u001b[43m    \u001b[49m\u001b[43mresources\u001b[49m\u001b[38;5;241;43m=\u001b[39;49m\u001b[43m{\u001b[49m\u001b[38;5;124;43m\"\u001b[39;49m\u001b[38;5;124;43mcpu\u001b[39;49m\u001b[38;5;124;43m\"\u001b[39;49m\u001b[43m:\u001b[49m\u001b[43m \u001b[49m\u001b[38;5;241;43m22\u001b[39;49m\u001b[43m,\u001b[49m\u001b[43m \u001b[49m\u001b[38;5;124;43m'\u001b[39;49m\u001b[38;5;124;43mgpu\u001b[39;49m\u001b[38;5;124;43m'\u001b[39;49m\u001b[43m:\u001b[49m\u001b[38;5;241;43m0.25\u001b[39;49m\u001b[43m}\u001b[49m\u001b[43m,\u001b[49m\n\u001b[1;32m      5\u001b[0m \u001b[43m    \u001b[49m\u001b[43mexperiment_name\u001b[49m\u001b[38;5;241;43m=\u001b[39;49m\u001b[38;5;124;43m'\u001b[39;49m\u001b[38;5;124;43mscvi2048_2\u001b[39;49m\u001b[38;5;124;43m'\u001b[39;49m\u001b[43m,\u001b[49m\n\u001b[1;32m      6\u001b[0m \u001b[43m    \u001b[49m\u001b[43msearcher_kwargs\u001b[49m\u001b[38;5;241;43m=\u001b[39;49m\u001b[43m{\u001b[49m\u001b[38;5;124;43m'\u001b[39;49m\u001b[38;5;124;43mpoints_to_evaluate\u001b[39;49m\u001b[38;5;124;43m'\u001b[39;49m\u001b[43m:\u001b[49m\u001b[43m[\u001b[49m\u001b[43m{\u001b[49m\u001b[38;5;124;43m'\u001b[39;49m\u001b[38;5;124;43mmodel_params\u001b[39;49m\u001b[38;5;124;43m'\u001b[39;49m\u001b[43m:\u001b[49m\u001b[43m{\u001b[49m\n\u001b[1;32m      7\u001b[0m \u001b[43m                                        \u001b[49m\u001b[38;5;124;43m\"\u001b[39;49m\u001b[38;5;124;43mn_hidden\u001b[39;49m\u001b[38;5;124;43m\"\u001b[39;49m\u001b[43m:\u001b[49m\u001b[43m \u001b[49m\u001b[38;5;241;43m2048\u001b[39;49m\u001b[43m,\u001b[49m\n\u001b[1;32m      8\u001b[0m \u001b[43m                                        \u001b[49m\u001b[38;5;124;43m\"\u001b[39;49m\u001b[38;5;124;43mn_layers\u001b[39;49m\u001b[38;5;124;43m\"\u001b[39;49m\u001b[43m:\u001b[49m\u001b[43m \u001b[49m\u001b[38;5;241;43m7\u001b[39;49m\u001b[43m,\u001b[49m\n\u001b[1;32m      9\u001b[0m \u001b[43m                                        \u001b[49m\u001b[38;5;124;43m\"\u001b[39;49m\u001b[38;5;124;43mgene_likelihood\u001b[39;49m\u001b[38;5;124;43m\"\u001b[39;49m\u001b[43m:\u001b[49m\u001b[43m \u001b[49m\u001b[38;5;124;43m'\u001b[39;49m\u001b[38;5;124;43mnb\u001b[39;49m\u001b[38;5;124;43m'\u001b[39;49m\u001b[43m,\u001b[49m\n\u001b[1;32m     10\u001b[0m \u001b[43m                                  \u001b[49m\u001b[43m}\u001b[49m\u001b[43m}\u001b[49m\u001b[43m]\u001b[49m\u001b[43m}\u001b[49m\u001b[43m)\u001b[49m\n",
      "File \u001b[0;32m/usr/local/lib/python3.11/site-packages/scvi/autotune/_tune.py:128\u001b[0m, in \u001b[0;36mrun_autotune\u001b[0;34m(model_cls, data, metrics, mode, search_space, num_samples, scheduler, searcher, seed, resources, experiment_name, logging_dir, scheduler_kwargs, searcher_kwargs)\u001b[0m\n\u001b[1;32m    126\u001b[0m logger\u001b[38;5;241m.\u001b[39minfo(\u001b[38;5;124mf\u001b[39m\u001b[38;5;124m\"\u001b[39m\u001b[38;5;124mRunning autotune experiment \u001b[39m\u001b[38;5;132;01m{\u001b[39;00mexperiment\u001b[38;5;241m.\u001b[39mname\u001b[38;5;132;01m}\u001b[39;00m\u001b[38;5;124m.\u001b[39m\u001b[38;5;124m\"\u001b[39m)\n\u001b[1;32m    127\u001b[0m init(log_to_driver\u001b[38;5;241m=\u001b[39m\u001b[38;5;28;01mFalse\u001b[39;00m, ignore_reinit_error\u001b[38;5;241m=\u001b[39m\u001b[38;5;28;01mTrue\u001b[39;00m)\n\u001b[0;32m--> 128\u001b[0m experiment\u001b[38;5;241m.\u001b[39mresult_grid \u001b[38;5;241m=\u001b[39m \u001b[43mexperiment\u001b[49m\u001b[38;5;241;43m.\u001b[39;49m\u001b[43mget_tuner\u001b[49m\u001b[43m(\u001b[49m\u001b[43m)\u001b[49m\u001b[38;5;241;43m.\u001b[39;49m\u001b[43mfit\u001b[49m\u001b[43m(\u001b[49m\u001b[43m)\u001b[49m\n\u001b[1;32m    129\u001b[0m \u001b[38;5;28;01mreturn\u001b[39;00m experiment\n",
      "File \u001b[0;32m/usr/local/lib/python3.11/site-packages/ray/tune/tuner.py:377\u001b[0m, in \u001b[0;36mTuner.fit\u001b[0;34m(self)\u001b[0m\n\u001b[1;32m    345\u001b[0m \u001b[38;5;250m\u001b[39m\u001b[38;5;124;03m\"\"\"Executes hyperparameter tuning job as configured and returns result.\u001b[39;00m\n\u001b[1;32m    346\u001b[0m \n\u001b[1;32m    347\u001b[0m \u001b[38;5;124;03mFailure handling:\u001b[39;00m\n\u001b[0;32m   (...)\u001b[0m\n\u001b[1;32m    373\u001b[0m \u001b[38;5;124;03m    RayTaskError: If user-provided trainable raises an exception\u001b[39;00m\n\u001b[1;32m    374\u001b[0m \u001b[38;5;124;03m\"\"\"\u001b[39;00m\n\u001b[1;32m    376\u001b[0m \u001b[38;5;28;01mif\u001b[39;00m \u001b[38;5;129;01mnot\u001b[39;00m \u001b[38;5;28mself\u001b[39m\u001b[38;5;241m.\u001b[39m_is_ray_client:\n\u001b[0;32m--> 377\u001b[0m     \u001b[38;5;28;01mreturn\u001b[39;00m \u001b[38;5;28;43mself\u001b[39;49m\u001b[38;5;241;43m.\u001b[39;49m\u001b[43m_local_tuner\u001b[49m\u001b[38;5;241;43m.\u001b[39;49m\u001b[43mfit\u001b[49m\u001b[43m(\u001b[49m\u001b[43m)\u001b[49m\n\u001b[1;32m    378\u001b[0m \u001b[38;5;28;01melse\u001b[39;00m:\n\u001b[1;32m    379\u001b[0m     (\n\u001b[1;32m    380\u001b[0m         progress_reporter,\n\u001b[1;32m    381\u001b[0m         string_queue,\n\u001b[1;32m    382\u001b[0m     ) \u001b[38;5;241m=\u001b[39m \u001b[38;5;28mself\u001b[39m\u001b[38;5;241m.\u001b[39m_prepare_remote_tuner_for_jupyter_progress_reporting()\n",
      "File \u001b[0;32m/usr/local/lib/python3.11/site-packages/ray/tune/impl/tuner_internal.py:476\u001b[0m, in \u001b[0;36mTunerInternal.fit\u001b[0;34m(self)\u001b[0m\n\u001b[1;32m    474\u001b[0m param_space \u001b[38;5;241m=\u001b[39m copy\u001b[38;5;241m.\u001b[39mdeepcopy(\u001b[38;5;28mself\u001b[39m\u001b[38;5;241m.\u001b[39mparam_space)\n\u001b[1;32m    475\u001b[0m \u001b[38;5;28;01mif\u001b[39;00m \u001b[38;5;129;01mnot\u001b[39;00m \u001b[38;5;28mself\u001b[39m\u001b[38;5;241m.\u001b[39m_is_restored:\n\u001b[0;32m--> 476\u001b[0m     analysis \u001b[38;5;241m=\u001b[39m \u001b[38;5;28;43mself\u001b[39;49m\u001b[38;5;241;43m.\u001b[39;49m\u001b[43m_fit_internal\u001b[49m\u001b[43m(\u001b[49m\u001b[43mtrainable\u001b[49m\u001b[43m,\u001b[49m\u001b[43m \u001b[49m\u001b[43mparam_space\u001b[49m\u001b[43m)\u001b[49m\n\u001b[1;32m    477\u001b[0m \u001b[38;5;28;01melse\u001b[39;00m:\n\u001b[1;32m    478\u001b[0m     analysis \u001b[38;5;241m=\u001b[39m \u001b[38;5;28mself\u001b[39m\u001b[38;5;241m.\u001b[39m_fit_resume(trainable, param_space)\n",
      "File \u001b[0;32m/usr/local/lib/python3.11/site-packages/ray/tune/impl/tuner_internal.py:595\u001b[0m, in \u001b[0;36mTunerInternal._fit_internal\u001b[0;34m(self, trainable, param_space)\u001b[0m\n\u001b[1;32m    582\u001b[0m \u001b[38;5;250m\u001b[39m\u001b[38;5;124;03m\"\"\"Fitting for a fresh Tuner.\"\"\"\u001b[39;00m\n\u001b[1;32m    583\u001b[0m args \u001b[38;5;241m=\u001b[39m {\n\u001b[1;32m    584\u001b[0m     \u001b[38;5;241m*\u001b[39m\u001b[38;5;241m*\u001b[39m\u001b[38;5;28mself\u001b[39m\u001b[38;5;241m.\u001b[39m_get_tune_run_arguments(trainable),\n\u001b[1;32m    585\u001b[0m     \u001b[38;5;241m*\u001b[39m\u001b[38;5;241m*\u001b[39m\u001b[38;5;28mdict\u001b[39m(\n\u001b[0;32m   (...)\u001b[0m\n\u001b[1;32m    593\u001b[0m     \u001b[38;5;241m*\u001b[39m\u001b[38;5;241m*\u001b[39m\u001b[38;5;28mself\u001b[39m\u001b[38;5;241m.\u001b[39m_tuner_kwargs,\n\u001b[1;32m    594\u001b[0m }\n\u001b[0;32m--> 595\u001b[0m analysis \u001b[38;5;241m=\u001b[39m \u001b[43mrun\u001b[49m\u001b[43m(\u001b[49m\n\u001b[1;32m    596\u001b[0m \u001b[43m    \u001b[49m\u001b[38;5;241;43m*\u001b[39;49m\u001b[38;5;241;43m*\u001b[39;49m\u001b[43margs\u001b[49m\u001b[43m,\u001b[49m\n\u001b[1;32m    597\u001b[0m \u001b[43m\u001b[49m\u001b[43m)\u001b[49m\n\u001b[1;32m    598\u001b[0m \u001b[38;5;28mself\u001b[39m\u001b[38;5;241m.\u001b[39mclear_remote_string_queue()\n\u001b[1;32m    599\u001b[0m \u001b[38;5;28;01mreturn\u001b[39;00m analysis\n",
      "File \u001b[0;32m/usr/local/lib/python3.11/site-packages/ray/tune/tune.py:992\u001b[0m, in \u001b[0;36mrun\u001b[0;34m(run_or_experiment, name, metric, mode, stop, time_budget_s, config, resources_per_trial, num_samples, storage_path, storage_filesystem, search_alg, scheduler, checkpoint_config, verbose, progress_reporter, log_to_file, trial_name_creator, trial_dirname_creator, sync_config, export_formats, max_failures, fail_fast, restore, resume, resume_config, reuse_actors, raise_on_failed_trial, callbacks, max_concurrent_trials, keep_checkpoints_num, checkpoint_score_attr, checkpoint_freq, checkpoint_at_end, chdir_to_trial_dir, local_dir, _remote, _remote_string_queue, _entrypoint)\u001b[0m\n\u001b[1;32m    990\u001b[0m \u001b[38;5;28;01mtry\u001b[39;00m:\n\u001b[1;32m    991\u001b[0m     \u001b[38;5;28;01mwhile\u001b[39;00m \u001b[38;5;129;01mnot\u001b[39;00m runner\u001b[38;5;241m.\u001b[39mis_finished() \u001b[38;5;129;01mand\u001b[39;00m \u001b[38;5;129;01mnot\u001b[39;00m experiment_interrupted_event\u001b[38;5;241m.\u001b[39mis_set():\n\u001b[0;32m--> 992\u001b[0m         \u001b[43mrunner\u001b[49m\u001b[38;5;241;43m.\u001b[39;49m\u001b[43mstep\u001b[49m\u001b[43m(\u001b[49m\u001b[43m)\u001b[49m\n\u001b[1;32m    993\u001b[0m         \u001b[38;5;28;01mif\u001b[39;00m has_verbosity(Verbosity\u001b[38;5;241m.\u001b[39mV1_EXPERIMENT):\n\u001b[1;32m    994\u001b[0m             _report_progress(runner, progress_reporter)\n",
      "File \u001b[0;32m/usr/local/lib/python3.11/site-packages/ray/tune/execution/tune_controller.py:679\u001b[0m, in \u001b[0;36mTuneController.step\u001b[0;34m(self)\u001b[0m\n\u001b[1;32m    674\u001b[0m     \u001b[38;5;28mself\u001b[39m\u001b[38;5;241m.\u001b[39m_callbacks\u001b[38;5;241m.\u001b[39mon_step_begin(\n\u001b[1;32m    675\u001b[0m         iteration\u001b[38;5;241m=\u001b[39m\u001b[38;5;28mself\u001b[39m\u001b[38;5;241m.\u001b[39m_iteration, trials\u001b[38;5;241m=\u001b[39m\u001b[38;5;28mself\u001b[39m\u001b[38;5;241m.\u001b[39m_trials\n\u001b[1;32m    676\u001b[0m     )\n\u001b[1;32m    678\u001b[0m \u001b[38;5;66;03m# Ask searcher for more trials\u001b[39;00m\n\u001b[0;32m--> 679\u001b[0m \u001b[38;5;28;43mself\u001b[39;49m\u001b[38;5;241;43m.\u001b[39;49m\u001b[43m_maybe_update_trial_queue\u001b[49m\u001b[43m(\u001b[49m\u001b[43m)\u001b[49m\n\u001b[1;32m    681\u001b[0m \u001b[38;5;66;03m# Start actors for added trials\u001b[39;00m\n\u001b[1;32m    682\u001b[0m \u001b[38;5;28mself\u001b[39m\u001b[38;5;241m.\u001b[39m_maybe_add_actors()\n",
      "File \u001b[0;32m/usr/local/lib/python3.11/site-packages/ray/tune/execution/tune_controller.py:779\u001b[0m, in \u001b[0;36mTuneController._maybe_update_trial_queue\u001b[0;34m(self)\u001b[0m\n\u001b[1;32m    774\u001b[0m dont_wait_for_trial \u001b[38;5;241m=\u001b[39m (\n\u001b[1;32m    775\u001b[0m     \u001b[38;5;28mself\u001b[39m\u001b[38;5;241m.\u001b[39m_pending_trials \u001b[38;5;129;01mor\u001b[39;00m \u001b[38;5;28mself\u001b[39m\u001b[38;5;241m.\u001b[39m_running_trials \u001b[38;5;129;01mor\u001b[39;00m \u001b[38;5;28mself\u001b[39m\u001b[38;5;241m.\u001b[39m_paused_trials\n\u001b[1;32m    776\u001b[0m )\n\u001b[1;32m    778\u001b[0m \u001b[38;5;28;01mwhile\u001b[39;00m \u001b[38;5;28mlen\u001b[39m(\u001b[38;5;28mself\u001b[39m\u001b[38;5;241m.\u001b[39m_pending_trials) \u001b[38;5;241m<\u001b[39m \u001b[38;5;28mself\u001b[39m\u001b[38;5;241m.\u001b[39m_max_pending_trials:\n\u001b[0;32m--> 779\u001b[0m     \u001b[38;5;28;01mif\u001b[39;00m \u001b[38;5;129;01mnot\u001b[39;00m \u001b[38;5;28;43mself\u001b[39;49m\u001b[38;5;241;43m.\u001b[39;49m\u001b[43m_update_trial_queue\u001b[49m\u001b[43m(\u001b[49m\u001b[43mblocking\u001b[49m\u001b[38;5;241;43m=\u001b[39;49m\u001b[38;5;129;43;01mnot\u001b[39;49;00m\u001b[43m \u001b[49m\u001b[43mdont_wait_for_trial\u001b[49m\u001b[43m)\u001b[49m:\n\u001b[1;32m    780\u001b[0m         \u001b[38;5;28;01mbreak\u001b[39;00m\n\u001b[1;32m    781\u001b[0m     dont_wait_for_trial \u001b[38;5;241m=\u001b[39m \u001b[38;5;28;01mTrue\u001b[39;00m\n",
      "File \u001b[0;32m/usr/local/lib/python3.11/site-packages/ray/tune/execution/tune_controller.py:568\u001b[0m, in \u001b[0;36mTuneController._update_trial_queue\u001b[0;34m(self, blocking, timeout)\u001b[0m\n\u001b[1;32m    555\u001b[0m \u001b[38;5;28;01mdef\u001b[39;00m \u001b[38;5;21m_update_trial_queue\u001b[39m(\u001b[38;5;28mself\u001b[39m, blocking: \u001b[38;5;28mbool\u001b[39m \u001b[38;5;241m=\u001b[39m \u001b[38;5;28;01mFalse\u001b[39;00m, timeout: \u001b[38;5;28mint\u001b[39m \u001b[38;5;241m=\u001b[39m \u001b[38;5;241m600\u001b[39m) \u001b[38;5;241m-\u001b[39m\u001b[38;5;241m>\u001b[39m \u001b[38;5;28mbool\u001b[39m:\n\u001b[1;32m    556\u001b[0m \u001b[38;5;250m    \u001b[39m\u001b[38;5;124;03m\"\"\"Adds next trials to queue if possible.\u001b[39;00m\n\u001b[1;32m    557\u001b[0m \n\u001b[1;32m    558\u001b[0m \u001b[38;5;124;03m    Note that the timeout is currently unexposed to the user.\u001b[39;00m\n\u001b[0;32m   (...)\u001b[0m\n\u001b[1;32m    566\u001b[0m \u001b[38;5;124;03m        Boolean indicating if a new trial was created or not.\u001b[39;00m\n\u001b[1;32m    567\u001b[0m \u001b[38;5;124;03m    \"\"\"\u001b[39;00m\n\u001b[0;32m--> 568\u001b[0m     trial \u001b[38;5;241m=\u001b[39m \u001b[38;5;28;43mself\u001b[39;49m\u001b[38;5;241;43m.\u001b[39;49m\u001b[43m_search_alg\u001b[49m\u001b[38;5;241;43m.\u001b[39;49m\u001b[43mnext_trial\u001b[49m\u001b[43m(\u001b[49m\u001b[43m)\u001b[49m\n\u001b[1;32m    569\u001b[0m     \u001b[38;5;28;01mif\u001b[39;00m blocking \u001b[38;5;129;01mand\u001b[39;00m \u001b[38;5;129;01mnot\u001b[39;00m trial:\n\u001b[1;32m    570\u001b[0m         start \u001b[38;5;241m=\u001b[39m time\u001b[38;5;241m.\u001b[39mtime()\n",
      "File \u001b[0;32m/usr/local/lib/python3.11/site-packages/ray/tune/search/search_generator.py:99\u001b[0m, in \u001b[0;36mSearchGenerator.next_trial\u001b[0;34m(self)\u001b[0m\n\u001b[1;32m     93\u001b[0m \u001b[38;5;250m\u001b[39m\u001b[38;5;124;03m\"\"\"Provides one Trial object to be queued into the TrialRunner.\u001b[39;00m\n\u001b[1;32m     94\u001b[0m \n\u001b[1;32m     95\u001b[0m \u001b[38;5;124;03mReturns:\u001b[39;00m\n\u001b[1;32m     96\u001b[0m \u001b[38;5;124;03m    Trial: Returns a single trial.\u001b[39;00m\n\u001b[1;32m     97\u001b[0m \u001b[38;5;124;03m\"\"\"\u001b[39;00m\n\u001b[1;32m     98\u001b[0m \u001b[38;5;28;01mif\u001b[39;00m \u001b[38;5;129;01mnot\u001b[39;00m \u001b[38;5;28mself\u001b[39m\u001b[38;5;241m.\u001b[39mis_finished():\n\u001b[0;32m---> 99\u001b[0m     \u001b[38;5;28;01mreturn\u001b[39;00m \u001b[38;5;28;43mself\u001b[39;49m\u001b[38;5;241;43m.\u001b[39;49m\u001b[43mcreate_trial_if_possible\u001b[49m\u001b[43m(\u001b[49m\u001b[38;5;28;43mself\u001b[39;49m\u001b[38;5;241;43m.\u001b[39;49m\u001b[43m_experiment\u001b[49m\u001b[38;5;241;43m.\u001b[39;49m\u001b[43mspec\u001b[49m\u001b[43m)\u001b[49m\n\u001b[1;32m    100\u001b[0m \u001b[38;5;28;01mreturn\u001b[39;00m \u001b[38;5;28;01mNone\u001b[39;00m\n",
      "File \u001b[0;32m/usr/local/lib/python3.11/site-packages/ray/tune/search/search_generator.py:105\u001b[0m, in \u001b[0;36mSearchGenerator.create_trial_if_possible\u001b[0;34m(self, experiment_spec)\u001b[0m\n\u001b[1;32m    103\u001b[0m logger\u001b[38;5;241m.\u001b[39mdebug(\u001b[38;5;124m\"\u001b[39m\u001b[38;5;124mcreating trial\u001b[39m\u001b[38;5;124m\"\u001b[39m)\n\u001b[1;32m    104\u001b[0m trial_id \u001b[38;5;241m=\u001b[39m Trial\u001b[38;5;241m.\u001b[39mgenerate_id()\n\u001b[0;32m--> 105\u001b[0m suggested_config \u001b[38;5;241m=\u001b[39m \u001b[38;5;28;43mself\u001b[39;49m\u001b[38;5;241;43m.\u001b[39;49m\u001b[43msearcher\u001b[49m\u001b[38;5;241;43m.\u001b[39;49m\u001b[43msuggest\u001b[49m\u001b[43m(\u001b[49m\u001b[43mtrial_id\u001b[49m\u001b[43m)\u001b[49m\n\u001b[1;32m    106\u001b[0m \u001b[38;5;28;01mif\u001b[39;00m suggested_config \u001b[38;5;241m==\u001b[39m Searcher\u001b[38;5;241m.\u001b[39mFINISHED:\n\u001b[1;32m    107\u001b[0m     \u001b[38;5;28mself\u001b[39m\u001b[38;5;241m.\u001b[39m_finished \u001b[38;5;241m=\u001b[39m \u001b[38;5;28;01mTrue\u001b[39;00m\n",
      "File \u001b[0;32m/usr/local/lib/python3.11/site-packages/ray/tune/search/hyperopt/hyperopt_search.py:321\u001b[0m, in \u001b[0;36mHyperOptSearch.suggest\u001b[0;34m(self, trial_id)\u001b[0m\n\u001b[1;32m    318\u001b[0m \u001b[38;5;28mself\u001b[39m\u001b[38;5;241m.\u001b[39m_hpopt_trials\u001b[38;5;241m.\u001b[39mrefresh()\n\u001b[1;32m    320\u001b[0m \u001b[38;5;66;03m# Get new suggestion from Hyperopt\u001b[39;00m\n\u001b[0;32m--> 321\u001b[0m new_trials \u001b[38;5;241m=\u001b[39m \u001b[38;5;28;43mself\u001b[39;49m\u001b[38;5;241;43m.\u001b[39;49m\u001b[43malgo\u001b[49m\u001b[43m(\u001b[49m\n\u001b[1;32m    322\u001b[0m \u001b[43m    \u001b[49m\u001b[43mnew_ids\u001b[49m\u001b[43m,\u001b[49m\n\u001b[1;32m    323\u001b[0m \u001b[43m    \u001b[49m\u001b[38;5;28;43mself\u001b[39;49m\u001b[38;5;241;43m.\u001b[39;49m\u001b[43mdomain\u001b[49m\u001b[43m,\u001b[49m\n\u001b[1;32m    324\u001b[0m \u001b[43m    \u001b[49m\u001b[38;5;28;43mself\u001b[39;49m\u001b[38;5;241;43m.\u001b[39;49m\u001b[43m_hpopt_trials\u001b[49m\u001b[43m,\u001b[49m\n\u001b[1;32m    325\u001b[0m \u001b[43m    \u001b[49m\u001b[38;5;28;43mself\u001b[39;49m\u001b[38;5;241;43m.\u001b[39;49m\u001b[43mrstate\u001b[49m\u001b[38;5;241;43m.\u001b[39;49m\u001b[43mrandint\u001b[49m\u001b[43m(\u001b[49m\u001b[38;5;241;43m2\u001b[39;49m\u001b[38;5;241;43m*\u001b[39;49m\u001b[38;5;241;43m*\u001b[39;49m\u001b[38;5;241;43m31\u001b[39;49m\u001b[43m \u001b[49m\u001b[38;5;241;43m-\u001b[39;49m\u001b[43m \u001b[49m\u001b[38;5;241;43m1\u001b[39;49m\u001b[43m)\u001b[49m\u001b[43m,\u001b[49m\n\u001b[1;32m    326\u001b[0m \u001b[43m\u001b[49m\u001b[43m)\u001b[49m\n\u001b[1;32m    327\u001b[0m \u001b[38;5;28mself\u001b[39m\u001b[38;5;241m.\u001b[39m_hpopt_trials\u001b[38;5;241m.\u001b[39minsert_trial_docs(new_trials)\n\u001b[1;32m    328\u001b[0m \u001b[38;5;28mself\u001b[39m\u001b[38;5;241m.\u001b[39m_hpopt_trials\u001b[38;5;241m.\u001b[39mrefresh()\n",
      "File \u001b[0;32m/usr/local/lib/python3.11/site-packages/hyperopt/tpe.py:927\u001b[0m, in \u001b[0;36msuggest\u001b[0;34m(new_ids, domain, trials, seed, prior_weight, n_startup_jobs, n_EI_candidates, gamma, verbose)\u001b[0m\n\u001b[1;32m    924\u001b[0m memo[observed_loss[\u001b[38;5;124m\"\u001b[39m\u001b[38;5;124midxs\u001b[39m\u001b[38;5;124m\"\u001b[39m]] \u001b[38;5;241m=\u001b[39m tids\n\u001b[1;32m    925\u001b[0m memo[observed_loss[\u001b[38;5;124m\"\u001b[39m\u001b[38;5;124mvals\u001b[39m\u001b[38;5;124m\"\u001b[39m]] \u001b[38;5;241m=\u001b[39m losses\n\u001b[0;32m--> 927\u001b[0m observed_idxs_dict, observed_vals_dict \u001b[38;5;241m=\u001b[39m \u001b[43mmiscs_to_idxs_vals\u001b[49m\u001b[43m(\u001b[49m\n\u001b[1;32m    928\u001b[0m \u001b[43m    \u001b[49m\u001b[43m[\u001b[49m\u001b[43mdoc\u001b[49m\u001b[43m[\u001b[49m\u001b[38;5;124;43m\"\u001b[39;49m\u001b[38;5;124;43mmisc\u001b[39;49m\u001b[38;5;124;43m\"\u001b[39;49m\u001b[43m]\u001b[49m\u001b[43m \u001b[49m\u001b[38;5;28;43;01mfor\u001b[39;49;00m\u001b[43m \u001b[49m\u001b[43mdoc\u001b[49m\u001b[43m \u001b[49m\u001b[38;5;129;43;01min\u001b[39;49;00m\u001b[43m \u001b[49m\u001b[43mdocs\u001b[49m\u001b[43m]\u001b[49m\u001b[43m,\u001b[49m\u001b[43m \u001b[49m\u001b[43mkeys\u001b[49m\u001b[38;5;241;43m=\u001b[39;49m\u001b[38;5;28;43mlist\u001b[39;49m\u001b[43m(\u001b[49m\u001b[43mdomain\u001b[49m\u001b[38;5;241;43m.\u001b[39;49m\u001b[43mparams\u001b[49m\u001b[38;5;241;43m.\u001b[39;49m\u001b[43mkeys\u001b[49m\u001b[43m(\u001b[49m\u001b[43m)\u001b[49m\u001b[43m)\u001b[49m\n\u001b[1;32m    929\u001b[0m \u001b[43m\u001b[49m\u001b[43m)\u001b[49m\n\u001b[1;32m    930\u001b[0m memo[observed[\u001b[38;5;124m\"\u001b[39m\u001b[38;5;124midxs\u001b[39m\u001b[38;5;124m\"\u001b[39m]] \u001b[38;5;241m=\u001b[39m observed_idxs_dict\n\u001b[1;32m    931\u001b[0m memo[observed[\u001b[38;5;124m\"\u001b[39m\u001b[38;5;124mvals\u001b[39m\u001b[38;5;124m\"\u001b[39m]] \u001b[38;5;241m=\u001b[39m observed_vals_dict\n",
      "File \u001b[0;32m/usr/local/lib/python3.11/site-packages/hyperopt/base.py:199\u001b[0m, in \u001b[0;36mmiscs_to_idxs_vals\u001b[0;34m(miscs, keys)\u001b[0m\n\u001b[1;32m    197\u001b[0m \u001b[38;5;28;01mfor\u001b[39;00m misc \u001b[38;5;129;01min\u001b[39;00m miscs:\n\u001b[1;32m    198\u001b[0m     \u001b[38;5;28;01mfor\u001b[39;00m node_id \u001b[38;5;129;01min\u001b[39;00m idxs:\n\u001b[0;32m--> 199\u001b[0m         t_idxs \u001b[38;5;241m=\u001b[39m \u001b[43mmisc\u001b[49m\u001b[43m[\u001b[49m\u001b[38;5;124;43m\"\u001b[39;49m\u001b[38;5;124;43midxs\u001b[39;49m\u001b[38;5;124;43m\"\u001b[39;49m\u001b[43m]\u001b[49m\u001b[43m[\u001b[49m\u001b[43mnode_id\u001b[49m\u001b[43m]\u001b[49m\n\u001b[1;32m    200\u001b[0m         t_vals \u001b[38;5;241m=\u001b[39m misc[\u001b[38;5;124m\"\u001b[39m\u001b[38;5;124mvals\u001b[39m\u001b[38;5;124m\"\u001b[39m][node_id]\n\u001b[1;32m    201\u001b[0m         \u001b[38;5;28;01massert\u001b[39;00m \u001b[38;5;28mlen\u001b[39m(t_idxs) \u001b[38;5;241m==\u001b[39m \u001b[38;5;28mlen\u001b[39m(t_vals)\n",
      "\u001b[0;31mKeyError\u001b[0m: 'model_params/gene_likelihood'"
     ]
    }
   ],
   "source": [
    "scvi_tuner = autotune.run_autotune(model_cls, adata,  metrics=\"validation_loss\", mode='min',\n",
    "    search_space=search_space,\n",
    "    num_samples=50,\n",
    "    resources={\"cpu\": 22, 'gpu':0.25},\n",
    "    experiment_name='scvi2048_2',\n",
    "    searcher_kwargs={'points_to_evaluate':[{'model_params':{\n",
    "                                        \"n_hidden\": 2048,\n",
    "                                        \"n_layers\": 7,\n",
    "                                        \"gene_likelihood\": 'nb',\n",
    "                                  }}]})"
   ]
  },
  {
   "cell_type": "code",
   "execution_count": 26,
   "id": "4500d71b-61bb-4a33-98cc-1899539f526a",
   "metadata": {
    "scrolled": true
   },
   "outputs": [
    {
     "data": {
      "text/plain": [
       "ResultGrid<[\n",
       "  Result(\n",
       "    metrics={'validation_loss': 754.237548828125},\n",
       "    path='/tmp/tmphrzogsut/scvi1024/scvi1024/_trainable_b87f55fe_1_gene_likelihood=nb,n_hidden=256,n_layers=4_2024-08-08_03-25-39',\n",
       "    filesystem='local',\n",
       "    checkpoint=None\n",
       "  ),\n",
       "  Result(\n",
       "    metrics={'validation_loss': 790.5972900390625},\n",
       "    path='/tmp/tmphrzogsut/scvi1024/scvi1024/_trainable_899e4360_2_gene_likelihood=zinb,n_hidden=1024,n_layers=5_2024-08-08_03-25-51',\n",
       "    filesystem='local',\n",
       "    checkpoint=None\n",
       "  ),\n",
       "  Result(\n",
       "    metrics={'validation_loss': 750.9778442382812},\n",
       "    path='/tmp/tmphrzogsut/scvi1024/scvi1024/_trainable_0a38590b_3_gene_likelihood=nb,n_hidden=512,n_layers=5_2024-08-08_03-26-02',\n",
       "    filesystem='local',\n",
       "    checkpoint=None\n",
       "  ),\n",
       "  Result(\n",
       "    metrics={'validation_loss': 772.2880859375},\n",
       "    path='/tmp/tmphrzogsut/scvi1024/scvi1024/_trainable_af8dd8f4_4_gene_likelihood=nb,n_hidden=512,n_layers=4_2024-08-08_03-26-14',\n",
       "    filesystem='local',\n",
       "    checkpoint=None\n",
       "  ),\n",
       "  Result(\n",
       "    metrics={'validation_loss': 748.1448364257812},\n",
       "    path='/tmp/tmphrzogsut/scvi1024/scvi1024/_trainable_15780a2d_5_gene_likelihood=zinb,n_hidden=1024,n_layers=5_2024-08-08_03-26-25',\n",
       "    filesystem='local',\n",
       "    checkpoint=None\n",
       "  ),\n",
       "  Result(\n",
       "    metrics={'validation_loss': 794.5807495117188},\n",
       "    path='/tmp/tmphrzogsut/scvi1024/scvi1024/_trainable_8571208b_6_gene_likelihood=nb,n_hidden=256,n_layers=5_2024-08-08_03-29-01',\n",
       "    filesystem='local',\n",
       "    checkpoint=None\n",
       "  ),\n",
       "  Result(\n",
       "    metrics={'validation_loss': 797.5274658203125},\n",
       "    path='/tmp/tmphrzogsut/scvi1024/scvi1024/_trainable_d6e2ed89_7_gene_likelihood=nb,n_hidden=256,n_layers=6_2024-08-08_03-30-04',\n",
       "    filesystem='local',\n",
       "    checkpoint=None\n",
       "  ),\n",
       "  Result(\n",
       "    metrics={'validation_loss': 792.52099609375},\n",
       "    path='/tmp/tmphrzogsut/scvi1024/scvi1024/_trainable_4b42a1a6_8_gene_likelihood=nb,n_hidden=512,n_layers=6_2024-08-08_03-31-55',\n",
       "    filesystem='local',\n",
       "    checkpoint=None\n",
       "  ),\n",
       "  Result(\n",
       "    metrics={'validation_loss': 792.52099609375},\n",
       "    path='/tmp/tmphrzogsut/scvi1024/scvi1024/_trainable_6d6ea28e_9_gene_likelihood=nb,n_hidden=512,n_layers=6_2024-08-08_03-33-44',\n",
       "    filesystem='local',\n",
       "    checkpoint=None\n",
       "  ),\n",
       "  Result(\n",
       "    metrics={'validation_loss': 794.5807495117188},\n",
       "    path='/tmp/tmphrzogsut/scvi1024/scvi1024/_trainable_952f51df_10_gene_likelihood=nb,n_hidden=256,n_layers=5_2024-08-08_03-35-57',\n",
       "    filesystem='local',\n",
       "    checkpoint=None\n",
       "  )\n",
       "]>"
      ]
     },
     "execution_count": 26,
     "metadata": {},
     "output_type": "execute_result"
    }
   ],
   "source": [
    "scvi_tuner.result_grid"
   ]
  },
  {
   "cell_type": "code",
   "execution_count": 21,
   "id": "af74d534-43f8-4bd0-b7ce-3bc20d60a23d",
   "metadata": {
    "scrolled": true
   },
   "outputs": [
    {
     "data": {
      "text/plain": [
       "{'_model_cls': scvi.model._scvi.SCVI,\n",
       " '_data': AnnData object with n_obs × n_vars = 402634 × 5989\n",
       "     obs: 'sample', 'uicc_stage', 'ever_smoker', 'age', 'donor_id', 'origin', 'dataset', 'ann_fine', 'cell_type_predicted', 'doublet_status', 'leiden', 'n_genes_by_counts', 'total_counts', 'total_counts_mito', 'pct_counts_mito', 'ann_coarse', 'cell_type_tumor', 'tumor_stage', 'EGFR_mutation', 'TP53_mutation', 'ALK_mutation', 'BRAF_mutation', 'ERBB2_mutation', 'KRAS_mutation', 'ROS_mutation', 'origin_fine', 'study', 'platform', 'cell_type_major', 'cell_type_neutro', 'cell_type_neutro_coarse', 'suspension_type', 'assay_ontology_term_id', 'cell_type_ontology_term_id', 'development_stage_ontology_term_id', 'disease_ontology_term_id', 'self_reported_ethnicity_ontology_term_id', 'is_primary_data', 'organism_ontology_term_id', 'sex_ontology_term_id', 'tissue_ontology_term_id', 'tissue_type', 'cell_type', 'assay', 'disease', 'organism', 'sex', 'tissue', 'self_reported_ethnicity', 'development_stage', 'observation_joinid', '_scvi_batch', '_scvi_labels'\n",
       "     var: 'is_highly_variable', 'mito', 'n_cells_by_counts', 'mean_counts', 'pct_dropout_by_counts', 'total_counts', 'feature_is_filtered', 'feature_name', 'feature_reference', 'feature_biotype', 'feature_length'\n",
       "     uns: '_scvi', 'ann_fine_colors', 'batch_condition', 'cell_type_major_colors', 'cell_type_tumor_colors', 'citation', 'dataset_colors', 'default_embedding', 'hvg', 'neighbors', 'origin_colors', 'platform_colors', 'schema_reference', 'schema_version', 'title', 'umap', '_scvi_uuid', '_scvi_manager_uuid'\n",
       "     obsm: 'X_scANVI', 'X_scVI', 'X_umap'\n",
       "     layers: 'count', 'counts_length_scaled'\n",
       "     obsp: 'connectivities', 'distances',\n",
       " '_setup_method_name': 'setup_anndata',\n",
       " '_setup_method_args': {'layer': None,\n",
       "  'batch_key': 'dataset',\n",
       "  'labels_key': 'cell_type_tumor',\n",
       "  'size_factor_key': None,\n",
       "  'categorical_covariate_keys': None,\n",
       "  'continuous_covariate_keys': None},\n",
       " '_metrics': ['validation_loss'],\n",
       " '_mode': 'min',\n",
       " '_search_space': {'model_params': {'n_hidden': <ray.tune.search.sample.Categorical at 0x7f98b30f9810>,\n",
       "   'n_layers': <ray.tune.search.sample.Categorical at 0x7f98b310ce10>,\n",
       "   'gene_likelihood': <ray.tune.search.sample.Categorical at 0x7f98b316d210>}},\n",
       " '_num_samples': 10,\n",
       " '_seed': 0,\n",
       " '_scheduler_kwargs': {},\n",
       " '_searcher_kwargs': {},\n",
       " '_scheduler': <ray.tune.schedulers.async_hyperband.AsyncHyperBandScheduler at 0x7f98bc004350>,\n",
       " '_searcher': <ray.tune.search.hyperopt.hyperopt_search.HyperOptSearch at 0x7fa4dc9d9090>,\n",
       " '_resources': {'cpu': 50, 'gpu': 1},\n",
       " '_id': '4cda457a-320e-4534-a5da-d121cb98adf5',\n",
       " '_name': 'scvi_4cda457a-320e-4534-a5da-d121cb98adf5',\n",
       " '_logging_dir': '/tmp/tmp6se7q7uq/scvi_4cda457a-320e-4534-a5da-d121cb98adf5',\n",
       " '_result_grid': ResultGrid<[\n",
       "   Result(\n",
       "     metrics={'validation_loss': 755.4465942382812},\n",
       "     path='/tmp/tmp6se7q7uq/scvi_4cda457a-320e-4534-a5da-d121cb98adf5/scvi_4cda457a-320e-4534-a5da-d121cb98adf5/_trainable_b390060a_1_gene_likelihood=nb,n_hidden=256,n_layers=2_2024-08-07_17-19-36',\n",
       "     filesystem='local',\n",
       "     checkpoint=None\n",
       "   ),\n",
       "   Result(\n",
       "     metrics={'validation_loss': 750.2605590820312},\n",
       "     path='/tmp/tmp6se7q7uq/scvi_4cda457a-320e-4534-a5da-d121cb98adf5/scvi_4cda457a-320e-4534-a5da-d121cb98adf5/_trainable_20066b69_2_gene_likelihood=zinb,n_hidden=512,n_layers=3_2024-08-07_17-19-46',\n",
       "     filesystem='local',\n",
       "     checkpoint=None\n",
       "   ),\n",
       "   Result(\n",
       "     metrics={'validation_loss': 793.812744140625},\n",
       "     path='/tmp/tmp6se7q7uq/scvi_4cda457a-320e-4534-a5da-d121cb98adf5/scvi_4cda457a-320e-4534-a5da-d121cb98adf5/_trainable_2f6b2f14_3_gene_likelihood=nb,n_hidden=256,n_layers=1_2024-08-07_17-37-43',\n",
       "     filesystem='local',\n",
       "     checkpoint=None\n",
       "   ),\n",
       "   Result(\n",
       "     metrics={'validation_loss': 797.7709350585938},\n",
       "     path='/tmp/tmp6se7q7uq/scvi_4cda457a-320e-4534-a5da-d121cb98adf5/scvi_4cda457a-320e-4534-a5da-d121cb98adf5/_trainable_4df55a23_4_gene_likelihood=zinb,n_hidden=128,n_layers=3_2024-08-07_18-02-30',\n",
       "     filesystem='local',\n",
       "     checkpoint=None\n",
       "   ),\n",
       "   Result(\n",
       "     metrics={'validation_loss': 751.8154907226562},\n",
       "     path='/tmp/tmp6se7q7uq/scvi_4cda457a-320e-4534-a5da-d121cb98adf5/scvi_4cda457a-320e-4534-a5da-d121cb98adf5/_trainable_c138acf5_5_gene_likelihood=zinb,n_hidden=512,n_layers=2_2024-08-07_18-03-32',\n",
       "     filesystem='local',\n",
       "     checkpoint=None\n",
       "   ),\n",
       "   Result(\n",
       "     metrics={'validation_loss': 771.3327026367188},\n",
       "     path='/tmp/tmp6se7q7uq/scvi_4cda457a-320e-4534-a5da-d121cb98adf5/scvi_4cda457a-320e-4534-a5da-d121cb98adf5/_trainable_63a9abe1_6_gene_likelihood=nb,n_hidden=256,n_layers=3_2024-08-07_18-04-57',\n",
       "     filesystem='local',\n",
       "     checkpoint=None\n",
       "   ),\n",
       "   Result(\n",
       "     metrics={'validation_loss': 792.1300659179688},\n",
       "     path='/tmp/tmp6se7q7uq/scvi_4cda457a-320e-4534-a5da-d121cb98adf5/scvi_4cda457a-320e-4534-a5da-d121cb98adf5/_trainable_bf5876e6_7_gene_likelihood=nb,n_hidden=512,n_layers=1_2024-08-07_18-26-15',\n",
       "     filesystem='local',\n",
       "     checkpoint=None\n",
       "   ),\n",
       "   Result(\n",
       "     metrics={'validation_loss': 792.1300659179688},\n",
       "     path='/tmp/tmp6se7q7uq/scvi_4cda457a-320e-4534-a5da-d121cb98adf5/scvi_4cda457a-320e-4534-a5da-d121cb98adf5/_trainable_c3444dcd_8_gene_likelihood=nb,n_hidden=512,n_layers=1_2024-08-07_18-28-36',\n",
       "     filesystem='local',\n",
       "     checkpoint=None\n",
       "   ),\n",
       "   Result(\n",
       "     metrics={'validation_loss': 751.8154907226562},\n",
       "     path='/tmp/tmp6se7q7uq/scvi_4cda457a-320e-4534-a5da-d121cb98adf5/scvi_4cda457a-320e-4534-a5da-d121cb98adf5/_trainable_61343df8_9_gene_likelihood=zinb,n_hidden=512,n_layers=2_2024-08-07_18-29-42',\n",
       "     filesystem='local',\n",
       "     checkpoint=None\n",
       "   ),\n",
       "   Result(\n",
       "     metrics={'validation_loss': 792.1300659179688},\n",
       "     path='/tmp/tmp6se7q7uq/scvi_4cda457a-320e-4534-a5da-d121cb98adf5/scvi_4cda457a-320e-4534-a5da-d121cb98adf5/_trainable_3d1f9b52_10_gene_likelihood=nb,n_hidden=512,n_layers=1_2024-08-07_18-30-49',\n",
       "     filesystem='local',\n",
       "     checkpoint=None\n",
       "   )\n",
       " ]>}"
      ]
     },
     "execution_count": 21,
     "metadata": {},
     "output_type": "execute_result"
    }
   ],
   "source": [
    "scvi_tuner.__dict__"
   ]
  },
  {
   "cell_type": "code",
   "execution_count": 27,
   "id": "f2c6034e-6f09-4eaa-9cf9-39a44b34d585",
   "metadata": {},
   "outputs": [],
   "source": [
    "best_result = results.get_best_result('validation_loss', mode='min')"
   ]
  },
  {
   "cell_type": "code",
   "execution_count": 28,
   "id": "19e3f804-8c70-494d-bef2-42122e276495",
   "metadata": {
    "scrolled": true
   },
   "outputs": [
    {
     "data": {
      "text/plain": [
       "{'metrics': {'validation_loss': 748.1448364257812,\n",
       "  'timestamp': 1723090185,\n",
       "  'checkpoint_dir_name': None,\n",
       "  'done': True,\n",
       "  'training_iteration': 20,\n",
       "  'trial_id': '15780a2d',\n",
       "  'date': '2024-08-08_04-09-45',\n",
       "  'time_this_iter_s': 96.944420337677,\n",
       "  'time_total_s': 2443.7222259044647,\n",
       "  'pid': 11872,\n",
       "  'hostname': '6ec9f87ec9e7',\n",
       "  'node_ip': '172.17.0.3',\n",
       "  'config': {'model_params': {'n_hidden': 1024,\n",
       "    'n_layers': 5,\n",
       "    'gene_likelihood': 'zinb'},\n",
       "   'train_params': {'plan_kwargs': {}}},\n",
       "  'time_since_restore': 2443.7222259044647,\n",
       "  'iterations_since_restore': 20,\n",
       "  'experiment_tag': '5_gene_likelihood=zinb,n_hidden=1024,n_layers=5'},\n",
       " 'checkpoint': None,\n",
       " 'error': None,\n",
       " 'path': '/tmp/tmphrzogsut/scvi1024/scvi1024/_trainable_15780a2d_5_gene_likelihood=zinb,n_hidden=1024,n_layers=5_2024-08-08_03-26-25',\n",
       " 'metrics_dataframe':     validation_loss   timestamp checkpoint_dir_name   done  \\\n",
       " 0        790.597290  1723087906                None  False   \n",
       " 1        768.241699  1723088066                None  False   \n",
       " 2        761.966370  1723088234                None  False   \n",
       " 3        758.097961  1723088389                None  False   \n",
       " 4        755.986816  1723088522                None  False   \n",
       " 5        755.106140  1723088649                None  False   \n",
       " 6        753.169922  1723088778                None  False   \n",
       " 7        752.303528  1723088911                None  False   \n",
       " 8        751.494080  1723089040                None  False   \n",
       " 9        750.364807  1723089168                None  False   \n",
       " 10       752.317200  1723089285                None  False   \n",
       " 11       750.080933  1723089397                None  False   \n",
       " 12       749.397888  1723089510                None  False   \n",
       " 13       749.297302  1723089602                None  False   \n",
       " 14       748.835327  1723089699                None  False   \n",
       " 15       749.194153  1723089797                None  False   \n",
       " 16       750.331238  1723089894                None  False   \n",
       " 17       749.441772  1723089991                None  False   \n",
       " 18       748.445862  1723090088                None  False   \n",
       " 19       748.144836  1723090185                None  False   \n",
       " \n",
       "     training_iteration  trial_id                 date  time_this_iter_s  \\\n",
       " 0                    1  15780a2d  2024-08-08_03-31-46        165.511750   \n",
       " 1                    2  15780a2d  2024-08-08_03-34-26        159.719136   \n",
       " 2                    3  15780a2d  2024-08-08_03-37-14        167.993105   \n",
       " 3                    4  15780a2d  2024-08-08_03-39-49        155.329422   \n",
       " 4                    5  15780a2d  2024-08-08_03-42-02        132.408768   \n",
       " 5                    6  15780a2d  2024-08-08_03-44-09        127.502588   \n",
       " 6                    7  15780a2d  2024-08-08_03-46-18        129.030637   \n",
       " 7                    8  15780a2d  2024-08-08_03-48-31        132.678252   \n",
       " 8                    9  15780a2d  2024-08-08_03-50-40        128.390594   \n",
       " 9                   10  15780a2d  2024-08-08_03-52-48        128.191315   \n",
       " 10                  11  15780a2d  2024-08-08_03-54-45        117.185407   \n",
       " 11                  12  15780a2d  2024-08-08_03-56-37        112.184178   \n",
       " 12                  13  15780a2d  2024-08-08_03-58-30        112.805844   \n",
       " 13                  14  15780a2d  2024-08-08_04-00-02         91.813034   \n",
       " 14                  15  15780a2d  2024-08-08_04-01-39         97.700926   \n",
       " 15                  16  15780a2d  2024-08-08_04-03-17         97.380404   \n",
       " 16                  17  15780a2d  2024-08-08_04-04-54         97.217522   \n",
       " 17                  18  15780a2d  2024-08-08_04-06-31         96.954570   \n",
       " 18                  19  15780a2d  2024-08-08_04-08-08         96.780352   \n",
       " 19                  20  15780a2d  2024-08-08_04-09-45         96.944420   \n",
       " \n",
       "     time_total_s    pid      hostname     node_ip  time_since_restore  \\\n",
       " 0     165.511750  11872  6ec9f87ec9e7  172.17.0.3          165.511750   \n",
       " 1     325.230886  11872  6ec9f87ec9e7  172.17.0.3          325.230886   \n",
       " 2     493.223991  11872  6ec9f87ec9e7  172.17.0.3          493.223991   \n",
       " 3     648.553413  11872  6ec9f87ec9e7  172.17.0.3          648.553413   \n",
       " 4     780.962181  11872  6ec9f87ec9e7  172.17.0.3          780.962181   \n",
       " 5     908.464770  11872  6ec9f87ec9e7  172.17.0.3          908.464770   \n",
       " 6    1037.495407  11872  6ec9f87ec9e7  172.17.0.3         1037.495407   \n",
       " 7    1170.173659  11872  6ec9f87ec9e7  172.17.0.3         1170.173659   \n",
       " 8    1298.564253  11872  6ec9f87ec9e7  172.17.0.3         1298.564253   \n",
       " 9    1426.755568  11872  6ec9f87ec9e7  172.17.0.3         1426.755568   \n",
       " 10   1543.940975  11872  6ec9f87ec9e7  172.17.0.3         1543.940975   \n",
       " 11   1656.125153  11872  6ec9f87ec9e7  172.17.0.3         1656.125153   \n",
       " 12   1768.930998  11872  6ec9f87ec9e7  172.17.0.3         1768.930998   \n",
       " 13   1860.744032  11872  6ec9f87ec9e7  172.17.0.3         1860.744032   \n",
       " 14   1958.444958  11872  6ec9f87ec9e7  172.17.0.3         1958.444958   \n",
       " 15   2055.825361  11872  6ec9f87ec9e7  172.17.0.3         2055.825361   \n",
       " 16   2153.042883  11872  6ec9f87ec9e7  172.17.0.3         2153.042883   \n",
       " 17   2249.997454  11872  6ec9f87ec9e7  172.17.0.3         2249.997454   \n",
       " 18   2346.777806  11872  6ec9f87ec9e7  172.17.0.3         2346.777806   \n",
       " 19   2443.722226  11872  6ec9f87ec9e7  172.17.0.3         2443.722226   \n",
       " \n",
       "     iterations_since_restore  config/model_params/n_hidden  \\\n",
       " 0                          1                          1024   \n",
       " 1                          2                          1024   \n",
       " 2                          3                          1024   \n",
       " 3                          4                          1024   \n",
       " 4                          5                          1024   \n",
       " 5                          6                          1024   \n",
       " 6                          7                          1024   \n",
       " 7                          8                          1024   \n",
       " 8                          9                          1024   \n",
       " 9                         10                          1024   \n",
       " 10                        11                          1024   \n",
       " 11                        12                          1024   \n",
       " 12                        13                          1024   \n",
       " 13                        14                          1024   \n",
       " 14                        15                          1024   \n",
       " 15                        16                          1024   \n",
       " 16                        17                          1024   \n",
       " 17                        18                          1024   \n",
       " 18                        19                          1024   \n",
       " 19                        20                          1024   \n",
       " \n",
       "     config/model_params/n_layers config/model_params/gene_likelihood  \n",
       " 0                              5                                zinb  \n",
       " 1                              5                                zinb  \n",
       " 2                              5                                zinb  \n",
       " 3                              5                                zinb  \n",
       " 4                              5                                zinb  \n",
       " 5                              5                                zinb  \n",
       " 6                              5                                zinb  \n",
       " 7                              5                                zinb  \n",
       " 8                              5                                zinb  \n",
       " 9                              5                                zinb  \n",
       " 10                             5                                zinb  \n",
       " 11                             5                                zinb  \n",
       " 12                             5                                zinb  \n",
       " 13                             5                                zinb  \n",
       " 14                             5                                zinb  \n",
       " 15                             5                                zinb  \n",
       " 16                             5                                zinb  \n",
       " 17                             5                                zinb  \n",
       " 18                             5                                zinb  \n",
       " 19                             5                                zinb  ,\n",
       " 'best_checkpoints': [],\n",
       " '_storage_filesystem': <pyarrow._fs.LocalFileSystem at 0x7fee90d760f0>}"
      ]
     },
     "execution_count": 28,
     "metadata": {},
     "output_type": "execute_result"
    }
   ],
   "source": [
    "best_result.__dict__"
   ]
  },
  {
   "cell_type": "code",
   "execution_count": 27,
   "id": "edba9cbd-2b40-4e28-8208-d5a1d7b853a2",
   "metadata": {},
   "outputs": [
    {
     "ename": "AttributeError",
     "evalue": "'NoneType' object has no attribute 'as_directory'",
     "output_type": "error",
     "traceback": [
      "\u001b[0;31m---------------------------------------------------------------------------\u001b[0m",
      "\u001b[0;31mAttributeError\u001b[0m                            Traceback (most recent call last)",
      "Cell \u001b[0;32mIn[27], line 2\u001b[0m\n\u001b[1;32m      1\u001b[0m best_result \u001b[38;5;241m=\u001b[39m results\u001b[38;5;241m.\u001b[39mget_best_result(\u001b[38;5;124m'\u001b[39m\u001b[38;5;124mvalidation_loss\u001b[39m\u001b[38;5;124m'\u001b[39m, mode\u001b[38;5;241m=\u001b[39m\u001b[38;5;124m'\u001b[39m\u001b[38;5;124mmin\u001b[39m\u001b[38;5;124m'\u001b[39m)\n\u001b[0;32m----> 2\u001b[0m \u001b[38;5;28;01mwith\u001b[39;00m \u001b[43mbest_result\u001b[49m\u001b[38;5;241;43m.\u001b[39;49m\u001b[43mcheckpoint\u001b[49m\u001b[38;5;241;43m.\u001b[39;49m\u001b[43mas_directory\u001b[49m() \u001b[38;5;28;01mas\u001b[39;00m checkpoint_dir:\n\u001b[1;32m      3\u001b[0m     state_dict \u001b[38;5;241m=\u001b[39m torch\u001b[38;5;241m.\u001b[39mload(os\u001b[38;5;241m.\u001b[39mpath\u001b[38;5;241m.\u001b[39mjoin(checkpoint_dir, \u001b[38;5;124m\"\u001b[39m\u001b[38;5;124mmodel.pth\u001b[39m\u001b[38;5;124m\"\u001b[39m))\n\u001b[1;32m      4\u001b[0m state_dict\n",
      "\u001b[0;31mAttributeError\u001b[0m: 'NoneType' object has no attribute 'as_directory'"
     ]
    }
   ],
   "source": [
    "best_result = results.get_best_result('validation_loss', mode='min')\n",
    "with best_result.checkpoint.as_directory() as checkpoint_dir:\n",
    "    state_dict = torch.load(os.path.join(checkpoint_dir, \"model.pth\"))\n",
    "state_dict"
   ]
  }
 ],
 "metadata": {
  "kernelspec": {
   "display_name": "Python 3 (ipykernel)",
   "language": "python",
   "name": "python3"
  },
  "language_info": {
   "codemirror_mode": {
    "name": "ipython",
    "version": 3
   },
   "file_extension": ".py",
   "mimetype": "text/x-python",
   "name": "python",
   "nbconvert_exporter": "python",
   "pygments_lexer": "ipython3",
   "version": "3.11.4"
  }
 },
 "nbformat": 4,
 "nbformat_minor": 5
}
