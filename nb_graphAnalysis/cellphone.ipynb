{
 "cells": [
  {
   "cell_type": "markdown",
   "metadata": {},
   "source": [
    "# CellPhone Db from Marker genes"
   ]
  },
  {
   "cell_type": "markdown",
   "metadata": {},
   "source": [
    "We ran this in a separate conda environment following these steps:\n",
    "\n",
    "Install minicodna:\n",
    "\n",
    "```bash\n",
    "mkdir -p ~/miniconda3\n",
    "wget https://repo.anaconda.com/miniconda/Miniconda3-latest-Linux-x86_64.sh -O ~/miniconda3/miniconda.sh\n",
    "bash ~/miniconda3/miniconda.sh -b -u -p ~/miniconda3\n",
    "rm ~/miniconda3/miniconda.sh\n",
    "```\n",
    "\n",
    "activate it and create a new env where you install cellphonedb\n",
    "\n",
    "```bash\n",
    "source ~/miniconda3/bin/activate\n",
    "pip install cellphonedb\n",
    "pip install -U ipykernel\n",
    "python -m ipykernel install --user --name 'cpdb'\n",
    "```"
   ]
  },
  {
   "cell_type": "markdown",
   "metadata": {},
   "source": [
    "## Download DB"
   ]
  },
  {
   "cell_type": "code",
   "execution_count": null,
   "metadata": {},
   "outputs": [
    {
     "data": {
      "text/html": [
       "<table class=\"striped\"><tr><th style=\"text-align:center\">Version</th><th style=\"text-align:center\">Release date</th></tr><td style=\"text-align:center\"><a class=\"teal-text\" href=\"https://github.com/ventolab/cellphonedb-data/releases/tag/v5.0.0\">v5.0.0</a></td><td style=\"text-align:center\">2023-10-31</td></tr><tr><td style=\"text-align:center\"><a class=\"teal-text\" href=\"https://github.com/ventolab/cellphonedb-data/releases/tag/v4.1.0\">v4.1.0</a></td><td style=\"text-align:center\">2023-03-09</td></tr><tr><tr><tr></table>"
      ],
      "text/plain": [
       "<IPython.core.display.HTML object>"
      ]
     },
     "metadata": {},
     "output_type": "display_data"
    }
   ],
   "source": [
    "import os\n",
    "\n",
    "os.chdir(f'{os.path.dirname(__file__)}/..')\n",
    "\n",
    "\n",
    "from IPython.display import HTML, display\n",
    "from cellphonedb.utils import db_releases_utils\n",
    "\n",
    "display(HTML(db_releases_utils.get_remote_database_versions_html()['db_releases_html_table']))\n"
   ]
  },
  {
   "cell_type": "code",
   "execution_count": 10,
   "metadata": {},
   "outputs": [],
   "source": [
    "# -- Version of the databse\n",
    "cpdb_version = 'v5.0.0'\n",
    "backup_dir = '/root/datos/maestria/netopaas/luca_explore'\n",
    "# os.mkdir(f'{backup_dir}/cellphoneDB')\n",
    "\n",
    "cpdb_target_dir = os.path.join(backup_dir, '/cellphoneDB/db/', cpdb_version)"
   ]
  },
  {
   "cell_type": "code",
   "execution_count": 11,
   "metadata": {},
   "outputs": [
    {
     "name": "stdout",
     "output_type": "stream",
     "text": [
      "Downloaded cellphonedb.zip into /cellphoneDB/db/v5.0.0\n",
      "Downloaded complex_input.csv into /cellphoneDB/db/v5.0.0\n",
      "Downloaded gene_input.csv into /cellphoneDB/db/v5.0.0\n",
      "Downloaded interaction_input.csv into /cellphoneDB/db/v5.0.0\n",
      "Downloaded protein_input.csv into /cellphoneDB/db/v5.0.0\n",
      "Downloaded uniprot_synonyms.tsv into /cellphoneDB/db/v5.0.0/sources\n",
      "Downloaded transcription_factor_input.csv into /cellphoneDB/db/v5.0.0/sources\n"
     ]
    }
   ],
   "source": [
    "from cellphonedb.utils import db_utils\n",
    "\n",
    "db_utils.download_database(cpdb_target_dir, cpdb_version)"
   ]
  },
  {
   "cell_type": "code",
   "execution_count": null,
   "metadata": {},
   "outputs": [],
   "source": []
  }
 ],
 "metadata": {
  "kernelspec": {
   "display_name": "cpdb",
   "language": "python",
   "name": "python3"
  },
  "language_info": {
   "codemirror_mode": {
    "name": "ipython",
    "version": 3
   },
   "file_extension": ".py",
   "mimetype": "text/x-python",
   "name": "python",
   "nbconvert_exporter": "python",
   "pygments_lexer": "ipython3",
   "version": "3.8.20"
  }
 },
 "nbformat": 4,
 "nbformat_minor": 2
}
