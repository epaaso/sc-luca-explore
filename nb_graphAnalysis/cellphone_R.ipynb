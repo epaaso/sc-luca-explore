{
 "cells": [
  {
   "cell_type": "code",
   "execution_count": 1,
   "metadata": {
    "vscode": {
     "languageId": "r"
    }
   },
   "outputs": [
    {
     "name": "stderr",
     "output_type": "stream",
     "text": [
      "Downloading GitHub repo zktuong/ktplots@HEAD\n",
      "\n"
     ]
    },
    {
     "name": "stdout",
     "output_type": "stream",
     "text": [
      "rlang        (1.1.4    -> 1.1.5    ) [CRAN]\n",
      "cli          (3.6.3    -> 3.6.4    ) [CRAN]\n",
      "R.utils      (2.12.3   -> 2.13.0   ) [CRAN]\n",
      "R6           (2.5.1    -> 2.6.1    ) [CRAN]\n",
      "openssl      (2.3.1    -> 2.3.2    ) [CRAN]\n",
      "mime         (0.12     -> 0.13     ) [CRAN]\n",
      "jsonlite     (1.8.9    -> 2.0.0    ) [CRAN]\n",
      "curl         (6.1.0    -> 6.2.2    ) [CRAN]\n",
      "ps           (1.8.1    -> 1.9.0    ) [CRAN]\n",
      "processx     (3.8.5    -> 3.8.6    ) [CRAN]\n",
      "pkgbuild     (1.4.5    -> 1.4.7    ) [CRAN]\n",
      "stringi      (1.8.4    -> 1.8.7    ) [CRAN]\n",
      "cpp11        (0.5.1    -> 0.5.2    ) [CRAN]\n",
      "textshaping  (0.4.1    -> 1.0.0    ) [CRAN]\n",
      "systemfonts  (1.1.0    -> 1.2.1    ) [CRAN]\n",
      "vipor        (NA       -> 0.4.7    ) [CRAN]\n",
      "beeswarm     (NA       -> 0.4.0    ) [CRAN]\n",
      "ggbeeswarm   (NA       -> 0.7.2    ) [CRAN]\n",
      "Rcpp         (1.0.13-1 -> 1.0.14   ) [CRAN]\n",
      "RCurl        (NA       -> 1.98-1.17) [CRAN]\n",
      "GlobalOpt... (NA       -> 0.1.2    ) [CRAN]\n",
      "rjson        (NA       -> 0.2.23   ) [CRAN]\n",
      "shape        (NA       -> 1.4.6.1  ) [CRAN]\n",
      "RcppArmad... (14.2.2-1 -> 14.4.1-1 ) [CRAN]\n",
      "igraph       (2.1.3    -> 2.1.4    ) [CRAN]\n",
      "purrr        (1.0.2    -> 1.0.4    ) [CRAN]\n",
      "tweenr       (NA       -> 2.0.3    ) [CRAN]\n",
      "xml2         (1.3.6    -> 1.3.8    ) [CRAN]\n",
      "xfun         (0.50     -> 0.52     ) [CRAN]\n",
      "knitr        (1.49     -> 1.50     ) [CRAN]\n",
      "commonmark   (1.9.2    -> 1.9.5    ) [CRAN]\n",
      "sessioninfo  (1.2.2    -> 1.2.3    ) [CRAN]\n",
      "tinytex      (0.54     -> 0.56     ) [CRAN]\n",
      "bslib        (0.8.0    -> 0.9.0    ) [CRAN]\n",
      "httr2        (1.0.7    -> 1.1.2    ) [CRAN]\n",
      "zip          (2.3.1    -> 2.3.2    ) [CRAN]\n",
      "gert         (2.1.4    -> 2.1.5    ) [CRAN]\n",
      "R.cache      (NA       -> 0.16.0   ) [CRAN]\n",
      "rex          (NA       -> 1.2.1    ) [CRAN]\n",
      "ggrastr      (NA       -> 1.0.2    ) [CRAN]\n",
      "pheatmap     (NA       -> 1.0.12   ) [CRAN]\n",
      "uwot         (0.2.2    -> 0.2.3    ) [CRAN]\n",
      "RcppML       (NA       -> 0.3.7    ) [CRAN]\n",
      "viridis      (NA       -> 0.6.5    ) [CRAN]\n",
      "BiocNeigh... (NA       -> 1.20.2   ) [CRAN]\n",
      "doParallel   (NA       -> 1.0.17   ) [CRAN]\n",
      "clue         (NA       -> 0.3-66   ) [CRAN]\n",
      "GetoptLong   (NA       -> 1.0.5    ) [CRAN]\n",
      "circlize     (NA       -> 0.4.16   ) [CRAN]\n",
      "graphlayouts (NA       -> 1.2.2    ) [CRAN]\n",
      "tidygraph    (NA       -> 1.3.1    ) [CRAN]\n",
      "ggforce      (NA       -> 0.4.2    ) [CRAN]\n",
      "testthat     (3.2.2    -> 3.2.3    ) [CRAN]\n",
      "styler       (NA       -> 1.10.3   ) [CRAN]\n",
      "covr         (NA       -> 3.6.4    ) [CRAN]\n",
      "scater       (NA       -> 1.30.1   ) [CRAN]\n",
      "ComplexHe... (NA       -> 2.18.0   ) [CRAN]\n",
      "ggraph       (NA       -> 2.2.1    ) [CRAN]\n"
     ]
    },
    {
     "name": "stderr",
     "output_type": "stream",
     "text": [
      "Skipping 22 packages ahead of CRAN: zlibbioc, XVector, S4Arrays, IRanges, MatrixGenerics, SparseArray, beachmat, ScaledMatrix, BiocParallel, DelayedArray, S4Vectors, BiocGenerics, GenomeInfoDbData, GenomeInfoDb, Biobase, GenomicRanges, sparseMatrixStats, DelayedMatrixStats, SummarizedExperiment, SingleCellExperiment, BiocSingular, scuttle\n",
      "\n",
      "Installing 58 packages: rlang, cli, R.utils, R6, openssl, mime, jsonlite, curl, ps, processx, pkgbuild, stringi, cpp11, textshaping, systemfonts, vipor, beeswarm, ggbeeswarm, Rcpp, RCurl, GlobalOptions, rjson, shape, RcppArmadillo, igraph, purrr, tweenr, xml2, xfun, knitr, commonmark, sessioninfo, tinytex, bslib, httr2, zip, gert, R.cache, rex, ggrastr, pheatmap, uwot, RcppML, viridis, BiocNeighbors, doParallel, clue, GetoptLong, circlize, graphlayouts, tidygraph, ggforce, testthat, styler, covr, scater, ComplexHeatmap, ggraph\n",
      "\n",
      "Updating HTML index of packages in '.Library'\n",
      "\n",
      "Making 'packages.html' ...\n",
      " done\n",
      "\n"
     ]
    },
    {
     "name": "stdout",
     "output_type": "stream",
     "text": [
      "\u001b[36m──\u001b[39m \u001b[36mR CMD build\u001b[39m \u001b[36m─────────────────────────────────────────────────────────────────\u001b[39m\n",
      "* checking for file ‘/tmp/RtmpnUsbIi/remotes70d30230ba58b/zktuong-ktplots-9980daa/DESCRIPTION’ ... OK\n",
      "* preparing ‘ktplots’:\n",
      "* checking DESCRIPTION meta-information ... OK\n",
      "* checking for LF line-endings in source and make files and shell scripts\n",
      "* checking for empty or unneeded directories\n",
      "* looking to see if a ‘data/datalist’ file should be added\n",
      "  NB: this package now depends on R (>= 3.5.0)\n",
      "  WARNING: Added dependency on R >= 3.5.0 because serialized objects in\n",
      "  serialize/load version 3 cannot be read in older versions of R.\n",
      "  File(s) containing such objects:\n",
      "    ‘ktplots/data/covid_cpdb_meta.RData’\n",
      "    ‘ktplots/data/covid_sample_metadata.RData’\n",
      "    ‘ktplots/data/cpdb_output.RData’ ‘ktplots/data/cpdb_output2.RData’\n",
      "    ‘ktplots/data/cpdb_output_degs.RData’\n",
      "    ‘ktplots/data/cpdb_output_stat.RData’\n",
      "    ‘ktplots/data/cpdb_output_v5.RData’ ‘ktplots/data/kidneyimmune.RData’\n",
      "* building ‘ktplots_2.4.3.tar.gz’\n",
      "\n"
     ]
    }
   ],
   "source": [
    "devtools::install_github(\"zktuong/ktplots\", dependencies = TRUE)"
   ]
  },
  {
   "cell_type": "code",
   "execution_count": null,
   "metadata": {
    "vscode": {
     "languageId": "r"
    }
   },
   "outputs": [],
   "source": [
    "library(ktplots)"
   ]
  }
 ],
 "metadata": {
  "kernelspec": {
   "display_name": "R",
   "language": "R",
   "name": "ir"
  },
  "language_info": {
   "codemirror_mode": "r",
   "file_extension": ".r",
   "mimetype": "text/x-r-source",
   "name": "R",
   "pygments_lexer": "r",
   "version": "4.4.1"
  }
 },
 "nbformat": 4,
 "nbformat_minor": 2
}
