{
 "cells": [
  {
   "cell_type": "code",
   "execution_count": 2,
   "id": "cfbda55a-3fa9-47dd-91fa-c9111e1aa748",
   "metadata": {},
   "outputs": [],
   "source": [
    "import anndata\n",
    "import scanpy as sc\n",
    "from pandas import read_csv"
   ]
  },
  {
   "cell_type": "code",
   "execution_count": 3,
   "id": "0a2c847d-8b5a-4e9f-8641-97a9616d65e1",
   "metadata": {},
   "outputs": [],
   "source": [
    "filters = read_csv('samplesheet_scrnaseq_preprocessing.csv')\n",
    "\n",
    "dataset_str = 'He_Fan_2021_LUAD'\n",
    "\n",
    "id_row = filters[filters.id == dataset_str]\n",
    "file_str = id_row.input_adata.iloc[0].split('/')[-1]"
   ]
  },
  {
   "cell_type": "code",
   "execution_count": 4,
   "id": "b4e81a22-a4b1-4a07-a801-cb3c5abdcafa",
   "metadata": {},
   "outputs": [
    {
     "name": "stderr",
     "output_type": "stream",
     "text": [
      "/tmp/ipykernel_1958/1983533706.py:2: FutureWarning: Calling int on a single element Series is deprecated and will raise a TypeError in the future. Use int(ser.iloc[0]) instead\n",
      "  thresholds['min_counts']  = int(id_row.min_counts)\n",
      "/tmp/ipykernel_1958/1983533706.py:3: FutureWarning: Calling int on a single element Series is deprecated and will raise a TypeError in the future. Use int(ser.iloc[0]) instead\n",
      "  thresholds['max_counts'] = int(id_row.max_counts)\n",
      "/tmp/ipykernel_1958/1983533706.py:4: FutureWarning: Calling int on a single element Series is deprecated and will raise a TypeError in the future. Use int(ser.iloc[0]) instead\n",
      "  thresholds['min_genes'] = int(id_row.min_genes)\n",
      "/tmp/ipykernel_1958/1983533706.py:5: FutureWarning: Calling int on a single element Series is deprecated and will raise a TypeError in the future. Use int(ser.iloc[0]) instead\n",
      "  thresholds['max_genes'] = int(id_row.max_genes)\n",
      "/tmp/ipykernel_1958/1983533706.py:6: FutureWarning: Calling int on a single element Series is deprecated and will raise a TypeError in the future. Use int(ser.iloc[0]) instead\n",
      "  thresholds['max_pct_mito'] = int(id_row.max_pct_mito)\n"
     ]
    }
   ],
   "source": [
    "thresholds = {}\n",
    "thresholds['min_counts']  = int(id_row.min_counts)\n",
    "thresholds['max_counts'] = int(id_row.max_counts)\n",
    "thresholds['min_genes'] = int(id_row.min_genes)\n",
    "thresholds['max_genes'] = int(id_row.max_genes)\n",
    "thresholds['max_pct_mito'] = int(id_row.max_pct_mito)\n",
    "\n",
    "adata = anndata.read_h5ad(f'/root/datos/maestria/netopaas/luca/data/12_input_adatas/{file_str}')"
   ]
  },
  {
   "cell_type": "code",
   "execution_count": 5,
   "id": "7c93cc46-477f-4d79-887e-e8f85dc6c7e9",
   "metadata": {},
   "outputs": [
    {
     "data": {
      "text/plain": [
       "AAACCTGAGACTGTAA-1_0    LUAD\n",
       "AAACCTGAGCACCGTC-1_0    LUAD\n",
       "AAACCTGAGCATGGCA-1_0    LUAD\n",
       "AAACCTGAGCCGCCTA-1_0    LUAD\n",
       "AAACCTGAGCGATCCC-1_0    LUAD\n",
       "                        ... \n",
       "TTTGTCATCAGTGTTG-1_9    LUAD\n",
       "TTTGTCATCCCTTGCA-1_9    LUAD\n",
       "TTTGTCATCGTAGATC-1_9    LUAD\n",
       "TTTGTCATCTACCTGC-1_9    LUAD\n",
       "TTTGTCATCTTTCCTC-1_9    LUAD\n",
       "Name: condition, Length: 123566, dtype: category\n",
       "Categories (1, object): ['LUAD']"
      ]
     },
     "execution_count": 5,
     "metadata": {},
     "output_type": "execute_result"
    }
   ],
   "source": [
    "adata.obs.condition"
   ]
  },
  {
   "cell_type": "code",
   "execution_count": 6,
   "id": "98dc0168-7985-42c5-a20b-7ec88fa9dfff",
   "metadata": {
    "tags": []
   },
   "outputs": [
    {
     "name": "stdout",
     "output_type": "stream",
     "text": [
      "Filtering genes\n",
      "    Before: 36601\n",
      "    After: 26833\n",
      "Filter by min_counts\n",
      "    Before: 123566\n",
      "    After: 120009\n",
      "Filter by max_counts\n",
      "    Before: 120009\n",
      "    After: 119525\n",
      "Filter by min_genes\n",
      "    Before: 119525\n",
      "    After: 118708\n",
      "Filter by max_genes\n",
      "    Before: 118708\n",
      "    After: 118708\n",
      "Filter by max_pct_mito\n",
      "    Before: 118708\n",
      "    After: 113612\n"
     ]
    }
   ],
   "source": [
    "# very basic gene filtering - genes with 0 cells cause some downstream processes to fail.\n",
    "print(\"Filtering genes\")\n",
    "print(f\"    Before: {adata.shape[1]}\")\n",
    "sc.pp.filter_genes(adata, min_counts=3)\n",
    "print(f\"    After: {adata.shape[1]}\")\n",
    "\n",
    "# %%\n",
    "# Apply thresholds\n",
    "print(\"Filter by min_counts\")\n",
    "print(f\"    Before: {adata.shape[0]}\")\n",
    "sc.pp.filter_cells(adata, min_counts=thresholds[\"min_counts\"])\n",
    "print(f\"    After: {adata.shape[0]}\")\n",
    "\n",
    "\n",
    "print(\"Filter by max_counts\")\n",
    "print(f\"    Before: {adata.shape[0]}\")\n",
    "sc.pp.filter_cells(adata, max_counts=thresholds[\"max_counts\"])\n",
    "print(f\"    After: {adata.shape[0]}\")\n",
    "\n",
    "\n",
    "print(\"Filter by min_genes\")\n",
    "print(f\"    Before: {adata.shape[0]}\")\n",
    "sc.pp.filter_cells(adata, min_genes=thresholds[\"min_genes\"])\n",
    "print(f\"    After: {adata.shape[0]}\")\n",
    "\n",
    "\n",
    "print(\"Filter by max_genes\")\n",
    "print(f\"    Before: {adata.shape[0]}\")\n",
    "sc.pp.filter_cells(adata, max_genes=thresholds[\"max_genes\"])\n",
    "print(f\"    After: {adata.shape[0]}\")\n",
    "\n",
    "# %%\n",
    "if \"mito\" not in adata.var.columns:\n",
    "    adata.var[\"mito\"] = adata.var_names.str.lower().str.startswith(\"mt-\")\n",
    "\n",
    "# %%\n",
    "sc.pp.calculate_qc_metrics(\n",
    "    adata, qc_vars=(\"mito\",), log1p=False, inplace=True, percent_top=None\n",
    ")\n",
    "\n",
    "print(\"Filter by max_pct_mito\")\n",
    "print(f\"    Before: {adata.shape[0]}\")\n",
    "adata = adata[adata.obs[\"pct_counts_mito\"] < thresholds[\"max_pct_mito\"]].copy()\n",
    "print(f\"    After: {adata.shape[0]}\")"
   ]
  },
  {
   "cell_type": "markdown",
   "id": "c91e65c7-dbf1-4add-9216-8e28b91d85ca",
   "metadata": {},
   "source": [
    "## 3.1.1 Automated annotation"
   ]
  },
  {
   "cell_type": "markdown",
   "id": "1f18314e-4371-4c82-89d5-e3379432910e",
   "metadata": {},
   "source": [
    "For a more detailed walkthrough of the process go to `../HCA-Lung/AutoLung.ipynb` or even https://docs.scarches.org/en/latest/hlca_map_classify.html\n",
    "\n",
    "IT IS IMPORTANT THAT THE QUERY DATA IS IN RAW COUNTS, WE CHECK THAT HERE:\n"
   ]
  },
  {
   "cell_type": "code",
   "execution_count": 7,
   "id": "8f6fa89b-d915-4263-b380-9a50859c8cc8",
   "metadata": {},
   "outputs": [
    {
     "data": {
      "text/plain": [
       "array([[0., 0., 0., 0., 0., 0., 0., 0., 0., 0., 0., 0., 0., 0., 0., 0.,\n",
       "        0., 0., 0., 0., 0., 0., 0., 0., 0., 0., 0., 0., 0., 0.],\n",
       "       [0., 0., 0., 0., 0., 0., 0., 0., 0., 0., 0., 0., 0., 0., 0., 0.,\n",
       "        0., 0., 0., 7., 0., 0., 0., 0., 0., 0., 0., 0., 0., 0.],\n",
       "       [0., 0., 0., 0., 0., 0., 0., 0., 0., 0., 0., 0., 0., 0., 0., 0.,\n",
       "        0., 0., 0., 0., 0., 0., 0., 0., 0., 0., 0., 0., 0., 0.],\n",
       "       [0., 0., 0., 0., 0., 0., 0., 0., 0., 0., 0., 0., 0., 0., 0., 0.,\n",
       "        0., 0., 0., 1., 0., 0., 0., 0., 0., 0., 0., 0., 0., 0.],\n",
       "       [0., 0., 0., 0., 0., 0., 0., 0., 0., 0., 0., 0., 0., 0., 0., 0.,\n",
       "        0., 0., 0., 3., 0., 0., 0., 0., 0., 0., 0., 0., 0., 0.],\n",
       "       [0., 0., 0., 0., 0., 0., 0., 0., 0., 0., 0., 0., 0., 0., 0., 0.,\n",
       "        0., 0., 0., 3., 0., 0., 0., 0., 0., 0., 0., 0., 0., 0.],\n",
       "       [0., 0., 0., 0., 0., 0., 0., 0., 0., 0., 0., 0., 0., 0., 0., 0.,\n",
       "        0., 0., 0., 4., 0., 0., 0., 0., 0., 0., 0., 0., 0., 0.],\n",
       "       [0., 0., 0., 0., 0., 0., 0., 0., 0., 0., 0., 0., 0., 0., 0., 0.,\n",
       "        0., 0., 0., 0., 0., 0., 0., 0., 0., 0., 0., 0., 0., 0.],\n",
       "       [0., 0., 0., 0., 0., 0., 0., 0., 0., 0., 0., 0., 0., 1., 0., 0.,\n",
       "        0., 0., 0., 1., 0., 0., 0., 0., 0., 0., 0., 0., 0., 0.],\n",
       "       [0., 0., 0., 0., 0., 0., 0., 0., 0., 0., 0., 0., 0., 0., 0., 0.,\n",
       "        0., 0., 0., 0., 0., 0., 0., 0., 0., 0., 0., 0., 0., 0.]],\n",
       "      dtype=float32)"
      ]
     },
     "execution_count": 7,
     "metadata": {},
     "output_type": "execute_result"
    }
   ],
   "source": [
    "adata.X[:10, :30].toarray()"
   ]
  },
  {
   "cell_type": "code",
   "execution_count": 9,
   "id": "0efc22bc-1385-44cb-8547-c578ae40b784",
   "metadata": {
    "tags": []
   },
   "outputs": [
    {
     "name": "stderr",
     "output_type": "stream",
     "text": [
      "WARNING:root:In order to use the mouse gastrulation seqFISH datsets, please install squidpy (see https://github.com/scverse/squidpy).\n",
      "/usr/local/lib/python3.11/site-packages/scvi/_settings.py:63: UserWarning: Since v1.0.0, scvi-tools no longer uses a random seed by default. Run `scvi.settings.seed = 0` to reproduce results from previous versions.\n",
      "  self.seed = seed\n",
      "/usr/local/lib/python3.11/site-packages/scvi/_settings.py:70: UserWarning: Setting `dl_pin_memory_gpu_training` is deprecated in v1.0 and will be removed in v1.1. Please pass in `pin_memory` to the data loaders instead.\n",
      "  self.dl_pin_memory_gpu_training = (\n",
      "/usr/local/lib/python3.11/site-packages/tqdm/auto.py:21: TqdmWarning: IProgress not found. Please update jupyter and ipywidgets. See https://ipywidgets.readthedocs.io/en/stable/user_install.html\n",
      "  from .autonotebook import tqdm as notebook_tqdm\n",
      "WARNING:root:In order to use sagenet models, please install pytorch geometric (see https://pytorch-geometric.readthedocs.io) and \n",
      " captum (see https://github.com/pytorch/captum).\n",
      "WARNING:root:mvTCR is not installed. To use mvTCR models, please install it first using \"pip install mvtcr\"\n",
      "WARNING:root:multigrate is not installed. To use multigrate models, please install it first using \"pip install multigrate\".\n"
     ]
    }
   ],
   "source": [
    "import pandas as pd\n",
    "import anndata as ad\n",
    "import numpy as np\n",
    "\n",
    "import scarches as sca\n",
    "import gdown\n",
    "import gzip\n",
    "import shutil\n",
    "from scipy import sparse\n",
    "\n",
    "sc.settings.set_figure_params(dpi=200, frameon=False)\n",
    "sc.set_figure_params(dpi=200)\n",
    "sc.set_figure_params(figsize=(4, 4))\n",
    "\n",
    "import sys, os\n",
    "sys.path.append(os.path.join(os.getcwd(), '../single-cell-tutorial/download_scripts'))\n",
    "from functions import remove_repeated_var_inds, join_map_mart"
   ]
  },
  {
   "cell_type": "markdown",
   "id": "83fb74df-e006-4a50-a3a9-d98400b2e7af",
   "metadata": {},
   "source": [
    "### Load Query dataset"
   ]
  },
  {
   "cell_type": "code",
   "execution_count": 10,
   "id": "51033449-b64b-4fb5-bf8d-54feac878291",
   "metadata": {
    "tags": []
   },
   "outputs": [],
   "source": [
    "batch_key = 'dataset'\n",
    "name = dataset_str.split('_')[0]\n",
    "query_batch = [f'lung_{name}']\n",
    "cell_type_key = 'scanvi_label'\n",
    "data_dir = '/root/datos/maestria/netopaas/lung_scRNA'\n",
    "backup_dir = '/root/datos/maestria/netopaas/luca_explore'\n",
    "ref_model_path = f'{data_dir}/HCA_Lung/HLCA_reference_model'\n",
    "\n",
    "#Important to check how many epochs would be ideal\n",
    "surgery_epochs = 100\n",
    "early_stopping_kwargs_surgery = {\n",
    "    \"early_stopping_monitor\": \"elbo_train\",\n",
    "    \"early_stopping_patience\": 10,\n",
    "    \"early_stopping_min_delta\": 0.001,\n",
    "    \"plan_kwargs\": {\"weight_decay\": 0.0},\n",
    "}"
   ]
  },
  {
   "cell_type": "code",
   "execution_count": 11,
   "id": "5989dcc5-2cf6-4a47-9d89-f5bc46df760a",
   "metadata": {
    "tags": []
   },
   "outputs": [],
   "source": [
    "adata_ref = sc.read_h5ad(f'{data_dir}/HCA_Lung/HLCA_emb_and_metadata.h5ad')"
   ]
  },
  {
   "cell_type": "code",
   "execution_count": 12,
   "id": "5da6b225-d1d8-458a-9a59-55aaa662f574",
   "metadata": {
    "tags": []
   },
   "outputs": [],
   "source": [
    "adata_query_unprep = adata.copy()\n",
    "\n",
    "# We need RAW count data for the model we are using so we get it from adata.layers\n",
    "#adata_query_unprep.X = adata_query_unprep.layers['counts']"
   ]
  },
  {
   "cell_type": "markdown",
   "id": "4077dca5-c79c-4c35-8154-8b2ba96e5dff",
   "metadata": {},
   "source": [
    "For faster computation convert the matrix to sparse.\n",
    "First check with `adata.X` if it is sparse"
   ]
  },
  {
   "cell_type": "code",
   "execution_count": 13,
   "id": "748fa315-35d0-46e2-a111-a938a1c22f66",
   "metadata": {},
   "outputs": [
    {
     "data": {
      "text/plain": [
       "<113612x26833 sparse matrix of type '<class 'numpy.float32'>'\n",
       "\twith 165318251 stored elements in Compressed Sparse Row format>"
      ]
     },
     "execution_count": 13,
     "metadata": {},
     "output_type": "execute_result"
    }
   ],
   "source": [
    "adata.X\n",
    "# adata_query_unprep.X = sparse.csr_matrix(adata_query_unprep.X)"
   ]
  },
  {
   "cell_type": "markdown",
   "id": "792b0044-3191-443a-b180-121fa87b7791",
   "metadata": {},
   "source": [
    "### Change to Ensembl IDs"
   ]
  },
  {
   "cell_type": "markdown",
   "id": "ce121586-f74e-4c74-9f1d-227ce2ad8b5a",
   "metadata": {},
   "source": [
    "Revert to ensemble ids using the assembly reference gch38 (or hg19 in the comments) used in the experiment.\n",
    "Doing this via THE PACKAGE Biomart always leaves us with some gaps because there are many manually annotated genes."
   ]
  },
  {
   "cell_type": "markdown",
   "id": "e021dba4-de53-48ac-99dc-a80bb97c5b0c",
   "metadata": {},
   "source": [
    "If your query feature naming does not match your reference model feature naming, you will need to add the right feature names. For the HLCA reference, the mapping of the 2000 input gene IDs to their gene names is stored on the HLCA Zenodo page, so you can add gene ids using that mapping. Alternatively, you can map your gene IDs to gene names (or the reverse) using BioMart mapping tables. In most cases your raw data includes both gene IDs and names, in which case mapping is not necessary.\n",
    "\n",
    "Let’s download the HLCA-specific gene mapping:"
   ]
  },
  {
   "cell_type": "code",
   "execution_count": 14,
   "id": "fcc2fa89-018a-43ca-88ae-09209c62c2ca",
   "metadata": {},
   "outputs": [],
   "source": [
    "path_gene_mapping_df = f'{data_dir}/HCA_Lung/HLCA_reference_model_gene_order_ids_and_symbols.csv'"
   ]
  },
  {
   "cell_type": "code",
   "execution_count": 18,
   "id": "340ee755-f1cc-4727-b658-739f32a991bf",
   "metadata": {},
   "outputs": [
    {
     "name": "stderr",
     "output_type": "stream",
     "text": [
      "Downloading...\n",
      "From: https://zenodo.org/record/7599104/files/HLCA_reference_model_gene_order_ids_and_symbols.csv\n",
      "To: /root/datos/maestria/netopaas/lung_scRNA/HCA_Lung/HLCA_reference_model_gene_order_ids_and_symbols.csv\n",
      "45.1kB [00:00, 54.0MB/s]\n"
     ]
    },
    {
     "data": {
      "text/plain": [
       "'/root/datos/maestria/netopaas/lung_scRNA/HCA_Lung/HLCA_reference_model_gene_order_ids_and_symbols.csv'"
      ]
     },
     "execution_count": 18,
     "metadata": {},
     "output_type": "execute_result"
    }
   ],
   "source": [
    "# Download gene information from HLCA github:\n",
    "url = \"https://zenodo.org/record/7599104/files/HLCA_reference_model_gene_order_ids_and_symbols.csv\"\n",
    "gdown.download(url, path_gene_mapping_df, quiet=False)"
   ]
  },
  {
   "cell_type": "code",
   "execution_count": 15,
   "id": "8578c6c4-eb8c-4e5f-90bf-2ca83a9698a9",
   "metadata": {},
   "outputs": [],
   "source": [
    "gene_id_to_gene_name_df = pd.read_csv(path_gene_mapping_df, index_col=0)\n",
    "\n",
    "# Store your gene names in an adata.var.column if they are currently the index:\n",
    "# if gene names are in .var.index:\n",
    "adata_query_unprep.var[\"gene_names\"] = adata_query_unprep.var.index\n",
    "gene_name_column_name = \"gene_names\""
   ]
  },
  {
   "cell_type": "markdown",
   "id": "38b5c25b-380f-4e7e-b486-7bf694f57b50",
   "metadata": {},
   "source": [
    "Map gene names to gene ids for all of the 2000 reference model genes that we can find in our data:\n",
    "\n",
    "Check number of detected genes:"
   ]
  },
  {
   "cell_type": "code",
   "execution_count": 16,
   "id": "8df5f6b0-2e18-4d09-9164-7f289ffe1fa7",
   "metadata": {},
   "outputs": [
    {
     "name": "stdout",
     "output_type": "stream",
     "text": [
      "Number of model input genes detected: 1892 out of 2000 (95%)\n"
     ]
    }
   ],
   "source": [
    "n_overlap = (\n",
    "    adata_query_unprep.var[gene_name_column_name]\n",
    "    .isin(gene_id_to_gene_name_df.gene_symbol)\n",
    "    .sum()\n",
    ")\n",
    "n_genes_model = gene_id_to_gene_name_df.shape[0]\n",
    "print(\n",
    "    f\"Number of model input genes detected: {n_overlap} out of {n_genes_model} ({round(n_overlap/n_genes_model*100)}%)\"\n",
    ")\n",
    "\n"
   ]
  },
  {
   "cell_type": "markdown",
   "id": "2f922264-e9e6-42d6-8d16-4bf5043805a2",
   "metadata": {},
   "source": [
    "Subset query data to only the genes that are part of the modeling input, then map gene names to gene ids using the table above. Store the resulting ids both in the .var.index (for scArches) and in a .var[gene_ids] (for merging duplicate genes)."
   ]
  },
  {
   "cell_type": "code",
   "execution_count": 17,
   "id": "ceb8ec4f-ef3d-4e73-9d76-ed0865bd305b",
   "metadata": {},
   "outputs": [],
   "source": [
    "adata_query_unprep = adata_query_unprep[\n",
    "    :,\n",
    "    adata_query_unprep.var[gene_name_column_name].isin(\n",
    "        gene_id_to_gene_name_df.gene_symbol\n",
    "    ),\n",
    "].copy()  # subset your data to genes used in the reference model\n",
    "adata_query_unprep.var.index = adata_query_unprep.var[gene_name_column_name].map(\n",
    "    dict(zip(gene_id_to_gene_name_df.gene_symbol, gene_id_to_gene_name_df.index))\n",
    ")  # add gene ids for the gene names, and store in .var.index\n",
    "# remove index name to prevent bugs later on\n",
    "adata_query_unprep.var.index.name = None\n",
    "adata_query_unprep.var[\"gene_ids\"] = adata_query_unprep.var.index\n"
   ]
  },
  {
   "cell_type": "code",
   "execution_count": 18,
   "id": "489c8373-d7ee-4498-88d4-19d0b9702bae",
   "metadata": {},
   "outputs": [
    {
     "data": {
      "text/html": [
       "<div>\n",
       "<style scoped>\n",
       "    .dataframe tbody tr th:only-of-type {\n",
       "        vertical-align: middle;\n",
       "    }\n",
       "\n",
       "    .dataframe tbody tr th {\n",
       "        vertical-align: top;\n",
       "    }\n",
       "\n",
       "    .dataframe thead th {\n",
       "        text-align: right;\n",
       "    }\n",
       "</style>\n",
       "<table border=\"1\" class=\"dataframe\">\n",
       "  <thead>\n",
       "    <tr style=\"text-align: right;\">\n",
       "      <th></th>\n",
       "      <th>n_counts</th>\n",
       "      <th>mito</th>\n",
       "      <th>n_cells_by_counts</th>\n",
       "      <th>mean_counts</th>\n",
       "      <th>pct_dropout_by_counts</th>\n",
       "      <th>total_counts</th>\n",
       "      <th>gene_names</th>\n",
       "      <th>gene_ids</th>\n",
       "    </tr>\n",
       "  </thead>\n",
       "  <tbody>\n",
       "    <tr>\n",
       "      <th>ENSG00000188290</th>\n",
       "      <td>20990.0</td>\n",
       "      <td>False</td>\n",
       "      <td>11358</td>\n",
       "      <td>0.160326</td>\n",
       "      <td>90.431984</td>\n",
       "      <td>19032.0</td>\n",
       "      <td>HES4</td>\n",
       "      <td>ENSG00000188290</td>\n",
       "    </tr>\n",
       "    <tr>\n",
       "      <th>ENSG00000187608</th>\n",
       "      <td>249088.0</td>\n",
       "      <td>False</td>\n",
       "      <td>59721</td>\n",
       "      <td>2.000623</td>\n",
       "      <td>49.690838</td>\n",
       "      <td>237490.0</td>\n",
       "      <td>ISG15</td>\n",
       "      <td>ENSG00000187608</td>\n",
       "    </tr>\n",
       "    <tr>\n",
       "      <th>ENSG00000162571</th>\n",
       "      <td>2265.0</td>\n",
       "      <td>False</td>\n",
       "      <td>1568</td>\n",
       "      <td>0.017943</td>\n",
       "      <td>98.679112</td>\n",
       "      <td>2130.0</td>\n",
       "      <td>TTLL10</td>\n",
       "      <td>ENSG00000162571</td>\n",
       "    </tr>\n",
       "  </tbody>\n",
       "</table>\n",
       "</div>"
      ],
      "text/plain": [
       "                 n_counts   mito  n_cells_by_counts  mean_counts  \\\n",
       "ENSG00000188290   20990.0  False              11358     0.160326   \n",
       "ENSG00000187608  249088.0  False              59721     2.000623   \n",
       "ENSG00000162571    2265.0  False               1568     0.017943   \n",
       "\n",
       "                 pct_dropout_by_counts  total_counts gene_names  \\\n",
       "ENSG00000188290              90.431984       19032.0       HES4   \n",
       "ENSG00000187608              49.690838      237490.0      ISG15   \n",
       "ENSG00000162571              98.679112        2130.0     TTLL10   \n",
       "\n",
       "                        gene_ids  \n",
       "ENSG00000188290  ENSG00000188290  \n",
       "ENSG00000187608  ENSG00000187608  \n",
       "ENSG00000162571  ENSG00000162571  "
      ]
     },
     "execution_count": 18,
     "metadata": {},
     "output_type": "execute_result"
    }
   ],
   "source": [
    "adata_query_unprep.var.head(3)"
   ]
  },
  {
   "cell_type": "code",
   "execution_count": 19,
   "id": "9b697a10-d2fa-4a80-b5ee-ca00c0aead04",
   "metadata": {},
   "outputs": [],
   "source": [
    "def sum_by(adata: ad.AnnData, col: str) -> ad.AnnData:\n",
    "    adata.obs[col] = adata.obs[col].astype('category')\n",
    "    assert pd.api.types.is_categorical_dtype(adata.obs[col])\n",
    "\n",
    "    cat = adata.obs[col].values\n",
    "    indicator = sparse.coo_matrix(\n",
    "        (np.broadcast_to(True, adata.n_obs), (cat.codes, np.arange(adata.n_obs))),\n",
    "        shape=(len(cat.categories), adata.n_obs),\n",
    "    )\n",
    "\n",
    "    return ad.AnnData(\n",
    "        indicator @ adata.X, var=adata.var, obs=pd.DataFrame(index=cat.categories)\n",
    "    )"
   ]
  },
  {
   "cell_type": "markdown",
   "id": "c142da14-ad3f-45f7-a5e2-52fc4ac00e27",
   "metadata": {},
   "source": [
    "shape before merging:"
   ]
  },
  {
   "cell_type": "markdown",
   "id": "34556911-f5da-4798-b645-80d03c573e35",
   "metadata": {},
   "source": [
    "Now merge. Note that all var columns will be dropped after merging (as we don’t specify how to merge). As the merging is done based on .obs indices in the function above, we transpose our anndata object and re-transpose it after merging."
   ]
  },
  {
   "cell_type": "code",
   "execution_count": 20,
   "id": "9675b241-2a6e-42a0-b082-c15cc43c1da7",
   "metadata": {},
   "outputs": [],
   "source": [
    "adata_query_unprep = sum_by(adata_query_unprep.transpose(), col=\"gene_ids\").transpose()"
   ]
  },
  {
   "cell_type": "code",
   "execution_count": 21,
   "id": "3e38b602-762c-4605-82c7-363d6805e97b",
   "metadata": {},
   "outputs": [
    {
     "data": {
      "text/plain": [
       "(113612, 1892)"
      ]
     },
     "execution_count": 21,
     "metadata": {},
     "output_type": "execute_result"
    }
   ],
   "source": [
    "adata_query_unprep.shape"
   ]
  },
  {
   "cell_type": "markdown",
   "id": "c2941b6d-a4a8-41ef-b094-cf9c817eb32e",
   "metadata": {},
   "source": [
    "add back gene ids:"
   ]
  },
  {
   "cell_type": "code",
   "execution_count": 22,
   "id": "b74e9963-4431-4e7f-aaa5-cad645d86e14",
   "metadata": {},
   "outputs": [],
   "source": [
    "adata_query_unprep.var = adata_query_unprep.var.join(gene_id_to_gene_name_df).rename(columns={\"gene_symbol\":\"gene_names\"})"
   ]
  },
  {
   "cell_type": "markdown",
   "id": "d144536b-8ce8-4d0d-8ca2-4b5f45ed782b",
   "metadata": {},
   "source": [
    "### Surgery"
   ]
  },
  {
   "cell_type": "markdown",
   "id": "66cafd8b-3706-4115-9f45-6f92e6ff0fef",
   "metadata": {},
   "source": [
    "We pad missing query genes with zeros and reorder the available ones to ensure data corectness and smooth running of the scArches reference mapping."
   ]
  },
  {
   "cell_type": "code",
   "execution_count": 23,
   "id": "6e069f0d-3222-4dd6-ac97-11c7423a1c7e",
   "metadata": {
    "tags": []
   },
   "outputs": [
    {
     "name": "stdout",
     "output_type": "stream",
     "text": [
      "\u001b[34mINFO    \u001b[0m File \u001b[35m/root/datos/maestria/netopaas/lung_scRNA/HCA_Lung/HLCA_reference_model/\u001b[0m\u001b[95mmodel.pt\u001b[0m already downloaded   \n",
      "\u001b[34mINFO    \u001b[0m Found \u001b[1;36m94.6\u001b[0m% reference vars in query data.                                                                 \n"
     ]
    }
   ],
   "source": [
    "adata_query = sca.models.SCANVI.prepare_query_anndata(\n",
    "    adata = adata_query_unprep,\n",
    "    # return_reference_var_names=True,\n",
    "    reference_model = ref_model_path,\n",
    "    inplace=False)"
   ]
  },
  {
   "cell_type": "markdown",
   "id": "c50ffeba-18c4-4f98-96bc-fdeee7e797a4",
   "metadata": {},
   "source": [
    "This line should be kept unchanged due to the structure of the pre-trained reference model."
   ]
  },
  {
   "cell_type": "code",
   "execution_count": 24,
   "id": "35c05632-7824-452c-8775-aaff00edc307",
   "metadata": {
    "tags": []
   },
   "outputs": [],
   "source": [
    "adata_query.obs['scanvi_label'] = 'unlabeled'"
   ]
  },
  {
   "cell_type": "markdown",
   "id": "182349e8-85a1-40e8-9000-ccbc47407991",
   "metadata": {},
   "source": [
    "Now we perform scArches “surgery”.\n",
    "\n",
    "Note: if you use gene names rather than ensembl IDs in your query_data.var.index, you will get a warning that your genes (var_names) do not match the training genes. You can ignore this warning, as long as you have done the gene check in the beginning of the notebook."
   ]
  },
  {
   "cell_type": "code",
   "execution_count": 25,
   "id": "50555edb-37e5-4f5c-99e3-91ba8e8ffa76",
   "metadata": {
    "tags": []
   },
   "outputs": [
    {
     "name": "stdout",
     "output_type": "stream",
     "text": [
      "\u001b[34mINFO    \u001b[0m File \u001b[35m/root/datos/maestria/netopaas/lung_scRNA/HCA_Lung/HLCA_reference_model/\u001b[0m\u001b[95mmodel.pt\u001b[0m already downloaded   \n"
     ]
    }
   ],
   "source": [
    "from scvi.model.base._utils import _load_saved_files\n",
    "attr_dict, var_names, model_state_dict, adata_ = _load_saved_files(ref_model_path, load_adata=False, map_location='cpu')"
   ]
  },
  {
   "cell_type": "markdown",
   "id": "0e9c8def-11db-4237-b17a-81679337e7ef",
   "metadata": {},
   "source": [
    "Thanks to exploring the model we can deduce what .obs we need and the name we assigned. In this case we need to define a 'dataset'\n",
    "column in obs to define the batches. Seeing as to how every sample ia new day in the experiment we define the batches as the samples."
   ]
  },
  {
   "cell_type": "markdown",
   "id": "66f00414-1190-4a88-85a1-a498d75d9baa",
   "metadata": {},
   "source": [
    "We can load the model with this command or train it if we havent got it"
   ]
  },
  {
   "cell_type": "code",
   "execution_count": 26,
   "id": "3c991cdd-c65f-4882-a2d6-28af5d2a9783",
   "metadata": {
    "tags": []
   },
   "outputs": [],
   "source": [
    "adata_query.obs['dataset'] = adata_query.obs['sample']\n",
    "adata_query.obs['sample'] = adata_query.obs['sample'].astype('string')\n",
    "adata_query.obs['dataset'] = adata_query.obs['dataset'].astype('string')"
   ]
  },
  {
   "cell_type": "code",
   "execution_count": 28,
   "id": "b1ee02de-5816-494e-8e36-be8ac89a8c37",
   "metadata": {},
   "outputs": [],
   "source": [
    "for col in adata_query.obs.columns:\n",
    "    if pd.api.types.is_categorical_dtype(adata_query.obs[col]):\n",
    "        adata_query.obs[col] = adata_query.obs[col].astype('str')\n"
   ]
  },
  {
   "cell_type": "code",
   "execution_count": 29,
   "id": "a728bf93-9edf-4aae-b23e-9770fba51df8",
   "metadata": {
    "tags": []
   },
   "outputs": [],
   "source": [
    "# Convert all mito falgs into false because we are using the latent genes of the HCA_lung model\n",
    "# adata_query = sc.read_h5ad(f'{backup_dir}/surgeries/query_{name}.h5ad')\n",
    "adata_query.var.mito = False\n",
    "adata_query.write_h5ad(f'{backup_dir}/surgeries/query_{name}.h5ad')"
   ]
  },
  {
   "cell_type": "markdown",
   "id": "b97a8a74-a9c0-4be3-8e9e-ac642fd9811e",
   "metadata": {},
   "source": [
    "Apparently we have to aks for cuda availability explicitly for scArches to recognize that we have GPU"
   ]
  },
  {
   "cell_type": "code",
   "execution_count": 30,
   "id": "99af8e4e-a5fd-4a80-95b9-0288d6923071",
   "metadata": {},
   "outputs": [
    {
     "name": "stderr",
     "output_type": "stream",
     "text": [
      "/usr/local/lib/python3.11/site-packages/torch/cuda/__init__.py:546: UserWarning: Can't initialize NVML\n",
      "  warnings.warn(\"Can't initialize NVML\")\n"
     ]
    },
    {
     "data": {
      "text/plain": [
       "False"
      ]
     },
     "execution_count": 30,
     "metadata": {},
     "output_type": "execute_result"
    }
   ],
   "source": [
    "import torch\n",
    "torch.cuda.is_available()"
   ]
  },
  {
   "cell_type": "code",
   "execution_count": 31,
   "id": "60088664-e257-4a92-9ce4-3b233bf63dd8",
   "metadata": {},
   "outputs": [
    {
     "data": {
      "text/plain": [
       "(113612, 2000)"
      ]
     },
     "execution_count": 31,
     "metadata": {},
     "output_type": "execute_result"
    }
   ],
   "source": [
    "adata_query.shape"
   ]
  },
  {
   "cell_type": "code",
   "execution_count": 32,
   "id": "cb074550-3c56-4ffb-aed7-e93108aeaddc",
   "metadata": {
    "tags": []
   },
   "outputs": [
    {
     "name": "stdout",
     "output_type": "stream",
     "text": [
      "\u001b[34mINFO    \u001b[0m File \u001b[35m/root/datos/maestria/netopaas/lung_scRNA/HCA_Lung/HLCA_reference_model/\u001b[0m\u001b[95mmodel.pt\u001b[0m already downloaded   \n"
     ]
    },
    {
     "name": "stderr",
     "output_type": "stream",
     "text": [
      "WARNING:jax._src.xla_bridge:No GPU/TPU found, falling back to CPU. (Set TF_CPP_MIN_LOG_LEVEL=0 and rerun for more info.)\n"
     ]
    }
   ],
   "source": [
    "surgery_model = sca.models.SCANVI.load_query_data(\n",
    "        adata_query,\n",
    "        ref_model_path,\n",
    "        freeze_dropout = True,\n",
    "    )"
   ]
  },
  {
   "cell_type": "code",
   "execution_count": 33,
   "id": "c90703a5-cbc6-47d6-9e30-6455d7622397",
   "metadata": {
    "tags": []
   },
   "outputs": [
    {
     "name": "stdout",
     "output_type": "stream",
     "text": [
      "\u001b[34mINFO    \u001b[0m Training for \u001b[1;36m100\u001b[0m epochs.                                                                                  \n"
     ]
    },
    {
     "name": "stderr",
     "output_type": "stream",
     "text": [
      "INFO: GPU available: False, used: False\n",
      "INFO:lightning.pytorch.utilities.rank_zero:GPU available: False, used: False\n",
      "INFO: TPU available: False, using: 0 TPU cores\n",
      "INFO:lightning.pytorch.utilities.rank_zero:TPU available: False, using: 0 TPU cores\n",
      "INFO: IPU available: False, using: 0 IPUs\n",
      "INFO:lightning.pytorch.utilities.rank_zero:IPU available: False, using: 0 IPUs\n",
      "INFO: HPU available: False, using: 0 HPUs\n",
      "INFO:lightning.pytorch.utilities.rank_zero:HPU available: False, using: 0 HPUs\n"
     ]
    },
    {
     "name": "stdout",
     "output_type": "stream",
     "text": [
      "Epoch 100/100: 100%|█████████████████████████████████████████████████████████████████████████████████████████████████████████| 100/100 [57:38<00:00, 31.80s/it, v_num=1, train_loss_step=466, train_loss_epoch=521]"
     ]
    },
    {
     "name": "stderr",
     "output_type": "stream",
     "text": [
      "INFO: `Trainer.fit` stopped: `max_epochs=100` reached.\n",
      "INFO:lightning.pytorch.utilities.rank_zero:`Trainer.fit` stopped: `max_epochs=100` reached.\n"
     ]
    },
    {
     "name": "stdout",
     "output_type": "stream",
     "text": [
      "Epoch 100/100: 100%|█████████████████████████████████████████████████████████████████████████████████████████████████████████| 100/100 [57:38<00:00, 34.58s/it, v_num=1, train_loss_step=466, train_loss_epoch=521]\n",
      "CPU times: user 1d 12h 16min 39s, sys: 1min 11s, total: 1d 12h 17min 51s\n",
      "Wall time: 57min 38s\n"
     ]
    }
   ],
   "source": [
    "%%time\n",
    "surgery_model.train(\n",
    "     max_epochs=surgery_epochs,\n",
    "    **early_stopping_kwargs_surgery\n",
    ")"
   ]
  },
  {
   "cell_type": "code",
   "execution_count": 34,
   "id": "c9ff52f2-388b-4cff-879a-a98ce4a0b5fb",
   "metadata": {
    "tags": []
   },
   "outputs": [],
   "source": [
    "surgery_model.save(f'{backup_dir}/surgeries/{name}', overwrite=True)"
   ]
  },
  {
   "cell_type": "code",
   "execution_count": 24,
   "id": "dd0ab034-5d4d-440f-a2b5-8ef5be7a78e2",
   "metadata": {
    "tags": []
   },
   "outputs": [
    {
     "name": "stdout",
     "output_type": "stream",
     "text": [
      "\u001b[34mINFO    \u001b[0m File surgeries/Chen/model.pt already downloaded                                                           \n"
     ]
    }
   ],
   "source": [
    "surgery_model = sca.models.SCANVI.load(f'{backup_dir}/surgeries/{name}/', adata_query)"
   ]
  },
  {
   "cell_type": "markdown",
   "id": "b7b97558-9bbb-40fd-aa40-41f22236637c",
   "metadata": {},
   "source": [
    "### Get latent representation\n",
    "Here we will calculate the “latent representation”, or “low-dimensional embedding” of your dataset. This embedding is in the same space as the HLCA core/reference embedding that you loaded in the beginning of the script. Hence, we can combine the two embeddings afterwards (HLCA + your new data), and do joint clustering, UMAP embedding, label transfer etc.!"
   ]
  },
  {
   "cell_type": "code",
   "execution_count": 36,
   "id": "939f0f89-45f3-4500-9afb-f6d6c8ec76f0",
   "metadata": {
    "tags": []
   },
   "outputs": [],
   "source": [
    "adata_query_latent = sc.AnnData(surgery_model.get_latent_representation(adata_query))\n",
    "adata_query_latent.obs = adata_query.obs.loc[adata_query.obs.index,:]"
   ]
  },
  {
   "cell_type": "code",
   "execution_count": null,
   "id": "a2b377a9-b838-4387-b102-08d9d922980b",
   "metadata": {},
   "outputs": [],
   "source": [
    "adata_query_latent.write_h5ad(f'{backup_dir}/surgeries/latent_{name}.h5ad')"
   ]
  },
  {
   "cell_type": "code",
   "execution_count": null,
   "id": "6ac8ca9d-ea06-46f7-b8f0-d12805558ef3",
   "metadata": {},
   "outputs": [],
   "source": [
    "adata_query_latent = sc.read_h5ad(f'{backup_dir}/surgeries/latent_{name}.h5ad')"
   ]
  },
  {
   "cell_type": "markdown",
   "id": "0881c327-17fa-4e29-98e3-96c52c6a3c09",
   "metadata": {},
   "source": [
    "### Combine embeddings\n",
    "We add “reference or query” metadata to acquire more information and better analyse the integration level."
   ]
  },
  {
   "cell_type": "code",
   "execution_count": 37,
   "id": "85a7c591-7d46-4cab-bc1c-3f86c1140824",
   "metadata": {
    "tags": []
   },
   "outputs": [],
   "source": [
    "adata_query_latent.obs['ref_or_query'] = \"query\"\n",
    "adata_ref.obs['ref_or_query'] = \"ref\""
   ]
  },
  {
   "cell_type": "markdown",
   "id": "50bba222-035c-4ebb-afbf-7e7a44947db5",
   "metadata": {},
   "source": [
    "We will now combine the two embeddings to enable joing clustering etc. If you expect non-unique barcodes (.obs index), set index_unique to e.g. “_” and batch_key to the obs column that you want to use as barcode suffix (e.g. “dataset”)."
   ]
  },
  {
   "cell_type": "code",
   "execution_count": 38,
   "id": "42cfe4c1-3d06-4cb2-9a16-00259647cf12",
   "metadata": {
    "tags": []
   },
   "outputs": [
    {
     "name": "stderr",
     "output_type": "stream",
     "text": [
      "/usr/local/lib/python3.11/site-packages/anndata/_core/anndata.py:1763: FutureWarning: The AnnData.concatenate method is deprecated in favour of the anndata.concat function. Please use anndata.concat instead.\n",
      "\n",
      "See the tutorial for concat at: https://anndata.readthedocs.io/en/latest/concatenation.html\n",
      "  warnings.warn(\n"
     ]
    }
   ],
   "source": [
    "combined_emb = adata_ref.concatenate(adata_query_latent, index_unique=None) # index_unique=\"_\", batch_key=\"dataset\") # alternative"
   ]
  },
  {
   "cell_type": "code",
   "execution_count": 39,
   "id": "0475e637-b474-4302-91cc-69182e37b7ee",
   "metadata": {
    "tags": []
   },
   "outputs": [],
   "source": [
    "# We save the combined embeddings (optional).\n",
    "combined_emb.write_h5ad(f'{backup_dir}/surgeries/combined_{name}.h5ad')"
   ]
  },
  {
   "cell_type": "code",
   "execution_count": 11,
   "id": "7bec34b1-9c25-47b6-be3d-776afdebadb8",
   "metadata": {
    "tags": []
   },
   "outputs": [],
   "source": [
    "combined_emb = sc.read_h5ad(f'{backup_dir}/surgeries/combined_{name}.h5ad')"
   ]
  },
  {
   "cell_type": "markdown",
   "id": "daa73a02-678d-4fe2-8122-d57d2acab6ad",
   "metadata": {},
   "source": [
    "Note that if wanted, this embedding can be added to the full, joint HLCA + query data object (including gene counts). The full HLCA, including normalized counts is publicly available. For now, we will just work with the embedding, since that is all we need to perform joint plotting and label transfer."
   ]
  },
  {
   "cell_type": "markdown",
   "id": "3d59d9ab-b721-46dd-8420-aea359b39533",
   "metadata": {},
   "source": [
    "### Label transfer\n",
    "Next, we use a knn classifier to transfer the lables from the reference to the query. We do this for every level of the annotation (i.e. level 1-5). Note that some cell types don’t have annotations for higher levels, e.g. mast cells do not have level 4 or 5 annotations. For those cell types, we “propagate” to the higher levels, i.e. you will see “3_Mast cells” in level 4 and 5 annotations. (Most cell types don’t have a level 5 annotation!) Therefore, all highest level annotations can be found under level 5."
   ]
  },
  {
   "cell_type": "code",
   "execution_count": 40,
   "id": "d70ee66c-efd3-4f8b-a5c9-3b861ebbb9db",
   "metadata": {
    "tags": []
   },
   "outputs": [],
   "source": [
    "celltypes = f'{data_dir}/HCA_Lung/HLCA_celltypes_ordered.csv'"
   ]
  },
  {
   "cell_type": "code",
   "execution_count": null,
   "id": "bd485e7a-0fed-4d7a-ba52-2ec7b0a52568",
   "metadata": {
    "tags": []
   },
   "outputs": [],
   "source": [
    "url = 'https://github.com/LungCellAtlas/mapping_data_to_the_HLCA/raw/main/supporting_files/HLCA_celltypes_ordered.csv'\n",
    "gdown.download(url, celltypes, quiet=False)"
   ]
  },
  {
   "cell_type": "code",
   "execution_count": 41,
   "id": "f09872f4-1422-4f44-93da-adeb7fcba786",
   "metadata": {},
   "outputs": [],
   "source": [
    "cts_ordered = read_csv(celltypes,index_col=0)"
   ]
  },
  {
   "cell_type": "code",
   "execution_count": 42,
   "id": "3b0fd89d-600b-4f01-b8a6-25009a4d4b27",
   "metadata": {
    "tags": []
   },
   "outputs": [
    {
     "name": "stdout",
     "output_type": "stream",
     "text": [
      "Weighted KNN with n_neighbors = 50 ... "
     ]
    }
   ],
   "source": [
    "#Now run the label transfer commands. Note that this might take quite a while if you have a large query dataset! For our small test dataset, it should not take long.\n",
    "\n",
    "knn_transformer = sca.utils.knn.weighted_knn_trainer(\n",
    "    train_adata=adata_ref,\n",
    "    train_adata_emb=\"X\",\n",
    "    n_neighbors=50,\n",
    ")"
   ]
  },
  {
   "cell_type": "code",
   "execution_count": 43,
   "id": "2f7c277d-e6cc-4ff5-8000-4662602e3960",
   "metadata": {
    "tags": []
   },
   "outputs": [
    {
     "name": "stdout",
     "output_type": "stream",
     "text": [
      "finished!\n",
      "CPU times: user 8min 7s, sys: 5.86 s, total: 8min 13s\n",
      "Wall time: 1min 25s\n"
     ]
    }
   ],
   "source": [
    "%%time\n",
    "\n",
    "labels, uncert = sca.utils.knn.weighted_knn_transfer(\n",
    "    query_adata=adata_query_latent,\n",
    "    query_adata_emb=\"X\", # location of our joint embedding\n",
    "    label_keys=\"Level\",\n",
    "    knn_model=knn_transformer,\n",
    "    ref_adata_obs = adata_ref.obs.join(cts_ordered, on='ann_finest_level')\n",
    "    )"
   ]
  },
  {
   "cell_type": "markdown",
   "id": "d23fc7fe-f032-4712-8d5d-0a22e21be44a",
   "metadata": {},
   "source": [
    "With the commands above, we labeled every cell from the query. However, some cells might have high label transfer uncertainty. It is useful to set those to “unknown” instead of giving them a cell type label. This will help highlight cell types/states that are new (i.e. not present in the reference) and possible interesting, they’re worth taking a careful look at!\n",
    "\n",
    "This uncertainty threshold limits the false positive rate to <0.5 (as per Sikkema et al., bioRxiv 2022)"
   ]
  },
  {
   "cell_type": "code",
   "execution_count": 44,
   "id": "fc4644b1-aa14-43b4-ad6e-912f658fb787",
   "metadata": {},
   "outputs": [],
   "source": [
    "uncertainty_threshold = 0.2"
   ]
  },
  {
   "cell_type": "code",
   "execution_count": 45,
   "id": "0df3b8b0-19cc-40b4-8a1e-ec784a390b0e",
   "metadata": {
    "tags": []
   },
   "outputs": [],
   "source": [
    "labels.rename(columns={f'Level_{lev}':f'Level_{lev}_transfered_label_unfiltered' for lev in range(1,6)},inplace=True)\n",
    "uncert.rename(columns={f'Level_{lev}':f'Level_{lev}_transfer_uncert' for lev in range(1,6)},inplace=True)\n",
    "\n",
    "combined_emb.obs = combined_emb.obs.join(labels)\n",
    "combined_emb.obs = combined_emb.obs.join(uncert)"
   ]
  },
  {
   "cell_type": "code",
   "execution_count": 46,
   "id": "e1e2e6b2-2a64-42af-af5b-150d94f77561",
   "metadata": {},
   "outputs": [],
   "source": [
    "t_labels = [f'Level_{lev}_transfered_label_unfiltered' for lev in range(1,6)]\n",
    "t_uncert = [f'Level_{lev}_transfer_uncert' for lev in range(1,6)]"
   ]
  },
  {
   "cell_type": "markdown",
   "id": "bf03c2eb-0ae2-4514-98ab-5539461d3b4c",
   "metadata": {},
   "source": [
    "Convert uncertainties to arrays"
   ]
  },
  {
   "cell_type": "code",
   "execution_count": 47,
   "id": "89bf7254-66b3-437f-abf1-233b5ee7016c",
   "metadata": {},
   "outputs": [],
   "source": [
    "combined_emb.obs[t_uncert] = list(np.array(combined_emb.obs[t_uncert]))"
   ]
  },
  {
   "cell_type": "markdown",
   "id": "8dd2bc26-3cec-40e2-b8e7-8f4b5c787ebd",
   "metadata": {},
   "source": [
    "Convert cell type labels to categoricals, and set “nan” to NaN"
   ]
  },
  {
   "cell_type": "code",
   "execution_count": 48,
   "id": "f9d605cc-5a03-43c5-9832-64b8532dff3d",
   "metadata": {
    "tags": []
   },
   "outputs": [],
   "source": [
    "def remove_uncert_types(combined_emb):\n",
    "    import pandas as pd\n",
    "    t_labels = [f'Level_{lev}_transfered_label_unfiltered' for lev in range(1,6)]\n",
    "    t_uncert = [f'Level_{lev}_transfer_uncert' for lev in range(1,6)]\n",
    "    \n",
    "    combined_emb.obs[t_uncert] = list(np.array(combined_emb.obs[t_uncert]))\n",
    "\n",
    "    for col, uncert in zip(t_labels,t_uncert):\n",
    "        filtered_colname = col.replace('_unfiltered','')\n",
    "        # too high uncertainty levels => set to \"Unknown\"\n",
    "        combined_emb.obs[filtered_colname] = combined_emb.obs[col]\n",
    "        combined_emb.obs[filtered_colname] = combined_emb.obs[filtered_colname].astype('str')\n",
    "        combined_emb.obs[filtered_colname].mask(\n",
    "            combined_emb.obs[uncert] > uncertainty_threshold,\n",
    "            'Unknown',\n",
    "            inplace = True)\n",
    "\n",
    "        # convert to categorical:\n",
    "        combined_emb.obs[col] = pd.Categorical(combined_emb.obs[col])\n",
    "        combined_emb.obs[filtered_colname] = pd.Categorical(combined_emb.obs[filtered_colname])\n",
    "        # then replace \"nan\" with NaN (that makes colors better in umap)\n",
    "        combined_emb.obs[col].replace('nan',np.nan,inplace=True)\n",
    "        combined_emb.obs[filtered_colname].replace('nan',np.nan,inplace=True)\n",
    "    return combined_emb"
   ]
  },
  {
   "cell_type": "code",
   "execution_count": 49,
   "id": "2e1413d9-dec5-46ea-91e9-6a4d91267fcb",
   "metadata": {},
   "outputs": [
    {
     "data": {
      "text/plain": [
       "AnnData object with n_obs × n_vars = 698496 × 30\n",
       "    obs: 'sample', 'study_long', 'study', 'last_author_PI', 'subject_ID', 'sex', 'ethnicity', 'mixed_ethnicity', 'smoking_status', 'BMI', 'condition', 'subject_type', 'sample_type', 'single_cell_platform', \"3'_or_5'\", 'sequencing_platform', 'cell_ranger_version', 'fresh_or_frozen', 'dataset', 'anatomical_region_level_1', 'anatomical_region_level_2', 'anatomical_region_level_3', 'anatomical_region_highest_res', 'age', 'ann_highest_res', 'n_genes', 'log10_total_counts', 'mito_frac', 'ribo_frac', 'original_ann_level_1', 'original_ann_level_2', 'original_ann_level_3', 'original_ann_level_4', 'original_ann_level_5', 'scanvi_label', 'leiden_1', 'leiden_2', 'leiden_3', 'anatomical_region_ccf_score', 'entropy_study_leiden_3', 'entropy_dataset_leiden_3', 'entropy_subject_ID_leiden_3', 'entropy_original_ann_level_1_leiden_3', 'entropy_original_ann_level_2_clean_leiden_3', 'entropy_original_ann_level_3_clean_leiden_3', 'entropy_original_ann_level_4_clean_leiden_3', 'entropy_original_ann_level_5_clean_leiden_3', 'leiden_4', 'reannotation_type', 'leiden_5', 'ann_finest_level', 'ann_level_1', 'ann_level_2', 'ann_level_3', 'ann_level_4', 'ann_level_5', 'ann_coarse_for_GWAS_and_modeling', 'ref_or_query', 'accession', 'origin', 'tissue', 'patient', 'n_counts', 'n_genes_by_counts', 'total_counts', 'total_counts_mito', 'pct_counts_mito', '_scvi_batch', '_scvi_labels', 'batch', 'Level_1_transfered_label_unfiltered', 'Level_2_transfered_label_unfiltered', 'Level_3_transfered_label_unfiltered', 'Level_4_transfered_label_unfiltered', 'Level_5_transfered_label_unfiltered', 'Level_1_transfer_uncert', 'Level_2_transfer_uncert', 'Level_3_transfer_uncert', 'Level_4_transfer_uncert', 'Level_5_transfer_uncert', 'Level_1_transfered_label', 'Level_2_transfered_label', 'Level_3_transfered_label', 'Level_4_transfered_label', 'Level_5_transfered_label'"
      ]
     },
     "execution_count": 49,
     "metadata": {},
     "output_type": "execute_result"
    }
   ],
   "source": [
    "remove_uncert_types(combined_emb)"
   ]
  },
  {
   "cell_type": "markdown",
   "id": "f211fb2d-b8e5-4b1a-9da0-cc553f6fcdaa",
   "metadata": {},
   "source": [
    "Let’s take a look at the percentage of cells set to “unknown” after our filtering:"
   ]
  },
  {
   "cell_type": "code",
   "execution_count": 50,
   "id": "3cad8433-f699-4cbb-93fb-221472a6c511",
   "metadata": {},
   "outputs": [
    {
     "name": "stdout",
     "output_type": "stream",
     "text": [
      "Percentage of unknown per level, with uncertainty_threshold=0.2:\n",
      "Level 1: 1.68%\n",
      "Level 2: 7.24%\n",
      "Level 3: 14.37%\n",
      "Level 4: 30.65%\n",
      "Level 5: 32.5%\n"
     ]
    }
   ],
   "source": [
    "print(f'Percentage of unknown per level, with uncertainty_threshold={uncertainty_threshold}:')\n",
    "for level in range(1,6):\n",
    "    print(f\"Level {level}: {np.round(sum(combined_emb.obs[f'Level_{level}_transfered_label'] =='Unknown')/adata_query.n_obs*100,2)}%\")\n",
    "\n"
   ]
  },
  {
   "cell_type": "markdown",
   "id": "e5f0f288-df87-4c1c-b8ef-fa425cdb98aa",
   "metadata": {},
   "source": [
    "### UMAP\n",
    "\n",
    "The UMAP plots help us perform downstream analysis, like clustering, label transfer, integration and more.\n",
    "\n",
    "#### UMAP Query vs. Reference"
   ]
  },
  {
   "cell_type": "code",
   "execution_count": 51,
   "id": "9ec805e8-ad42-49f1-a721-714542d4ae69",
   "metadata": {},
   "outputs": [],
   "source": [
    "# We save the combined embeddings (optional).\n",
    "combined_emb.write_h5ad(f'{backup_dir}/surgeries/combined_{name}.h5ad')"
   ]
  },
  {
   "cell_type": "code",
   "execution_count": null,
   "id": "1bacc3d7-d741-4c98-afbd-0e10cee081da",
   "metadata": {},
   "outputs": [],
   "source": [
    "combined_emb = sc.read_h5ad(f'{backup_dir}/surgeries/combined_{name}.h5ad')"
   ]
  },
  {
   "cell_type": "code",
   "execution_count": null,
   "id": "0094516c-a936-4506-a00d-e4e48a364243",
   "metadata": {
    "tags": []
   },
   "outputs": [],
   "source": [
    "sc.pp.neighbors(combined_emb, n_neighbors=30)\n",
    "sc.tl.umap(combined_emb)\n",
    "sc.pl.umap(\n",
    "        combined_emb,\n",
    "        color='ref_or_query',\n",
    "        frameon=False,\n",
    "        wspace=0.6\n",
    "        )"
   ]
  },
  {
   "cell_type": "code",
   "execution_count": null,
   "id": "8d1949fd-f7a8-4af4-87f0-8df56f18bd99",
   "metadata": {},
   "outputs": [],
   "source": [
    "# We save the combined embeddings (optional).\n",
    "combined_emb.write_h5ad(f'{backup_dir}/surgeries/combined_{name}.h5ad')"
   ]
  },
  {
   "cell_type": "code",
   "execution_count": null,
   "id": "94b16f2b-3139-441a-b67f-c69741cf5b07",
   "metadata": {},
   "outputs": [],
   "source": [
    "combined_emb = sc.read_h5ad(f'{backup_dir}/surgeries/combined_{name}.h5ad')"
   ]
  },
  {
   "cell_type": "markdown",
   "id": "8d6005c5-10dc-4360-b252-3568a6942844",
   "metadata": {},
   "source": [
    "#### UMAP Uncertainties\n",
    "\n",
    "Here we show label transfer uncertainties per level. Regions with high uncertainty can highlight interesting cell types/states, not present in the reference. Note that uncertainties will get higher, the more detailed we go:"
   ]
  },
  {
   "cell_type": "code",
   "execution_count": null,
   "id": "211a8758-685e-4fb4-98b1-604927fdadae",
   "metadata": {},
   "outputs": [],
   "source": [
    "sc.pl.umap(\n",
    "    combined_emb,\n",
    "    color=[f'Level_{lev}_transfer_uncert' for lev in range(1,6)],\n",
    "    ncols=3,\n",
    "    frameon=False,\n",
    "    )"
   ]
  },
  {
   "cell_type": "code",
   "execution_count": null,
   "id": "798593a4-1132-4174-8700-607a99bf6a66",
   "metadata": {},
   "outputs": [],
   "source": [
    "sc.pl.umap(\n",
    "        combined_emb,\n",
    "        color=[f\"Level_{lev}_transfered_label\" for lev in range(1,6)],\n",
    "        na_color=\"grey\",\n",
    "        ncols=1,\n",
    "        size=0.5\n",
    ")"
   ]
  },
  {
   "cell_type": "code",
   "execution_count": null,
   "id": "861f0915-a399-411f-bbbd-186cfb3fca89",
   "metadata": {},
   "outputs": [],
   "source": []
  }
 ],
 "metadata": {
  "kernelspec": {
   "display_name": "Python 3 (ipykernel)",
   "language": "python",
   "name": "python3"
  },
  "language_info": {
   "codemirror_mode": {
    "name": "ipython",
    "version": 3
   },
   "file_extension": ".py",
   "mimetype": "text/x-python",
   "name": "python",
   "nbconvert_exporter": "python",
   "pygments_lexer": "ipython3",
   "version": "3.11.4"
  }
 },
 "nbformat": 4,
 "nbformat_minor": 5
}
