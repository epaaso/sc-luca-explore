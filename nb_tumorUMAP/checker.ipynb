{
 "cells": [
  {
   "cell_type": "code",
   "execution_count": 1,
   "id": "f776d8a3-c291-4bab-be19-52b66db54b30",
   "metadata": {
    "editable": true,
    "slideshow": {
     "slide_type": ""
    },
    "tags": []
   },
   "outputs": [],
   "source": [
    "import gdown\n",
    "import anndata as ad\n",
    "import pandas as pd\n",
    "from ikarus import classifier, utils, data\n",
    "\n",
    "import papermill as pm\n",
    "import warnings\n",
    "import logging"
   ]
  },
  {
   "cell_type": "code",
   "execution_count": 2,
   "id": "183e1cb5-967d-4b88-9cf6-c5e83779f77d",
   "metadata": {
    "editable": true,
    "slideshow": {
     "slide_type": ""
    },
    "tags": []
   },
   "outputs": [
    {
     "data": {
      "text/html": [
       "<div>\n",
       "<style scoped>\n",
       "    .dataframe tbody tr th:only-of-type {\n",
       "        vertical-align: middle;\n",
       "    }\n",
       "\n",
       "    .dataframe tbody tr th {\n",
       "        vertical-align: top;\n",
       "    }\n",
       "\n",
       "    .dataframe thead th {\n",
       "        text-align: right;\n",
       "    }\n",
       "</style>\n",
       "<table border=\"1\" class=\"dataframe\">\n",
       "  <thead>\n",
       "    <tr style=\"text-align: right;\">\n",
       "      <th></th>\n",
       "      <th>Unnamed: 0</th>\n",
       "      <th>id</th>\n",
       "      <th>input_adata</th>\n",
       "      <th>min_counts</th>\n",
       "      <th>max_counts</th>\n",
       "      <th>min_genes</th>\n",
       "      <th>max_genes</th>\n",
       "      <th>max_pct_mito</th>\n",
       "      <th>batch_key</th>\n",
       "      <th>run_solo</th>\n",
       "      <th>no_cancer_or_filter</th>\n",
       "      <th>chem</th>\n",
       "      <th>assembly</th>\n",
       "      <th>Names</th>\n",
       "      <th>Annots</th>\n",
       "      <th>study</th>\n",
       "      <th>doi</th>\n",
       "    </tr>\n",
       "  </thead>\n",
       "  <tbody>\n",
       "    <tr>\n",
       "      <th>0</th>\n",
       "      <td>0</td>\n",
       "      <td>Chen_Zhang_2020_NSCLC</td>\n",
       "      <td>data/12_input_adatas/Chen_Zhang_2020_NSCLC.h5ad</td>\n",
       "      <td>600</td>\n",
       "      <td>30000</td>\n",
       "      <td>250</td>\n",
       "      <td>10000</td>\n",
       "      <td>20</td>\n",
       "      <td>sample</td>\n",
       "      <td>True</td>\n",
       "      <td>False</td>\n",
       "      <td>10x-3'-v2</td>\n",
       "      <td>GRCh8</td>\n",
       "      <td>Chen</td>\n",
       "      <td>True</td>\n",
       "      <td>Chen_Zhang_2020</td>\n",
       "      <td>10.1186/s13059-020-02064-6</td>\n",
       "    </tr>\n",
       "    <tr>\n",
       "      <th>1</th>\n",
       "      <td>1</td>\n",
       "      <td>Goveia_Carmeliet_2020_NSCLC</td>\n",
       "      <td>data/12_input_adatas/goveia_carmeliet_2020_nsc...</td>\n",
       "      <td>600</td>\n",
       "      <td>30000</td>\n",
       "      <td>250</td>\n",
       "      <td>10000</td>\n",
       "      <td>20</td>\n",
       "      <td>sample</td>\n",
       "      <td>True</td>\n",
       "      <td>False</td>\n",
       "      <td>10x-3'-v2</td>\n",
       "      <td>GRCh8</td>\n",
       "      <td>Goveia</td>\n",
       "      <td>True</td>\n",
       "      <td>Goveia_Carmeliet_2020</td>\n",
       "      <td>10.1016/j.ccell.2019.12.001</td>\n",
       "    </tr>\n",
       "    <tr>\n",
       "      <th>2</th>\n",
       "      <td>2</td>\n",
       "      <td>Kim_Lee_2020_LUAD</td>\n",
       "      <td>data/12_input_adatas/Kim_Lee_2020_LUAD.h5ad</td>\n",
       "      <td>1000</td>\n",
       "      <td>35000</td>\n",
       "      <td>300</td>\n",
       "      <td>10000</td>\n",
       "      <td>20</td>\n",
       "      <td>sample</td>\n",
       "      <td>True</td>\n",
       "      <td>False</td>\n",
       "      <td>10x-3'-v2</td>\n",
       "      <td>GRCh8</td>\n",
       "      <td>Kim</td>\n",
       "      <td>True</td>\n",
       "      <td>Kim_Lee_2020</td>\n",
       "      <td>10.1038/s41467-020-16164-1</td>\n",
       "    </tr>\n",
       "    <tr>\n",
       "      <th>3</th>\n",
       "      <td>3</td>\n",
       "      <td>He_Fan_2021_LUAD</td>\n",
       "      <td>data/12_input_adatas/He_Fan_2021_LUAD.h5ad</td>\n",
       "      <td>600</td>\n",
       "      <td>30000</td>\n",
       "      <td>250</td>\n",
       "      <td>10000</td>\n",
       "      <td>20</td>\n",
       "      <td>sample</td>\n",
       "      <td>True</td>\n",
       "      <td>False</td>\n",
       "      <td>10x-3'-v2</td>\n",
       "      <td>GRCh8?</td>\n",
       "      <td>He</td>\n",
       "      <td>True</td>\n",
       "      <td>He_Fan_2021</td>\n",
       "      <td>10.1038/s41388-020-01528-0</td>\n",
       "    </tr>\n",
       "    <tr>\n",
       "      <th>4</th>\n",
       "      <td>4</td>\n",
       "      <td>Lambrechts_2018_LUAD_6149v1</td>\n",
       "      <td>data/12_input_adatas/lambrechts_2018_luad_6149...</td>\n",
       "      <td>600</td>\n",
       "      <td>30000</td>\n",
       "      <td>200</td>\n",
       "      <td>10000</td>\n",
       "      <td>15</td>\n",
       "      <td>sample</td>\n",
       "      <td>True</td>\n",
       "      <td>False</td>\n",
       "      <td>10x-3'-v1</td>\n",
       "      <td>hg19</td>\n",
       "      <td>Lambrechts</td>\n",
       "      <td>True</td>\n",
       "      <td>Lambrechts_Thienpont_2018</td>\n",
       "      <td>10.1038/s41591-018-0096-5</td>\n",
       "    </tr>\n",
       "    <tr>\n",
       "      <th>5</th>\n",
       "      <td>5</td>\n",
       "      <td>Lambrechts_2018_LUAD_6149v2</td>\n",
       "      <td>data/12_input_adatas/lambrechts_2018_luad_6149...</td>\n",
       "      <td>600</td>\n",
       "      <td>30000</td>\n",
       "      <td>250</td>\n",
       "      <td>10000</td>\n",
       "      <td>20</td>\n",
       "      <td>sample</td>\n",
       "      <td>True</td>\n",
       "      <td>False</td>\n",
       "      <td>10x-3'-v2</td>\n",
       "      <td>NaN</td>\n",
       "      <td>Lambrechts</td>\n",
       "      <td>True</td>\n",
       "      <td>Lambrechts_Thienpont_2018</td>\n",
       "      <td>10.1038/s41591-018-0096-5</td>\n",
       "    </tr>\n",
       "    <tr>\n",
       "      <th>6</th>\n",
       "      <td>6</td>\n",
       "      <td>Lambrechts_2018_LUAD_6653</td>\n",
       "      <td>data/12_input_adatas/lambrechts_2018_luad_6653...</td>\n",
       "      <td>1200</td>\n",
       "      <td>40000</td>\n",
       "      <td>250</td>\n",
       "      <td>10000</td>\n",
       "      <td>20</td>\n",
       "      <td>sample</td>\n",
       "      <td>True</td>\n",
       "      <td>False</td>\n",
       "      <td>NaN</td>\n",
       "      <td>NaN</td>\n",
       "      <td>Lambrechts</td>\n",
       "      <td>True</td>\n",
       "      <td>Lambrechts_Thienpont_2018</td>\n",
       "      <td>10.1038/s41591-018-0096-5</td>\n",
       "    </tr>\n",
       "    <tr>\n",
       "      <th>7</th>\n",
       "      <td>7</td>\n",
       "      <td>Laughney_Massague_2020_NSCLC</td>\n",
       "      <td>data/12_input_adatas/laughney_massague_2020_ns...</td>\n",
       "      <td>1800</td>\n",
       "      <td>40000</td>\n",
       "      <td>500</td>\n",
       "      <td>10000</td>\n",
       "      <td>20</td>\n",
       "      <td>sample</td>\n",
       "      <td>True</td>\n",
       "      <td>False</td>\n",
       "      <td>10x-3'-v2</td>\n",
       "      <td>GRCh8</td>\n",
       "      <td>Laughney</td>\n",
       "      <td>True</td>\n",
       "      <td>Laughney_Massague_2020</td>\n",
       "      <td>10.1038/s41591-019-0750-6</td>\n",
       "    </tr>\n",
       "    <tr>\n",
       "      <th>8</th>\n",
       "      <td>8</td>\n",
       "      <td>Maynard_Bivona_2020_NSCLC</td>\n",
       "      <td>data/12_input_adatas/maynard2020.h5ad</td>\n",
       "      <td>20000</td>\n",
       "      <td>20000000</td>\n",
       "      <td>600</td>\n",
       "      <td>20000</td>\n",
       "      <td>30</td>\n",
       "      <td>sample</td>\n",
       "      <td>False</td>\n",
       "      <td>False</td>\n",
       "      <td>NaN</td>\n",
       "      <td>NaN</td>\n",
       "      <td>Maynard</td>\n",
       "      <td>True</td>\n",
       "      <td>Maynard_Bivona_2020</td>\n",
       "      <td>10.1016/j.cell.2020.07.017</td>\n",
       "    </tr>\n",
       "    <tr>\n",
       "      <th>9</th>\n",
       "      <td>9</td>\n",
       "      <td>UKIM-V</td>\n",
       "      <td>data/12_input_adatas/batch1_3patients.h5ad</td>\n",
       "      <td>2000</td>\n",
       "      <td>100000</td>\n",
       "      <td>200</td>\n",
       "      <td>8000</td>\n",
       "      <td>30</td>\n",
       "      <td>sample</td>\n",
       "      <td>True</td>\n",
       "      <td>False</td>\n",
       "      <td>NaN</td>\n",
       "      <td>NaN</td>\n",
       "      <td>UKIM-V</td>\n",
       "      <td>True</td>\n",
       "      <td>UKIM-V</td>\n",
       "      <td>10.1101/2022.05.09.491204</td>\n",
       "    </tr>\n",
       "    <tr>\n",
       "      <th>10</th>\n",
       "      <td>10</td>\n",
       "      <td>Wu_Zhou_2021_NSCLC</td>\n",
       "      <td>data/12_input_adatas/wu_zhou_2021_nsclc.h5ad</td>\n",
       "      <td>600</td>\n",
       "      <td>30000</td>\n",
       "      <td>300</td>\n",
       "      <td>10000</td>\n",
       "      <td>30</td>\n",
       "      <td>sample</td>\n",
       "      <td>True</td>\n",
       "      <td>False</td>\n",
       "      <td>NaN</td>\n",
       "      <td>NaN</td>\n",
       "      <td>Wu</td>\n",
       "      <td>True</td>\n",
       "      <td>Wu_Zhou_2021</td>\n",
       "      <td>10.1038/s41467-021-22801-0</td>\n",
       "    </tr>\n",
       "    <tr>\n",
       "      <th>12</th>\n",
       "      <td>12</td>\n",
       "      <td>UKIM-V-2</td>\n",
       "      <td>data/11_own_datasets/batch2/h5ad_raw/ukim_v_ba...</td>\n",
       "      <td>1000</td>\n",
       "      <td>60000</td>\n",
       "      <td>200</td>\n",
       "      <td>8000</td>\n",
       "      <td>30</td>\n",
       "      <td>sample</td>\n",
       "      <td>True</td>\n",
       "      <td>False</td>\n",
       "      <td>NaN</td>\n",
       "      <td>NaN</td>\n",
       "      <td>UKIM-V-2</td>\n",
       "      <td>True</td>\n",
       "      <td>NaN</td>\n",
       "      <td>NaN</td>\n",
       "    </tr>\n",
       "  </tbody>\n",
       "</table>\n",
       "</div>"
      ],
      "text/plain": [
       "    Unnamed: 0                            id  \\\n",
       "0            0         Chen_Zhang_2020_NSCLC   \n",
       "1            1   Goveia_Carmeliet_2020_NSCLC   \n",
       "2            2             Kim_Lee_2020_LUAD   \n",
       "3            3              He_Fan_2021_LUAD   \n",
       "4            4   Lambrechts_2018_LUAD_6149v1   \n",
       "5            5   Lambrechts_2018_LUAD_6149v2   \n",
       "6            6     Lambrechts_2018_LUAD_6653   \n",
       "7            7  Laughney_Massague_2020_NSCLC   \n",
       "8            8     Maynard_Bivona_2020_NSCLC   \n",
       "9            9                        UKIM-V   \n",
       "10          10            Wu_Zhou_2021_NSCLC   \n",
       "12          12                      UKIM-V-2   \n",
       "\n",
       "                                          input_adata  min_counts  max_counts  \\\n",
       "0     data/12_input_adatas/Chen_Zhang_2020_NSCLC.h5ad         600       30000   \n",
       "1   data/12_input_adatas/goveia_carmeliet_2020_nsc...         600       30000   \n",
       "2         data/12_input_adatas/Kim_Lee_2020_LUAD.h5ad        1000       35000   \n",
       "3          data/12_input_adatas/He_Fan_2021_LUAD.h5ad         600       30000   \n",
       "4   data/12_input_adatas/lambrechts_2018_luad_6149...         600       30000   \n",
       "5   data/12_input_adatas/lambrechts_2018_luad_6149...         600       30000   \n",
       "6   data/12_input_adatas/lambrechts_2018_luad_6653...        1200       40000   \n",
       "7   data/12_input_adatas/laughney_massague_2020_ns...        1800       40000   \n",
       "8               data/12_input_adatas/maynard2020.h5ad       20000    20000000   \n",
       "9          data/12_input_adatas/batch1_3patients.h5ad        2000      100000   \n",
       "10       data/12_input_adatas/wu_zhou_2021_nsclc.h5ad         600       30000   \n",
       "12  data/11_own_datasets/batch2/h5ad_raw/ukim_v_ba...        1000       60000   \n",
       "\n",
       "    min_genes  max_genes  max_pct_mito batch_key  run_solo  \\\n",
       "0         250      10000            20    sample      True   \n",
       "1         250      10000            20    sample      True   \n",
       "2         300      10000            20    sample      True   \n",
       "3         250      10000            20    sample      True   \n",
       "4         200      10000            15    sample      True   \n",
       "5         250      10000            20    sample      True   \n",
       "6         250      10000            20    sample      True   \n",
       "7         500      10000            20    sample      True   \n",
       "8         600      20000            30    sample     False   \n",
       "9         200       8000            30    sample      True   \n",
       "10        300      10000            30    sample      True   \n",
       "12        200       8000            30    sample      True   \n",
       "\n",
       "    no_cancer_or_filter       chem assembly       Names  Annots  \\\n",
       "0                 False  10x-3'-v2    GRCh8        Chen    True   \n",
       "1                 False  10x-3'-v2    GRCh8      Goveia    True   \n",
       "2                 False  10x-3'-v2    GRCh8         Kim    True   \n",
       "3                 False  10x-3'-v2   GRCh8?          He    True   \n",
       "4                 False  10x-3'-v1     hg19  Lambrechts    True   \n",
       "5                 False  10x-3'-v2      NaN  Lambrechts    True   \n",
       "6                 False        NaN      NaN  Lambrechts    True   \n",
       "7                 False  10x-3'-v2    GRCh8    Laughney    True   \n",
       "8                 False        NaN      NaN     Maynard    True   \n",
       "9                 False        NaN      NaN      UKIM-V    True   \n",
       "10                False        NaN      NaN          Wu    True   \n",
       "12                False        NaN      NaN    UKIM-V-2    True   \n",
       "\n",
       "                        study                          doi  \n",
       "0             Chen_Zhang_2020   10.1186/s13059-020-02064-6  \n",
       "1       Goveia_Carmeliet_2020  10.1016/j.ccell.2019.12.001  \n",
       "2                Kim_Lee_2020   10.1038/s41467-020-16164-1  \n",
       "3                 He_Fan_2021   10.1038/s41388-020-01528-0  \n",
       "4   Lambrechts_Thienpont_2018    10.1038/s41591-018-0096-5  \n",
       "5   Lambrechts_Thienpont_2018    10.1038/s41591-018-0096-5  \n",
       "6   Lambrechts_Thienpont_2018    10.1038/s41591-018-0096-5  \n",
       "7      Laughney_Massague_2020    10.1038/s41591-019-0750-6  \n",
       "8         Maynard_Bivona_2020   10.1016/j.cell.2020.07.017  \n",
       "9                      UKIM-V   10.1101/2022.05.09.491204   \n",
       "10               Wu_Zhou_2021   10.1038/s41467-021-22801-0  \n",
       "12                        NaN                          NaN  "
      ]
     },
     "execution_count": 2,
     "metadata": {},
     "output_type": "execute_result"
    }
   ],
   "source": [
    "dsets = pd.read_csv('../dsets.csv')\n",
    "dsets = dsets[lambda x: x['id'] != 'Zilionis_Klein_2019_NSCLC']\n",
    "dsets"
   ]
  },
  {
   "cell_type": "code",
   "execution_count": 3,
   "id": "670ec8ef-7bcd-4dd8-b8ec-b2df6ba4ce39",
   "metadata": {
    "editable": true,
    "scrolled": true,
    "slideshow": {
     "slide_type": ""
    },
    "tags": []
   },
   "outputs": [
    {
     "data": {
      "application/vnd.jupyter.widget-view+json": {
       "model_id": "31305d015358407388bc0e54eeb7b002",
       "version_major": 2,
       "version_minor": 0
      },
      "text/plain": [
       "Executing:   0%|          | 0/47 [00:00<?, ?cell/s]"
      ]
     },
     "metadata": {},
     "output_type": "display_data"
    },
    {
     "data": {
      "application/vnd.jupyter.widget-view+json": {
       "model_id": "85bf3331df26476b9ff7ccceab71d3d6",
       "version_major": 2,
       "version_minor": 0
      },
      "text/plain": [
       "Executing:   0%|          | 0/47 [00:00<?, ?cell/s]"
      ]
     },
     "metadata": {},
     "output_type": "display_data"
    },
    {
     "data": {
      "application/vnd.jupyter.widget-view+json": {
       "model_id": "a1e87620cac54f0bac3d14a80f4fea95",
       "version_major": 2,
       "version_minor": 0
      },
      "text/plain": [
       "Executing:   0%|          | 0/47 [00:00<?, ?cell/s]"
      ]
     },
     "metadata": {},
     "output_type": "display_data"
    },
    {
     "data": {
      "application/vnd.jupyter.widget-view+json": {
       "model_id": "7f06eafa76994e51849b36a025913662",
       "version_major": 2,
       "version_minor": 0
      },
      "text/plain": [
       "Executing:   0%|          | 0/47 [00:00<?, ?cell/s]"
      ]
     },
     "metadata": {},
     "output_type": "display_data"
    },
    {
     "data": {
      "application/vnd.jupyter.widget-view+json": {
       "model_id": "b0572288cfcf4adcb4626d5781921488",
       "version_major": 2,
       "version_minor": 0
      },
      "text/plain": [
       "Executing:   0%|          | 0/47 [00:00<?, ?cell/s]"
      ]
     },
     "metadata": {},
     "output_type": "display_data"
    },
    {
     "data": {
      "application/vnd.jupyter.widget-view+json": {
       "model_id": "85d70c9009e44f58a1576bc16b1a4d7d",
       "version_major": 2,
       "version_minor": 0
      },
      "text/plain": [
       "Executing:   0%|          | 0/47 [00:00<?, ?cell/s]"
      ]
     },
     "metadata": {},
     "output_type": "display_data"
    },
    {
     "data": {
      "application/vnd.jupyter.widget-view+json": {
       "model_id": "1b74c0cf8f5e4beb8c517959e1a9bde2",
       "version_major": 2,
       "version_minor": 0
      },
      "text/plain": [
       "Executing:   0%|          | 0/47 [00:00<?, ?cell/s]"
      ]
     },
     "metadata": {},
     "output_type": "display_data"
    },
    {
     "data": {
      "application/vnd.jupyter.widget-view+json": {
       "model_id": "47edde6eca4a444f905d535673d45e6a",
       "version_major": 2,
       "version_minor": 0
      },
      "text/plain": [
       "Executing:   0%|          | 0/47 [00:00<?, ?cell/s]"
      ]
     },
     "metadata": {},
     "output_type": "display_data"
    },
    {
     "data": {
      "application/vnd.jupyter.widget-view+json": {
       "model_id": "b279d7b22d854483add2e65ecd01ae6b",
       "version_major": 2,
       "version_minor": 0
      },
      "text/plain": [
       "Executing:   0%|          | 0/47 [00:00<?, ?cell/s]"
      ]
     },
     "metadata": {},
     "output_type": "display_data"
    },
    {
     "data": {
      "application/vnd.jupyter.widget-view+json": {
       "model_id": "03140a02a91845728de85e491d7e3628",
       "version_major": 2,
       "version_minor": 0
      },
      "text/plain": [
       "Executing:   0%|          | 0/47 [00:00<?, ?cell/s]"
      ]
     },
     "metadata": {},
     "output_type": "display_data"
    },
    {
     "data": {
      "application/vnd.jupyter.widget-view+json": {
       "model_id": "b11db389e8a446f580bc51272cede27c",
       "version_major": 2,
       "version_minor": 0
      },
      "text/plain": [
       "Executing:   0%|          | 0/47 [00:00<?, ?cell/s]"
      ]
     },
     "metadata": {},
     "output_type": "display_data"
    },
    {
     "data": {
      "application/vnd.jupyter.widget-view+json": {
       "model_id": "fe845a8e079d456d826b695f158b8aab",
       "version_major": 2,
       "version_minor": 0
      },
      "text/plain": [
       "Executing:   0%|          | 0/47 [00:00<?, ?cell/s]"
      ]
     },
     "metadata": {},
     "output_type": "display_data"
    },
    {
     "name": "stderr",
     "output_type": "stream",
     "text": [
      "0.00s - Debugger warning: It seems that frozen modules are being used, which may\n",
      "0.00s - make the debugger miss breakpoints. Please pass -Xfrozen_modules=off\n",
      "0.00s - to python to disable frozen modules.\n",
      "0.00s - Note: Debugging will proceed. Set PYDEVD_DISABLE_FILE_VALIDATION=1 to disable this validation.\n",
      "0.00s - Debugger warning: It seems that frozen modules are being used, which may\n",
      "0.00s - make the debugger miss breakpoints. Please pass -Xfrozen_modules=off\n",
      "0.00s - to python to disable frozen modules.\n",
      "0.00s - Note: Debugging will proceed. Set PYDEVD_DISABLE_FILE_VALIDATION=1 to disable this validation.\n",
      "0.00s - Debugger warning: It seems that frozen modules are being used, which may\n",
      "0.00s - make the debugger miss breakpoints. Please pass -Xfrozen_modules=off\n",
      "0.00s - to python to disable frozen modules.\n",
      "0.00s - Note: Debugging will proceed. Set PYDEVD_DISABLE_FILE_VALIDATION=1 to disable this validation.\n",
      "0.00s - Debugger warning: It seems that frozen modules are being used, which may\n",
      "0.00s - make the debugger miss breakpoints. Please pass -Xfrozen_modules=off\n",
      "0.00s - to python to disable frozen modules.\n",
      "0.00s - Note: Debugging will proceed. Set PYDEVD_DISABLE_FILE_VALIDATION=1 to disable this validation.\n",
      "0.00s - Debugger warning: It seems that frozen modules are being used, which may\n",
      "0.00s - make the debugger miss breakpoints. Please pass -Xfrozen_modules=off\n",
      "0.00s - to python to disable frozen modules.\n",
      "0.00s - Note: Debugging will proceed. Set PYDEVD_DISABLE_FILE_VALIDATION=1 to disable this validation.\n",
      "0.00s - Debugger warning: It seems that frozen modules are being used, which may\n",
      "0.00s - make the debugger miss breakpoints. Please pass -Xfrozen_modules=off\n",
      "0.00s - to python to disable frozen modules.\n",
      "0.00s - Note: Debugging will proceed. Set PYDEVD_DISABLE_FILE_VALIDATION=1 to disable this validation.\n",
      "0.00s - Debugger warning: It seems that frozen modules are being used, which may\n",
      "0.00s - make the debugger miss breakpoints. Please pass -Xfrozen_modules=off\n",
      "0.00s - to python to disable frozen modules.\n",
      "0.00s - Note: Debugging will proceed. Set PYDEVD_DISABLE_FILE_VALIDATION=1 to disable this validation.\n",
      "0.00s - Debugger warning: It seems that frozen modules are being used, which may\n",
      "0.00s - make the debugger miss breakpoints. Please pass -Xfrozen_modules=off\n",
      "0.00s - to python to disable frozen modules.\n",
      "0.00s - Note: Debugging will proceed. Set PYDEVD_DISABLE_FILE_VALIDATION=1 to disable this validation.\n",
      "0.00s - Debugger warning: It seems that frozen modules are being used, which may\n",
      "0.00s - make the debugger miss breakpoints. Please pass -Xfrozen_modules=off\n",
      "0.00s - to python to disable frozen modules.\n",
      "0.00s - Note: Debugging will proceed. Set PYDEVD_DISABLE_FILE_VALIDATION=1 to disable this validation.\n",
      "0.00s - Debugger warning: It seems that frozen modules are being used, which may\n",
      "0.00s - make the debugger miss breakpoints. Please pass -Xfrozen_modules=off\n",
      "0.00s - to python to disable frozen modules.\n",
      "0.00s - Note: Debugging will proceed. Set PYDEVD_DISABLE_FILE_VALIDATION=1 to disable this validation.\n",
      "0.00s - Debugger warning: It seems that frozen modules are being used, which may\n",
      "0.00s - make the debugger miss breakpoints. Please pass -Xfrozen_modules=off\n",
      "0.00s - to python to disable frozen modules.\n",
      "0.00s - Note: Debugging will proceed. Set PYDEVD_DISABLE_FILE_VALIDATION=1 to disable this validation.\n",
      "0.00s - Debugger warning: It seems that frozen modules are being used, which may\n",
      "0.00s - make the debugger miss breakpoints. Please pass -Xfrozen_modules=off\n",
      "0.00s - to python to disable frozen modules.\n",
      "0.00s - Note: Debugging will proceed. Set PYDEVD_DISABLE_FILE_VALIDATION=1 to disable this validation.\n"
     ]
    },
    {
     "name": "stdout",
     "output_type": "stream",
     "text": [
      "Finished or errored: Lambrechts_2018_LUAD_6149v1\n",
      "Finished or errored: Laughney_Massague_2020_NSCLC\n",
      "Finished or errored: UKIM-V\n",
      "Finished or errored: Lambrechts_2018_LUAD_6653\n",
      "Finished or errored: Maynard_Bivona_2020_NSCLC\n",
      "Finished or errored: Goveia_Carmeliet_2020_NSCLC\n",
      "Finished or errored: Lambrechts_2018_LUAD_6149v2\n",
      "Finished or errored: Chen_Zhang_2020_NSCLC\n",
      "Finished or errored: Wu_Zhou_2021_NSCLC\n",
      "Finished or errored: He_Fan_2021_LUAD\n",
      "Finished or errored: UKIM-V-2\n",
      "Finished or errored: Kim_Lee_2020_LUAD\n"
     ]
    }
   ],
   "source": [
    "from multiprocessing.pool import ThreadPool\n",
    "# Function to be executed in parallel\n",
    "def execute_ikarus(id_):\n",
    "    try:\n",
    "        pm.execute_notebook(\n",
    "            './tumorUMAP_param.ipynb',\n",
    "            f'./{id_}.ipynb',\n",
    "            parameters=dict(id_=id_)\n",
    "        )\n",
    "    except Exception as e:\n",
    "        print(f\"Error in {id_}: {e}\")\n",
    "    return id_\n",
    "\n",
    "# Number of threads in the ThreadPool\n",
    "# num_threads = max(dsets.id.size, 30)  # Adjust this number based on your system's capabilities\n",
    "num_threads = 20\n",
    "    \n",
    "with ThreadPool(num_threads -1 ) as pool:\n",
    "    for result in pool.imap_unordered(execute_ikarus, list(dsets.id)):\n",
    "        id_ = result\n",
    "        print(f'Finished or errored: {id_}')\n",
    "        \n",
    "        # if os.path.exists(f'{ikarus_dir}/{id_}.csv'):\n",
    "        #     preds = pd.read_csv(f'{ikarus_dir}/{id_}.csv')\n",
    "        #     adatas[id_].obs['final_pred'] = preds.iloc[:,1]\n"
   ]
  },
  {
   "cell_type": "code",
   "execution_count": null,
   "id": "cfe027a9-4723-47a7-b03d-100cbc9a85fa",
   "metadata": {
    "editable": true,
    "slideshow": {
     "slide_type": ""
    },
    "tags": []
   },
   "outputs": [],
   "source": []
  }
 ],
 "metadata": {
  "kernelspec": {
   "display_name": "Python 3 (ipykernel)",
   "language": "python",
   "name": "python3"
  },
  "language_info": {
   "codemirror_mode": {
    "name": "ipython",
    "version": 3
   },
   "file_extension": ".py",
   "mimetype": "text/x-python",
   "name": "python",
   "nbconvert_exporter": "python",
   "pygments_lexer": "ipython3",
   "version": "3.11.4"
  },
  "toc": {
   "base_numbering": 0
  }
 },
 "nbformat": 4,
 "nbformat_minor": 5
}
