{
 "cells": [
  {
   "cell_type": "code",
   "execution_count": 1,
   "id": "aeaec312",
   "metadata": {},
   "outputs": [],
   "source": [
    "import json\n",
    "import subprocess\n",
    "\n",
    "import requests\n",
    "\n",
    "\n",
    "# create a requests Session object \n",
    "s = requests.Session()"
   ]
  },
  {
   "cell_type": "code",
   "execution_count": 2,
   "id": "f77a894b",
   "metadata": {},
   "outputs": [
    {
     "data": {
      "text/plain": [
       "[{'base_url': '/',\n",
       "  'hostname': '0.0.0.0',\n",
       "  'password': False,\n",
       "  'pid': 13,\n",
       "  'port': 8888,\n",
       "  'root_dir': '/root/host_home',\n",
       "  'secure': False,\n",
       "  'sock': '',\n",
       "  'token': '3cc975c871f1a4f6e2f3516ca9413fab90339d1bc372eec9',\n",
       "  'url': 'http://575952227d11:8888/',\n",
       "  'version': '2.15.0'}]"
      ]
     },
     "execution_count": 2,
     "metadata": {},
     "output_type": "execute_result"
    }
   ],
   "source": [
    "# get the running server(s) from `jupyter notebook list`\n",
    "p = subprocess.run([\"jupyter\", \"lab\", \"list\", \"--json\"], capture_output=True, text=True)\n",
    "servers = []\n",
    "for line in p.stdout.splitlines():\n",
    "    servers.append(json.loads(line))\n",
    "servers"
   ]
  },
  {
   "cell_type": "code",
   "execution_count": 4,
   "id": "dfa5e287",
   "metadata": {},
   "outputs": [],
   "source": [
    "# assume one server for now\n",
    "# can select by comparing base_url to $JUPYTERHUB_SERVICE_PREFIX\n",
    "server = servers[0]\n",
    "jupyter_api = f\"{server['url']}api\"\n",
    "token = server['token']\n",
    "s.headers = {\"Authorization\": f\"token {token}\"}"
   ]
  },
  {
   "cell_type": "code",
   "execution_count": 5,
   "id": "650901b3",
   "metadata": {},
   "outputs": [
    {
     "data": {
      "text/plain": [
       "[{'id': 'a8d4d5c3-385a-491d-92c6-61ae6d378658',\n",
       "  'path': 'Tumor_subcluster_wu-jvsc-2cc9d224-5ef7-46d0-8329-5a75dc72e807327bccea-0efc-4827-9804-fc3247d53958.ipynb',\n",
       "  'name': 'Tumor_subcluster_wu-a8782db1-076f-41a7-8176-c7ce742b9d66.ipynb',\n",
       "  'type': 'notebook',\n",
       "  'kernel': {'id': '29b24413-3fc1-4302-97bd-30505b667c90',\n",
       "   'name': 'python3',\n",
       "   'last_activity': '2025-03-28T05:17:34.711407Z',\n",
       "   'execution_state': 'idle',\n",
       "   'connections': 0},\n",
       "  'notebook': {'path': 'Tumor_subcluster_wu-jvsc-2cc9d224-5ef7-46d0-8329-5a75dc72e807327bccea-0efc-4827-9804-fc3247d53958.ipynb',\n",
       "   'name': 'Tumor_subcluster_wu-a8782db1-076f-41a7-8176-c7ce742b9d66.ipynb'}},\n",
       " {'id': '83345889-3d4d-48aa-8313-0cb7e504a8c4',\n",
       "  'path': 'scANVImodel_WuBatch-jvsc-44d57336-4975-4ae5-9fa2-a3e9146502630d12b677-6275-420c-9174-21cffb16c8d6.ipynb',\n",
       "  'name': 'scANVImodel_WuBatch-1816363f-898e-4872-8656-0fcd3c4b2a29.ipynb',\n",
       "  'type': 'notebook',\n",
       "  'kernel': {'id': 'a27c4e47-ad97-44e2-8c11-6f1bec9cac2b',\n",
       "   'name': 'python3',\n",
       "   'last_activity': '2025-03-24T04:05:23.315952Z',\n",
       "   'execution_state': 'idle',\n",
       "   'connections': 0},\n",
       "  'notebook': {'path': 'scANVImodel_WuBatch-jvsc-44d57336-4975-4ae5-9fa2-a3e9146502630d12b677-6275-420c-9174-21cffb16c8d6.ipynb',\n",
       "   'name': 'scANVImodel_WuBatch-1816363f-898e-4872-8656-0fcd3c4b2a29.ipynb'}}]"
      ]
     },
     "execution_count": 5,
     "metadata": {},
     "output_type": "execute_result"
    }
   ],
   "source": [
    "# List sessions using jupyter REST API\n",
    "\n",
    "sessions = s.get(f\"{jupyter_api}/sessions\").json()\n",
    "\n",
    "# sort by activity\n",
    "# last_activity is ISO8601 strings, sortable without parsing\n",
    "sessions = sorted(sessions, key=lambda s: s[\"kernel\"][\"last_activity\"], reverse=True)\n",
    "sessions"
   ]
  },
  {
   "cell_type": "code",
   "execution_count": 6,
   "id": "5809499d",
   "metadata": {},
   "outputs": [
    {
     "name": "stdout",
     "output_type": "stream",
     "text": [
      "Not shutting down most recently active session: Tumor_subcluster_wu-a8782db1-076f-41a7-8176-c7ce742b9d66.ipynb\n",
      "Shutting down session scANVImodel_WuBatch-1816363f-898e-4872-8656-0fcd3c4b2a29.ipynb idle since 2025-03-24T04:05:23.315952Z\n"
     ]
    }
   ],
   "source": [
    "# don't shutdown the most recently active kernel, but shut down all others\n",
    "if sessions:\n",
    "    print(f\"Not shutting down most recently active session: {sessions[0]['name']}\")\n",
    "\n",
    "for session in sessions[1:]:\n",
    "    kernel = session['kernel']\n",
    "    name = session['name']\n",
    "    if kernel['execution_state'] == 'busy':\n",
    "        print(f\"Not shutting down busy kernel for {name}\")\n",
    "        continue\n",
    "    if kernel['connections']:\n",
    "        print(f\"Not shutting down kernel with {kernel['connections']} connections: {name}\")\n",
    "        continue\n",
    "    print(f\"Shutting down session {name} idle since {kernel['last_activity']}\")\n",
    "    r = s.delete(f\"{jupyter_api}/sessions/{session['id']}\")\n",
    "    r.raise_for_status()"
   ]
  },
  {
   "cell_type": "code",
   "execution_count": null,
   "id": "2e128e82",
   "metadata": {},
   "outputs": [],
   "source": []
  }
 ],
 "metadata": {
  "kernelspec": {
   "display_name": "Python 3",
   "language": "python",
   "name": "python3"
  },
  "language_info": {
   "codemirror_mode": {
    "name": "ipython",
    "version": 3
   },
   "file_extension": ".py",
   "mimetype": "text/x-python",
   "name": "python",
   "nbconvert_exporter": "python",
   "pygments_lexer": "ipython3",
   "version": "3.11.6"
  }
 },
 "nbformat": 4,
 "nbformat_minor": 5
}
