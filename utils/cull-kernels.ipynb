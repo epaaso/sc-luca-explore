{
 "cells": [
  {
   "cell_type": "code",
   "execution_count": 381,
   "id": "aeaec312",
   "metadata": {},
   "outputs": [],
   "source": [
    "import json\n",
    "import os\n",
    "import subprocess\n",
    "\n",
    "import requests\n",
    "\n",
    "\n",
    "# create a requests Session object \n",
    "s = requests.Session()"
   ]
  },
  {
   "cell_type": "code",
   "execution_count": 382,
   "id": "f77a894b",
   "metadata": {},
   "outputs": [
    {
     "data": {
      "text/plain": [
       "[{'base_url': '/',\n",
       "  'hostname': '0.0.0.0',\n",
       "  'password': False,\n",
       "  'pid': 7,\n",
       "  'port': 8888,\n",
       "  'root_dir': '/root/host_home',\n",
       "  'secure': False,\n",
       "  'sock': '',\n",
       "  'token': '3ff50098f0573f69960120cb2d2ec14b47349445f7d54f24',\n",
       "  'url': 'http://bf29b2570ad2:8888/',\n",
       "  'version': '2.14.2'}]"
      ]
     },
     "execution_count": 382,
     "metadata": {},
     "output_type": "execute_result"
    }
   ],
   "source": [
    "# get the running server(s) from `jupyter notebook list`\n",
    "p = subprocess.run([\"jupyter\", \"lab\", \"list\", \"--json\"], capture_output=True, text=True)\n",
    "servers = []\n",
    "for line in p.stdout.splitlines():\n",
    "    servers.append(json.loads(line))\n",
    "servers"
   ]
  },
  {
   "cell_type": "code",
   "execution_count": 383,
   "id": "dfa5e287",
   "metadata": {},
   "outputs": [],
   "source": [
    "# assume one server for now\n",
    "# can select by comparing base_url to $JUPYTERHUB_SERVICE_PREFIX\n",
    "server = servers[0]\n",
    "jupyter_api = f\"{server['url']}api\"\n",
    "token = server['token']\n",
    "s.headers = {\"Authorization\": f\"token {token}\"}"
   ]
  },
  {
   "cell_type": "code",
   "execution_count": 384,
   "id": "650901b3",
   "metadata": {},
   "outputs": [
    {
     "data": {
      "text/plain": [
       "[{'id': '53eb9bc3-46db-41e6-b970-d453e33608db',\n",
       "  'path': 'Tumor_subcluster-jvsc-0b8f73fb-bd29-48e2-a89d-a376f0fa2cfe9831f10e-2f62-4876-b767-2188b85ebcf8.ipynb',\n",
       "  'name': 'Tumor_subcluster-0d581faa-5d9a-4de3-bec2-f19662dab7ab.ipynb',\n",
       "  'type': 'notebook',\n",
       "  'kernel': {'id': 'e8125a5b-d8c4-4b1d-b432-6dc584ce07b8',\n",
       "   'name': 'python3',\n",
       "   'last_activity': '2025-01-18T03:53:05.650681Z',\n",
       "   'execution_state': 'busy',\n",
       "   'connections': 2},\n",
       "  'notebook': {'path': 'Tumor_subcluster-jvsc-0b8f73fb-bd29-48e2-a89d-a376f0fa2cfe9831f10e-2f62-4876-b767-2188b85ebcf8.ipynb',\n",
       "   'name': 'Tumor_subcluster-0d581faa-5d9a-4de3-bec2-f19662dab7ab.ipynb'}},\n",
       " {'id': '2cf72191-9e66-4878-ac73-1d14d2585a62',\n",
       "  'path': 'Zuani2-jvsc-57015967-640b-4bc6-b8c0-bba26322d3776f6544a3-bbb8-47fe-b183-834b544a21fd.ipynb',\n",
       "  'name': 'Zuani2-c72492af-6857-4f84-9f05-0033d94c1c73.ipynb',\n",
       "  'type': 'notebook',\n",
       "  'kernel': {'id': 'b3095fde-228f-49be-b89f-89e6292c0ef7',\n",
       "   'name': 'python3',\n",
       "   'last_activity': '2025-01-18T03:49:59.115930Z',\n",
       "   'execution_state': 'idle',\n",
       "   'connections': 1},\n",
       "  'notebook': {'path': 'Zuani2-jvsc-57015967-640b-4bc6-b8c0-bba26322d3776f6544a3-bbb8-47fe-b183-834b544a21fd.ipynb',\n",
       "   'name': 'Zuani2-c72492af-6857-4f84-9f05-0033d94c1c73.ipynb'}}]"
      ]
     },
     "execution_count": 384,
     "metadata": {},
     "output_type": "execute_result"
    }
   ],
   "source": [
    "# List sessions using jupyter REST API\n",
    "\n",
    "sessions = s.get(f\"{jupyter_api}/sessions\").json()\n",
    "\n",
    "# sort by activity\n",
    "# last_activity is ISO8601 strings, sortable without parsing\n",
    "sessions = sorted(sessions, key=lambda s: s[\"kernel\"][\"last_activity\"], reverse=True)\n",
    "sessions"
   ]
  },
  {
   "cell_type": "code",
   "execution_count": 385,
   "id": "5809499d",
   "metadata": {},
   "outputs": [
    {
     "name": "stdout",
     "output_type": "stream",
     "text": [
      "Not shutting down most recently active session: Tumor_subcluster-0d581faa-5d9a-4de3-bec2-f19662dab7ab.ipynb\n",
      "Not shutting down kernel with 1 connections: Zuani2-c72492af-6857-4f84-9f05-0033d94c1c73.ipynb\n"
     ]
    }
   ],
   "source": [
    "# don't shutdown the most recently active kernel, but shut down all others\n",
    "if sessions:\n",
    "    print(f\"Not shutting down most recently active session: {sessions[0]['name']}\")\n",
    "\n",
    "for session in sessions[1:]:\n",
    "    kernel = session['kernel']\n",
    "    name = session['name']\n",
    "    if kernel['execution_state'] == 'busy':\n",
    "        print(f\"Not shutting down busy kernel for {name}\")\n",
    "        continue\n",
    "    if kernel['connections']:\n",
    "        print(f\"Not shutting down kernel with {kernel['connections']} connections: {name}\")\n",
    "        continue\n",
    "    print(f\"Shutting down session {name} idle since {kernel['last_activity']}\")\n",
    "    r = s.delete(f\"{jupyter_api}/sessions/{session['id']}\")\n",
    "    r.raise_for_status()"
   ]
  }
 ],
 "metadata": {
  "kernelspec": {
   "display_name": "Python 3 (ipykernel)",
   "language": "python",
   "name": "python3"
  },
  "language_info": {
   "codemirror_mode": {
    "name": "ipython",
    "version": 3
   },
   "file_extension": ".py",
   "mimetype": "text/x-python",
   "name": "python",
   "nbconvert_exporter": "python",
   "pygments_lexer": "ipython3",
   "version": "3.11.6"
  }
 },
 "nbformat": 4,
 "nbformat_minor": 5
}
