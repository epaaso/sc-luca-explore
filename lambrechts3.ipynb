{
 "cells": [
  {
   "cell_type": "code",
   "execution_count": 2,
   "id": "cfbda55a-3fa9-47dd-91fa-c9111e1aa748",
   "metadata": {},
   "outputs": [],
   "source": [
    "import anndata\n",
    "import scanpy as sc\n",
    "from pandas import read_csv"
   ]
  },
  {
   "cell_type": "code",
   "execution_count": 3,
   "id": "0a2c847d-8b5a-4e9f-8641-97a9616d65e1",
   "metadata": {},
   "outputs": [],
   "source": [
    "filters = read_csv('samplesheet_scrnaseq_preprocessing.csv')\n",
    "\n",
    "dataset_str = 'Lambrechts_2018_LUAD_6653'\n",
    "\n",
    "id_row = filters[filters.id == dataset_str]\n",
    "file_str = id_row.input_adata.iloc[0].split('/')[-1]"
   ]
  },
  {
   "cell_type": "code",
   "execution_count": 4,
   "id": "b4e81a22-a4b1-4a07-a801-cb3c5abdcafa",
   "metadata": {},
   "outputs": [
    {
     "name": "stderr",
     "output_type": "stream",
     "text": [
      "/tmp/ipykernel_1394/1983533706.py:2: FutureWarning: Calling int on a single element Series is deprecated and will raise a TypeError in the future. Use int(ser.iloc[0]) instead\n",
      "  thresholds['min_counts']  = int(id_row.min_counts)\n",
      "/tmp/ipykernel_1394/1983533706.py:3: FutureWarning: Calling int on a single element Series is deprecated and will raise a TypeError in the future. Use int(ser.iloc[0]) instead\n",
      "  thresholds['max_counts'] = int(id_row.max_counts)\n",
      "/tmp/ipykernel_1394/1983533706.py:4: FutureWarning: Calling int on a single element Series is deprecated and will raise a TypeError in the future. Use int(ser.iloc[0]) instead\n",
      "  thresholds['min_genes'] = int(id_row.min_genes)\n",
      "/tmp/ipykernel_1394/1983533706.py:5: FutureWarning: Calling int on a single element Series is deprecated and will raise a TypeError in the future. Use int(ser.iloc[0]) instead\n",
      "  thresholds['max_genes'] = int(id_row.max_genes)\n",
      "/tmp/ipykernel_1394/1983533706.py:6: FutureWarning: Calling int on a single element Series is deprecated and will raise a TypeError in the future. Use int(ser.iloc[0]) instead\n",
      "  thresholds['max_pct_mito'] = int(id_row.max_pct_mito)\n"
     ]
    }
   ],
   "source": [
    "thresholds = {}\n",
    "thresholds['min_counts']  = int(id_row.min_counts)\n",
    "thresholds['max_counts'] = int(id_row.max_counts)\n",
    "thresholds['min_genes'] = int(id_row.min_genes)\n",
    "thresholds['max_genes'] = int(id_row.max_genes)\n",
    "thresholds['max_pct_mito'] = int(id_row.max_pct_mito)\n",
    "\n",
    "adata = anndata.read_h5ad(f'/root/datos/maestria/netopaas/luca/data/12_input_adatas/{file_str}')"
   ]
  },
  {
   "cell_type": "code",
   "execution_count": 5,
   "id": "7c93cc46-477f-4d79-887e-e8f85dc6c7e9",
   "metadata": {},
   "outputs": [
    {
     "data": {
      "text/plain": [
       "index\n",
       "AAACCTGCATTCTCAT-1_0     LUAD\n",
       "AAACCTGGTGCGAAAC-1_0     LUAD\n",
       "AAACCTGTCAGCGACC-1_0     LUAD\n",
       "AAACGGGAGACGACGT-1_0     LUAD\n",
       "AAACGGGCAGATCGGA-1_0     LUAD\n",
       "                         ... \n",
       "TTTGTCAAGTGAACGC-1_11    LUAD\n",
       "TTTGTCACAAAGCGGT-1_11    LUAD\n",
       "TTTGTCACACCTCGTT-1_11    LUAD\n",
       "TTTGTCAGTAATAGCA-1_11    LUAD\n",
       "TTTGTCATCGCTGATA-1_11    LUAD\n",
       "Name: condition, Length: 36589, dtype: category\n",
       "Categories (1, object): ['LUAD']"
      ]
     },
     "execution_count": 5,
     "metadata": {},
     "output_type": "execute_result"
    }
   ],
   "source": [
    "adata.obs.condition"
   ]
  },
  {
   "cell_type": "code",
   "execution_count": 6,
   "id": "98dc0168-7985-42c5-a20b-7ec88fa9dfff",
   "metadata": {
    "tags": []
   },
   "outputs": [
    {
     "name": "stdout",
     "output_type": "stream",
     "text": [
      "Filtering genes\n",
      "    Before: 36601\n",
      "    After: 26359\n",
      "Filter by min_counts\n",
      "    Before: 36589\n",
      "    After: 30839\n",
      "Filter by max_counts\n",
      "    Before: 30839\n",
      "    After: 30424\n",
      "Filter by min_genes\n",
      "    Before: 30424\n",
      "    After: 27427\n",
      "Filter by max_genes\n",
      "    Before: 27427\n",
      "    After: 27427\n",
      "Filter by max_pct_mito\n",
      "    Before: 27427\n",
      "    After: 26514\n"
     ]
    }
   ],
   "source": [
    "# very basic gene filtering - genes with 0 cells cause some downstream processes to fail.\n",
    "print(\"Filtering genes\")\n",
    "print(f\"    Before: {adata.shape[1]}\")\n",
    "sc.pp.filter_genes(adata, min_counts=3)\n",
    "print(f\"    After: {adata.shape[1]}\")\n",
    "\n",
    "# %%\n",
    "# Apply thresholds\n",
    "print(\"Filter by min_counts\")\n",
    "print(f\"    Before: {adata.shape[0]}\")\n",
    "sc.pp.filter_cells(adata, min_counts=thresholds[\"min_counts\"])\n",
    "print(f\"    After: {adata.shape[0]}\")\n",
    "\n",
    "\n",
    "print(\"Filter by max_counts\")\n",
    "print(f\"    Before: {adata.shape[0]}\")\n",
    "sc.pp.filter_cells(adata, max_counts=thresholds[\"max_counts\"])\n",
    "print(f\"    After: {adata.shape[0]}\")\n",
    "\n",
    "\n",
    "print(\"Filter by min_genes\")\n",
    "print(f\"    Before: {adata.shape[0]}\")\n",
    "sc.pp.filter_cells(adata, min_genes=thresholds[\"min_genes\"])\n",
    "print(f\"    After: {adata.shape[0]}\")\n",
    "\n",
    "\n",
    "print(\"Filter by max_genes\")\n",
    "print(f\"    Before: {adata.shape[0]}\")\n",
    "sc.pp.filter_cells(adata, max_genes=thresholds[\"max_genes\"])\n",
    "print(f\"    After: {adata.shape[0]}\")\n",
    "\n",
    "# %%\n",
    "if \"mito\" not in adata.var.columns:\n",
    "    adata.var[\"mito\"] = adata.var_names.str.lower().str.startswith(\"mt-\")\n",
    "\n",
    "# %%\n",
    "sc.pp.calculate_qc_metrics(\n",
    "    adata, qc_vars=(\"mito\",), log1p=False, inplace=True, percent_top=None\n",
    ")\n",
    "\n",
    "print(\"Filter by max_pct_mito\")\n",
    "print(f\"    Before: {adata.shape[0]}\")\n",
    "adata = adata[adata.obs[\"pct_counts_mito\"] < thresholds[\"max_pct_mito\"]].copy()\n",
    "print(f\"    After: {adata.shape[0]}\")"
   ]
  },
  {
   "cell_type": "markdown",
   "id": "af24d447-d0cb-4dc0-aae1-a2e3bf7ffb40",
   "metadata": {},
   "source": [
    "## 3.1.1 Automated annotation"
   ]
  },
  {
   "cell_type": "markdown",
   "id": "2f8b793d-1fd8-41bb-96d3-29c846ee6d73",
   "metadata": {},
   "source": [
    "For a more detailed walkthrough of the process go to `../HCA-Lung/AutoLung.ipynb` or even https://docs.scarches.org/en/latest/hlca_map_classify.html\n",
    "\n",
    "IT IS IMPORTANT THAT THE QUERY DATA IS IN RAW COUNTS, WE CHECK THAT HERE:\n"
   ]
  },
  {
   "cell_type": "code",
   "execution_count": 7,
   "id": "18a22eca-3512-476e-a381-6c869ea768ac",
   "metadata": {},
   "outputs": [
    {
     "data": {
      "text/plain": [
       "array([[0., 0., 0., 0., 0., 0., 0., 0., 0., 0., 0., 0., 0., 0., 0., 0.,\n",
       "        0., 0., 0., 0., 0., 0., 0., 0., 0., 0., 0., 0., 1., 0.],\n",
       "       [0., 0., 0., 0., 0., 0., 0., 0., 0., 0., 0., 0., 0., 0., 0., 0.,\n",
       "        0., 0., 0., 0., 0., 0., 0., 0., 0., 0., 0., 0., 0., 0.],\n",
       "       [0., 0., 0., 0., 0., 0., 0., 0., 0., 0., 0., 0., 0., 0., 0., 0.,\n",
       "        0., 0., 1., 0., 0., 0., 0., 0., 0., 0., 0., 0., 0., 0.],\n",
       "       [0., 0., 0., 0., 0., 0., 0., 0., 0., 0., 0., 0., 0., 0., 0., 0.,\n",
       "        0., 0., 1., 0., 0., 0., 0., 0., 0., 0., 0., 0., 0., 0.],\n",
       "       [0., 0., 0., 0., 0., 0., 0., 0., 0., 0., 0., 0., 1., 0., 0., 0.,\n",
       "        0., 1., 0., 1., 0., 0., 0., 0., 0., 0., 0., 0., 0., 0.],\n",
       "       [0., 0., 0., 0., 0., 0., 1., 0., 0., 0., 0., 0., 1., 0., 0., 0.,\n",
       "        0., 0., 5., 0., 0., 0., 0., 0., 0., 0., 0., 0., 2., 0.],\n",
       "       [0., 0., 0., 0., 0., 0., 0., 0., 0., 0., 0., 0., 0., 0., 0., 0.,\n",
       "        0., 0., 1., 0., 0., 0., 0., 0., 0., 0., 0., 0., 0., 0.],\n",
       "       [0., 0., 0., 0., 0., 0., 0., 0., 0., 0., 0., 0., 0., 0., 0., 0.,\n",
       "        0., 0., 1., 0., 0., 0., 0., 0., 0., 0., 0., 0., 0., 0.],\n",
       "       [0., 0., 0., 0., 0., 0., 0., 0., 0., 0., 0., 0., 0., 0., 0., 0.,\n",
       "        0., 0., 1., 0., 0., 0., 0., 0., 0., 0., 0., 0., 0., 0.],\n",
       "       [0., 0., 0., 0., 0., 0., 0., 0., 0., 0., 0., 0., 0., 0., 0., 0.,\n",
       "        0., 0., 0., 0., 0., 0., 0., 0., 0., 0., 1., 1., 0., 0.]],\n",
       "      dtype=float32)"
      ]
     },
     "execution_count": 7,
     "metadata": {},
     "output_type": "execute_result"
    }
   ],
   "source": [
    "adata.X[:10, :30].toarray()"
   ]
  },
  {
   "cell_type": "code",
   "execution_count": 8,
   "id": "823186bb-31dd-49a8-acf7-16e423bd8632",
   "metadata": {
    "tags": []
   },
   "outputs": [
    {
     "name": "stderr",
     "output_type": "stream",
     "text": [
      "WARNING:root:In order to use the mouse gastrulation seqFISH datsets, please install squidpy (see https://github.com/scverse/squidpy).\n",
      "/usr/local/lib/python3.11/site-packages/scvi/_settings.py:63: UserWarning: Since v1.0.0, scvi-tools no longer uses a random seed by default. Run `scvi.settings.seed = 0` to reproduce results from previous versions.\n",
      "  self.seed = seed\n",
      "/usr/local/lib/python3.11/site-packages/scvi/_settings.py:70: UserWarning: Setting `dl_pin_memory_gpu_training` is deprecated in v1.0 and will be removed in v1.1. Please pass in `pin_memory` to the data loaders instead.\n",
      "  self.dl_pin_memory_gpu_training = (\n",
      "/usr/local/lib/python3.11/site-packages/tqdm/auto.py:21: TqdmWarning: IProgress not found. Please update jupyter and ipywidgets. See https://ipywidgets.readthedocs.io/en/stable/user_install.html\n",
      "  from .autonotebook import tqdm as notebook_tqdm\n",
      "WARNING:root:In order to use sagenet models, please install pytorch geometric (see https://pytorch-geometric.readthedocs.io) and \n",
      " captum (see https://github.com/pytorch/captum).\n",
      "WARNING:root:mvTCR is not installed. To use mvTCR models, please install it first using \"pip install mvtcr\"\n",
      "WARNING:root:multigrate is not installed. To use multigrate models, please install it first using \"pip install multigrate\".\n"
     ]
    }
   ],
   "source": [
    "import pandas as pd\n",
    "import anndata as ad\n",
    "import numpy as np\n",
    "\n",
    "import scarches as sca\n",
    "import gdown\n",
    "import gzip\n",
    "import shutil\n",
    "from scipy import sparse\n",
    "\n",
    "sc.settings.set_figure_params(dpi=200, frameon=False)\n",
    "sc.set_figure_params(dpi=200)\n",
    "sc.set_figure_params(figsize=(4, 4))\n",
    "\n",
    "import sys, os\n",
    "sys.path.append(os.path.join(os.getcwd(), '../single-cell-tutorial/download_scripts'))\n",
    "from functions import remove_repeated_var_inds, join_map_mart"
   ]
  },
  {
   "cell_type": "markdown",
   "id": "5ae09274-e352-4e32-ab35-f2b6c9d80668",
   "metadata": {},
   "source": [
    "### Load Query dataset"
   ]
  },
  {
   "cell_type": "code",
   "execution_count": 9,
   "id": "fc70e51a-909b-441f-9750-dc4bf13ebe7e",
   "metadata": {
    "tags": []
   },
   "outputs": [],
   "source": [
    "batch_key = 'dataset'\n",
    "name = dataset_str.split('_')[0]\n",
    "query_batch = [f'lung_{name}']\n",
    "cell_type_key = 'scanvi_label'\n",
    "data_dir = '/root/datos/maestria/netopaas/lung_scRNA'\n",
    "backup_dir = '/root/datos/maestria/netopaas/luca_explore'\n",
    "ref_model_path = f'{data_dir}/HCA_Lung/HLCA_reference_model'\n",
    "\n",
    "#Important to check how many epochs would be ideal\n",
    "surgery_epochs = 100\n",
    "early_stopping_kwargs_surgery = {\n",
    "    \"early_stopping_monitor\": \"elbo_train\",\n",
    "    \"early_stopping_patience\": 10,\n",
    "    \"early_stopping_min_delta\": 0.001,\n",
    "    \"plan_kwargs\": {\"weight_decay\": 0.0},\n",
    "}"
   ]
  },
  {
   "cell_type": "code",
   "execution_count": 10,
   "id": "412c10db-9380-4439-9faa-6e45c72092cc",
   "metadata": {
    "tags": []
   },
   "outputs": [],
   "source": [
    "adata_ref = sc.read_h5ad(f'{data_dir}/HCA_Lung/HLCA_emb_and_metadata.h5ad')"
   ]
  },
  {
   "cell_type": "code",
   "execution_count": 11,
   "id": "df9be20c-9089-4722-a427-bb6fd212d6a1",
   "metadata": {
    "tags": []
   },
   "outputs": [],
   "source": [
    "adata_query_unprep = adata.copy()\n",
    "\n",
    "# We need RAW count data for the model we are using so we get it from adata.layers\n",
    "#adata_query_unprep.X = adata_query_unprep.layers['counts']"
   ]
  },
  {
   "cell_type": "markdown",
   "id": "02f18529-2313-4be1-bb71-614b7642a220",
   "metadata": {},
   "source": [
    "For faster computation convert the matrix to sparse.\n",
    "First check with `adata.X` if it is sparse"
   ]
  },
  {
   "cell_type": "code",
   "execution_count": 12,
   "id": "a43cbed8-b620-4d97-bd1b-638c6b903425",
   "metadata": {},
   "outputs": [
    {
     "data": {
      "text/plain": [
       "<26514x26359 sparse matrix of type '<class 'numpy.float32'>'\n",
       "\twith 44188533 stored elements in Compressed Sparse Row format>"
      ]
     },
     "execution_count": 12,
     "metadata": {},
     "output_type": "execute_result"
    }
   ],
   "source": [
    "adata.X\n",
    "# adata_query_unprep.X = sparse.csr_matrix(adata_query_unprep.X)"
   ]
  },
  {
   "cell_type": "markdown",
   "id": "8dba6b38-6561-4a29-9891-cc3132ac38b4",
   "metadata": {},
   "source": [
    "### Change to Ensembl IDs"
   ]
  },
  {
   "cell_type": "markdown",
   "id": "628fca3a-4168-4696-a638-18976301895e",
   "metadata": {},
   "source": [
    "Revert to ensemble ids using the assembly reference gch38 (or hg19 in the comments) used in the experiment.\n",
    "Doing this via THE PACKAGE Biomart always leaves us with some gaps because there are many manually annotated genes."
   ]
  },
  {
   "cell_type": "markdown",
   "id": "9696b8eb-987e-41cb-8038-dc6a7cb5ee93",
   "metadata": {},
   "source": [
    "**WARNING**\n",
    "Lost only 5% of genes with this method\n",
    "\n",
    "Chen uses:\n",
    "- Chemistry 10x 3' v2\n",
    "- CellRanger 3.2.0 for fastq generation\n",
    "- STAR with GRCh38\n",
    "\n",
    "I have sent an email to ask for the assembly used in STAR.\n",
    "Other ideas to figure this out : \n",
    "- Figuring in what assembly some of the lost genes are\n",
    "- Check the SAM/BAM Header"
   ]
  },
  {
   "cell_type": "markdown",
   "id": "4974d2ce-1efd-43fd-b71a-fa850e681600",
   "metadata": {},
   "source": [
    "If your query feature naming does not match your reference model feature naming, you will need to add the right feature names. For the HLCA reference, the mapping of the 2000 input gene IDs to their gene names is stored on the HLCA Zenodo page, so you can add gene ids using that mapping. Alternatively, you can map your gene IDs to gene names (or the reverse) using BioMart mapping tables. In most cases your raw data includes both gene IDs and names, in which case mapping is not necessary.\n",
    "\n",
    "Let’s download the HLCA-specific gene mapping:"
   ]
  },
  {
   "cell_type": "code",
   "execution_count": 13,
   "id": "5412598d-3f8f-45dc-868d-ebf26075e06c",
   "metadata": {},
   "outputs": [],
   "source": [
    "path_gene_mapping_df = f'{data_dir}/HCA_Lung/HLCA_reference_model_gene_order_ids_and_symbols.csv'"
   ]
  },
  {
   "cell_type": "code",
   "execution_count": 18,
   "id": "c3e82e6b-aebf-42eb-bbb2-a76ccbefb879",
   "metadata": {},
   "outputs": [
    {
     "name": "stderr",
     "output_type": "stream",
     "text": [
      "Downloading...\n",
      "From: https://zenodo.org/record/7599104/files/HLCA_reference_model_gene_order_ids_and_symbols.csv\n",
      "To: /root/datos/maestria/netopaas/lung_scRNA/HCA_Lung/HLCA_reference_model_gene_order_ids_and_symbols.csv\n",
      "45.1kB [00:00, 54.0MB/s]\n"
     ]
    },
    {
     "data": {
      "text/plain": [
       "'/root/datos/maestria/netopaas/lung_scRNA/HCA_Lung/HLCA_reference_model_gene_order_ids_and_symbols.csv'"
      ]
     },
     "execution_count": 18,
     "metadata": {},
     "output_type": "execute_result"
    }
   ],
   "source": [
    "# Download gene information from HLCA github:\n",
    "url = \"https://zenodo.org/record/7599104/files/HLCA_reference_model_gene_order_ids_and_symbols.csv\"\n",
    "gdown.download(url, path_gene_mapping_df, quiet=False)"
   ]
  },
  {
   "cell_type": "code",
   "execution_count": 14,
   "id": "dac3bebd-36ba-4879-8cef-8b8184283983",
   "metadata": {},
   "outputs": [],
   "source": [
    "gene_id_to_gene_name_df = pd.read_csv(path_gene_mapping_df, index_col=0)\n",
    "\n",
    "# Store your gene names in an adata.var.column if they are currently the index:\n",
    "# if gene names are in .var.index:\n",
    "adata_query_unprep.var[\"gene_names\"] = adata_query_unprep.var.index\n",
    "gene_name_column_name = \"gene_names\""
   ]
  },
  {
   "cell_type": "markdown",
   "id": "3c64df7c-6b78-4e48-b857-7937b6fdae3e",
   "metadata": {},
   "source": [
    "Map gene names to gene ids for all of the 2000 reference model genes that we can find in our data:\n",
    "\n",
    "Check number of detected genes:"
   ]
  },
  {
   "cell_type": "code",
   "execution_count": 15,
   "id": "49bd8fed-8065-4661-ab6a-6710e1db5cb4",
   "metadata": {},
   "outputs": [
    {
     "name": "stdout",
     "output_type": "stream",
     "text": [
      "Number of model input genes detected: 1885 out of 2000 (94%)\n"
     ]
    }
   ],
   "source": [
    "n_overlap = (\n",
    "    adata_query_unprep.var[gene_name_column_name]\n",
    "    .isin(gene_id_to_gene_name_df.gene_symbol)\n",
    "    .sum()\n",
    ")\n",
    "n_genes_model = gene_id_to_gene_name_df.shape[0]\n",
    "print(\n",
    "    f\"Number of model input genes detected: {n_overlap} out of {n_genes_model} ({round(n_overlap/n_genes_model*100)}%)\"\n",
    ")\n",
    "\n"
   ]
  },
  {
   "cell_type": "markdown",
   "id": "0b32b4d9-5897-4a1a-84b4-95f40341d6fe",
   "metadata": {},
   "source": [
    "Subset query data to only the genes that are part of the modeling input, then map gene names to gene ids using the table above. Store the resulting ids both in the .var.index (for scArches) and in a .var[gene_ids] (for merging duplicate genes)."
   ]
  },
  {
   "cell_type": "code",
   "execution_count": 16,
   "id": "351de490-70b6-4a14-ae03-7e0bafc9b879",
   "metadata": {},
   "outputs": [],
   "source": [
    "adata_query_unprep = adata_query_unprep[\n",
    "    :,\n",
    "    adata_query_unprep.var[gene_name_column_name].isin(\n",
    "        gene_id_to_gene_name_df.gene_symbol\n",
    "    ),\n",
    "].copy()  # subset your data to genes used in the reference model\n",
    "adata_query_unprep.var.index = adata_query_unprep.var[gene_name_column_name].map(\n",
    "    dict(zip(gene_id_to_gene_name_df.gene_symbol, gene_id_to_gene_name_df.index))\n",
    ")  # add gene ids for the gene names, and store in .var.index\n",
    "# remove index name to prevent bugs later on\n",
    "adata_query_unprep.var.index.name = None\n",
    "adata_query_unprep.var[\"gene_ids\"] = adata_query_unprep.var.index\n"
   ]
  },
  {
   "cell_type": "code",
   "execution_count": 17,
   "id": "6fea5eaf-bcf4-4fd9-b3a2-f7ef5982c17e",
   "metadata": {},
   "outputs": [
    {
     "data": {
      "text/html": [
       "<div>\n",
       "<style scoped>\n",
       "    .dataframe tbody tr th:only-of-type {\n",
       "        vertical-align: middle;\n",
       "    }\n",
       "\n",
       "    .dataframe tbody tr th {\n",
       "        vertical-align: top;\n",
       "    }\n",
       "\n",
       "    .dataframe thead th {\n",
       "        text-align: right;\n",
       "    }\n",
       "</style>\n",
       "<table border=\"1\" class=\"dataframe\">\n",
       "  <thead>\n",
       "    <tr style=\"text-align: right;\">\n",
       "      <th></th>\n",
       "      <th>n_counts</th>\n",
       "      <th>mito</th>\n",
       "      <th>n_cells_by_counts</th>\n",
       "      <th>mean_counts</th>\n",
       "      <th>pct_dropout_by_counts</th>\n",
       "      <th>total_counts</th>\n",
       "      <th>gene_names</th>\n",
       "      <th>gene_ids</th>\n",
       "    </tr>\n",
       "  </thead>\n",
       "  <tbody>\n",
       "    <tr>\n",
       "      <th>ENSG00000188290</th>\n",
       "      <td>2126.0</td>\n",
       "      <td>False</td>\n",
       "      <td>952</td>\n",
       "      <td>0.051591</td>\n",
       "      <td>96.528968</td>\n",
       "      <td>1415.0</td>\n",
       "      <td>HES4</td>\n",
       "      <td>ENSG00000188290</td>\n",
       "    </tr>\n",
       "    <tr>\n",
       "      <th>ENSG00000187608</th>\n",
       "      <td>43652.0</td>\n",
       "      <td>False</td>\n",
       "      <td>11596</td>\n",
       "      <td>1.277610</td>\n",
       "      <td>57.720494</td>\n",
       "      <td>35041.0</td>\n",
       "      <td>ISG15</td>\n",
       "      <td>ENSG00000187608</td>\n",
       "    </tr>\n",
       "    <tr>\n",
       "      <th>ENSG00000162571</th>\n",
       "      <td>460.0</td>\n",
       "      <td>False</td>\n",
       "      <td>179</td>\n",
       "      <td>0.012725</td>\n",
       "      <td>99.347358</td>\n",
       "      <td>349.0</td>\n",
       "      <td>TTLL10</td>\n",
       "      <td>ENSG00000162571</td>\n",
       "    </tr>\n",
       "  </tbody>\n",
       "</table>\n",
       "</div>"
      ],
      "text/plain": [
       "                 n_counts   mito  n_cells_by_counts  mean_counts  \\\n",
       "ENSG00000188290    2126.0  False                952     0.051591   \n",
       "ENSG00000187608   43652.0  False              11596     1.277610   \n",
       "ENSG00000162571     460.0  False                179     0.012725   \n",
       "\n",
       "                 pct_dropout_by_counts  total_counts gene_names  \\\n",
       "ENSG00000188290              96.528968        1415.0       HES4   \n",
       "ENSG00000187608              57.720494       35041.0      ISG15   \n",
       "ENSG00000162571              99.347358         349.0     TTLL10   \n",
       "\n",
       "                        gene_ids  \n",
       "ENSG00000188290  ENSG00000188290  \n",
       "ENSG00000187608  ENSG00000187608  \n",
       "ENSG00000162571  ENSG00000162571  "
      ]
     },
     "execution_count": 17,
     "metadata": {},
     "output_type": "execute_result"
    }
   ],
   "source": [
    "adata_query_unprep.var.head(3)"
   ]
  },
  {
   "cell_type": "code",
   "execution_count": 18,
   "id": "eda40fc0-bf98-4972-b386-ecf53097dae2",
   "metadata": {},
   "outputs": [],
   "source": [
    "def sum_by(adata: ad.AnnData, col: str) -> ad.AnnData:\n",
    "    adata.obs[col] = adata.obs[col].astype('category')\n",
    "    assert pd.api.types.is_categorical_dtype(adata.obs[col])\n",
    "\n",
    "    cat = adata.obs[col].values\n",
    "    indicator = sparse.coo_matrix(\n",
    "        (np.broadcast_to(True, adata.n_obs), (cat.codes, np.arange(adata.n_obs))),\n",
    "        shape=(len(cat.categories), adata.n_obs),\n",
    "    )\n",
    "\n",
    "    return ad.AnnData(\n",
    "        indicator @ adata.X, var=adata.var, obs=pd.DataFrame(index=cat.categories)\n",
    "    )"
   ]
  },
  {
   "cell_type": "markdown",
   "id": "5d5d9d7f-14f1-4c83-a76f-c346ead8265c",
   "metadata": {},
   "source": [
    "shape before merging:"
   ]
  },
  {
   "cell_type": "markdown",
   "id": "18393633-12ba-41ca-87ea-d55b705cd273",
   "metadata": {},
   "source": [
    "Now merge. Note that all var columns will be dropped after merging (as we don’t specify how to merge). As the merging is done based on .obs indices in the function above, we transpose our anndata object and re-transpose it after merging."
   ]
  },
  {
   "cell_type": "code",
   "execution_count": 19,
   "id": "a060c25a-cd2a-4180-b95b-a7452a37ab4c",
   "metadata": {},
   "outputs": [],
   "source": [
    "adata_query_unprep = sum_by(adata_query_unprep.transpose(), col=\"gene_ids\").transpose()"
   ]
  },
  {
   "cell_type": "code",
   "execution_count": 20,
   "id": "e1f87a3b-6b00-4bf0-b92f-6af460b4c88c",
   "metadata": {},
   "outputs": [
    {
     "data": {
      "text/plain": [
       "(26514, 1885)"
      ]
     },
     "execution_count": 20,
     "metadata": {},
     "output_type": "execute_result"
    }
   ],
   "source": [
    "adata_query_unprep.shape"
   ]
  },
  {
   "cell_type": "markdown",
   "id": "b7a907a2-4a8e-46c5-a615-ff77ba3adbfd",
   "metadata": {},
   "source": [
    "add back gene ids:"
   ]
  },
  {
   "cell_type": "code",
   "execution_count": 21,
   "id": "cb075aa8-99f8-4e5e-9d84-364d6cca5cda",
   "metadata": {},
   "outputs": [],
   "source": [
    "adata_query_unprep.var = adata_query_unprep.var.join(gene_id_to_gene_name_df).rename(columns={\"gene_symbol\":\"gene_names\"})"
   ]
  },
  {
   "cell_type": "markdown",
   "id": "2102fa90-bf52-41d0-9605-e259bde7bdd4",
   "metadata": {},
   "source": [
    "### Surgery"
   ]
  },
  {
   "cell_type": "markdown",
   "id": "0857ef86-754d-432c-8f81-b31da5727ea8",
   "metadata": {},
   "source": [
    "We pad missing query genes with zeros and reorder the available ones to ensure data corectness and smooth running of the scArches reference mapping."
   ]
  },
  {
   "cell_type": "code",
   "execution_count": 22,
   "id": "1c6cd328-e6c1-4198-b329-fd97e576d818",
   "metadata": {
    "tags": []
   },
   "outputs": [
    {
     "name": "stdout",
     "output_type": "stream",
     "text": [
      "\u001b[34mINFO    \u001b[0m File \u001b[35m/root/datos/maestria/netopaas/lung_scRNA/HCA_Lung/HLCA_reference_model/\u001b[0m\u001b[95mmodel.pt\u001b[0m already downloaded   \n",
      "\u001b[34mINFO    \u001b[0m Found \u001b[1;36m94.25\u001b[0m% reference vars in query data.                                                                \n"
     ]
    }
   ],
   "source": [
    "adata_query = sca.models.SCANVI.prepare_query_anndata(\n",
    "    adata = adata_query_unprep,\n",
    "    # return_reference_var_names=True,\n",
    "    reference_model = ref_model_path,\n",
    "    inplace=False)"
   ]
  },
  {
   "cell_type": "markdown",
   "id": "d2df5e4e-ad88-4537-858e-3be2654b55d2",
   "metadata": {},
   "source": [
    "This line should be kept unchanged due to the structure of the pre-trained reference model."
   ]
  },
  {
   "cell_type": "code",
   "execution_count": 23,
   "id": "f92d6c1c-d0ec-4a97-a2fc-e4020c04b5b7",
   "metadata": {
    "tags": []
   },
   "outputs": [],
   "source": [
    "adata_query.obs['scanvi_label'] = 'unlabeled'"
   ]
  },
  {
   "cell_type": "markdown",
   "id": "01a2f1e8-6c78-4d14-afdd-d19fefc710cf",
   "metadata": {},
   "source": [
    "Now we perform scArches “surgery”.\n",
    "\n",
    "Note: if you use gene names rather than ensembl IDs in your query_data.var.index, you will get a warning that your genes (var_names) do not match the training genes. You can ignore this warning, as long as you have done the gene check in the beginning of the notebook."
   ]
  },
  {
   "cell_type": "code",
   "execution_count": 24,
   "id": "8727e752-c4ae-412f-95a9-57c58155286e",
   "metadata": {
    "tags": []
   },
   "outputs": [
    {
     "name": "stdout",
     "output_type": "stream",
     "text": [
      "\u001b[34mINFO    \u001b[0m File \u001b[35m/root/datos/maestria/netopaas/lung_scRNA/HCA_Lung/HLCA_reference_model/\u001b[0m\u001b[95mmodel.pt\u001b[0m already downloaded   \n"
     ]
    }
   ],
   "source": [
    "from scvi.model.base._utils import _load_saved_files\n",
    "attr_dict, var_names, model_state_dict, adata_ = _load_saved_files(ref_model_path, load_adata=False, map_location='cpu')"
   ]
  },
  {
   "cell_type": "markdown",
   "id": "dd9734ad-9281-4909-95eb-373476930e45",
   "metadata": {},
   "source": [
    "Thanks to exploring the model we can deduce what .obs we need and the name we assigned. In this case we need to define a 'dataset'\n",
    "column in obs to define the batches. Seeing as to how every sample ia new day in the experiment we define the batches as the samples."
   ]
  },
  {
   "cell_type": "markdown",
   "id": "68b50b78-d771-421e-8174-87f8dca92bfa",
   "metadata": {},
   "source": [
    "We can load the model with this command or train it if we havent got it"
   ]
  },
  {
   "cell_type": "code",
   "execution_count": 25,
   "id": "15abd5b1-8b21-4d84-8c1f-5f314fae47a1",
   "metadata": {
    "tags": []
   },
   "outputs": [],
   "source": [
    "adata_query.obs['dataset'] = adata_query.obs['sample']\n",
    "adata_query.obs['sample'] = adata_query.obs['sample'].astype('string')\n",
    "adata_query.obs['dataset'] = adata_query.obs['dataset'].astype('string')"
   ]
  },
  {
   "cell_type": "code",
   "execution_count": 26,
   "id": "a38e18e0-d268-4258-b4f6-19857dc9b438",
   "metadata": {},
   "outputs": [],
   "source": [
    "for col in adata_query.obs.columns:\n",
    "    if pd.api.types.is_categorical_dtype(adata_query.obs[col]):\n",
    "        adata_query.obs[col] = adata_query.obs[col].astype('str')\n"
   ]
  },
  {
   "cell_type": "code",
   "execution_count": 27,
   "id": "b1449aaf-56e6-4676-8afe-26f734478b8d",
   "metadata": {},
   "outputs": [],
   "source": [
    "# Convert all mito falgs into false because we are using the latent genes of the HCA_lung model\n",
    "adata_query = sc.read_h5ad(f'{backup_dir}/surgeries/query_{name}.h5ad')\n",
    "adata_query.var.mito = False\n",
    "# adata_query.write_h5ad(f'{backup_dir}/surgeries/query_{name}.h5ad')"
   ]
  },
  {
   "cell_type": "markdown",
   "id": "433ec9c1-9b5c-4955-be58-f656f39ae10b",
   "metadata": {},
   "source": [
    "Apparently we have to aks for cuda availability explicitly for scArches to recognize that we have GPU"
   ]
  },
  {
   "cell_type": "code",
   "execution_count": 30,
   "id": "1b695494-350d-4337-9bc4-3dcc17fd4631",
   "metadata": {},
   "outputs": [
    {
     "data": {
      "text/plain": [
       "True"
      ]
     },
     "execution_count": 30,
     "metadata": {},
     "output_type": "execute_result"
    }
   ],
   "source": [
    "import torch\n",
    "torch.cuda.is_available()"
   ]
  },
  {
   "cell_type": "code",
   "execution_count": 31,
   "id": "698a1f3e-8005-4cc1-aa0d-e2c1622c97fa",
   "metadata": {
    "tags": []
   },
   "outputs": [
    {
     "name": "stdout",
     "output_type": "stream",
     "text": [
      "\u001b[34mINFO    \u001b[0m File \u001b[35m/root/datos/maestria/netopaas/lung_scRNA/HCA_Lung/HLCA_reference_model/\u001b[0m\u001b[95mmodel.pt\u001b[0m already downloaded   \n"
     ]
    }
   ],
   "source": [
    "surgery_model = sca.models.SCANVI.load_query_data(\n",
    "        adata_query,\n",
    "        ref_model_path,\n",
    "        freeze_dropout = True,\n",
    "    )"
   ]
  },
  {
   "cell_type": "code",
   "execution_count": 32,
   "id": "97abe3e4-0855-4b1a-b455-120e1f1800a9",
   "metadata": {
    "tags": []
   },
   "outputs": [
    {
     "name": "stdout",
     "output_type": "stream",
     "text": [
      "\u001b[34mINFO    \u001b[0m Training for \u001b[1;36m100\u001b[0m epochs.                                                                                  \n"
     ]
    },
    {
     "name": "stderr",
     "output_type": "stream",
     "text": [
      "INFO: GPU available: True (cuda), used: True\n",
      "INFO:lightning.pytorch.utilities.rank_zero:GPU available: True (cuda), used: True\n",
      "INFO: TPU available: False, using: 0 TPU cores\n",
      "INFO:lightning.pytorch.utilities.rank_zero:TPU available: False, using: 0 TPU cores\n",
      "INFO: IPU available: False, using: 0 IPUs\n",
      "INFO:lightning.pytorch.utilities.rank_zero:IPU available: False, using: 0 IPUs\n",
      "INFO: HPU available: False, using: 0 HPUs\n",
      "INFO:lightning.pytorch.utilities.rank_zero:HPU available: False, using: 0 HPUs\n",
      "INFO: LOCAL_RANK: 0 - CUDA_VISIBLE_DEVICES: [0]\n",
      "INFO:lightning.pytorch.accelerators.cuda:LOCAL_RANK: 0 - CUDA_VISIBLE_DEVICES: [0]\n"
     ]
    },
    {
     "name": "stdout",
     "output_type": "stream",
     "text": [
      "Epoch 100/100: 100%|█████████████████████████████████████████████████████████████████████████████████████████████████████████| 100/100 [01:21<00:00,  1.24it/s, v_num=1, train_loss_step=496, train_loss_epoch=433]"
     ]
    },
    {
     "name": "stderr",
     "output_type": "stream",
     "text": [
      "INFO: `Trainer.fit` stopped: `max_epochs=100` reached.\n",
      "INFO:lightning.pytorch.utilities.rank_zero:`Trainer.fit` stopped: `max_epochs=100` reached.\n"
     ]
    },
    {
     "name": "stdout",
     "output_type": "stream",
     "text": [
      "Epoch 100/100: 100%|█████████████████████████████████████████████████████████████████████████████████████████████████████████| 100/100 [01:21<00:00,  1.23it/s, v_num=1, train_loss_step=496, train_loss_epoch=433]\n",
      "CPU times: user 1min 21s, sys: 538 ms, total: 1min 21s\n",
      "Wall time: 1min 21s\n"
     ]
    }
   ],
   "source": [
    "%%time\n",
    "surgery_model.train(\n",
    "     max_epochs=surgery_epochs,\n",
    "    **early_stopping_kwargs_surgery\n",
    ")"
   ]
  },
  {
   "cell_type": "code",
   "execution_count": 33,
   "id": "e4ff24cb-8d9c-4633-a5ca-6805b2e0061c",
   "metadata": {
    "tags": []
   },
   "outputs": [],
   "source": [
    "surgery_model.save(f'{backup_dir}/surgeries/{name}', overwrite=True)"
   ]
  },
  {
   "cell_type": "code",
   "execution_count": 24,
   "id": "346bac63-744b-4157-8a0c-ea09bba5c418",
   "metadata": {
    "tags": []
   },
   "outputs": [
    {
     "name": "stdout",
     "output_type": "stream",
     "text": [
      "\u001b[34mINFO    \u001b[0m File surgeries/Chen/model.pt already downloaded                                                           \n"
     ]
    }
   ],
   "source": [
    "surgery_model = sca.models.SCANVI.load(f'{backup_dir}/surgeries/{name}/', adata_query)"
   ]
  },
  {
   "cell_type": "markdown",
   "id": "3cdbf47e-9b51-4317-ba40-64251595decd",
   "metadata": {},
   "source": [
    "### Get latent representation\n",
    "Here we will calculate the “latent representation”, or “low-dimensional embedding” of your dataset. This embedding is in the same space as the HLCA core/reference embedding that you loaded in the beginning of the script. Hence, we can combine the two embeddings afterwards (HLCA + your new data), and do joint clustering, UMAP embedding, label transfer etc.!"
   ]
  },
  {
   "cell_type": "code",
   "execution_count": 34,
   "id": "97e0bda1-9cea-4b53-a4cc-677ecfac0b44",
   "metadata": {
    "tags": []
   },
   "outputs": [],
   "source": [
    "adata_query_latent = sc.AnnData(surgery_model.get_latent_representation(adata_query))\n",
    "adata_query_latent.obs = adata_query.obs.loc[adata_query.obs.index,:]"
   ]
  },
  {
   "cell_type": "code",
   "execution_count": 35,
   "id": "df37d67f-96b1-4d8a-9fcd-22c84a72dcae",
   "metadata": {},
   "outputs": [],
   "source": [
    "adata_query_latent.write_h5ad(f'{backup_dir}/surgeries/latent_{name}.h5ad')"
   ]
  },
  {
   "cell_type": "code",
   "execution_count": 36,
   "id": "ff8325c5-5491-437b-a4dd-4cb4675f75a7",
   "metadata": {},
   "outputs": [],
   "source": [
    "adata_query_latent = sc.read_h5ad(f'{backup_dir}/surgeries/latent_{name}.h5ad')"
   ]
  },
  {
   "cell_type": "markdown",
   "id": "c6847d36-6788-4481-96ca-d87aae4f1202",
   "metadata": {},
   "source": [
    "### Combine embeddings\n",
    "We add “reference or query” metadata to acquire more information and better analyse the integration level."
   ]
  },
  {
   "cell_type": "code",
   "execution_count": 37,
   "id": "5c314e1e-0283-43f8-8e12-1dcc4cd8b2a5",
   "metadata": {
    "tags": []
   },
   "outputs": [],
   "source": [
    "adata_query_latent.obs['ref_or_query'] = \"query\"\n",
    "adata_ref.obs['ref_or_query'] = \"ref\""
   ]
  },
  {
   "cell_type": "markdown",
   "id": "89c3b9b3-b7f0-4572-9f3c-0794ef5382ab",
   "metadata": {},
   "source": [
    "We will now combine the two embeddings to enable joing clustering etc. If you expect non-unique barcodes (.obs index), set index_unique to e.g. “_” and batch_key to the obs column that you want to use as barcode suffix (e.g. “dataset”)."
   ]
  },
  {
   "cell_type": "code",
   "execution_count": 38,
   "id": "4ffae0b0-da92-421d-801d-10ab73b5167a",
   "metadata": {
    "tags": []
   },
   "outputs": [
    {
     "name": "stderr",
     "output_type": "stream",
     "text": [
      "/usr/local/lib/python3.11/site-packages/anndata/_core/anndata.py:1763: FutureWarning: The AnnData.concatenate method is deprecated in favour of the anndata.concat function. Please use anndata.concat instead.\n",
      "\n",
      "See the tutorial for concat at: https://anndata.readthedocs.io/en/latest/concatenation.html\n",
      "  warnings.warn(\n"
     ]
    }
   ],
   "source": [
    "combined_emb = adata_ref.concatenate(adata_query_latent, index_unique=None) # index_unique=\"_\", batch_key=\"dataset\") # alternative"
   ]
  },
  {
   "cell_type": "code",
   "execution_count": 20,
   "id": "dc9e3394-d4c4-4e77-a9a7-ea2c7f26067c",
   "metadata": {
    "tags": []
   },
   "outputs": [],
   "source": [
    "# We save the combined embeddings (optional).\n",
    "combined_emb.write_h5ad(f'{backup_dir}/surgeries/combined_{name}.h5ad')"
   ]
  },
  {
   "cell_type": "code",
   "execution_count": 11,
   "id": "2f06ad85-ce68-4971-93d7-a7ea7f4b23ee",
   "metadata": {
    "tags": []
   },
   "outputs": [],
   "source": [
    "combined_emb = sc.read_h5ad(f'{backup_dir}/surgeries/combined_{name}.h5ad')"
   ]
  },
  {
   "cell_type": "markdown",
   "id": "56da764e-5c68-4507-ba5c-4a383db0a0de",
   "metadata": {},
   "source": [
    "Note that if wanted, this embedding can be added to the full, joint HLCA + query data object (including gene counts). The full HLCA, including normalized counts is publicly available. For now, we will just work with the embedding, since that is all we need to perform joint plotting and label transfer."
   ]
  },
  {
   "cell_type": "markdown",
   "id": "6a7f9e57-6b4d-4fdf-a48b-121b4e1ffd36",
   "metadata": {},
   "source": [
    "### Label transfer\n",
    "Next, we use a knn classifier to transfer the lables from the reference to the query. We do this for every level of the annotation (i.e. level 1-5). Note that some cell types don’t have annotations for higher levels, e.g. mast cells do not have level 4 or 5 annotations. For those cell types, we “propagate” to the higher levels, i.e. you will see “3_Mast cells” in level 4 and 5 annotations. (Most cell types don’t have a level 5 annotation!) Therefore, all highest level annotations can be found under level 5."
   ]
  },
  {
   "cell_type": "code",
   "execution_count": 21,
   "id": "7283c085-b605-454c-86cf-15c45735bf6a",
   "metadata": {
    "tags": []
   },
   "outputs": [],
   "source": [
    "celltypes = f'{data_dir}/HCA_Lung/HLCA_celltypes_ordered.csv'"
   ]
  },
  {
   "cell_type": "code",
   "execution_count": 25,
   "id": "0d0a5d9e-72e8-4ccb-9398-be05ea2d6bd0",
   "metadata": {
    "tags": []
   },
   "outputs": [
    {
     "name": "stderr",
     "output_type": "stream",
     "text": [
      "Downloading...\n",
      "From: https://github.com/LungCellAtlas/mapping_data_to_the_HLCA/raw/main/supporting_files/HLCA_celltypes_ordered.csv\n",
      "To: /root/datos/maestria/netopaas/lung_scRNA/HCA_Lung/HLCA_celltypes_ordered.csv\n",
      "5.81kB [00:00, 35.9MB/s]                                                                                                                                                                                                                                                                  \n"
     ]
    },
    {
     "data": {
      "text/plain": [
       "'/root/datos/maestria/netopaas/lung_scRNA/HCA_Lung/HLCA_celltypes_ordered.csv'"
      ]
     },
     "execution_count": 25,
     "metadata": {},
     "output_type": "execute_result"
    }
   ],
   "source": [
    "url = 'https://github.com/LungCellAtlas/mapping_data_to_the_HLCA/raw/main/supporting_files/HLCA_celltypes_ordered.csv'\n",
    "gdown.download(url, celltypes, quiet=False)"
   ]
  },
  {
   "cell_type": "code",
   "execution_count": 24,
   "id": "e3d074e5-38aa-45b7-a6ba-a80e67f7b54c",
   "metadata": {},
   "outputs": [],
   "source": [
    "cts_ordered = read_csv(celltypes,index_col=0)"
   ]
  },
  {
   "cell_type": "code",
   "execution_count": 22,
   "id": "9bfd58c3-088a-47db-9f8d-5411b454dbea",
   "metadata": {
    "tags": []
   },
   "outputs": [
    {
     "name": "stdout",
     "output_type": "stream",
     "text": [
      "Weighted KNN with n_neighbors = 50 ... "
     ]
    }
   ],
   "source": [
    "#Now run the label transfer commands. Note that this might take quite a while if you have a large query dataset! For our small test dataset, it should not take long.\n",
    "\n",
    "knn_transformer = sca.utils.knn.weighted_knn_trainer(\n",
    "    train_adata=adata_ref,\n",
    "    train_adata_emb=\"X\",\n",
    "    n_neighbors=50,\n",
    ")"
   ]
  },
  {
   "cell_type": "code",
   "execution_count": 26,
   "id": "73e6c461-71f6-4580-a856-34aa2164a955",
   "metadata": {
    "tags": []
   },
   "outputs": [
    {
     "name": "stdout",
     "output_type": "stream",
     "text": [
      "finished!\n",
      "CPU times: user 9min 31s, sys: 1.77 s, total: 9min 32s\n",
      "Wall time: 1min 39s\n"
     ]
    }
   ],
   "source": [
    "%%time\n",
    "\n",
    "labels, uncert = sca.utils.knn.weighted_knn_transfer(\n",
    "    query_adata=adata_query_latent,\n",
    "    query_adata_emb=\"X\", # location of our joint embedding\n",
    "    label_keys=\"Level\",\n",
    "    knn_model=knn_transformer,\n",
    "    ref_adata_obs = adata_ref.obs.join(cts_ordered, on='ann_finest_level')\n",
    "    )"
   ]
  },
  {
   "cell_type": "markdown",
   "id": "61a88827-9b77-4069-87c0-01b0c15aab81",
   "metadata": {},
   "source": [
    "With the commands above, we labeled every cell from the query. However, some cells might have high label transfer uncertainty. It is useful to set those to “unknown” instead of giving them a cell type label. This will help highlight cell types/states that are new (i.e. not present in the reference) and possible interesting, they’re worth taking a careful look at!\n",
    "\n",
    "This uncertainty threshold limits the false positive rate to <0.5 (as per Sikkema et al., bioRxiv 2022)"
   ]
  },
  {
   "cell_type": "code",
   "execution_count": 27,
   "id": "ba4412a2-d14a-42fc-b1fc-85ff6233dc0b",
   "metadata": {},
   "outputs": [],
   "source": [
    "uncertainty_threshold = 0.2"
   ]
  },
  {
   "cell_type": "code",
   "execution_count": 28,
   "id": "a08b2488-6feb-4bed-b29d-b73b482b4c66",
   "metadata": {
    "tags": []
   },
   "outputs": [],
   "source": [
    "labels.rename(columns={f'Level_{lev}':f'Level_{lev}_transfered_label_unfiltered' for lev in range(1,6)},inplace=True)\n",
    "uncert.rename(columns={f'Level_{lev}':f'Level_{lev}_transfer_uncert' for lev in range(1,6)},inplace=True)\n",
    "\n",
    "combined_emb.obs = combined_emb.obs.join(labels)\n",
    "combined_emb.obs = combined_emb.obs.join(uncert)"
   ]
  },
  {
   "cell_type": "code",
   "execution_count": 29,
   "id": "a36b54d4-aeed-4b58-960d-df9c7a3a03cb",
   "metadata": {},
   "outputs": [],
   "source": [
    "t_labels = [f'Level_{lev}_transfered_label_unfiltered' for lev in range(1,6)]\n",
    "t_uncert = [f'Level_{lev}_transfer_uncert' for lev in range(1,6)]"
   ]
  },
  {
   "cell_type": "markdown",
   "id": "6e90c717-f1e5-4e49-9a00-41ee010c242e",
   "metadata": {},
   "source": [
    "Convert uncertainties to arrays"
   ]
  },
  {
   "cell_type": "code",
   "execution_count": 30,
   "id": "37259c3a-c34a-42be-917c-0a747afc1311",
   "metadata": {},
   "outputs": [],
   "source": [
    "combined_emb.obs[t_uncert] = list(np.array(combined_emb.obs[t_uncert]))"
   ]
  },
  {
   "cell_type": "markdown",
   "id": "2ccac6fd-22c2-4205-922c-d88db92c4345",
   "metadata": {},
   "source": [
    "Convert cell type labels to categoricals, and set “nan” to NaN"
   ]
  },
  {
   "cell_type": "code",
   "execution_count": 31,
   "id": "03f1ad60-afba-4c70-b9d8-967c6c60c689",
   "metadata": {
    "tags": []
   },
   "outputs": [],
   "source": [
    "def remove_uncert_types(combined_emb):\n",
    "    import pandas as pd\n",
    "    t_labels = [f'Level_{lev}_transfered_label_unfiltered' for lev in range(1,6)]\n",
    "    t_uncert = [f'Level_{lev}_transfer_uncert' for lev in range(1,6)]\n",
    "    \n",
    "    combined_emb.obs[t_uncert] = list(np.array(combined_emb.obs[t_uncert]))\n",
    "\n",
    "    for col, uncert in zip(t_labels,t_uncert):\n",
    "        filtered_colname = col.replace('_unfiltered','')\n",
    "        # too high uncertainty levels => set to \"Unknown\"\n",
    "        combined_emb.obs[filtered_colname] = combined_emb.obs[col]\n",
    "        combined_emb.obs[filtered_colname] = combined_emb.obs[filtered_colname].astype('str')\n",
    "        combined_emb.obs[filtered_colname].mask(\n",
    "            combined_emb.obs[uncert] > uncertainty_threshold,\n",
    "            'Unknown',\n",
    "            inplace = True)\n",
    "\n",
    "        # convert to categorical:\n",
    "        combined_emb.obs[col] = pd.Categorical(combined_emb.obs[col])\n",
    "        combined_emb.obs[filtered_colname] = pd.Categorical(combined_emb.obs[filtered_colname])\n",
    "        # then replace \"nan\" with NaN (that makes colors better in umap)\n",
    "        combined_emb.obs[col].replace('nan',np.nan,inplace=True)\n",
    "        combined_emb.obs[filtered_colname].replace('nan',np.nan,inplace=True)\n",
    "    return combined_emb"
   ]
  },
  {
   "cell_type": "code",
   "execution_count": 32,
   "id": "d44b39e4-7de2-42ab-bc02-96b21afb1469",
   "metadata": {},
   "outputs": [
    {
     "data": {
      "text/plain": [
       "AnnData object with n_obs × n_vars = 716171 × 30\n",
       "    obs: 'sample', 'study_long', 'study', 'last_author_PI', 'subject_ID', 'sex', 'ethnicity', 'mixed_ethnicity', 'smoking_status', 'BMI', 'condition', 'subject_type', 'sample_type', 'single_cell_platform', \"3'_or_5'\", 'sequencing_platform', 'cell_ranger_version', 'fresh_or_frozen', 'dataset', 'anatomical_region_level_1', 'anatomical_region_level_2', 'anatomical_region_level_3', 'anatomical_region_highest_res', 'age', 'ann_highest_res', 'n_genes', 'log10_total_counts', 'mito_frac', 'ribo_frac', 'original_ann_level_1', 'original_ann_level_2', 'original_ann_level_3', 'original_ann_level_4', 'original_ann_level_5', 'scanvi_label', 'leiden_1', 'leiden_2', 'leiden_3', 'anatomical_region_ccf_score', 'entropy_study_leiden_3', 'entropy_dataset_leiden_3', 'entropy_subject_ID_leiden_3', 'entropy_original_ann_level_1_leiden_3', 'entropy_original_ann_level_2_clean_leiden_3', 'entropy_original_ann_level_3_clean_leiden_3', 'entropy_original_ann_level_4_clean_leiden_3', 'entropy_original_ann_level_5_clean_leiden_3', 'leiden_4', 'reannotation_type', 'leiden_5', 'ann_finest_level', 'ann_level_1', 'ann_level_2', 'ann_level_3', 'ann_level_4', 'ann_level_5', 'ann_coarse_for_GWAS_and_modeling', 'ref_or_query', 'accession', 'origin', 'patient', 'tissue', 'n_counts', 'n_genes_by_counts', 'total_counts', 'total_counts_mito', 'pct_counts_mito', '_scvi_batch', '_scvi_labels', 'batch', 'Level_1_transfered_label_unfiltered', 'Level_2_transfered_label_unfiltered', 'Level_3_transfered_label_unfiltered', 'Level_4_transfered_label_unfiltered', 'Level_5_transfered_label_unfiltered', 'Level_1_transfer_uncert', 'Level_2_transfer_uncert', 'Level_3_transfer_uncert', 'Level_4_transfer_uncert', 'Level_5_transfer_uncert', 'Level_1_transfered_label', 'Level_2_transfered_label', 'Level_3_transfered_label', 'Level_4_transfered_label', 'Level_5_transfered_label'"
      ]
     },
     "execution_count": 32,
     "metadata": {},
     "output_type": "execute_result"
    }
   ],
   "source": [
    "remove_uncert_types(combined_emb)"
   ]
  },
  {
   "cell_type": "markdown",
   "id": "cae115da-c6b1-4db3-a9fe-b69f5e3d3d91",
   "metadata": {},
   "source": [
    "Let’s take a look at the percentage of cells set to “unknown” after our filtering:"
   ]
  },
  {
   "cell_type": "code",
   "execution_count": 33,
   "id": "cf04974e-88b8-4c61-af77-35bef7c156ee",
   "metadata": {},
   "outputs": [
    {
     "name": "stdout",
     "output_type": "stream",
     "text": [
      "Percentage of unknown per level, with uncertainty_threshold=0.2:\n",
      "Level 1: 2.28%\n",
      "Level 2: 7.13%\n",
      "Level 3: 18.08%\n",
      "Level 4: 33.35%\n",
      "Level 5: 34.61%\n"
     ]
    }
   ],
   "source": [
    "print(f'Percentage of unknown per level, with uncertainty_threshold={uncertainty_threshold}:')\n",
    "for level in range(1,6):\n",
    "    print(f\"Level {level}: {np.round(sum(combined_emb.obs[f'Level_{level}_transfered_label'] =='Unknown')/adata_query.n_obs*100,2)}%\")\n",
    "\n"
   ]
  },
  {
   "cell_type": "markdown",
   "id": "a303f893-5f3d-4c5d-b498-a3b564886e68",
   "metadata": {},
   "source": [
    "### UMAP\n",
    "\n",
    "The UMAP plots help us perform downstream analysis, like clustering, label transfer, integration and more.\n",
    "\n",
    "#### UMAP Query vs. Reference"
   ]
  },
  {
   "cell_type": "code",
   "execution_count": 39,
   "id": "3e879fc9-bcae-47c4-93a5-30cf4ff3d562",
   "metadata": {},
   "outputs": [],
   "source": [
    "# We save the combined embeddings (optional).\n",
    "combined_emb.write_h5ad(f'{backup_dir}/surgeries/combined_{name}.h5ad')"
   ]
  },
  {
   "cell_type": "code",
   "execution_count": null,
   "id": "002c8b96-94e8-4bb3-b9f1-ca4b9e54f762",
   "metadata": {},
   "outputs": [],
   "source": [
    "combined_emb = sc.read_h5ad(f'{backup_dir}/surgeries/combined_{name}.h5ad')"
   ]
  },
  {
   "cell_type": "code",
   "execution_count": 40,
   "id": "121f2077-a70d-471d-8ecc-93c654d9a9df",
   "metadata": {
    "tags": []
   },
   "outputs": [
    {
     "name": "stderr",
     "output_type": "stream",
     "text": [
      "/usr/local/lib/python3.11/site-packages/umap/distances.py:1063: NumbaDeprecationWarning: The 'nopython' keyword argument was not supplied to the 'numba.jit' decorator. The implicit default value for this argument is currently False, but it will be changed to True in Numba 0.59.0. See https://numba.readthedocs.io/en/stable/reference/deprecation.html#deprecation-of-object-mode-fall-back-behaviour-when-using-jit for details.\n",
      "  @numba.jit()\n",
      "/usr/local/lib/python3.11/site-packages/umap/distances.py:1071: NumbaDeprecationWarning: The 'nopython' keyword argument was not supplied to the 'numba.jit' decorator. The implicit default value for this argument is currently False, but it will be changed to True in Numba 0.59.0. See https://numba.readthedocs.io/en/stable/reference/deprecation.html#deprecation-of-object-mode-fall-back-behaviour-when-using-jit for details.\n",
      "  @numba.jit()\n",
      "/usr/local/lib/python3.11/site-packages/umap/distances.py:1086: NumbaDeprecationWarning: The 'nopython' keyword argument was not supplied to the 'numba.jit' decorator. The implicit default value for this argument is currently False, but it will be changed to True in Numba 0.59.0. See https://numba.readthedocs.io/en/stable/reference/deprecation.html#deprecation-of-object-mode-fall-back-behaviour-when-using-jit for details.\n",
      "  @numba.jit()\n",
      "/usr/local/lib/python3.11/site-packages/umap/umap_.py:660: NumbaDeprecationWarning: The 'nopython' keyword argument was not supplied to the 'numba.jit' decorator. The implicit default value for this argument is currently False, but it will be changed to True in Numba 0.59.0. See https://numba.readthedocs.io/en/stable/reference/deprecation.html#deprecation-of-object-mode-fall-back-behaviour-when-using-jit for details.\n",
      "  @numba.jit()\n",
      "IOStream.flush timed out\n",
      "IOStream.flush timed out\n",
      "IOStream.flush timed out\n",
      "IOStream.flush timed out\n"
     ]
    }
   ],
   "source": [
    "sc.pp.neighbors(combined_emb, n_neighbors=30)\n",
    "sc.tl.umap(combined_emb)"
   ]
  },
  {
   "cell_type": "code",
   "execution_count": 41,
   "id": "9e9c9b3c-afd7-4a84-a2d2-0df44e71c18d",
   "metadata": {},
   "outputs": [],
   "source": [
    "# We save the combined embeddings (optional).\n",
    "combined_emb.write_h5ad(f'{backup_dir}/surgeries/combined_{name}.h5ad')"
   ]
  },
  {
   "cell_type": "code",
   "execution_count": null,
   "id": "65a7de95-3fc4-4ee6-ac23-2c9f90094ff0",
   "metadata": {},
   "outputs": [],
   "source": [
    "combined_emb = sc.read_h5ad(f'{backup_dir}/surgeries/combined_{name}.h5ad')"
   ]
  },
  {
   "cell_type": "code",
   "execution_count": 42,
   "id": "3c7d89f1-755e-4f88-a82d-7950467edc0f",
   "metadata": {},
   "outputs": [
    {
     "name": "stderr",
     "output_type": "stream",
     "text": [
      "/usr/local/lib/python3.11/site-packages/scanpy/plotting/_tools/scatterplots.py:392: UserWarning: No data for colormapping provided via 'c'. Parameters 'cmap' will be ignored\n",
      "  cax = scatter(\n"
     ]
    },
    {
     "data": {
      "image/png": "[encoded data removed]",
      "text/plain": [
       "<Figure size 320x320 with 1 Axes>"
      ]
     },
     "metadata": {
      "image/png": {
       "height": 277,
       "width": 338
      }
     },
     "output_type": "display_data"
    }
   ],
   "source": [
    "sc.pl.umap(\n",
    "        combined_emb,\n",
    "        color='ref_or_query',\n",
    "        frameon=False,\n",
    "        wspace=0.6\n",
    "        )"
   ]
  },
  {
   "cell_type": "markdown",
   "id": "6ea394f8-e32a-4f1a-8761-7185043e7e8e",
   "metadata": {},
   "source": [
    "#### UMAP Uncertainties\n",
    "\n",
    "Here we show label transfer uncertainties per level. Regions with high uncertainty can highlight interesting cell types/states, not present in the reference. Note that uncertainties will get higher, the more detailed we go:"
   ]
  },
  {
   "cell_type": "code",
   "execution_count": 43,
   "id": "83449a7a-4771-4a48-8e2f-46b5984c123f",
   "metadata": {},
   "outputs": [
    {
     "ename": "KeyError",
     "evalue": "'Could not find key Level_1_transfer_uncert in .var_names or .obs.columns.'",
     "output_type": "error",
     "traceback": [
      "\u001b[0;31m---------------------------------------------------------------------------\u001b[0m",
      "\u001b[0;31mKeyError\u001b[0m                                  Traceback (most recent call last)",
      "Cell \u001b[0;32mIn[43], line 1\u001b[0m\n\u001b[0;32m----> 1\u001b[0m \u001b[43msc\u001b[49m\u001b[38;5;241;43m.\u001b[39;49m\u001b[43mpl\u001b[49m\u001b[38;5;241;43m.\u001b[39;49m\u001b[43mumap\u001b[49m\u001b[43m(\u001b[49m\n\u001b[1;32m      2\u001b[0m \u001b[43m    \u001b[49m\u001b[43mcombined_emb\u001b[49m\u001b[43m,\u001b[49m\n\u001b[1;32m      3\u001b[0m \u001b[43m    \u001b[49m\u001b[43mcolor\u001b[49m\u001b[38;5;241;43m=\u001b[39;49m\u001b[43m[\u001b[49m\u001b[38;5;124;43mf\u001b[39;49m\u001b[38;5;124;43m'\u001b[39;49m\u001b[38;5;124;43mLevel_\u001b[39;49m\u001b[38;5;132;43;01m{\u001b[39;49;00m\u001b[43mlev\u001b[49m\u001b[38;5;132;43;01m}\u001b[39;49;00m\u001b[38;5;124;43m_transfer_uncert\u001b[39;49m\u001b[38;5;124;43m'\u001b[39;49m\u001b[43m \u001b[49m\u001b[38;5;28;43;01mfor\u001b[39;49;00m\u001b[43m \u001b[49m\u001b[43mlev\u001b[49m\u001b[43m \u001b[49m\u001b[38;5;129;43;01min\u001b[39;49;00m\u001b[43m \u001b[49m\u001b[38;5;28;43mrange\u001b[39;49m\u001b[43m(\u001b[49m\u001b[38;5;241;43m1\u001b[39;49m\u001b[43m,\u001b[49m\u001b[38;5;241;43m6\u001b[39;49m\u001b[43m)\u001b[49m\u001b[43m]\u001b[49m\u001b[43m,\u001b[49m\n\u001b[1;32m      4\u001b[0m \u001b[43m    \u001b[49m\u001b[43mncols\u001b[49m\u001b[38;5;241;43m=\u001b[39;49m\u001b[38;5;241;43m3\u001b[39;49m\u001b[43m,\u001b[49m\n\u001b[1;32m      5\u001b[0m \u001b[43m    \u001b[49m\u001b[43mframeon\u001b[49m\u001b[38;5;241;43m=\u001b[39;49m\u001b[38;5;28;43;01mFalse\u001b[39;49;00m\u001b[43m,\u001b[49m\n\u001b[1;32m      6\u001b[0m \u001b[43m    \u001b[49m\u001b[43m)\u001b[49m\n",
      "File \u001b[0;32m/usr/local/lib/python3.11/site-packages/scanpy/plotting/_tools/scatterplots.py:669\u001b[0m, in \u001b[0;36mumap\u001b[0;34m(adata, **kwargs)\u001b[0m\n\u001b[1;32m    610\u001b[0m \u001b[38;5;129m@_wraps_plot_scatter\u001b[39m\n\u001b[1;32m    611\u001b[0m \u001b[38;5;129m@_doc_params\u001b[39m(\n\u001b[1;32m    612\u001b[0m     adata_color_etc\u001b[38;5;241m=\u001b[39mdoc_adata_color_etc,\n\u001b[0;32m   (...)\u001b[0m\n\u001b[1;32m    616\u001b[0m )\n\u001b[1;32m    617\u001b[0m \u001b[38;5;28;01mdef\u001b[39;00m \u001b[38;5;21mumap\u001b[39m(adata, \u001b[38;5;241m*\u001b[39m\u001b[38;5;241m*\u001b[39mkwargs) \u001b[38;5;241m-\u001b[39m\u001b[38;5;241m>\u001b[39m Union[Axes, List[Axes], \u001b[38;5;28;01mNone\u001b[39;00m]:\n\u001b[1;32m    618\u001b[0m \u001b[38;5;250m    \u001b[39m\u001b[38;5;124;03m\"\"\"\\\u001b[39;00m\n\u001b[1;32m    619\u001b[0m \u001b[38;5;124;03m    Scatter plot in UMAP basis.\u001b[39;00m\n\u001b[1;32m    620\u001b[0m \n\u001b[0;32m   (...)\u001b[0m\n\u001b[1;32m    667\u001b[0m \u001b[38;5;124;03m    tl.umap\u001b[39;00m\n\u001b[1;32m    668\u001b[0m \u001b[38;5;124;03m    \"\"\"\u001b[39;00m\n\u001b[0;32m--> 669\u001b[0m     \u001b[38;5;28;01mreturn\u001b[39;00m \u001b[43membedding\u001b[49m\u001b[43m(\u001b[49m\u001b[43madata\u001b[49m\u001b[43m,\u001b[49m\u001b[43m \u001b[49m\u001b[38;5;124;43m'\u001b[39;49m\u001b[38;5;124;43mumap\u001b[39;49m\u001b[38;5;124;43m'\u001b[39;49m\u001b[43m,\u001b[49m\u001b[43m \u001b[49m\u001b[38;5;241;43m*\u001b[39;49m\u001b[38;5;241;43m*\u001b[39;49m\u001b[43mkwargs\u001b[49m\u001b[43m)\u001b[49m\n",
      "File \u001b[0;32m/usr/local/lib/python3.11/site-packages/scanpy/plotting/_tools/scatterplots.py:257\u001b[0m, in \u001b[0;36membedding\u001b[0;34m(adata, basis, color, gene_symbols, use_raw, sort_order, edges, edges_width, edges_color, neighbors_key, arrows, arrows_kwds, groups, components, dimensions, layer, projection, scale_factor, color_map, cmap, palette, na_color, na_in_legend, size, frameon, legend_fontsize, legend_fontweight, legend_loc, legend_fontoutline, colorbar_loc, vmax, vmin, vcenter, norm, add_outline, outline_width, outline_color, ncols, hspace, wspace, title, show, save, ax, return_fig, **kwargs)\u001b[0m\n\u001b[1;32m    250\u001b[0m \u001b[38;5;66;03m# use itertools.product to make a plot for each color and for each component\u001b[39;00m\n\u001b[1;32m    251\u001b[0m \u001b[38;5;66;03m# For example if color=[gene1, gene2] and components=['1,2, '2,3'].\u001b[39;00m\n\u001b[1;32m    252\u001b[0m \u001b[38;5;66;03m# The plots are: [\u001b[39;00m\n\u001b[1;32m    253\u001b[0m \u001b[38;5;66;03m#     color=gene1, components=[1,2], color=gene1, components=[2,3],\u001b[39;00m\n\u001b[1;32m    254\u001b[0m \u001b[38;5;66;03m#     color=gene2, components = [1, 2], color=gene2, components=[2,3],\u001b[39;00m\n\u001b[1;32m    255\u001b[0m \u001b[38;5;66;03m# ]\u001b[39;00m\n\u001b[1;32m    256\u001b[0m \u001b[38;5;28;01mfor\u001b[39;00m count, (value_to_plot, dims) \u001b[38;5;129;01min\u001b[39;00m \u001b[38;5;28menumerate\u001b[39m(\u001b[38;5;28mzip\u001b[39m(color, dimensions)):\n\u001b[0;32m--> 257\u001b[0m     color_source_vector \u001b[38;5;241m=\u001b[39m \u001b[43m_get_color_source_vector\u001b[49m\u001b[43m(\u001b[49m\n\u001b[1;32m    258\u001b[0m \u001b[43m        \u001b[49m\u001b[43madata\u001b[49m\u001b[43m,\u001b[49m\n\u001b[1;32m    259\u001b[0m \u001b[43m        \u001b[49m\u001b[43mvalue_to_plot\u001b[49m\u001b[43m,\u001b[49m\n\u001b[1;32m    260\u001b[0m \u001b[43m        \u001b[49m\u001b[43mlayer\u001b[49m\u001b[38;5;241;43m=\u001b[39;49m\u001b[43mlayer\u001b[49m\u001b[43m,\u001b[49m\n\u001b[1;32m    261\u001b[0m \u001b[43m        \u001b[49m\u001b[43muse_raw\u001b[49m\u001b[38;5;241;43m=\u001b[39;49m\u001b[43muse_raw\u001b[49m\u001b[43m,\u001b[49m\n\u001b[1;32m    262\u001b[0m \u001b[43m        \u001b[49m\u001b[43mgene_symbols\u001b[49m\u001b[38;5;241;43m=\u001b[39;49m\u001b[43mgene_symbols\u001b[49m\u001b[43m,\u001b[49m\n\u001b[1;32m    263\u001b[0m \u001b[43m        \u001b[49m\u001b[43mgroups\u001b[49m\u001b[38;5;241;43m=\u001b[39;49m\u001b[43mgroups\u001b[49m\u001b[43m,\u001b[49m\n\u001b[1;32m    264\u001b[0m \u001b[43m    \u001b[49m\u001b[43m)\u001b[49m\n\u001b[1;32m    265\u001b[0m     color_vector, categorical \u001b[38;5;241m=\u001b[39m _color_vector(\n\u001b[1;32m    266\u001b[0m         adata,\n\u001b[1;32m    267\u001b[0m         value_to_plot,\n\u001b[0;32m   (...)\u001b[0m\n\u001b[1;32m    270\u001b[0m         na_color\u001b[38;5;241m=\u001b[39mna_color,\n\u001b[1;32m    271\u001b[0m     )\n\u001b[1;32m    273\u001b[0m     \u001b[38;5;66;03m# Order points\u001b[39;00m\n",
      "File \u001b[0;32m/usr/local/lib/python3.11/site-packages/scanpy/plotting/_tools/scatterplots.py:1169\u001b[0m, in \u001b[0;36m_get_color_source_vector\u001b[0;34m(adata, value_to_plot, use_raw, gene_symbols, layer, groups)\u001b[0m\n\u001b[1;32m   1167\u001b[0m     values \u001b[38;5;241m=\u001b[39m adata\u001b[38;5;241m.\u001b[39mraw\u001b[38;5;241m.\u001b[39mobs_vector(value_to_plot)\n\u001b[1;32m   1168\u001b[0m \u001b[38;5;28;01melse\u001b[39;00m:\n\u001b[0;32m-> 1169\u001b[0m     values \u001b[38;5;241m=\u001b[39m \u001b[43madata\u001b[49m\u001b[38;5;241;43m.\u001b[39;49m\u001b[43mobs_vector\u001b[49m\u001b[43m(\u001b[49m\u001b[43mvalue_to_plot\u001b[49m\u001b[43m,\u001b[49m\u001b[43m \u001b[49m\u001b[43mlayer\u001b[49m\u001b[38;5;241;43m=\u001b[39;49m\u001b[43mlayer\u001b[49m\u001b[43m)\u001b[49m\n\u001b[1;32m   1170\u001b[0m \u001b[38;5;28;01mif\u001b[39;00m groups \u001b[38;5;129;01mand\u001b[39;00m is_categorical_dtype(values):\n\u001b[1;32m   1171\u001b[0m     values \u001b[38;5;241m=\u001b[39m values\u001b[38;5;241m.\u001b[39mremove_categories(values\u001b[38;5;241m.\u001b[39mcategories\u001b[38;5;241m.\u001b[39mdifference(groups))\n",
      "File \u001b[0;32m/usr/local/lib/python3.11/site-packages/anndata/_core/anndata.py:1383\u001b[0m, in \u001b[0;36mAnnData.obs_vector\u001b[0;34m(self, k, layer)\u001b[0m\n\u001b[1;32m   1377\u001b[0m         warnings\u001b[38;5;241m.\u001b[39mwarn(\n\u001b[1;32m   1378\u001b[0m             \u001b[38;5;124m\"\u001b[39m\u001b[38;5;124mIn a future version of AnnData, access to `.X` by passing\u001b[39m\u001b[38;5;124m\"\u001b[39m\n\u001b[1;32m   1379\u001b[0m             \u001b[38;5;124m\"\u001b[39m\u001b[38;5;124m `layer=\u001b[39m\u001b[38;5;124m'\u001b[39m\u001b[38;5;124mX\u001b[39m\u001b[38;5;124m'\u001b[39m\u001b[38;5;124m` will be removed. Instead pass `layer=None`.\u001b[39m\u001b[38;5;124m\"\u001b[39m,\n\u001b[1;32m   1380\u001b[0m             \u001b[38;5;167;01mFutureWarning\u001b[39;00m,\n\u001b[1;32m   1381\u001b[0m         )\n\u001b[1;32m   1382\u001b[0m         layer \u001b[38;5;241m=\u001b[39m \u001b[38;5;28;01mNone\u001b[39;00m\n\u001b[0;32m-> 1383\u001b[0m \u001b[38;5;28;01mreturn\u001b[39;00m \u001b[43mget_vector\u001b[49m\u001b[43m(\u001b[49m\u001b[38;5;28;43mself\u001b[39;49m\u001b[43m,\u001b[49m\u001b[43m \u001b[49m\u001b[43mk\u001b[49m\u001b[43m,\u001b[49m\u001b[43m \u001b[49m\u001b[38;5;124;43m\"\u001b[39;49m\u001b[38;5;124;43mobs\u001b[39;49m\u001b[38;5;124;43m\"\u001b[39;49m\u001b[43m,\u001b[49m\u001b[43m \u001b[49m\u001b[38;5;124;43m\"\u001b[39;49m\u001b[38;5;124;43mvar\u001b[39;49m\u001b[38;5;124;43m\"\u001b[39;49m\u001b[43m,\u001b[49m\u001b[43m \u001b[49m\u001b[43mlayer\u001b[49m\u001b[38;5;241;43m=\u001b[39;49m\u001b[43mlayer\u001b[49m\u001b[43m)\u001b[49m\n",
      "File \u001b[0;32m/usr/local/lib/python3.11/site-packages/anndata/_core/index.py:191\u001b[0m, in \u001b[0;36mget_vector\u001b[0;34m(adata, k, coldim, idxdim, layer)\u001b[0m\n\u001b[1;32m    187\u001b[0m     \u001b[38;5;28;01mraise\u001b[39;00m \u001b[38;5;167;01mValueError\u001b[39;00m(\n\u001b[1;32m    188\u001b[0m         \u001b[38;5;124mf\u001b[39m\u001b[38;5;124m\"\u001b[39m\u001b[38;5;124mKey \u001b[39m\u001b[38;5;132;01m{\u001b[39;00mk\u001b[38;5;132;01m}\u001b[39;00m\u001b[38;5;124m could be found in both .\u001b[39m\u001b[38;5;132;01m{\u001b[39;00midxdim\u001b[38;5;132;01m}\u001b[39;00m\u001b[38;5;124m_names and .\u001b[39m\u001b[38;5;132;01m{\u001b[39;00mcoldim\u001b[38;5;132;01m}\u001b[39;00m\u001b[38;5;124m.columns\u001b[39m\u001b[38;5;124m\"\u001b[39m\n\u001b[1;32m    189\u001b[0m     )\n\u001b[1;32m    190\u001b[0m \u001b[38;5;28;01melif\u001b[39;00m (in_col \u001b[38;5;241m+\u001b[39m in_idx) \u001b[38;5;241m==\u001b[39m \u001b[38;5;241m0\u001b[39m:\n\u001b[0;32m--> 191\u001b[0m     \u001b[38;5;28;01mraise\u001b[39;00m \u001b[38;5;167;01mKeyError\u001b[39;00m(\n\u001b[1;32m    192\u001b[0m         \u001b[38;5;124mf\u001b[39m\u001b[38;5;124m\"\u001b[39m\u001b[38;5;124mCould not find key \u001b[39m\u001b[38;5;132;01m{\u001b[39;00mk\u001b[38;5;132;01m}\u001b[39;00m\u001b[38;5;124m in .\u001b[39m\u001b[38;5;132;01m{\u001b[39;00midxdim\u001b[38;5;132;01m}\u001b[39;00m\u001b[38;5;124m_names or .\u001b[39m\u001b[38;5;132;01m{\u001b[39;00mcoldim\u001b[38;5;132;01m}\u001b[39;00m\u001b[38;5;124m.columns.\u001b[39m\u001b[38;5;124m\"\u001b[39m\n\u001b[1;32m    193\u001b[0m     )\n\u001b[1;32m    194\u001b[0m \u001b[38;5;28;01melif\u001b[39;00m in_col:\n\u001b[1;32m    195\u001b[0m     \u001b[38;5;28;01mreturn\u001b[39;00m \u001b[38;5;28mgetattr\u001b[39m(adata, coldim)[k]\u001b[38;5;241m.\u001b[39mvalues\n",
      "\u001b[0;31mKeyError\u001b[0m: 'Could not find key Level_1_transfer_uncert in .var_names or .obs.columns.'"
     ]
    },
    {
     "data": {
      "text/plain": [
       "<Figure size 1159.2x640 with 0 Axes>"
      ]
     },
     "metadata": {},
     "output_type": "display_data"
    }
   ],
   "source": [
    "sc.pl.umap(\n",
    "    combined_emb,\n",
    "    color=[f'Level_{lev}_transfer_uncert' for lev in range(1,6)],\n",
    "    ncols=3,\n",
    "    frameon=False,\n",
    "    )"
   ]
  },
  {
   "cell_type": "code",
   "execution_count": null,
   "id": "32cf9ed9-f4ec-45c4-976e-2bac9f98ccaa",
   "metadata": {},
   "outputs": [],
   "source": [
    "sc.pl.umap(\n",
    "        combined_emb,\n",
    "        color=[f\"Level_{lev}_transfered_label\" for lev in range(1,6)],\n",
    "        na_color=\"grey\",\n",
    "        ncols=1,\n",
    "        size=0.5\n",
    ")"
   ]
  },
  {
   "cell_type": "code",
   "execution_count": null,
   "id": "1aee533b-c643-423f-9a3d-7c9137573b3d",
   "metadata": {},
   "outputs": [],
   "source": []
  }
 ],
 "metadata": {
  "kernelspec": {
   "display_name": "Python 3 (ipykernel)",
   "language": "python",
   "name": "python3"
  },
  "language_info": {
   "codemirror_mode": {
    "name": "ipython",
    "version": 3
   },
   "file_extension": ".py",
   "mimetype": "text/x-python",
   "name": "python",
   "nbconvert_exporter": "python",
   "pygments_lexer": "ipython3",
   "version": "3.11.4"
  }
 },
 "nbformat": 4,
 "nbformat_minor": 5
}
