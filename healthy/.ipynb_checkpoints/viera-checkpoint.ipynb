{
 "cells": [
  {
   "cell_type": "code",
   "execution_count": 1,
   "id": "cfbda55a-3fa9-47dd-91fa-c9111e1aa748",
   "metadata": {},
   "outputs": [],
   "source": [
    "import anndata\n",
    "import scanpy as sc\n",
    "from pandas import read_csv"
   ]
  },
  {
   "cell_type": "code",
   "execution_count": 2,
   "id": "0a2c847d-8b5a-4e9f-8641-97a9616d65e1",
   "metadata": {},
   "outputs": [],
   "source": [
    "filters = read_csv('../samplesheet_scrnaseq_preprocessing.csv')\n",
    "\n",
    "dataset_str = 'Travaglini_Krasnow_2020_Lung_10x'\n",
    "\n",
    "id_row = filters[filters.id == dataset_str]\n",
    "file_str = id_row.input_adata.iloc[0].split('/')[-1]"
   ]
  },
  {
   "cell_type": "code",
   "execution_count": 32,
   "id": "6b933b28-645e-457b-a417-287192e1b6d7",
   "metadata": {},
   "outputs": [
    {
     "data": {
      "text/html": [
       "<div>\n",
       "<style scoped>\n",
       "    .dataframe tbody tr th:only-of-type {\n",
       "        vertical-align: middle;\n",
       "    }\n",
       "\n",
       "    .dataframe tbody tr th {\n",
       "        vertical-align: top;\n",
       "    }\n",
       "\n",
       "    .dataframe thead th {\n",
       "        text-align: right;\n",
       "    }\n",
       "</style>\n",
       "<table border=\"1\" class=\"dataframe\">\n",
       "  <thead>\n",
       "    <tr style=\"text-align: right;\">\n",
       "      <th></th>\n",
       "      <th>id</th>\n",
       "      <th>input_adata</th>\n",
       "      <th>min_counts</th>\n",
       "      <th>max_counts</th>\n",
       "      <th>min_genes</th>\n",
       "      <th>max_genes</th>\n",
       "      <th>max_pct_mito</th>\n",
       "      <th>batch_key</th>\n",
       "      <th>run_solo</th>\n",
       "      <th>no_cancer</th>\n",
       "      <th>chem</th>\n",
       "      <th>assembly</th>\n",
       "    </tr>\n",
       "  </thead>\n",
       "  <tbody>\n",
       "    <tr>\n",
       "      <th>0</th>\n",
       "      <td>Adams_Kaminski_2020_COPD</td>\n",
       "      <td>data/12_input_adatas/adams_kaminski_2020_copd....</td>\n",
       "      <td>1000</td>\n",
       "      <td>35000</td>\n",
       "      <td>500</td>\n",
       "      <td>10000</td>\n",
       "      <td>20</td>\n",
       "      <td>sample</td>\n",
       "      <td>True</td>\n",
       "      <td>True</td>\n",
       "      <td></td>\n",
       "      <td></td>\n",
       "    </tr>\n",
       "    <tr>\n",
       "      <th>1</th>\n",
       "      <td>Chen_Zhang_2020_NSCLC</td>\n",
       "      <td>data/12_input_adatas/Chen_Zhang_2020_NSCLC.h5ad</td>\n",
       "      <td>600</td>\n",
       "      <td>30000</td>\n",
       "      <td>250</td>\n",
       "      <td>10000</td>\n",
       "      <td>20</td>\n",
       "      <td>sample</td>\n",
       "      <td>True</td>\n",
       "      <td>False</td>\n",
       "      <td>10x-3'-v2</td>\n",
       "      <td>GRCh8</td>\n",
       "    </tr>\n",
       "    <tr>\n",
       "      <th>2</th>\n",
       "      <td>Goveia_Carmeliet_2020_NSCLC</td>\n",
       "      <td>data/12_input_adatas/goveia_carmeliet_2020_nsc...</td>\n",
       "      <td>600</td>\n",
       "      <td>30000</td>\n",
       "      <td>250</td>\n",
       "      <td>10000</td>\n",
       "      <td>20</td>\n",
       "      <td>sample</td>\n",
       "      <td>True</td>\n",
       "      <td>False</td>\n",
       "      <td>10x-3'-v2</td>\n",
       "      <td>GRCh8</td>\n",
       "    </tr>\n",
       "    <tr>\n",
       "      <th>3</th>\n",
       "      <td>Guo_Zhang_2018_NSCLC</td>\n",
       "      <td>data/12_input_adatas/guo_zhang_2018_nsclc.h5ad</td>\n",
       "      <td>20000</td>\n",
       "      <td>3000000</td>\n",
       "      <td>1000</td>\n",
       "      <td>20000</td>\n",
       "      <td>20</td>\n",
       "      <td>sample</td>\n",
       "      <td>False</td>\n",
       "      <td>True</td>\n",
       "      <td>SmartSeq2-OligodT</td>\n",
       "      <td>hg19</td>\n",
       "    </tr>\n",
       "    <tr>\n",
       "      <th>4</th>\n",
       "      <td>Habermann_Kropski_2020_pulmonary-fibrosis</td>\n",
       "      <td>data/12_input_adatas/Habermann_Kropski_2020_pu...</td>\n",
       "      <td>600</td>\n",
       "      <td>30000</td>\n",
       "      <td>200</td>\n",
       "      <td>10000</td>\n",
       "      <td>20</td>\n",
       "      <td>sample</td>\n",
       "      <td>True</td>\n",
       "      <td>True</td>\n",
       "      <td></td>\n",
       "      <td></td>\n",
       "    </tr>\n",
       "    <tr>\n",
       "      <th>5</th>\n",
       "      <td>Kim_Lee_2020_LUAD</td>\n",
       "      <td>data/12_input_adatas/Kim_Lee_2020_LUAD.h5ad</td>\n",
       "      <td>1000</td>\n",
       "      <td>35000</td>\n",
       "      <td>300</td>\n",
       "      <td>10000</td>\n",
       "      <td>20</td>\n",
       "      <td>sample</td>\n",
       "      <td>True</td>\n",
       "      <td>False</td>\n",
       "      <td>10x-3'-v2</td>\n",
       "      <td>GRCh8</td>\n",
       "    </tr>\n",
       "    <tr>\n",
       "      <th>6</th>\n",
       "      <td>He_Fan_2021_LUAD</td>\n",
       "      <td>data/12_input_adatas/He_Fan_2021_LUAD.h5ad</td>\n",
       "      <td>600</td>\n",
       "      <td>30000</td>\n",
       "      <td>250</td>\n",
       "      <td>10000</td>\n",
       "      <td>20</td>\n",
       "      <td>sample</td>\n",
       "      <td>True</td>\n",
       "      <td>False</td>\n",
       "      <td>10x-3'-v2</td>\n",
       "      <td>GRCh8?</td>\n",
       "    </tr>\n",
       "    <tr>\n",
       "      <th>7</th>\n",
       "      <td>Lambrechts_2018_LUAD_6149v1</td>\n",
       "      <td>data/12_input_adatas/lambrechts_2018_luad_6149...</td>\n",
       "      <td>600</td>\n",
       "      <td>30000</td>\n",
       "      <td>200</td>\n",
       "      <td>10000</td>\n",
       "      <td>15</td>\n",
       "      <td>sample</td>\n",
       "      <td>True</td>\n",
       "      <td>False</td>\n",
       "      <td>10x-3'-v1</td>\n",
       "      <td>hg19</td>\n",
       "    </tr>\n",
       "    <tr>\n",
       "      <th>8</th>\n",
       "      <td>Lambrechts_2018_LUAD_6149v2</td>\n",
       "      <td>data/12_input_adatas/lambrechts_2018_luad_6149...</td>\n",
       "      <td>600</td>\n",
       "      <td>30000</td>\n",
       "      <td>250</td>\n",
       "      <td>10000</td>\n",
       "      <td>20</td>\n",
       "      <td>sample</td>\n",
       "      <td>True</td>\n",
       "      <td>False</td>\n",
       "      <td>10x-3'-v2</td>\n",
       "      <td>NaN</td>\n",
       "    </tr>\n",
       "    <tr>\n",
       "      <th>9</th>\n",
       "      <td>Lambrechts_2018_LUAD_6653</td>\n",
       "      <td>data/12_input_adatas/lambrechts_2018_luad_6653...</td>\n",
       "      <td>1200</td>\n",
       "      <td>40000</td>\n",
       "      <td>250</td>\n",
       "      <td>10000</td>\n",
       "      <td>20</td>\n",
       "      <td>sample</td>\n",
       "      <td>True</td>\n",
       "      <td>False</td>\n",
       "      <td>NaN</td>\n",
       "      <td>NaN</td>\n",
       "    </tr>\n",
       "    <tr>\n",
       "      <th>10</th>\n",
       "      <td>Laughney_Massague_2020_NSCLC</td>\n",
       "      <td>data/12_input_adatas/laughney_massague_2020_ns...</td>\n",
       "      <td>1800</td>\n",
       "      <td>40000</td>\n",
       "      <td>500</td>\n",
       "      <td>10000</td>\n",
       "      <td>20</td>\n",
       "      <td>sample</td>\n",
       "      <td>True</td>\n",
       "      <td>False</td>\n",
       "      <td>10x-3'-v2</td>\n",
       "      <td>GRCh8</td>\n",
       "    </tr>\n",
       "    <tr>\n",
       "      <th>11</th>\n",
       "      <td>Madissoon_Meyer_2020_pulmonary-fibrosis</td>\n",
       "      <td>data/12_input_adatas/madissoon19_lung.processe...</td>\n",
       "      <td>600</td>\n",
       "      <td>30000</td>\n",
       "      <td>300</td>\n",
       "      <td>10000</td>\n",
       "      <td>20</td>\n",
       "      <td>sample</td>\n",
       "      <td>True</td>\n",
       "      <td>True</td>\n",
       "      <td>NaN</td>\n",
       "      <td>NaN</td>\n",
       "    </tr>\n",
       "    <tr>\n",
       "      <th>12</th>\n",
       "      <td>Maier_Merad_2020_NSCLC</td>\n",
       "      <td>data/12_input_adatas/maier_merad_2020_nsclc.h5ad</td>\n",
       "      <td>1000</td>\n",
       "      <td>30000</td>\n",
       "      <td>400</td>\n",
       "      <td>10000</td>\n",
       "      <td>15</td>\n",
       "      <td>sample</td>\n",
       "      <td>False</td>\n",
       "      <td>True</td>\n",
       "      <td>NaN</td>\n",
       "      <td>NaN</td>\n",
       "    </tr>\n",
       "    <tr>\n",
       "      <th>13</th>\n",
       "      <td>Maynard_Bivona_2020_NSCLC</td>\n",
       "      <td>data/12_input_adatas/maynard2020.h5ad</td>\n",
       "      <td>20000</td>\n",
       "      <td>20000000</td>\n",
       "      <td>600</td>\n",
       "      <td>20000</td>\n",
       "      <td>30</td>\n",
       "      <td>sample</td>\n",
       "      <td>False</td>\n",
       "      <td>False</td>\n",
       "      <td>NaN</td>\n",
       "      <td>NaN</td>\n",
       "    </tr>\n",
       "    <tr>\n",
       "      <th>14</th>\n",
       "      <td>Mayr_Schiller_2020_pulmonary-fibrosis</td>\n",
       "      <td>data/12_input_adatas/munich_cohort_human_datas...</td>\n",
       "      <td>600</td>\n",
       "      <td>30000</td>\n",
       "      <td>250</td>\n",
       "      <td>10000</td>\n",
       "      <td>10</td>\n",
       "      <td>sample</td>\n",
       "      <td>True</td>\n",
       "      <td>True</td>\n",
       "      <td>NaN</td>\n",
       "      <td>NaN</td>\n",
       "    </tr>\n",
       "    <tr>\n",
       "      <th>15</th>\n",
       "      <td>Reyfman_Misharin_2018_pulmonary-fibrosis</td>\n",
       "      <td>data/12_input_adatas/Reyfman_Misharin_2018_pul...</td>\n",
       "      <td>1000</td>\n",
       "      <td>30000</td>\n",
       "      <td>250</td>\n",
       "      <td>10000</td>\n",
       "      <td>20</td>\n",
       "      <td>sample</td>\n",
       "      <td>True</td>\n",
       "      <td>True</td>\n",
       "      <td>NaN</td>\n",
       "      <td>NaN</td>\n",
       "    </tr>\n",
       "    <tr>\n",
       "      <th>16</th>\n",
       "      <td>Travaglini_Krasnow_2020_Lung_10x</td>\n",
       "      <td>data/12_input_adatas/Travaglini_Krasnow_2020_L...</td>\n",
       "      <td>1000</td>\n",
       "      <td>30000</td>\n",
       "      <td>500</td>\n",
       "      <td>10000</td>\n",
       "      <td>0</td>\n",
       "      <td>sample</td>\n",
       "      <td>True</td>\n",
       "      <td>True</td>\n",
       "      <td>NaN</td>\n",
       "      <td>NaN</td>\n",
       "    </tr>\n",
       "    <tr>\n",
       "      <th>17</th>\n",
       "      <td>Travaglini_Krasnow_2020_Lung_SS2</td>\n",
       "      <td>data/12_input_adatas/Travaglini_Krasnow_2020_L...</td>\n",
       "      <td>20000</td>\n",
       "      <td>6000000</td>\n",
       "      <td>600</td>\n",
       "      <td>20000</td>\n",
       "      <td>30</td>\n",
       "      <td>sample</td>\n",
       "      <td>False</td>\n",
       "      <td>True</td>\n",
       "      <td>NaN</td>\n",
       "      <td>NaN</td>\n",
       "    </tr>\n",
       "    <tr>\n",
       "      <th>18</th>\n",
       "      <td>UKIM-V</td>\n",
       "      <td>data/12_input_adatas/batch1_3patients.h5ad</td>\n",
       "      <td>2000</td>\n",
       "      <td>100000</td>\n",
       "      <td>200</td>\n",
       "      <td>8000</td>\n",
       "      <td>30</td>\n",
       "      <td>sample</td>\n",
       "      <td>True</td>\n",
       "      <td>False</td>\n",
       "      <td>NaN</td>\n",
       "      <td>NaN</td>\n",
       "    </tr>\n",
       "    <tr>\n",
       "      <th>19</th>\n",
       "      <td>Vieira_Teichmann_2019_asthma</td>\n",
       "      <td>data/12_input_adatas/Vieira_Teichmann_2019_ast...</td>\n",
       "      <td>600</td>\n",
       "      <td>30000</td>\n",
       "      <td>200</td>\n",
       "      <td>10000</td>\n",
       "      <td>20</td>\n",
       "      <td>sample</td>\n",
       "      <td>True</td>\n",
       "      <td>True</td>\n",
       "      <td>NaN</td>\n",
       "      <td>NaN</td>\n",
       "    </tr>\n",
       "    <tr>\n",
       "      <th>20</th>\n",
       "      <td>Wu_Zhou_2021_NSCLC</td>\n",
       "      <td>data/12_input_adatas/wu_zhou_2021_nsclc.h5ad</td>\n",
       "      <td>600</td>\n",
       "      <td>30000</td>\n",
       "      <td>300</td>\n",
       "      <td>10000</td>\n",
       "      <td>30</td>\n",
       "      <td>sample</td>\n",
       "      <td>True</td>\n",
       "      <td>False</td>\n",
       "      <td>NaN</td>\n",
       "      <td>NaN</td>\n",
       "    </tr>\n",
       "    <tr>\n",
       "      <th>21</th>\n",
       "      <td>Zilionis_Klein_2019_NSCLC</td>\n",
       "      <td>data/12_input_adatas/zilionis_klein_2019_nsclc...</td>\n",
       "      <td>600</td>\n",
       "      <td>30000</td>\n",
       "      <td>200</td>\n",
       "      <td>10000</td>\n",
       "      <td>20</td>\n",
       "      <td>sample</td>\n",
       "      <td>True</td>\n",
       "      <td>False</td>\n",
       "      <td>NaN</td>\n",
       "      <td>NaN</td>\n",
       "    </tr>\n",
       "  </tbody>\n",
       "</table>\n",
       "</div>"
      ],
      "text/plain": [
       "                                           id  \\\n",
       "0                    Adams_Kaminski_2020_COPD   \n",
       "1                       Chen_Zhang_2020_NSCLC   \n",
       "2                 Goveia_Carmeliet_2020_NSCLC   \n",
       "3                        Guo_Zhang_2018_NSCLC   \n",
       "4   Habermann_Kropski_2020_pulmonary-fibrosis   \n",
       "5                           Kim_Lee_2020_LUAD   \n",
       "6                            He_Fan_2021_LUAD   \n",
       "7                 Lambrechts_2018_LUAD_6149v1   \n",
       "8                 Lambrechts_2018_LUAD_6149v2   \n",
       "9                   Lambrechts_2018_LUAD_6653   \n",
       "10               Laughney_Massague_2020_NSCLC   \n",
       "11    Madissoon_Meyer_2020_pulmonary-fibrosis   \n",
       "12                     Maier_Merad_2020_NSCLC   \n",
       "13                  Maynard_Bivona_2020_NSCLC   \n",
       "14      Mayr_Schiller_2020_pulmonary-fibrosis   \n",
       "15   Reyfman_Misharin_2018_pulmonary-fibrosis   \n",
       "16           Travaglini_Krasnow_2020_Lung_10x   \n",
       "17           Travaglini_Krasnow_2020_Lung_SS2   \n",
       "18                                     UKIM-V   \n",
       "19               Vieira_Teichmann_2019_asthma   \n",
       "20                         Wu_Zhou_2021_NSCLC   \n",
       "21                  Zilionis_Klein_2019_NSCLC   \n",
       "\n",
       "                                          input_adata  min_counts  max_counts  \\\n",
       "0   data/12_input_adatas/adams_kaminski_2020_copd....        1000       35000   \n",
       "1     data/12_input_adatas/Chen_Zhang_2020_NSCLC.h5ad         600       30000   \n",
       "2   data/12_input_adatas/goveia_carmeliet_2020_nsc...         600       30000   \n",
       "3      data/12_input_adatas/guo_zhang_2018_nsclc.h5ad       20000     3000000   \n",
       "4   data/12_input_adatas/Habermann_Kropski_2020_pu...         600       30000   \n",
       "5         data/12_input_adatas/Kim_Lee_2020_LUAD.h5ad        1000       35000   \n",
       "6          data/12_input_adatas/He_Fan_2021_LUAD.h5ad         600       30000   \n",
       "7   data/12_input_adatas/lambrechts_2018_luad_6149...         600       30000   \n",
       "8   data/12_input_adatas/lambrechts_2018_luad_6149...         600       30000   \n",
       "9   data/12_input_adatas/lambrechts_2018_luad_6653...        1200       40000   \n",
       "10  data/12_input_adatas/laughney_massague_2020_ns...        1800       40000   \n",
       "11  data/12_input_adatas/madissoon19_lung.processe...         600       30000   \n",
       "12   data/12_input_adatas/maier_merad_2020_nsclc.h5ad        1000       30000   \n",
       "13              data/12_input_adatas/maynard2020.h5ad       20000    20000000   \n",
       "14  data/12_input_adatas/munich_cohort_human_datas...         600       30000   \n",
       "15  data/12_input_adatas/Reyfman_Misharin_2018_pul...        1000       30000   \n",
       "16  data/12_input_adatas/Travaglini_Krasnow_2020_L...        1000       30000   \n",
       "17  data/12_input_adatas/Travaglini_Krasnow_2020_L...       20000     6000000   \n",
       "18         data/12_input_adatas/batch1_3patients.h5ad        2000      100000   \n",
       "19  data/12_input_adatas/Vieira_Teichmann_2019_ast...         600       30000   \n",
       "20       data/12_input_adatas/wu_zhou_2021_nsclc.h5ad         600       30000   \n",
       "21  data/12_input_adatas/zilionis_klein_2019_nsclc...         600       30000   \n",
       "\n",
       "    min_genes  max_genes  max_pct_mito batch_key  run_solo  no_cancer  \\\n",
       "0         500      10000            20    sample      True       True   \n",
       "1         250      10000            20    sample      True      False   \n",
       "2         250      10000            20    sample      True      False   \n",
       "3        1000      20000            20    sample     False       True   \n",
       "4         200      10000            20    sample      True       True   \n",
       "5         300      10000            20    sample      True      False   \n",
       "6         250      10000            20    sample      True      False   \n",
       "7         200      10000            15    sample      True      False   \n",
       "8         250      10000            20    sample      True      False   \n",
       "9         250      10000            20    sample      True      False   \n",
       "10        500      10000            20    sample      True      False   \n",
       "11        300      10000            20    sample      True       True   \n",
       "12        400      10000            15    sample     False       True   \n",
       "13        600      20000            30    sample     False      False   \n",
       "14        250      10000            10    sample      True       True   \n",
       "15        250      10000            20    sample      True       True   \n",
       "16        500      10000             0    sample      True       True   \n",
       "17        600      20000            30    sample     False       True   \n",
       "18        200       8000            30    sample      True      False   \n",
       "19        200      10000            20    sample      True       True   \n",
       "20        300      10000            30    sample      True      False   \n",
       "21        200      10000            20    sample      True      False   \n",
       "\n",
       "                 chem assembly  \n",
       "0                               \n",
       "1           10x-3'-v2    GRCh8  \n",
       "2           10x-3'-v2    GRCh8  \n",
       "3   SmartSeq2-OligodT     hg19  \n",
       "4                               \n",
       "5           10x-3'-v2    GRCh8  \n",
       "6           10x-3'-v2   GRCh8?  \n",
       "7           10x-3'-v1     hg19  \n",
       "8           10x-3'-v2      NaN  \n",
       "9                 NaN      NaN  \n",
       "10          10x-3'-v2    GRCh8  \n",
       "11                NaN      NaN  \n",
       "12                NaN      NaN  \n",
       "13                NaN      NaN  \n",
       "14                NaN      NaN  \n",
       "15                NaN      NaN  \n",
       "16                NaN      NaN  \n",
       "17                NaN      NaN  \n",
       "18                NaN      NaN  \n",
       "19                NaN      NaN  \n",
       "20                NaN      NaN  \n",
       "21                NaN      NaN  "
      ]
     },
     "execution_count": 32,
     "metadata": {},
     "output_type": "execute_result"
    }
   ],
   "source": [
    "filters"
   ]
  },
  {
   "cell_type": "code",
   "execution_count": 35,
   "id": "b4e81a22-a4b1-4a07-a801-cb3c5abdcafa",
   "metadata": {},
   "outputs": [
    {
     "name": "stderr",
     "output_type": "stream",
     "text": [
      "/tmp/ipykernel_2834/1983533706.py:2: FutureWarning: Calling int on a single element Series is deprecated and will raise a TypeError in the future. Use int(ser.iloc[0]) instead\n",
      "  thresholds['min_counts']  = int(id_row.min_counts)\n",
      "/tmp/ipykernel_2834/1983533706.py:3: FutureWarning: Calling int on a single element Series is deprecated and will raise a TypeError in the future. Use int(ser.iloc[0]) instead\n",
      "  thresholds['max_counts'] = int(id_row.max_counts)\n",
      "/tmp/ipykernel_2834/1983533706.py:4: FutureWarning: Calling int on a single element Series is deprecated and will raise a TypeError in the future. Use int(ser.iloc[0]) instead\n",
      "  thresholds['min_genes'] = int(id_row.min_genes)\n",
      "/tmp/ipykernel_2834/1983533706.py:5: FutureWarning: Calling int on a single element Series is deprecated and will raise a TypeError in the future. Use int(ser.iloc[0]) instead\n",
      "  thresholds['max_genes'] = int(id_row.max_genes)\n",
      "/tmp/ipykernel_2834/1983533706.py:6: FutureWarning: Calling int on a single element Series is deprecated and will raise a TypeError in the future. Use int(ser.iloc[0]) instead\n",
      "  thresholds['max_pct_mito'] = int(id_row.max_pct_mito)\n"
     ]
    }
   ],
   "source": [
    "thresholds = {}\n",
    "thresholds['min_counts']  = int(id_row.min_counts)\n",
    "thresholds['max_counts'] = int(id_row.max_counts)\n",
    "thresholds['min_genes'] = int(id_row.min_genes)\n",
    "thresholds['max_genes'] = int(id_row.max_genes)\n",
    "thresholds['max_pct_mito'] = int(id_row.max_pct_mito)\n",
    "\n",
    "adata = anndata.read_h5ad(f'/root/datos/maestria/netopaas/luca/data/12_input_adatas/{file_str}')"
   ]
  },
  {
   "cell_type": "code",
   "execution_count": 7,
   "id": "9379a0fa-de93-44fc-ad84-922b238a4af1",
   "metadata": {},
   "outputs": [
    {
     "data": {
      "text/html": [
       "<div>\n",
       "<style scoped>\n",
       "    .dataframe tbody tr th:only-of-type {\n",
       "        vertical-align: middle;\n",
       "    }\n",
       "\n",
       "    .dataframe tbody tr th {\n",
       "        vertical-align: top;\n",
       "    }\n",
       "\n",
       "    .dataframe thead th {\n",
       "        text-align: right;\n",
       "    }\n",
       "</style>\n",
       "<table border=\"1\" class=\"dataframe\">\n",
       "  <thead>\n",
       "    <tr style=\"text-align: right;\">\n",
       "      <th></th>\n",
       "      <th>tissue</th>\n",
       "      <th>region</th>\n",
       "      <th>sample</th>\n",
       "      <th>location</th>\n",
       "      <th>patient</th>\n",
       "      <th>origin</th>\n",
       "      <th>condition</th>\n",
       "      <th>sex</th>\n",
       "      <th>age</th>\n",
       "      <th>dataset</th>\n",
       "    </tr>\n",
       "    <tr>\n",
       "      <th>index</th>\n",
       "      <th></th>\n",
       "      <th></th>\n",
       "      <th></th>\n",
       "      <th></th>\n",
       "      <th></th>\n",
       "      <th></th>\n",
       "      <th></th>\n",
       "      <th></th>\n",
       "      <th></th>\n",
       "      <th></th>\n",
       "    </tr>\n",
       "  </thead>\n",
       "  <tbody>\n",
       "    <tr>\n",
       "      <th>P2_1_AAACCTGAGAAACCAT</th>\n",
       "      <td>lung</td>\n",
       "      <td>normal</td>\n",
       "      <td>distal 2</td>\n",
       "      <td>distal</td>\n",
       "      <td>P2</td>\n",
       "      <td>normal_adjacent</td>\n",
       "      <td>NSCLC</td>\n",
       "      <td>male</td>\n",
       "      <td>46</td>\n",
       "      <td>Travaglini_Krasnow_2020_Lung_10x</td>\n",
       "    </tr>\n",
       "    <tr>\n",
       "      <th>P2_1_AAATGCCAGATGAGAG</th>\n",
       "      <td>lung</td>\n",
       "      <td>normal</td>\n",
       "      <td>distal 2</td>\n",
       "      <td>distal</td>\n",
       "      <td>P2</td>\n",
       "      <td>normal_adjacent</td>\n",
       "      <td>NSCLC</td>\n",
       "      <td>male</td>\n",
       "      <td>46</td>\n",
       "      <td>Travaglini_Krasnow_2020_Lung_10x</td>\n",
       "    </tr>\n",
       "    <tr>\n",
       "      <th>P2_1_AACACGTTCGATCCCT</th>\n",
       "      <td>lung</td>\n",
       "      <td>normal</td>\n",
       "      <td>distal 2</td>\n",
       "      <td>distal</td>\n",
       "      <td>P2</td>\n",
       "      <td>normal_adjacent</td>\n",
       "      <td>NSCLC</td>\n",
       "      <td>male</td>\n",
       "      <td>46</td>\n",
       "      <td>Travaglini_Krasnow_2020_Lung_10x</td>\n",
       "    </tr>\n",
       "    <tr>\n",
       "      <th>P2_1_AACACGTTCGCACTCT</th>\n",
       "      <td>lung</td>\n",
       "      <td>normal</td>\n",
       "      <td>distal 2</td>\n",
       "      <td>distal</td>\n",
       "      <td>P2</td>\n",
       "      <td>normal_adjacent</td>\n",
       "      <td>NSCLC</td>\n",
       "      <td>male</td>\n",
       "      <td>46</td>\n",
       "      <td>Travaglini_Krasnow_2020_Lung_10x</td>\n",
       "    </tr>\n",
       "    <tr>\n",
       "      <th>P2_1_AACCATGCAGCTCGCA</th>\n",
       "      <td>lung</td>\n",
       "      <td>normal</td>\n",
       "      <td>distal 2</td>\n",
       "      <td>distal</td>\n",
       "      <td>P2</td>\n",
       "      <td>normal_adjacent</td>\n",
       "      <td>NSCLC</td>\n",
       "      <td>male</td>\n",
       "      <td>46</td>\n",
       "      <td>Travaglini_Krasnow_2020_Lung_10x</td>\n",
       "    </tr>\n",
       "    <tr>\n",
       "      <th>...</th>\n",
       "      <td>...</td>\n",
       "      <td>...</td>\n",
       "      <td>...</td>\n",
       "      <td>...</td>\n",
       "      <td>...</td>\n",
       "      <td>...</td>\n",
       "      <td>...</td>\n",
       "      <td>...</td>\n",
       "      <td>...</td>\n",
       "      <td>...</td>\n",
       "    </tr>\n",
       "    <tr>\n",
       "      <th>P3_6_TGTCCCAGTTCTGAAC</th>\n",
       "      <td>lung</td>\n",
       "      <td>normal</td>\n",
       "      <td>distal 3</td>\n",
       "      <td>distal</td>\n",
       "      <td>P3</td>\n",
       "      <td>normal_adjacent</td>\n",
       "      <td>NSCLC</td>\n",
       "      <td>female</td>\n",
       "      <td>51</td>\n",
       "      <td>Travaglini_Krasnow_2020_Lung_10x</td>\n",
       "    </tr>\n",
       "    <tr>\n",
       "      <th>P3_6_TTCTCCTTCTGTTTGT</th>\n",
       "      <td>lung</td>\n",
       "      <td>normal</td>\n",
       "      <td>distal 3</td>\n",
       "      <td>distal</td>\n",
       "      <td>P3</td>\n",
       "      <td>normal_adjacent</td>\n",
       "      <td>NSCLC</td>\n",
       "      <td>female</td>\n",
       "      <td>51</td>\n",
       "      <td>Travaglini_Krasnow_2020_Lung_10x</td>\n",
       "    </tr>\n",
       "    <tr>\n",
       "      <th>P3_7_AACTCCCCACTACAGT</th>\n",
       "      <td>lung</td>\n",
       "      <td>normal</td>\n",
       "      <td>distal 3</td>\n",
       "      <td>distal</td>\n",
       "      <td>P3</td>\n",
       "      <td>normal_adjacent</td>\n",
       "      <td>NSCLC</td>\n",
       "      <td>female</td>\n",
       "      <td>51</td>\n",
       "      <td>Travaglini_Krasnow_2020_Lung_10x</td>\n",
       "    </tr>\n",
       "    <tr>\n",
       "      <th>P3_7_TCGTAGATCATCGGAT</th>\n",
       "      <td>lung</td>\n",
       "      <td>normal</td>\n",
       "      <td>distal 3</td>\n",
       "      <td>distal</td>\n",
       "      <td>P3</td>\n",
       "      <td>normal_adjacent</td>\n",
       "      <td>NSCLC</td>\n",
       "      <td>female</td>\n",
       "      <td>51</td>\n",
       "      <td>Travaglini_Krasnow_2020_Lung_10x</td>\n",
       "    </tr>\n",
       "    <tr>\n",
       "      <th>P3_4_GCTGCGAAGAGCTTCT</th>\n",
       "      <td>lung</td>\n",
       "      <td>normal</td>\n",
       "      <td>proximal 3</td>\n",
       "      <td>proximal</td>\n",
       "      <td>P3</td>\n",
       "      <td>normal_adjacent</td>\n",
       "      <td>NSCLC</td>\n",
       "      <td>female</td>\n",
       "      <td>51</td>\n",
       "      <td>Travaglini_Krasnow_2020_Lung_10x</td>\n",
       "    </tr>\n",
       "  </tbody>\n",
       "</table>\n",
       "<p>65662 rows × 10 columns</p>\n",
       "</div>"
      ],
      "text/plain": [
       "                      tissue  region      sample  location patient  \\\n",
       "index                                                                \n",
       "P2_1_AAACCTGAGAAACCAT   lung  normal    distal 2    distal      P2   \n",
       "P2_1_AAATGCCAGATGAGAG   lung  normal    distal 2    distal      P2   \n",
       "P2_1_AACACGTTCGATCCCT   lung  normal    distal 2    distal      P2   \n",
       "P2_1_AACACGTTCGCACTCT   lung  normal    distal 2    distal      P2   \n",
       "P2_1_AACCATGCAGCTCGCA   lung  normal    distal 2    distal      P2   \n",
       "...                      ...     ...         ...       ...     ...   \n",
       "P3_6_TGTCCCAGTTCTGAAC   lung  normal    distal 3    distal      P3   \n",
       "P3_6_TTCTCCTTCTGTTTGT   lung  normal    distal 3    distal      P3   \n",
       "P3_7_AACTCCCCACTACAGT   lung  normal    distal 3    distal      P3   \n",
       "P3_7_TCGTAGATCATCGGAT   lung  normal    distal 3    distal      P3   \n",
       "P3_4_GCTGCGAAGAGCTTCT   lung  normal  proximal 3  proximal      P3   \n",
       "\n",
       "                                origin condition     sex  age  \\\n",
       "index                                                           \n",
       "P2_1_AAACCTGAGAAACCAT  normal_adjacent     NSCLC    male   46   \n",
       "P2_1_AAATGCCAGATGAGAG  normal_adjacent     NSCLC    male   46   \n",
       "P2_1_AACACGTTCGATCCCT  normal_adjacent     NSCLC    male   46   \n",
       "P2_1_AACACGTTCGCACTCT  normal_adjacent     NSCLC    male   46   \n",
       "P2_1_AACCATGCAGCTCGCA  normal_adjacent     NSCLC    male   46   \n",
       "...                                ...       ...     ...  ...   \n",
       "P3_6_TGTCCCAGTTCTGAAC  normal_adjacent     NSCLC  female   51   \n",
       "P3_6_TTCTCCTTCTGTTTGT  normal_adjacent     NSCLC  female   51   \n",
       "P3_7_AACTCCCCACTACAGT  normal_adjacent     NSCLC  female   51   \n",
       "P3_7_TCGTAGATCATCGGAT  normal_adjacent     NSCLC  female   51   \n",
       "P3_4_GCTGCGAAGAGCTTCT  normal_adjacent     NSCLC  female   51   \n",
       "\n",
       "                                                dataset  \n",
       "index                                                    \n",
       "P2_1_AAACCTGAGAAACCAT  Travaglini_Krasnow_2020_Lung_10x  \n",
       "P2_1_AAATGCCAGATGAGAG  Travaglini_Krasnow_2020_Lung_10x  \n",
       "P2_1_AACACGTTCGATCCCT  Travaglini_Krasnow_2020_Lung_10x  \n",
       "P2_1_AACACGTTCGCACTCT  Travaglini_Krasnow_2020_Lung_10x  \n",
       "P2_1_AACCATGCAGCTCGCA  Travaglini_Krasnow_2020_Lung_10x  \n",
       "...                                                 ...  \n",
       "P3_6_TGTCCCAGTTCTGAAC  Travaglini_Krasnow_2020_Lung_10x  \n",
       "P3_6_TTCTCCTTCTGTTTGT  Travaglini_Krasnow_2020_Lung_10x  \n",
       "P3_7_AACTCCCCACTACAGT  Travaglini_Krasnow_2020_Lung_10x  \n",
       "P3_7_TCGTAGATCATCGGAT  Travaglini_Krasnow_2020_Lung_10x  \n",
       "P3_4_GCTGCGAAGAGCTTCT  Travaglini_Krasnow_2020_Lung_10x  \n",
       "\n",
       "[65662 rows x 10 columns]"
      ]
     },
     "execution_count": 7,
     "metadata": {},
     "output_type": "execute_result"
    }
   ],
   "source": [
    "adata.obs"
   ]
  },
  {
   "cell_type": "markdown",
   "id": "5f418e6a-cbc5-404b-b788-86ade63310cc",
   "metadata": {},
   "source": [
    "Aunque sean de pulmones con cancer se tomo cuidado de que estuvieron muy lejos del tumor y que se parecieran a tejido sano"
   ]
  },
  {
   "cell_type": "code",
   "execution_count": 37,
   "id": "6bf08332-bc0e-4379-9bd1-765e19eb98ed",
   "metadata": {},
   "outputs": [
    {
     "data": {
      "text/html": [
       "<div>\n",
       "<style scoped>\n",
       "    .dataframe tbody tr th:only-of-type {\n",
       "        vertical-align: middle;\n",
       "    }\n",
       "\n",
       "    .dataframe tbody tr th {\n",
       "        vertical-align: top;\n",
       "    }\n",
       "\n",
       "    .dataframe thead th {\n",
       "        text-align: right;\n",
       "    }\n",
       "</style>\n",
       "<table border=\"1\" class=\"dataframe\">\n",
       "  <thead>\n",
       "    <tr style=\"text-align: right;\">\n",
       "      <th></th>\n",
       "    </tr>\n",
       "    <tr>\n",
       "      <th>index</th>\n",
       "    </tr>\n",
       "  </thead>\n",
       "  <tbody>\n",
       "    <tr>\n",
       "      <th>DDX11L1</th>\n",
       "    </tr>\n",
       "    <tr>\n",
       "      <th>WASH7P</th>\n",
       "    </tr>\n",
       "    <tr>\n",
       "      <th>MIR6859-3</th>\n",
       "    </tr>\n",
       "    <tr>\n",
       "      <th>MIR6859-2</th>\n",
       "    </tr>\n",
       "    <tr>\n",
       "      <th>MIR6859-1</th>\n",
       "    </tr>\n",
       "    <tr>\n",
       "      <th>...</th>\n",
       "    </tr>\n",
       "    <tr>\n",
       "      <th>CDY1B</th>\n",
       "    </tr>\n",
       "    <tr>\n",
       "      <th>CDY1</th>\n",
       "    </tr>\n",
       "    <tr>\n",
       "      <th>CSPG4P1Y</th>\n",
       "    </tr>\n",
       "    <tr>\n",
       "      <th>GOLGA2P3Y</th>\n",
       "    </tr>\n",
       "    <tr>\n",
       "      <th>GOLGA2P2Y</th>\n",
       "    </tr>\n",
       "  </tbody>\n",
       "</table>\n",
       "<p>26485 rows × 0 columns</p>\n",
       "</div>"
      ],
      "text/plain": [
       "Empty DataFrame\n",
       "Columns: []\n",
       "Index: [DDX11L1, WASH7P, MIR6859-3, MIR6859-2, MIR6859-1, MIR6859-4, MIR1302-2, MIR1302-11, MIR1302-9, MIR1302-10, FAM138A, FAM138C, FAM138F, OR4F5, LOC729737, FAM138D, OR4F29, OR4F3, OR4F16, LOC100132287, LOC100132062, LOC101928626, MIR6723, LOC100133331, LOC100288069, FAM87B, LINC00115, LINC01128, FAM41C, LOC100130417, SAMD11, NOC2L, KLHL17, PLEKHN1, PERM1, HES4, ISG15, AGRN, RNF223, C1orf159, LINC01342, MIR200B, MIR200A, MIR429, TTLL10, TNFRSF18, TNFRSF4, SDF4, B3GALT6, FAM132A, UBE2J2, SCNN1D, ACAP3, MIR6726, PUSL1, CPSF3L, MIR6727, CPTP, TAS1R3, DVL1, MIR6808, MXRA8, AURKAIP1, CCNL2, LOC148413, MRPL20, ANKRD65, TMEM88B, LOC102724312, VWA1, ATAD3C, ATAD3B, ATAD3A, TMEM240, SSU72, C1orf233, MIB2, MMP23B, MMP23A, CDK11B, SLC35E2B, CDK11A, SLC35E2, NADK, GNB1, CALML6, TMEM52, CFAP74, GABRD, PRKCZ, FAAP20, SKI, MORN1, LOC100129534, RER1, PEX10, PLCH2, PANK4, HES5, LOC115110, ...]\n",
       "\n",
       "[26485 rows x 0 columns]"
      ]
     },
     "execution_count": 37,
     "metadata": {},
     "output_type": "execute_result"
    }
   ],
   "source": [
    "adata.var"
   ]
  },
  {
   "cell_type": "code",
   "execution_count": 40,
   "id": "98dc0168-7985-42c5-a20b-7ec88fa9dfff",
   "metadata": {
    "tags": []
   },
   "outputs": [
    {
     "name": "stdout",
     "output_type": "stream",
     "text": [
      "Filtering genes\n",
      "    Before: 26485\n",
      "    After: 20926\n",
      "Filter by min_counts\n",
      "    Before: 65662\n",
      "    After: 65662\n",
      "Filter by max_counts\n",
      "    Before: 65662\n",
      "    After: 63252\n",
      "Filter by min_genes\n",
      "    Before: 63252\n",
      "    After: 63252\n",
      "Filter by max_genes\n",
      "    Before: 63252\n",
      "    After: 63252\n"
     ]
    }
   ],
   "source": [
    "# very basic gene filtering - genes with 0 cells cause some downstream processes to fail.\n",
    "print(\"Filtering genes\")\n",
    "print(f\"    Before: {adata.shape[1]}\")\n",
    "sc.pp.filter_genes(adata, min_counts=3)\n",
    "print(f\"    After: {adata.shape[1]}\")\n",
    "\n",
    "# %%\n",
    "# Apply thresholds\n",
    "print(\"Filter by min_counts\")\n",
    "print(f\"    Before: {adata.shape[0]}\")\n",
    "sc.pp.filter_cells(adata, min_counts=thresholds[\"min_counts\"])\n",
    "print(f\"    After: {adata.shape[0]}\")\n",
    "\n",
    "\n",
    "print(\"Filter by max_counts\")\n",
    "print(f\"    Before: {adata.shape[0]}\")\n",
    "sc.pp.filter_cells(adata, max_counts=thresholds[\"max_counts\"])\n",
    "print(f\"    After: {adata.shape[0]}\")\n",
    "\n",
    "\n",
    "print(\"Filter by min_genes\")\n",
    "print(f\"    Before: {adata.shape[0]}\")\n",
    "sc.pp.filter_cells(adata, min_genes=thresholds[\"min_genes\"])\n",
    "print(f\"    After: {adata.shape[0]}\")\n",
    "\n",
    "\n",
    "print(\"Filter by max_genes\")\n",
    "print(f\"    Before: {adata.shape[0]}\")\n",
    "sc.pp.filter_cells(adata, max_genes=thresholds[\"max_genes\"])\n",
    "print(f\"    After: {adata.shape[0]}\")\n",
    "\n",
    "# %% We have no mito genes so skip this part\n",
    "# if \"mito\" not in adata.var.columns:\n",
    "#     adata.var[\"mito\"] = adata.var_names.str.lower().str.startswith(\"mt-\")\n",
    "\n",
    "# # %%\n",
    "# sc.pp.calculate_qc_metrics(\n",
    "#     adata, qc_vars=(\"mito\",), log1p=False, inplace=True, percent_top=None\n",
    "# )\n",
    "\n",
    "# print(\"Filter by max_pct_mito\")\n",
    "# print(f\"    Before: {adata.shape[0]}\")\n",
    "# adata = adata[adata.obs[\"pct_counts_mito\"] < thresholds[\"max_pct_mito\"]].copy()\n",
    "# print(f\"    After: {adata.shape[0]}\")"
   ]
  },
  {
   "cell_type": "markdown",
   "id": "af24d447-d0cb-4dc0-aae1-a2e3bf7ffb40",
   "metadata": {},
   "source": [
    "## 3.1.1 Automated annotation"
   ]
  },
  {
   "cell_type": "markdown",
   "id": "2f8b793d-1fd8-41bb-96d3-29c846ee6d73",
   "metadata": {},
   "source": [
    "For a more detailed walkthrough of the process go to `../HCA-Lung/AutoLung.ipynb` or even https://docs.scarches.org/en/latest/hlca_map_classify.html\n",
    "\n",
    "IT IS IMPORTANT THAT THE QUERY DATA IS IN RAW COUNTS, WE CHECK THAT HERE:\n"
   ]
  },
  {
   "cell_type": "code",
   "execution_count": 41,
   "id": "18a22eca-3512-476e-a381-6c869ea768ac",
   "metadata": {},
   "outputs": [
    {
     "data": {
      "text/plain": [
       "array([[0., 0., 0., 0., 0., 0., 0., 0., 0., 0., 0., 0., 0., 0., 0., 0.,\n",
       "        2., 0., 0., 0., 0., 0., 1., 0., 0., 0., 0., 0., 0., 0.],\n",
       "       [0., 0., 0., 0., 0., 0., 0., 0., 0., 0., 0., 0., 0., 0., 0., 0.,\n",
       "        3., 0., 0., 0., 0., 0., 0., 1., 0., 0., 1., 0., 0., 0.],\n",
       "       [0., 0., 0., 0., 0., 0., 0., 1., 0., 0., 0., 0., 0., 0., 0., 0.,\n",
       "        3., 0., 0., 0., 0., 0., 0., 1., 0., 0., 0., 0., 0., 0.],\n",
       "       [0., 0., 0., 0., 0., 0., 0., 0., 0., 0., 0., 0., 0., 0., 0., 0.,\n",
       "        0., 0., 0., 0., 0., 0., 1., 2., 0., 0., 0., 0., 0., 0.],\n",
       "       [0., 0., 0., 0., 0., 0., 0., 0., 0., 0., 0., 0., 0., 0., 0., 0.,\n",
       "        0., 0., 0., 0., 0., 0., 0., 0., 0., 0., 0., 0., 0., 0.],\n",
       "       [0., 0., 0., 0., 0., 0., 0., 0., 0., 0., 0., 0., 0., 0., 0., 0.,\n",
       "        0., 0., 0., 0., 0., 0., 0., 0., 0., 0., 0., 0., 0., 0.],\n",
       "       [0., 0., 0., 0., 0., 0., 0., 0., 0., 0., 0., 1., 0., 0., 0., 0.,\n",
       "        0., 0., 0., 0., 0., 0., 0., 1., 0., 0., 0., 0., 0., 0.],\n",
       "       [0., 0., 0., 0., 0., 0., 0., 0., 0., 0., 0., 0., 0., 0., 0., 0.,\n",
       "        2., 0., 0., 0., 0., 0., 0., 1., 0., 0., 0., 0., 0., 0.],\n",
       "       [0., 0., 0., 0., 0., 0., 0., 0., 0., 0., 0., 0., 0., 0., 0., 0.,\n",
       "        0., 0., 0., 0., 0., 0., 1., 0., 0., 0., 0., 0., 0., 0.],\n",
       "       [0., 0., 0., 0., 0., 0., 0., 0., 0., 0., 0., 0., 0., 0., 0., 0.,\n",
       "        1., 0., 0., 0., 0., 0., 0., 1., 0., 0., 0., 0., 0., 0.]],\n",
       "      dtype=float32)"
      ]
     },
     "execution_count": 41,
     "metadata": {},
     "output_type": "execute_result"
    }
   ],
   "source": [
    "adata.X[:10, :30].toarray()"
   ]
  },
  {
   "cell_type": "code",
   "execution_count": 42,
   "id": "823186bb-31dd-49a8-acf7-16e423bd8632",
   "metadata": {
    "tags": []
   },
   "outputs": [],
   "source": [
    "import pandas as pd\n",
    "import anndata as ad\n",
    "import numpy as np\n",
    "\n",
    "import scarches as sca\n",
    "import gdown\n",
    "import gzip\n",
    "import shutil\n",
    "from scipy import sparse\n",
    "\n",
    "sc.settings.set_figure_params(dpi=200, frameon=False)\n",
    "sc.set_figure_params(dpi=200)\n",
    "sc.set_figure_params(figsize=(4, 4))\n",
    "\n",
    "import sys, os\n",
    "sys.path.append(os.path.join(os.getcwd(), '../../single-cell-tutorial/download_scripts'))\n",
    "from functions import remove_repeated_var_inds, join_map_mart"
   ]
  },
  {
   "cell_type": "markdown",
   "id": "5ae09274-e352-4e32-ab35-f2b6c9d80668",
   "metadata": {},
   "source": [
    "### Load Query dataset"
   ]
  },
  {
   "cell_type": "code",
   "execution_count": 43,
   "id": "fc70e51a-909b-441f-9750-dc4bf13ebe7e",
   "metadata": {
    "tags": []
   },
   "outputs": [],
   "source": [
    "batch_key = 'dataset'\n",
    "name = dataset_str.split('_')[0]\n",
    "query_batch = [f'lung_{name}']\n",
    "cell_type_key = 'scanvi_label'\n",
    "data_dir = '/root/datos/maestria/netopaas/lung_scRNA'\n",
    "backup_dir = '/root/datos/maestria/netopaas/luca_explore'\n",
    "ref_model_path = f'{data_dir}/HCA_Lung/HLCA_reference_model'\n",
    "\n",
    "#Important to check how many epochs would be ideal\n",
    "surgery_epochs = 100\n",
    "early_stopping_kwargs_surgery = {\n",
    "    \"early_stopping_monitor\": \"elbo_train\",\n",
    "    \"early_stopping_patience\": 10,\n",
    "    \"early_stopping_min_delta\": 0.001,\n",
    "    \"plan_kwargs\": {\"weight_decay\": 0.0},\n",
    "}"
   ]
  },
  {
   "cell_type": "code",
   "execution_count": 44,
   "id": "412c10db-9380-4439-9faa-6e45c72092cc",
   "metadata": {
    "tags": []
   },
   "outputs": [],
   "source": [
    "adata_ref = sc.read_h5ad(f'{data_dir}/HCA_Lung/HLCA_emb_and_metadata.h5ad')"
   ]
  },
  {
   "cell_type": "code",
   "execution_count": 45,
   "id": "df9be20c-9089-4722-a427-bb6fd212d6a1",
   "metadata": {
    "tags": []
   },
   "outputs": [],
   "source": [
    "adata_query_unprep = adata.copy()\n",
    "\n",
    "# We need RAW count data for the model we are using so we get it from adata.layers\n",
    "#adata_query_unprep.X = adata_query_unprep.layers['counts']"
   ]
  },
  {
   "cell_type": "markdown",
   "id": "02f18529-2313-4be1-bb71-614b7642a220",
   "metadata": {},
   "source": [
    "For faster computation convert the matrix to sparse.\n",
    "First check with `adata.X` if it is sparse"
   ]
  },
  {
   "cell_type": "code",
   "execution_count": 46,
   "id": "a43cbed8-b620-4d97-bd1b-638c6b903425",
   "metadata": {},
   "outputs": [
    {
     "data": {
      "text/plain": [
       "<63252x20926 sparse matrix of type '<class 'numpy.float32'>'\n",
       "\twith 114710862 stored elements in Compressed Sparse Row format>"
      ]
     },
     "execution_count": 46,
     "metadata": {},
     "output_type": "execute_result"
    }
   ],
   "source": [
    "adata.X\n",
    "# adata_query_unprep.X = sparse.csr_matrix(adata_query_unprep.X)"
   ]
  },
  {
   "cell_type": "markdown",
   "id": "8dba6b38-6561-4a29-9891-cc3132ac38b4",
   "metadata": {},
   "source": [
    "### Change to Ensembl IDs"
   ]
  },
  {
   "cell_type": "markdown",
   "id": "628fca3a-4168-4696-a638-18976301895e",
   "metadata": {},
   "source": [
    "Revert to ensemble ids using the assembly reference gch38 (or hg19 in the comments) used in the experiment.\n",
    "Doing this via THE PACKAGE Biomart always leaves us with some gaps because there are many manually annotated genes."
   ]
  },
  {
   "cell_type": "markdown",
   "id": "9696b8eb-987e-41cb-8038-dc6a7cb5ee93",
   "metadata": {},
   "source": [
    "**WARNING**\n",
    "Lost only 5% of genes with this method\n",
    "\n",
    "Chen uses:\n",
    "- Chemistry 10x 3' v2\n",
    "- CellRanger 3.2.0 for fastq generation\n",
    "- STAR with GRCh38\n",
    "\n",
    "I have sent an email to ask for the assembly used in STAR.\n",
    "Other ideas to figure this out : \n",
    "- Figuring in what assembly some of the lost genes are\n",
    "- Check the SAM/BAM Header"
   ]
  },
  {
   "cell_type": "markdown",
   "id": "4974d2ce-1efd-43fd-b71a-fa850e681600",
   "metadata": {},
   "source": [
    "If your query feature naming does not match your reference model feature naming, you will need to add the right feature names. For the HLCA reference, the mapping of the 2000 input gene IDs to their gene names is stored on the HLCA Zenodo page, so you can add gene ids using that mapping. Alternatively, you can map your gene IDs to gene names (or the reverse) using BioMart mapping tables. In most cases your raw data includes both gene IDs and names, in which case mapping is not necessary.\n",
    "\n",
    "Let’s download the HLCA-specific gene mapping:"
   ]
  },
  {
   "cell_type": "code",
   "execution_count": 47,
   "id": "5412598d-3f8f-45dc-868d-ebf26075e06c",
   "metadata": {},
   "outputs": [],
   "source": [
    "path_gene_mapping_df = f'{data_dir}/HCA_Lung/HLCA_reference_model_gene_order_ids_and_symbols.csv'"
   ]
  },
  {
   "cell_type": "code",
   "execution_count": 48,
   "id": "c3e82e6b-aebf-42eb-bbb2-a76ccbefb879",
   "metadata": {},
   "outputs": [],
   "source": [
    "# Download gene information from HLCA github:\n",
    "# url = \"https://zenodo.org/record/7599104/files/HLCA_reference_model_gene_order_ids_and_symbols.csv\"\n",
    "# gdown.download(url, path_gene_mapping_df, quiet=False)"
   ]
  },
  {
   "cell_type": "code",
   "execution_count": 49,
   "id": "dac3bebd-36ba-4879-8cef-8b8184283983",
   "metadata": {},
   "outputs": [],
   "source": [
    "gene_id_to_gene_name_df = pd.read_csv(path_gene_mapping_df, index_col=0)\n",
    "\n",
    "# Store your gene names in an adata.var.column if they are currently the index:\n",
    "# if gene names are in .var.index:\n",
    "adata_query_unprep.var[\"gene_names\"] = adata_query_unprep.var.index\n",
    "gene_name_column_name = \"gene_names\""
   ]
  },
  {
   "cell_type": "markdown",
   "id": "3c64df7c-6b78-4e48-b857-7937b6fdae3e",
   "metadata": {},
   "source": [
    "Map gene names to gene ids for all of the 2000 reference model genes that we can find in our data:\n",
    "\n",
    "Check number of detected genes:"
   ]
  },
  {
   "cell_type": "code",
   "execution_count": 50,
   "id": "49bd8fed-8065-4661-ab6a-6710e1db5cb4",
   "metadata": {},
   "outputs": [
    {
     "name": "stdout",
     "output_type": "stream",
     "text": [
      "Number of model input genes detected: 1824 out of 2000 (91%)\n"
     ]
    }
   ],
   "source": [
    "n_overlap = (\n",
    "    adata_query_unprep.var[gene_name_column_name]\n",
    "    .isin(gene_id_to_gene_name_df.gene_symbol)\n",
    "    .sum()\n",
    ")\n",
    "n_genes_model = gene_id_to_gene_name_df.shape[0]\n",
    "print(\n",
    "    f\"Number of model input genes detected: {n_overlap} out of {n_genes_model} ({round(n_overlap/n_genes_model*100)}%)\"\n",
    ")\n",
    "\n"
   ]
  },
  {
   "cell_type": "markdown",
   "id": "0b32b4d9-5897-4a1a-84b4-95f40341d6fe",
   "metadata": {},
   "source": [
    "Subset query data to only the genes that are part of the modeling input, then map gene names to gene ids using the table above. Store the resulting ids both in the .var.index (for scArches) and in a .var[gene_ids] (for merging duplicate genes)."
   ]
  },
  {
   "cell_type": "code",
   "execution_count": 51,
   "id": "351de490-70b6-4a14-ae03-7e0bafc9b879",
   "metadata": {},
   "outputs": [],
   "source": [
    "adata_query_unprep = adata_query_unprep[\n",
    "    :,\n",
    "    adata_query_unprep.var[gene_name_column_name].isin(\n",
    "        gene_id_to_gene_name_df.gene_symbol\n",
    "    ),\n",
    "].copy()  # subset your data to genes used in the reference model\n",
    "adata_query_unprep.var.index = adata_query_unprep.var[gene_name_column_name].map(\n",
    "    dict(zip(gene_id_to_gene_name_df.gene_symbol, gene_id_to_gene_name_df.index))\n",
    ")  # add gene ids for the gene names, and store in .var.index\n",
    "# remove index name to prevent bugs later on\n",
    "adata_query_unprep.var.index.name = None\n",
    "adata_query_unprep.var[\"gene_ids\"] = adata_query_unprep.var.index\n"
   ]
  },
  {
   "cell_type": "code",
   "execution_count": 52,
   "id": "6fea5eaf-bcf4-4fd9-b3a2-f7ef5982c17e",
   "metadata": {},
   "outputs": [
    {
     "data": {
      "text/html": [
       "<div>\n",
       "<style scoped>\n",
       "    .dataframe tbody tr th:only-of-type {\n",
       "        vertical-align: middle;\n",
       "    }\n",
       "\n",
       "    .dataframe tbody tr th {\n",
       "        vertical-align: top;\n",
       "    }\n",
       "\n",
       "    .dataframe thead th {\n",
       "        text-align: right;\n",
       "    }\n",
       "</style>\n",
       "<table border=\"1\" class=\"dataframe\">\n",
       "  <thead>\n",
       "    <tr style=\"text-align: right;\">\n",
       "      <th></th>\n",
       "      <th>n_counts</th>\n",
       "      <th>gene_names</th>\n",
       "      <th>gene_ids</th>\n",
       "    </tr>\n",
       "  </thead>\n",
       "  <tbody>\n",
       "    <tr>\n",
       "      <th>ENSG00000188290</th>\n",
       "      <td>20107.0</td>\n",
       "      <td>HES4</td>\n",
       "      <td>ENSG00000188290</td>\n",
       "    </tr>\n",
       "    <tr>\n",
       "      <th>ENSG00000187608</th>\n",
       "      <td>117346.0</td>\n",
       "      <td>ISG15</td>\n",
       "      <td>ENSG00000187608</td>\n",
       "    </tr>\n",
       "    <tr>\n",
       "      <th>ENSG00000162571</th>\n",
       "      <td>1795.0</td>\n",
       "      <td>TTLL10</td>\n",
       "      <td>ENSG00000162571</td>\n",
       "    </tr>\n",
       "  </tbody>\n",
       "</table>\n",
       "</div>"
      ],
      "text/plain": [
       "                 n_counts gene_names         gene_ids\n",
       "ENSG00000188290   20107.0       HES4  ENSG00000188290\n",
       "ENSG00000187608  117346.0      ISG15  ENSG00000187608\n",
       "ENSG00000162571    1795.0     TTLL10  ENSG00000162571"
      ]
     },
     "execution_count": 52,
     "metadata": {},
     "output_type": "execute_result"
    }
   ],
   "source": [
    "adata_query_unprep.var.head(3)"
   ]
  },
  {
   "cell_type": "code",
   "execution_count": 53,
   "id": "eda40fc0-bf98-4972-b386-ecf53097dae2",
   "metadata": {},
   "outputs": [],
   "source": [
    "def sum_by(adata: ad.AnnData, col: str) -> ad.AnnData:\n",
    "    adata.obs[col] = adata.obs[col].astype('category')\n",
    "    assert pd.api.types.is_categorical_dtype(adata.obs[col])\n",
    "\n",
    "    cat = adata.obs[col].values\n",
    "    indicator = sparse.coo_matrix(\n",
    "        (np.broadcast_to(True, adata.n_obs), (cat.codes, np.arange(adata.n_obs))),\n",
    "        shape=(len(cat.categories), adata.n_obs),\n",
    "    )\n",
    "\n",
    "    return ad.AnnData(\n",
    "        indicator @ adata.X, var=adata.var, obs=pd.DataFrame(index=cat.categories)\n",
    "    )"
   ]
  },
  {
   "cell_type": "markdown",
   "id": "5d5d9d7f-14f1-4c83-a76f-c346ead8265c",
   "metadata": {},
   "source": [
    "shape before merging:"
   ]
  },
  {
   "cell_type": "markdown",
   "id": "18393633-12ba-41ca-87ea-d55b705cd273",
   "metadata": {},
   "source": [
    "Now merge. Note that all var columns will be dropped after merging (as we don’t specify how to merge). As the merging is done based on .obs indices in the function above, we transpose our anndata object and re-transpose it after merging."
   ]
  },
  {
   "cell_type": "code",
   "execution_count": 54,
   "id": "a060c25a-cd2a-4180-b95b-a7452a37ab4c",
   "metadata": {},
   "outputs": [],
   "source": [
    "adata_query_unprep = sum_by(adata_query_unprep.transpose(), col=\"gene_ids\").transpose()"
   ]
  },
  {
   "cell_type": "code",
   "execution_count": 55,
   "id": "e1f87a3b-6b00-4bf0-b92f-6af460b4c88c",
   "metadata": {},
   "outputs": [
    {
     "data": {
      "text/plain": [
       "(63252, 1824)"
      ]
     },
     "execution_count": 55,
     "metadata": {},
     "output_type": "execute_result"
    }
   ],
   "source": [
    "adata_query_unprep.shape"
   ]
  },
  {
   "cell_type": "markdown",
   "id": "b7a907a2-4a8e-46c5-a615-ff77ba3adbfd",
   "metadata": {},
   "source": [
    "add back gene ids:"
   ]
  },
  {
   "cell_type": "code",
   "execution_count": 56,
   "id": "cb075aa8-99f8-4e5e-9d84-364d6cca5cda",
   "metadata": {},
   "outputs": [],
   "source": [
    "adata_query_unprep.var = adata_query_unprep.var.join(gene_id_to_gene_name_df).rename(columns={\"gene_symbol\":\"gene_names\"})"
   ]
  },
  {
   "cell_type": "markdown",
   "id": "2102fa90-bf52-41d0-9605-e259bde7bdd4",
   "metadata": {},
   "source": [
    "### Surgery"
   ]
  },
  {
   "cell_type": "markdown",
   "id": "0857ef86-754d-432c-8f81-b31da5727ea8",
   "metadata": {},
   "source": [
    "We pad missing query genes with zeros and reorder the available ones to ensure data corectness and smooth running of the scArches reference mapping."
   ]
  },
  {
   "cell_type": "code",
   "execution_count": 57,
   "id": "1c6cd328-e6c1-4198-b329-fd97e576d818",
   "metadata": {
    "tags": []
   },
   "outputs": [
    {
     "name": "stdout",
     "output_type": "stream",
     "text": [
      "\u001b[34mINFO    \u001b[0m File \u001b[35m/root/datos/maestria/netopaas/lung_scRNA/HCA_Lung/HLCA_reference_model/\u001b[0m\u001b[95mmodel.pt\u001b[0m already downloaded   \n",
      "\u001b[34mINFO    \u001b[0m Found \u001b[1;36m91.2\u001b[0m% reference vars in query data.                                                                 \n"
     ]
    }
   ],
   "source": [
    "adata_query = sca.models.SCANVI.prepare_query_anndata(\n",
    "    adata = adata_query_unprep,\n",
    "    # return_reference_var_names=True,\n",
    "    reference_model = ref_model_path,\n",
    "    inplace=False)"
   ]
  },
  {
   "cell_type": "markdown",
   "id": "d2df5e4e-ad88-4537-858e-3be2654b55d2",
   "metadata": {},
   "source": [
    "This line should be kept unchanged due to the structure of the pre-trained reference model."
   ]
  },
  {
   "cell_type": "code",
   "execution_count": 58,
   "id": "f92d6c1c-d0ec-4a97-a2fc-e4020c04b5b7",
   "metadata": {
    "tags": []
   },
   "outputs": [],
   "source": [
    "adata_query.obs['scanvi_label'] = 'unlabeled'"
   ]
  },
  {
   "cell_type": "markdown",
   "id": "01a2f1e8-6c78-4d14-afdd-d19fefc710cf",
   "metadata": {},
   "source": [
    "Now we perform scArches “surgery”.\n",
    "\n",
    "Note: if you use gene names rather than ensembl IDs in your query_data.var.index, you will get a warning that your genes (var_names) do not match the training genes. You can ignore this warning, as long as you have done the gene check in the beginning of the notebook."
   ]
  },
  {
   "cell_type": "code",
   "execution_count": 59,
   "id": "8727e752-c4ae-412f-95a9-57c58155286e",
   "metadata": {
    "tags": []
   },
   "outputs": [
    {
     "name": "stdout",
     "output_type": "stream",
     "text": [
      "\u001b[34mINFO    \u001b[0m File \u001b[35m/root/datos/maestria/netopaas/lung_scRNA/HCA_Lung/HLCA_reference_model/\u001b[0m\u001b[95mmodel.pt\u001b[0m already downloaded   \n"
     ]
    }
   ],
   "source": [
    "from scvi.model.base._utils import _load_saved_files\n",
    "attr_dict, var_names, model_state_dict, adata_ = _load_saved_files(ref_model_path, load_adata=False, map_location='cpu')"
   ]
  },
  {
   "cell_type": "markdown",
   "id": "dd9734ad-9281-4909-95eb-373476930e45",
   "metadata": {},
   "source": [
    "Thanks to exploring the model we can deduce what .obs we need and the name we assigned. In this case we need to define a 'dataset'\n",
    "column in obs to define the batches. Seeing as to how every sample ia new day in the experiment we define the batches as the samples."
   ]
  },
  {
   "cell_type": "markdown",
   "id": "68b50b78-d771-421e-8174-87f8dca92bfa",
   "metadata": {},
   "source": [
    "We can load the model with this command or train it if we havent got it"
   ]
  },
  {
   "cell_type": "code",
   "execution_count": 60,
   "id": "15abd5b1-8b21-4d84-8c1f-5f314fae47a1",
   "metadata": {
    "tags": []
   },
   "outputs": [],
   "source": [
    "adata_query.obs['dataset'] = adata_query.obs['sample']\n",
    "# adata_query.obs['sample'] = adata_query.obs['sample'].astype('string')\n",
    "# adata_query.obs['dataset'] = adata_query.obs['dataset'].astype('string')"
   ]
  },
  {
   "cell_type": "code",
   "execution_count": 61,
   "id": "a38e18e0-d268-4258-b4f6-19857dc9b438",
   "metadata": {},
   "outputs": [],
   "source": [
    "for col in adata_query.obs.columns:\n",
    "    if pd.api.types.is_categorical_dtype(adata_query.obs[col]):\n",
    "        adata_query.obs[col] = adata_query.obs[col].astype('str')\n"
   ]
  },
  {
   "cell_type": "code",
   "execution_count": 62,
   "id": "b1449aaf-56e6-4676-8afe-26f734478b8d",
   "metadata": {
    "tags": []
   },
   "outputs": [],
   "source": [
    "# Convert all mito falgs into false because we are using the latent genes of the HCA_lung model\n",
    "# adata_query = sc.read_h5ad(f'{backup_dir}/surgeries/query_{name}.h5ad')\n",
    "adata_query.var.mito = False\n",
    "adata_query.write_h5ad(f'{backup_dir}/surgeries/query_{name}.h5ad')"
   ]
  },
  {
   "cell_type": "markdown",
   "id": "433ec9c1-9b5c-4955-be58-f656f39ae10b",
   "metadata": {},
   "source": [
    "Apparently we have to aks for cuda availability explicitly for scArches to recognize that we have GPU"
   ]
  },
  {
   "cell_type": "code",
   "execution_count": 63,
   "id": "1b695494-350d-4337-9bc4-3dcc17fd4631",
   "metadata": {},
   "outputs": [
    {
     "data": {
      "text/plain": [
       "True"
      ]
     },
     "execution_count": 63,
     "metadata": {},
     "output_type": "execute_result"
    }
   ],
   "source": [
    "import torch\n",
    "torch.cuda.is_available()"
   ]
  },
  {
   "cell_type": "code",
   "execution_count": 64,
   "id": "698a1f3e-8005-4cc1-aa0d-e2c1622c97fa",
   "metadata": {
    "tags": []
   },
   "outputs": [
    {
     "name": "stdout",
     "output_type": "stream",
     "text": [
      "\u001b[34mINFO    \u001b[0m File \u001b[35m/root/datos/maestria/netopaas/lung_scRNA/HCA_Lung/HLCA_reference_model/\u001b[0m\u001b[95mmodel.pt\u001b[0m already downloaded   \n"
     ]
    },
    {
     "name": "stderr",
     "output_type": "stream",
     "text": [
      "WARNING:jax._src.xla_bridge:No GPU/TPU found, falling back to CPU. (Set TF_CPP_MIN_LOG_LEVEL=0 and rerun for more info.)\n"
     ]
    }
   ],
   "source": [
    "surgery_model = sca.models.SCANVI.load_query_data(\n",
    "        adata_query,\n",
    "        ref_model_path,\n",
    "        freeze_dropout = True,\n",
    "    )"
   ]
  },
  {
   "cell_type": "code",
   "execution_count": null,
   "id": "97abe3e4-0855-4b1a-b455-120e1f1800a9",
   "metadata": {
    "tags": []
   },
   "outputs": [
    {
     "name": "stdout",
     "output_type": "stream",
     "text": [
      "\u001b[34mINFO    \u001b[0m Training for \u001b[1;36m100\u001b[0m epochs.                                                                                  \n"
     ]
    },
    {
     "name": "stderr",
     "output_type": "stream",
     "text": [
      "INFO: GPU available: True (cuda), used: True\n",
      "INFO:lightning.pytorch.utilities.rank_zero:GPU available: True (cuda), used: True\n",
      "INFO: TPU available: False, using: 0 TPU cores\n",
      "INFO:lightning.pytorch.utilities.rank_zero:TPU available: False, using: 0 TPU cores\n",
      "INFO: IPU available: False, using: 0 IPUs\n",
      "INFO:lightning.pytorch.utilities.rank_zero:IPU available: False, using: 0 IPUs\n",
      "INFO: HPU available: False, using: 0 HPUs\n",
      "INFO:lightning.pytorch.utilities.rank_zero:HPU available: False, using: 0 HPUs\n",
      "INFO: LOCAL_RANK: 0 - CUDA_VISIBLE_DEVICES: [0]\n",
      "INFO:lightning.pytorch.accelerators.cuda:LOCAL_RANK: 0 - CUDA_VISIBLE_DEVICES: [0]\n"
     ]
    },
    {
     "name": "stdout",
     "output_type": "stream",
     "text": [
      "Epoch 10/100:   9%|█████████▋                                                                                                  | 9/100 [01:46<17:56, 11.83s/it, v_num=1, train_loss_step=607, train_loss_epoch=605]"
     ]
    }
   ],
   "source": [
    "%%time\n",
    "surgery_model.train(\n",
    "     max_epochs=surgery_epochs,\n",
    "    **early_stopping_kwargs_surgery\n",
    ")"
   ]
  },
  {
   "cell_type": "code",
   "execution_count": null,
   "id": "e4ff24cb-8d9c-4633-a5ca-6805b2e0061c",
   "metadata": {
    "tags": []
   },
   "outputs": [],
   "source": [
    "surgery_model.save(f'{backup_dir}/surgeries/{name}', overwrite=True)\n",
    "# surgery_model = sca.models.SCANVI.load(f'{backup_dir}/surgeries/{name}/', adata_query)"
   ]
  },
  {
   "cell_type": "markdown",
   "id": "3cdbf47e-9b51-4317-ba40-64251595decd",
   "metadata": {},
   "source": [
    "### Get latent representation\n",
    "Here we will calculate the “latent representation”, or “low-dimensional embedding” of your dataset. This embedding is in the same space as the HLCA core/reference embedding that you loaded in the beginning of the script. Hence, we can combine the two embeddings afterwards (HLCA + your new data), and do joint clustering, UMAP embedding, label transfer etc.!"
   ]
  },
  {
   "cell_type": "code",
   "execution_count": null,
   "id": "97e0bda1-9cea-4b53-a4cc-677ecfac0b44",
   "metadata": {
    "tags": []
   },
   "outputs": [],
   "source": [
    "adata_query_latent = sc.AnnData(surgery_model.get_latent_representation(adata_query))\n",
    "adata_query_latent.obs = adata_query.obs.loc[adata_query.obs.index,:]"
   ]
  },
  {
   "cell_type": "code",
   "execution_count": null,
   "id": "df37d67f-96b1-4d8a-9fcd-22c84a72dcae",
   "metadata": {},
   "outputs": [],
   "source": [
    "adata_query_latent.write_h5ad(f'{backup_dir}/surgeries/latent_{name}.h5ad')\n",
    "# adata_query_latent = sc.read_h5ad(f'{backup_dir}/surgeries/latent_{name}.h5ad')"
   ]
  },
  {
   "cell_type": "markdown",
   "id": "c6847d36-6788-4481-96ca-d87aae4f1202",
   "metadata": {},
   "source": [
    "### Combine embeddings\n",
    "We add “reference or query” metadata to acquire more information and better analyse the integration level."
   ]
  },
  {
   "cell_type": "code",
   "execution_count": null,
   "id": "5c314e1e-0283-43f8-8e12-1dcc4cd8b2a5",
   "metadata": {
    "tags": []
   },
   "outputs": [],
   "source": [
    "adata_query_latent.obs['ref_or_query'] = \"query\"\n",
    "adata_ref.obs['ref_or_query'] = \"ref\""
   ]
  },
  {
   "cell_type": "markdown",
   "id": "89c3b9b3-b7f0-4572-9f3c-0794ef5382ab",
   "metadata": {},
   "source": [
    "We will now combine the two embeddings to enable joing clustering etc. If you expect non-unique barcodes (.obs index), set index_unique to e.g. “_” and batch_key to the obs column that you want to use as barcode suffix (e.g. “dataset”)."
   ]
  },
  {
   "cell_type": "code",
   "execution_count": null,
   "id": "4ffae0b0-da92-421d-801d-10ab73b5167a",
   "metadata": {
    "tags": []
   },
   "outputs": [],
   "source": [
    "combined_emb = adata_ref.concatenate(adata_query_latent, index_unique=None) # index_unique=\"_\", batch_key=\"dataset\") # alternative"
   ]
  },
  {
   "cell_type": "code",
   "execution_count": null,
   "id": "dc9e3394-d4c4-4e77-a9a7-ea2c7f26067c",
   "metadata": {
    "tags": []
   },
   "outputs": [],
   "source": [
    "# We save the combined embeddings (optional).\n",
    "combined_emb.write_h5ad(f'{backup_dir}/surgeries/combined_{name}.h5ad')\n",
    "# combined_emb = sc.read_h5ad(f'{backup_dir}/surgeries/combined_{name}.h5ad')"
   ]
  },
  {
   "cell_type": "markdown",
   "id": "56da764e-5c68-4507-ba5c-4a383db0a0de",
   "metadata": {},
   "source": [
    "Note that if wanted, this embedding can be added to the full, joint HLCA + query data object (including gene counts). The full HLCA, including normalized counts is publicly available. For now, we will just work with the embedding, since that is all we need to perform joint plotting and label transfer."
   ]
  },
  {
   "cell_type": "markdown",
   "id": "6a7f9e57-6b4d-4fdf-a48b-121b4e1ffd36",
   "metadata": {},
   "source": [
    "### Label transfer\n",
    "Next, we use a knn classifier to transfer the lables from the reference to the query. We do this for every level of the annotation (i.e. level 1-5). Note that some cell types don’t have annotations for higher levels, e.g. mast cells do not have level 4 or 5 annotations. For those cell types, we “propagate” to the higher levels, i.e. you will see “3_Mast cells” in level 4 and 5 annotations. (Most cell types don’t have a level 5 annotation!) Therefore, all highest level annotations can be found under level 5."
   ]
  },
  {
   "cell_type": "code",
   "execution_count": null,
   "id": "7283c085-b605-454c-86cf-15c45735bf6a",
   "metadata": {
    "tags": []
   },
   "outputs": [],
   "source": [
    "celltypes = f'{data_dir}/HCA_Lung/HLCA_celltypes_ordered.csv'"
   ]
  },
  {
   "cell_type": "code",
   "execution_count": null,
   "id": "0d0a5d9e-72e8-4ccb-9398-be05ea2d6bd0",
   "metadata": {
    "tags": []
   },
   "outputs": [],
   "source": [
    "# url = 'https://github.com/LungCellAtlas/mapping_data_to_the_HLCA/raw/main/supporting_files/HLCA_celltypes_ordered.csv'\n",
    "# gdown.download(url, celltypes, quiet=False)"
   ]
  },
  {
   "cell_type": "code",
   "execution_count": null,
   "id": "e3d074e5-38aa-45b7-a6ba-a80e67f7b54c",
   "metadata": {},
   "outputs": [],
   "source": [
    "cts_ordered = read_csv(celltypes,index_col=0)"
   ]
  },
  {
   "cell_type": "code",
   "execution_count": null,
   "id": "9bfd58c3-088a-47db-9f8d-5411b454dbea",
   "metadata": {
    "tags": []
   },
   "outputs": [],
   "source": [
    "#Now run the label transfer commands. Note that this might take quite a while if you have a large query dataset! For our small test dataset, it should not take long.\n",
    "\n",
    "knn_transformer = sca.utils.knn.weighted_knn_trainer(\n",
    "    train_adata=adata_ref,\n",
    "    train_adata_emb=\"X\",\n",
    "    n_neighbors=50,\n",
    ")"
   ]
  },
  {
   "cell_type": "code",
   "execution_count": null,
   "id": "73e6c461-71f6-4580-a856-34aa2164a955",
   "metadata": {
    "tags": []
   },
   "outputs": [],
   "source": [
    "%%time\n",
    "\n",
    "labels, uncert = sca.utils.knn.weighted_knn_transfer(\n",
    "    query_adata=adata_query_latent,\n",
    "    query_adata_emb=\"X\", # location of our joint embedding\n",
    "    label_keys=\"Level\",\n",
    "    knn_model=knn_transformer,\n",
    "    ref_adata_obs = adata_ref.obs.join(cts_ordered, on='ann_finest_level')\n",
    "    )"
   ]
  },
  {
   "cell_type": "markdown",
   "id": "61a88827-9b77-4069-87c0-01b0c15aab81",
   "metadata": {},
   "source": [
    "With the commands above, we labeled every cell from the query. However, some cells might have high label transfer uncertainty. It is useful to set those to “unknown” instead of giving them a cell type label. This will help highlight cell types/states that are new (i.e. not present in the reference) and possible interesting, they’re worth taking a careful look at!\n",
    "\n",
    "This uncertainty threshold limits the false positive rate to <0.5 (as per Sikkema et al., bioRxiv 2022)"
   ]
  },
  {
   "cell_type": "code",
   "execution_count": null,
   "id": "ba4412a2-d14a-42fc-b1fc-85ff6233dc0b",
   "metadata": {},
   "outputs": [],
   "source": [
    "uncertainty_threshold = 0.2"
   ]
  },
  {
   "cell_type": "code",
   "execution_count": null,
   "id": "a08b2488-6feb-4bed-b29d-b73b482b4c66",
   "metadata": {
    "tags": []
   },
   "outputs": [],
   "source": [
    "labels.rename(columns={f'Level_{lev}':f'Level_{lev}_transfered_label_unfiltered' for lev in range(1,6)},inplace=True)\n",
    "uncert.rename(columns={f'Level_{lev}':f'Level_{lev}_transfer_uncert' for lev in range(1,6)},inplace=True)\n",
    "\n",
    "combined_emb.obs = combined_emb.obs.join(labels)\n",
    "combined_emb.obs = combined_emb.obs.join(uncert)"
   ]
  },
  {
   "cell_type": "code",
   "execution_count": null,
   "id": "a36b54d4-aeed-4b58-960d-df9c7a3a03cb",
   "metadata": {},
   "outputs": [],
   "source": [
    "t_labels = [f'Level_{lev}_transfered_label_unfiltered' for lev in range(1,6)]\n",
    "t_uncert = [f'Level_{lev}_transfer_uncert' for lev in range(1,6)]"
   ]
  },
  {
   "cell_type": "markdown",
   "id": "6e90c717-f1e5-4e49-9a00-41ee010c242e",
   "metadata": {},
   "source": [
    "Convert uncertainties to arrays"
   ]
  },
  {
   "cell_type": "code",
   "execution_count": null,
   "id": "37259c3a-c34a-42be-917c-0a747afc1311",
   "metadata": {},
   "outputs": [],
   "source": [
    "combined_emb.obs[t_uncert] = list(np.array(combined_emb.obs[t_uncert]))"
   ]
  },
  {
   "cell_type": "markdown",
   "id": "2ccac6fd-22c2-4205-922c-d88db92c4345",
   "metadata": {},
   "source": [
    "Convert cell type labels to categoricals, and set “nan” to NaN"
   ]
  },
  {
   "cell_type": "code",
   "execution_count": null,
   "id": "03f1ad60-afba-4c70-b9d8-967c6c60c689",
   "metadata": {
    "tags": []
   },
   "outputs": [],
   "source": [
    "def remove_uncert_types(combined_emb):\n",
    "    import pandas as pd\n",
    "    t_labels = [f'Level_{lev}_transfered_label_unfiltered' for lev in range(1,6)]\n",
    "    t_uncert = [f'Level_{lev}_transfer_uncert' for lev in range(1,6)]\n",
    "    \n",
    "    combined_emb.obs[t_uncert] = list(np.array(combined_emb.obs[t_uncert]))\n",
    "\n",
    "    for col, uncert in zip(t_labels,t_uncert):\n",
    "        filtered_colname = col.replace('_unfiltered','')\n",
    "        # too high uncertainty levels => set to \"Unknown\"\n",
    "        combined_emb.obs[filtered_colname] = combined_emb.obs[col]\n",
    "        combined_emb.obs[filtered_colname] = combined_emb.obs[filtered_colname].astype('str')\n",
    "        combined_emb.obs[filtered_colname].mask(\n",
    "            combined_emb.obs[uncert] > uncertainty_threshold,\n",
    "            'Unknown',\n",
    "            inplace = True)\n",
    "\n",
    "        # convert to categorical:\n",
    "        combined_emb.obs[col] = pd.Categorical(combined_emb.obs[col])\n",
    "        combined_emb.obs[filtered_colname] = pd.Categorical(combined_emb.obs[filtered_colname])\n",
    "        # then replace \"nan\" with NaN (that makes colors better in umap)\n",
    "        combined_emb.obs[col].replace('nan',np.nan,inplace=True)\n",
    "        combined_emb.obs[filtered_colname].replace('nan',np.nan,inplace=True)\n",
    "    return combined_emb"
   ]
  },
  {
   "cell_type": "code",
   "execution_count": null,
   "id": "dcd748c0-7279-4ad9-9a1e-b707d461249d",
   "metadata": {},
   "outputs": [],
   "source": [
    "combined_emb.obs['original_ann_level_2']"
   ]
  },
  {
   "cell_type": "code",
   "execution_count": null,
   "id": "d44b39e4-7de2-42ab-bc02-96b21afb1469",
   "metadata": {},
   "outputs": [],
   "source": [
    "remove_uncert_types(combined_emb)"
   ]
  },
  {
   "cell_type": "markdown",
   "id": "cae115da-c6b1-4db3-a9fe-b69f5e3d3d91",
   "metadata": {},
   "source": [
    "Let’s take a look at the percentage of cells set to “unknown” after our filtering:"
   ]
  },
  {
   "cell_type": "code",
   "execution_count": null,
   "id": "cf04974e-88b8-4c61-af77-35bef7c156ee",
   "metadata": {},
   "outputs": [],
   "source": [
    "print(f'Percentage of unknown per level, with uncertainty_threshold={uncertainty_threshold}:')\n",
    "for level in range(1,6):\n",
    "    print(f\"Level {level}: {np.round(sum(combined_emb.obs[f'Level_{level}_transfered_label'] =='Unknown')/adata_query.n_obs*100,2)}%\")\n",
    "\n"
   ]
  },
  {
   "cell_type": "markdown",
   "id": "a303f893-5f3d-4c5d-b498-a3b564886e68",
   "metadata": {},
   "source": [
    "### UMAP\n",
    "\n",
    "The UMAP plots help us perform downstream analysis, like clustering, label transfer, integration and more.\n",
    "\n",
    "#### UMAP Query vs. Reference"
   ]
  },
  {
   "cell_type": "code",
   "execution_count": null,
   "id": "3e879fc9-bcae-47c4-93a5-30cf4ff3d562",
   "metadata": {},
   "outputs": [],
   "source": [
    "# We save the combined embeddings (optional).\n",
    "combined_emb.write_h5ad(f'{backup_dir}/surgeries/combined_{name}.h5ad')\n",
    "# combined_emb = sc.read_h5ad(f'{backup_dir}/surgeries/combined_{name}.h5ad')"
   ]
  },
  {
   "cell_type": "code",
   "execution_count": null,
   "id": "121f2077-a70d-471d-8ecc-93c654d9a9df",
   "metadata": {
    "tags": []
   },
   "outputs": [],
   "source": [
    "sc.pp.neighbors(combined_emb, n_neighbors=30)\n",
    "sc.tl.umap(combined_emb)"
   ]
  },
  {
   "cell_type": "code",
   "execution_count": null,
   "id": "9e9c9b3c-afd7-4a84-a2d2-0df44e71c18d",
   "metadata": {},
   "outputs": [],
   "source": [
    "# We save the combined embeddings (optional).\n",
    "combined_emb.write_h5ad(f'{backup_dir}/surgeries/combined_{name}.h5ad')"
   ]
  },
  {
   "cell_type": "code",
   "execution_count": null,
   "id": "65a7de95-3fc4-4ee6-ac23-2c9f90094ff0",
   "metadata": {},
   "outputs": [],
   "source": [
    "# import scanpy as sc\n",
    "# combined_emb = sc.read_h5ad(f'{backup_dir}/surgeries/combined_{name}.h5ad')"
   ]
  },
  {
   "cell_type": "code",
   "execution_count": null,
   "id": "3c7d89f1-755e-4f88-a82d-7950467edc0f",
   "metadata": {},
   "outputs": [],
   "source": [
    "sc.pl.umap(\n",
    "        combined_emb,\n",
    "        color='ref_or_query',\n",
    "        frameon=False,\n",
    "        wspace=0.6\n",
    "        )"
   ]
  },
  {
   "cell_type": "markdown",
   "id": "6ea394f8-e32a-4f1a-8761-7185043e7e8e",
   "metadata": {},
   "source": [
    "#### UMAP Uncertainties\n",
    "\n",
    "Here we show label transfer uncertainties per level. Regions with high uncertainty can highlight interesting cell types/states, not present in the reference. Note that uncertainties will get higher, the more detailed we go:"
   ]
  },
  {
   "cell_type": "code",
   "execution_count": null,
   "id": "83449a7a-4771-4a48-8e2f-46b5984c123f",
   "metadata": {},
   "outputs": [],
   "source": [
    "sc.pl.umap(\n",
    "    combined_emb,\n",
    "    color=[f'Level_{lev}_transfer_uncert' for lev in range(1,6)],\n",
    "    ncols=3,\n",
    "    frameon=False,\n",
    "    )"
   ]
  },
  {
   "cell_type": "code",
   "execution_count": null,
   "id": "32cf9ed9-f4ec-45c4-976e-2bac9f98ccaa",
   "metadata": {},
   "outputs": [],
   "source": [
    "sc.pl.umap(\n",
    "        combined_emb,\n",
    "        color=[f\"Level_{lev}_transfered_label_unfiltered\" for lev in range(1,6)],\n",
    "        na_color=\"grey\",\n",
    "        ncols=1,\n",
    "        size=0.5\n",
    ")"
   ]
  },
  {
   "cell_type": "code",
   "execution_count": null,
   "id": "1aee533b-c643-423f-9a3d-7c9137573b3d",
   "metadata": {},
   "outputs": [],
   "source": [
    "sc.pl.umap(\n",
    "        combined_emb,\n",
    "        color=\"original_ann_level_3\",\n",
    "        na_color=\"grey\",\n",
    "        ncols=1,\n",
    "        size=0.5\n",
    ")"
   ]
  },
  {
   "cell_type": "code",
   "execution_count": null,
   "id": "c8907a2a-e956-4625-b2ea-94e0302e8182",
   "metadata": {},
   "outputs": [],
   "source": []
  }
 ],
 "metadata": {
  "kernelspec": {
   "display_name": "Python 3 (ipykernel)",
   "language": "python",
   "name": "python3"
  },
  "language_info": {
   "codemirror_mode": {
    "name": "ipython",
    "version": 3
   },
   "file_extension": ".py",
   "mimetype": "text/x-python",
   "name": "python",
   "nbconvert_exporter": "python",
   "pygments_lexer": "ipython3",
   "version": "3.11.4"
  }
 },
 "nbformat": 4,
 "nbformat_minor": 5
}
