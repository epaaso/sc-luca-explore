{
 "cells": [
  {
   "cell_type": "code",
   "execution_count": 1,
   "id": "cfbda55a-3fa9-47dd-91fa-c9111e1aa748",
   "metadata": {},
   "outputs": [],
   "source": [
    "import anndata\n",
    "import scanpy as sc\n",
    "from pandas import read_csv\n",
    "from scanpy_helpers.integration import normalize_by_gene_length"
   ]
  },
  {
   "cell_type": "code",
   "execution_count": 3,
   "id": "37fd259a-8cfb-40ba-a9f0-0f16e5eb7b97",
   "metadata": {},
   "outputs": [
    {
     "data": {
      "text/html": [
       "<div>\n",
       "<style scoped>\n",
       "    .dataframe tbody tr th:only-of-type {\n",
       "        vertical-align: middle;\n",
       "    }\n",
       "\n",
       "    .dataframe tbody tr th {\n",
       "        vertical-align: top;\n",
       "    }\n",
       "\n",
       "    .dataframe thead th {\n",
       "        text-align: right;\n",
       "    }\n",
       "</style>\n",
       "<table border=\"1\" class=\"dataframe\">\n",
       "  <thead>\n",
       "    <tr style=\"text-align: right;\">\n",
       "      <th></th>\n",
       "      <th>id</th>\n",
       "      <th>input_adata</th>\n",
       "      <th>min_counts</th>\n",
       "      <th>max_counts</th>\n",
       "      <th>min_genes</th>\n",
       "      <th>max_genes</th>\n",
       "      <th>max_pct_mito</th>\n",
       "      <th>batch_key</th>\n",
       "      <th>run_solo</th>\n",
       "      <th>no_cancer</th>\n",
       "    </tr>\n",
       "  </thead>\n",
       "  <tbody>\n",
       "  </tbody>\n",
       "</table>\n",
       "</div>"
      ],
      "text/plain": [
       "Empty DataFrame\n",
       "Columns: [id, input_adata, min_counts, max_counts, min_genes, max_genes, max_pct_mito, batch_key, run_solo, no_cancer]\n",
       "Index: []"
      ]
     },
     "execution_count": 3,
     "metadata": {},
     "output_type": "execute_result"
    }
   ],
   "source": [
    "id_row"
   ]
  },
  {
   "cell_type": "code",
   "execution_count": 4,
   "id": "0a2c847d-8b5a-4e9f-8641-97a9616d65e1",
   "metadata": {},
   "outputs": [],
   "source": [
    "filters = read_csv('samplesheet_scrnaseq_preprocessing2.csv')\n",
    "\n",
    "dataset_str = 'UKIM-V-2'\n",
    "\n",
    "id_row = filters[filters.id == dataset_str]\n",
    "file_str = id_row.input_adata.iloc[0].split('/')[-1]"
   ]
  },
  {
   "cell_type": "code",
   "execution_count": 7,
   "id": "b4e81a22-a4b1-4a07-a801-cb3c5abdcafa",
   "metadata": {},
   "outputs": [],
   "source": [
    "thresholds = {}\n",
    "thresholds['min_counts']  = int(id_row.min_counts)\n",
    "thresholds['max_counts'] = int(id_row.max_counts)\n",
    "thresholds['min_genes'] = int(id_row.min_genes)\n",
    "thresholds['max_genes'] = int(id_row.max_genes)\n",
    "thresholds['max_pct_mito'] = int(id_row.max_pct_mito)\n",
    "\n",
    "adata = anndata.read_h5ad(f'/root/datos/maestria/netopaas/luca/data/11_own_datasets/batch2/h5ad_raw/{file_str}')"
   ]
  },
  {
   "cell_type": "code",
   "execution_count": 20,
   "id": "7c93cc46-477f-4d79-887e-e8f85dc6c7e9",
   "metadata": {},
   "outputs": [
    {
     "data": {
      "text/plain": [
       "cell_id\n",
       "171536_0     P4_normal_adjacent\n",
       "290658_0     P4_normal_adjacent\n",
       "228248_0     P4_normal_adjacent\n",
       "104144_0     P4_normal_adjacent\n",
       "254449_0     P4_normal_adjacent\n",
       "                    ...        \n",
       "786913_27     P17_tumor_primary\n",
       "280328_27     P17_tumor_primary\n",
       "143142_27     P17_tumor_primary\n",
       "7593_27       P17_tumor_primary\n",
       "570844_27     P17_tumor_primary\n",
       "Name: sample, Length: 153239, dtype: category\n",
       "Categories (28, object): ['P4_normal_adjacent', 'P4_tumor_primary', 'P5_normal_adjacent', 'P5_tumor_primary', ..., 'P16_normal_adjacent', 'P16_tumor_primary', 'P17_normal_adjacent', 'P17_tumor_primary']"
      ]
     },
     "execution_count": 20,
     "metadata": {},
     "output_type": "execute_result"
    }
   ],
   "source": [
    "adata.obs['sample']"
   ]
  },
  {
   "cell_type": "code",
   "execution_count": 5,
   "id": "98dc0168-7985-42c5-a20b-7ec88fa9dfff",
   "metadata": {
    "tags": []
   },
   "outputs": [
    {
     "name": "stdout",
     "output_type": "stream",
     "text": [
      "Filtering genes\n",
      "    Before: 29984\n",
      "    After: 26636\n",
      "Filter by min_counts\n",
      "    Before: 36134\n",
      "    After: 34898\n",
      "Filter by max_counts\n",
      "    Before: 34898\n",
      "    After: 34505\n",
      "Filter by min_genes\n",
      "    Before: 34505\n",
      "    After: 30966\n",
      "Filter by max_genes\n",
      "    Before: 30966\n",
      "    After: 30966\n",
      "Filter by max_pct_mito\n",
      "    Before: 30966\n",
      "    After: 25005\n"
     ]
    }
   ],
   "source": [
    "# very basic gene filtering - genes with 0 cells cause some downstream processes to fail.\n",
    "print(\"Filtering genes\")\n",
    "print(f\"    Before: {adata.shape[1]}\")\n",
    "sc.pp.filter_genes(adata, min_counts=3)\n",
    "print(f\"    After: {adata.shape[1]}\")\n",
    "\n",
    "# %%\n",
    "# Apply thresholds\n",
    "print(\"Filter by min_counts\")\n",
    "print(f\"    Before: {adata.shape[0]}\")\n",
    "sc.pp.filter_cells(adata, min_counts=thresholds[\"min_counts\"])\n",
    "print(f\"    After: {adata.shape[0]}\")\n",
    "\n",
    "\n",
    "print(\"Filter by max_counts\")\n",
    "print(f\"    Before: {adata.shape[0]}\")\n",
    "sc.pp.filter_cells(adata, max_counts=thresholds[\"max_counts\"])\n",
    "print(f\"    After: {adata.shape[0]}\")\n",
    "\n",
    "\n",
    "print(\"Filter by min_genes\")\n",
    "print(f\"    Before: {adata.shape[0]}\")\n",
    "sc.pp.filter_cells(adata, min_genes=thresholds[\"min_genes\"])\n",
    "print(f\"    After: {adata.shape[0]}\")\n",
    "\n",
    "\n",
    "print(\"Filter by max_genes\")\n",
    "print(f\"    Before: {adata.shape[0]}\")\n",
    "sc.pp.filter_cells(adata, max_genes=thresholds[\"max_genes\"])\n",
    "print(f\"    After: {adata.shape[0]}\")\n",
    "\n",
    "# %%\n",
    "if \"mito\" not in adata.var.columns:\n",
    "    adata.var[\"mito\"] = adata.var_names.str.lower().str.startswith(\"mt-\")\n",
    "\n",
    "# %%\n",
    "sc.pp.calculate_qc_metrics(\n",
    "    adata, qc_vars=(\"mito\",), log1p=False, inplace=True, percent_top=None\n",
    ")\n",
    "\n",
    "print(\"Filter by max_pct_mito\")\n",
    "print(f\"    Before: {adata.shape[0]}\")\n",
    "adata = adata[adata.obs[\"pct_counts_mito\"] < thresholds[\"max_pct_mito\"]].copy()\n",
    "print(f\"    After: {adata.shape[0]}\")"
   ]
  },
  {
   "cell_type": "code",
   "execution_count": 6,
   "id": "a7b9bae4-9184-40f9-8da7-be833ee1ccb6",
   "metadata": {},
   "outputs": [
    {
     "name": "stderr",
     "output_type": "stream",
     "text": [
      "/opt/python/lib/python3.8/site-packages/scanpy/preprocessing/_simple.py:843: UserWarning: Revieved a view of an AnnData. Making a copy.\n",
      "  view_to_actual(adata)\n"
     ]
    },
    {
     "data": {
      "image/png": "[encoded data removed]",
      "text/plain": [
       "<Figure size 432x288 with 1 Axes>"
      ]
     },
     "metadata": {},
     "output_type": "display_data"
    }
   ],
   "source": [
    "# Normalize the counts to 10,000 reads per cell\n",
    "sc.pp.normalize_total(adata, target_sum=1e6)\n",
    "\n",
    "# Logarithmize the data\n",
    "sc.pp.log1p(adata)\n",
    "\n",
    "# Identify highly-variable genes\n",
    "sc.pp.highly_variable_genes(adata)\n",
    "\n",
    "# Keep only highly variable genes\n",
    "adata = adata[:, adata.var.highly_variable]\n",
    "\n",
    "# Scale the data to unit variance and zero mean\n",
    "sc.pp.scale(adata, max_value=10)\n",
    "\n",
    "# Perform PCA\n",
    "sc.tl.pca(adata, svd_solver='arpack')\n",
    "\n",
    "sc.pp.neighbors(adata)\n",
    "sc.tl.leiden(adata, resolution=0.3)\n",
    "# Visualize the PCA result\n",
    "sc.pl.pca(adata, color='leiden')"
   ]
  },
  {
   "cell_type": "code",
   "execution_count": 7,
   "id": "fe5fe3f0-37c2-483b-be18-4ef0619fa1bd",
   "metadata": {},
   "outputs": [],
   "source": [
    "adata.write_h5ad(f'/root/datos/maestria/netopaas/luca/data/pcas/{file_str}')"
   ]
  },
  {
   "cell_type": "code",
   "execution_count": null,
   "id": "6b32beb6-9186-44e7-9037-497dc3d745d5",
   "metadata": {},
   "outputs": [],
   "source": []
  }
 ],
 "metadata": {
  "kernelspec": {
   "display_name": "Python 3 (ipykernel)",
   "language": "python",
   "name": "python3"
  },
  "language_info": {
   "codemirror_mode": {
    "name": "ipython",
    "version": 3
   },
   "file_extension": ".py",
   "mimetype": "text/x-python",
   "name": "python",
   "nbconvert_exporter": "python",
   "pygments_lexer": "ipython3",
   "version": "3.8.12"
  }
 },
 "nbformat": 4,
 "nbformat_minor": 5
}
