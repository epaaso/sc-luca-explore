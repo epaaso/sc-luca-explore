{
 "cells": [
  {
   "cell_type": "code",
   "execution_count": 1,
   "id": "cf5779bd-bb92-4608-82c0-a780b9eec6c1",
   "metadata": {
    "execution": {
     "iopub.execute_input": "2023-12-05T02:10:22.213131Z",
     "iopub.status.busy": "2023-12-05T02:10:22.212486Z",
     "iopub.status.idle": "2023-12-05T02:10:22.233696Z",
     "shell.execute_reply": "2023-12-05T02:10:22.231937Z"
    },
    "papermill": {
     "duration": 0.213666,
     "end_time": "2023-12-05T02:10:22.333996",
     "exception": false,
     "start_time": "2023-12-05T02:10:22.120330",
     "status": "completed"
    },
    "tags": [
     "parameters"
    ]
   },
   "outputs": [],
   "source": [
    "filters_path = 'dsets.csv'\n",
    "dataset_str = 'Laughney_Massague_2020_NSCLC'\n",
    "adatas_path = '/root/datos/maestria/netopaas/luca/data/12_input_adatas'\n",
    "\n",
    "\n",
    "data_dir = '/root/datos/maestria/netopaas/lung_scRNA'\n",
    "backup_dir = '/root/datos/maestria/netopaas/luca_explore'\n",
    "ref_model_path = f'{data_dir}/HCA_Lung/HLCA_reference_model'"
   ]
  },
  {
   "cell_type": "code",
   "execution_count": 2,
   "id": "a9de0642",
   "metadata": {
    "execution": {
     "iopub.execute_input": "2023-12-05T02:10:22.489854Z",
     "iopub.status.busy": "2023-12-05T02:10:22.488971Z",
     "iopub.status.idle": "2023-12-05T02:10:22.496524Z",
     "shell.execute_reply": "2023-12-05T02:10:22.495007Z"
    },
    "papermill": {
     "duration": 0.059304,
     "end_time": "2023-12-05T02:10:22.510294",
     "exception": false,
     "start_time": "2023-12-05T02:10:22.450990",
     "status": "completed"
    },
    "tags": [
     "injected-parameters"
    ]
   },
   "outputs": [],
   "source": [
    "# Parameters\n",
    "dataset_str = \"Zilionis_Klein_2019_NSCLC\"\n"
   ]
  },
  {
   "cell_type": "code",
   "execution_count": 3,
   "id": "9beab61a-701d-4810-9684-e60139c70427",
   "metadata": {
    "execution": {
     "iopub.execute_input": "2023-12-05T02:10:22.532620Z",
     "iopub.status.busy": "2023-12-05T02:10:22.531761Z",
     "iopub.status.idle": "2023-12-05T02:10:35.207357Z",
     "shell.execute_reply": "2023-12-05T02:10:35.206082Z"
    },
    "papermill": {
     "duration": 12.70676,
     "end_time": "2023-12-05T02:10:35.227594",
     "exception": false,
     "start_time": "2023-12-05T02:10:22.520834",
     "status": "completed"
    },
    "tags": []
   },
   "outputs": [
    {
     "name": "stderr",
     "output_type": "stream",
     "text": [
      "WARNING:root:In order to use the mouse gastrulation seqFISH datsets, please install squidpy (see https://github.com/scverse/squidpy).\n"
     ]
    },
    {
     "name": "stderr",
     "output_type": "stream",
     "text": [
      "/usr/local/lib/python3.11/site-packages/scvi/_settings.py:63: UserWarning: Since v1.0.0, scvi-tools no longer uses a random seed by default. Run `scvi.settings.seed = 0` to reproduce results from previous versions.\n",
      "  self.seed = seed\n",
      "/usr/local/lib/python3.11/site-packages/scvi/_settings.py:70: UserWarning: Setting `dl_pin_memory_gpu_training` is deprecated in v1.0 and will be removed in v1.1. Please pass in `pin_memory` to the data loaders instead.\n",
      "  self.dl_pin_memory_gpu_training = (\n"
     ]
    },
    {
     "name": "stderr",
     "output_type": "stream",
     "text": [
      "2023-12-05 02:10:33.114673: E external/local_xla/xla/stream_executor/cuda/cuda_dnn.cc:9261] Unable to register cuDNN factory: Attempting to register factory for plugin cuDNN when one has already been registered\n",
      "2023-12-05 02:10:33.114725: E external/local_xla/xla/stream_executor/cuda/cuda_fft.cc:607] Unable to register cuFFT factory: Attempting to register factory for plugin cuFFT when one has already been registered\n",
      "2023-12-05 02:10:33.116530: E external/local_xla/xla/stream_executor/cuda/cuda_blas.cc:1515] Unable to register cuBLAS factory: Attempting to register factory for plugin cuBLAS when one has already been registered\n"
     ]
    },
    {
     "name": "stderr",
     "output_type": "stream",
     "text": [
      "2023-12-05 02:10:34.097792: W tensorflow/compiler/tf2tensorrt/utils/py_utils.cc:38] TF-TRT Warning: Could not find TensorRT\n"
     ]
    },
    {
     "name": "stderr",
     "output_type": "stream",
     "text": [
      "WARNING:root:In order to use sagenet models, please install pytorch geometric (see https://pytorch-geometric.readthedocs.io) and \n",
      " captum (see https://github.com/pytorch/captum).\n"
     ]
    },
    {
     "name": "stderr",
     "output_type": "stream",
     "text": [
      "WARNING:root:mvTCR is not installed. To use mvTCR models, please install it first using \"pip install mvtcr\"\n"
     ]
    },
    {
     "name": "stderr",
     "output_type": "stream",
     "text": [
      "WARNING:root:multigrate is not installed. To use multigrate models, please install it first using \"pip install multigrate\".\n"
     ]
    }
   ],
   "source": [
    "import gdown\n",
    "import gzip\n",
    "import shutil\n",
    "\n",
    "import pandas as pd\n",
    "import numpy as np\n",
    "from scipy import sparse\n",
    "\n",
    "import anndata as ad\n",
    "import scanpy as sc\n",
    "\n",
    "sc.settings.set_figure_params(dpi=200, frameon=False)\n",
    "sc.set_figure_params(dpi=200)\n",
    "sc.set_figure_params(figsize=(4, 4))\n",
    "\n",
    "import scarches as sca\n",
    "\n",
    "import sys, os\n",
    "sys.path.append(os.path.join(os.getcwd(), './utils'))\n",
    "from functions import remove_repeated_var_inds, join_map_mart"
   ]
  },
  {
   "cell_type": "code",
   "execution_count": 4,
   "id": "b4e81a22-a4b1-4a07-a801-cb3c5abdcafa",
   "metadata": {
    "execution": {
     "iopub.execute_input": "2023-12-05T02:10:35.264286Z",
     "iopub.status.busy": "2023-12-05T02:10:35.262933Z",
     "iopub.status.idle": "2023-12-05T02:10:37.308067Z",
     "shell.execute_reply": "2023-12-05T02:10:37.302779Z"
    },
    "papermill": {
     "duration": 2.065137,
     "end_time": "2023-12-05T02:10:37.313161",
     "exception": false,
     "start_time": "2023-12-05T02:10:35.248024",
     "status": "completed"
    },
    "tags": []
   },
   "outputs": [
    {
     "name": "stderr",
     "output_type": "stream",
     "text": [
      "/tmp/ipykernel_65381/1474169997.py:6: FutureWarning: Calling int on a single element Series is deprecated and will raise a TypeError in the future. Use int(ser.iloc[0]) instead\n",
      "  thresholds['min_counts']  = int(id_row.min_counts)\n",
      "/tmp/ipykernel_65381/1474169997.py:7: FutureWarning: Calling int on a single element Series is deprecated and will raise a TypeError in the future. Use int(ser.iloc[0]) instead\n",
      "  thresholds['max_counts'] = int(id_row.max_counts)\n",
      "/tmp/ipykernel_65381/1474169997.py:8: FutureWarning: Calling int on a single element Series is deprecated and will raise a TypeError in the future. Use int(ser.iloc[0]) instead\n",
      "  thresholds['min_genes'] = int(id_row.min_genes)\n",
      "/tmp/ipykernel_65381/1474169997.py:9: FutureWarning: Calling int on a single element Series is deprecated and will raise a TypeError in the future. Use int(ser.iloc[0]) instead\n",
      "  thresholds['max_genes'] = int(id_row.max_genes)\n",
      "/tmp/ipykernel_65381/1474169997.py:10: FutureWarning: Calling int on a single element Series is deprecated and will raise a TypeError in the future. Use int(ser.iloc[0]) instead\n",
      "  thresholds['max_pct_mito'] = int(id_row.max_pct_mito)\n"
     ]
    }
   ],
   "source": [
    "filters = pd.read_csv(filters_path)\n",
    "id_row = filters[filters.id == dataset_str]\n",
    "file_str = id_row.input_adata.iloc[0].split('/')[-1]\n",
    "\n",
    "thresholds = {}\n",
    "thresholds['min_counts']  = int(id_row.min_counts)\n",
    "thresholds['max_counts'] = int(id_row.max_counts)\n",
    "thresholds['min_genes'] = int(id_row.min_genes)\n",
    "thresholds['max_genes'] = int(id_row.max_genes)\n",
    "thresholds['max_pct_mito'] = int(id_row.max_pct_mito)\n",
    "\n",
    "adata = ad.read_h5ad(f'{adatas_path}/{file_str}')"
   ]
  },
  {
   "cell_type": "code",
   "execution_count": 5,
   "id": "98dc0168-7985-42c5-a20b-7ec88fa9dfff",
   "metadata": {
    "execution": {
     "iopub.execute_input": "2023-12-05T02:10:37.344852Z",
     "iopub.status.busy": "2023-12-05T02:10:37.344431Z",
     "iopub.status.idle": "2023-12-05T02:10:42.513703Z",
     "shell.execute_reply": "2023-12-05T02:10:42.512625Z"
    },
    "papermill": {
     "duration": 5.189886,
     "end_time": "2023-12-05T02:10:42.517817",
     "exception": false,
     "start_time": "2023-12-05T02:10:37.327931",
     "status": "completed"
    },
    "tags": []
   },
   "outputs": [
    {
     "name": "stdout",
     "output_type": "stream",
     "text": [
      "Filtering genes\n",
      "    Before: 41861\n"
     ]
    },
    {
     "name": "stdout",
     "output_type": "stream",
     "text": [
      "    After: 36900\n",
      "Filter by min_counts\n",
      "    Before: 173954\n"
     ]
    },
    {
     "name": "stdout",
     "output_type": "stream",
     "text": [
      "    After: 47594\n",
      "Filter by max_counts\n",
      "    Before: 47594\n"
     ]
    },
    {
     "name": "stdout",
     "output_type": "stream",
     "text": [
      "    After: 47592\n",
      "Filter by min_genes\n",
      "    Before: 47592\n"
     ]
    },
    {
     "name": "stdout",
     "output_type": "stream",
     "text": [
      "    After: 46124\n",
      "Filter by max_genes\n",
      "    Before: 46124\n"
     ]
    },
    {
     "name": "stdout",
     "output_type": "stream",
     "text": [
      "    After: 46124\n"
     ]
    },
    {
     "name": "stdout",
     "output_type": "stream",
     "text": [
      "Filter by max_pct_mito\n",
      "    Before: 46124\n"
     ]
    },
    {
     "name": "stdout",
     "output_type": "stream",
     "text": [
      "    After: 43452\n"
     ]
    }
   ],
   "source": [
    "#papermill_description=FILTERS\n",
    "\n",
    "# very basic gene filtering - genes with 0 cells cause some downstream processes to fail.\n",
    "print(\"Filtering genes\")\n",
    "print(f\"    Before: {adata.shape[1]}\")\n",
    "sc.pp.filter_genes(adata, min_counts=3)\n",
    "print(f\"    After: {adata.shape[1]}\")\n",
    "\n",
    "# %%\n",
    "# Apply thresholds\n",
    "print(\"Filter by min_counts\")\n",
    "print(f\"    Before: {adata.shape[0]}\")\n",
    "sc.pp.filter_cells(adata, min_counts=thresholds[\"min_counts\"])\n",
    "print(f\"    After: {adata.shape[0]}\")\n",
    "\n",
    "\n",
    "print(\"Filter by max_counts\")\n",
    "print(f\"    Before: {adata.shape[0]}\")\n",
    "sc.pp.filter_cells(adata, max_counts=thresholds[\"max_counts\"])\n",
    "print(f\"    After: {adata.shape[0]}\")\n",
    "\n",
    "\n",
    "print(\"Filter by min_genes\")\n",
    "print(f\"    Before: {adata.shape[0]}\")\n",
    "sc.pp.filter_cells(adata, min_genes=thresholds[\"min_genes\"])\n",
    "print(f\"    After: {adata.shape[0]}\")\n",
    "\n",
    "\n",
    "print(\"Filter by max_genes\")\n",
    "print(f\"    Before: {adata.shape[0]}\")\n",
    "sc.pp.filter_cells(adata, max_genes=thresholds[\"max_genes\"])\n",
    "print(f\"    After: {adata.shape[0]}\")\n",
    "\n",
    "# %%\n",
    "if \"mito\" not in adata.var.columns:\n",
    "    adata.var[\"mito\"] = adata.var_names.str.lower().str.startswith(\"mt-\")\n",
    "\n",
    "# %%\n",
    "sc.pp.calculate_qc_metrics(\n",
    "    adata, qc_vars=(\"mito\",), log1p=False, inplace=True, percent_top=None\n",
    ")\n",
    "\n",
    "print(\"Filter by max_pct_mito\")\n",
    "print(f\"    Before: {adata.shape[0]}\")\n",
    "adata = adata[adata.obs[\"pct_counts_mito\"] < thresholds[\"max_pct_mito\"]].copy()\n",
    "print(f\"    After: {adata.shape[0]}\")"
   ]
  },
  {
   "cell_type": "code",
   "execution_count": 6,
   "id": "1c721dfc-dbf8-4cf1-bb29-cd3c55ab44b4",
   "metadata": {
    "execution": {
     "iopub.execute_input": "2023-12-05T02:10:42.554231Z",
     "iopub.status.busy": "2023-12-05T02:10:42.553750Z",
     "iopub.status.idle": "2023-12-05T02:10:43.090484Z",
     "shell.execute_reply": "2023-12-05T02:10:43.089469Z"
    },
    "papermill": {
     "duration": 0.557528,
     "end_time": "2023-12-05T02:10:43.093080",
     "exception": false,
     "start_time": "2023-12-05T02:10:42.535552",
     "status": "completed"
    },
    "tags": []
   },
   "outputs": [],
   "source": [
    "adata.write_h5ad(f'{backup_dir}/filtered_{dataset_str}.h5ad')"
   ]
  },
  {
   "cell_type": "markdown",
   "id": "15d4c5c3-1d22-41e7-8c6f-f42dc2636bda",
   "metadata": {
    "papermill": {
     "duration": 0.00805,
     "end_time": "2023-12-05T02:10:43.112371",
     "exception": false,
     "start_time": "2023-12-05T02:10:43.104321",
     "status": "completed"
    },
    "tags": []
   },
   "source": [
    "## 3.1.1 Automated annotation"
   ]
  },
  {
   "cell_type": "markdown",
   "id": "6b825cf8-5ad4-4de6-bb1a-e3cd6176da62",
   "metadata": {
    "papermill": {
     "duration": 0.007484,
     "end_time": "2023-12-05T02:10:43.127422",
     "exception": false,
     "start_time": "2023-12-05T02:10:43.119938",
     "status": "completed"
    },
    "tags": []
   },
   "source": [
    "For a more detailed walkthrough of the process go to https://docs.scarches.org/en/latest/hlca_map_classify.html\n",
    "\n",
    "We base ourselves greatly in that notebook and copy some parts.\n",
    "\n",
    "IT IS IMPORTANT THAT THE QUERY DATA IS IN RAW COUNTS, WE CHECK THAT HERE:\n"
   ]
  },
  {
   "cell_type": "code",
   "execution_count": 7,
   "id": "ff438032-791f-4070-a885-a3d36bcc0436",
   "metadata": {
    "execution": {
     "iopub.execute_input": "2023-12-05T02:10:43.145019Z",
     "iopub.status.busy": "2023-12-05T02:10:43.144234Z",
     "iopub.status.idle": "2023-12-05T02:10:43.161718Z",
     "shell.execute_reply": "2023-12-05T02:10:43.160546Z"
    },
    "papermill": {
     "duration": 0.029549,
     "end_time": "2023-12-05T02:10:43.164475",
     "exception": false,
     "start_time": "2023-12-05T02:10:43.134926",
     "status": "completed"
    },
    "tags": []
   },
   "outputs": [
    {
     "data": {
      "text/plain": [
       "array([[0., 0., 0., 0., 2., 0., 0., 0., 0., 0., 0., 0., 0., 0., 0., 0.,\n",
       "        0., 0., 0., 0., 0., 0., 0., 1., 0., 0., 0., 0., 0., 0.],\n",
       "       [0., 0., 0., 0., 0., 0., 0., 0., 0., 0., 0., 0., 0., 0., 0., 0.,\n",
       "        1., 0., 0., 0., 0., 0., 0., 0., 0., 0., 0., 0., 0., 0.],\n",
       "       [0., 0., 0., 0., 0., 0., 0., 0., 0., 0., 0., 0., 0., 0., 0., 2.,\n",
       "        0., 0., 0., 0., 0., 0., 0., 0., 0., 0., 1., 0., 0., 0.],\n",
       "       [0., 0., 0., 0., 0., 0., 0., 0., 0., 0., 0., 0., 1., 0., 0., 0.,\n",
       "        0., 0., 0., 0., 0., 0., 0., 0., 0., 0., 0., 0., 0., 0.],\n",
       "       [0., 0., 0., 0., 0., 0., 0., 0., 0., 0., 0., 0., 1., 0., 0., 0.,\n",
       "        0., 0., 0., 0., 0., 0., 0., 0., 0., 0., 0., 0., 0., 0.],\n",
       "       [0., 0., 0., 0., 0., 0., 0., 0., 0., 0., 0., 0., 0., 0., 0., 0.,\n",
       "        0., 0., 0., 0., 0., 0., 0., 0., 0., 3., 0., 0., 0., 0.],\n",
       "       [0., 0., 0., 0., 0., 0., 6., 0., 0., 0., 0., 0., 0., 0., 0., 0.,\n",
       "        0., 0., 0., 0., 0., 0., 0., 1., 0., 0., 0., 0., 0., 0.],\n",
       "       [0., 0., 0., 0., 0., 0., 0., 0., 0., 0., 0., 0., 0., 0., 0., 0.,\n",
       "        0., 0., 0., 0., 0., 0., 0., 0., 0., 0., 0., 0., 0., 0.],\n",
       "       [0., 0., 0., 0., 0., 0., 0., 0., 0., 0., 0., 0., 1., 0., 0., 0.,\n",
       "        0., 0., 0., 0., 0., 0., 0., 0., 0., 0., 1., 0., 0., 0.],\n",
       "       [0., 0., 0., 0., 0., 0., 0., 0., 0., 0., 0., 0., 0., 0., 0., 0.,\n",
       "        0., 0., 0., 0., 0., 0., 0., 0., 0., 0., 0., 0., 0., 0.]],\n",
       "      dtype=float32)"
      ]
     },
     "execution_count": 7,
     "metadata": {},
     "output_type": "execute_result"
    }
   ],
   "source": [
    "adata.X[:10, :30].toarray()"
   ]
  },
  {
   "cell_type": "code",
   "execution_count": 8,
   "id": "4e7e2fc3-435b-46f0-b266-958f415d8fa6",
   "metadata": {
    "execution": {
     "iopub.execute_input": "2023-12-05T02:10:43.183091Z",
     "iopub.status.busy": "2023-12-05T02:10:43.182327Z",
     "iopub.status.idle": "2023-12-05T02:10:43.191032Z",
     "shell.execute_reply": "2023-12-05T02:10:43.189787Z"
    },
    "papermill": {
     "duration": 0.020812,
     "end_time": "2023-12-05T02:10:43.193336",
     "exception": false,
     "start_time": "2023-12-05T02:10:43.172524",
     "status": "completed"
    },
    "tags": []
   },
   "outputs": [
    {
     "data": {
      "text/plain": [
       "AnnData object with n_obs × n_vars = 43452 × 36900\n",
       "    obs: 'sample', 'gsm', 'tissue', 'sex', 'age', 'characteristics_ch1.7.treatment received prior to surgery (1= treated; 0=untreated)', 'patient', 'condition', 'origin', 'platform', 'n_counts', 'n_genes', 'n_genes_by_counts', 'total_counts', 'total_counts_mito', 'pct_counts_mito'\n",
       "    var: 'n_counts', 'mito', 'n_cells_by_counts', 'mean_counts', 'pct_dropout_by_counts', 'total_counts'"
      ]
     },
     "execution_count": 8,
     "metadata": {},
     "output_type": "execute_result"
    }
   ],
   "source": [
    "adata"
   ]
  },
  {
   "cell_type": "markdown",
   "id": "b02b0d79-54b5-4b64-8b41-88370955e74e",
   "metadata": {
    "papermill": {
     "duration": 0.008338,
     "end_time": "2023-12-05T02:10:43.210280",
     "exception": false,
     "start_time": "2023-12-05T02:10:43.201942",
     "status": "completed"
    },
    "tags": []
   },
   "source": [
    "### Load Query dataset"
   ]
  },
  {
   "cell_type": "markdown",
   "id": "74babb47-0d17-40fc-8579-20daa10d9fdd",
   "metadata": {
    "papermill": {
     "duration": 0.009269,
     "end_time": "2023-12-05T02:10:43.228728",
     "exception": false,
     "start_time": "2023-12-05T02:10:43.219459",
     "status": "completed"
    },
    "tags": []
   },
   "source": [
    "scArches uses a reference atlas, of which there are everytime more extensive ones.\n",
    "An advantage of its approach is that one only has to save the weights of the trained neural network as \n",
    "a model file. And based on that model the tool does a surgey by adjusting certain weights to the query data.\n",
    "You have to download the model yourself as it would be very to add to the repo."
   ]
  },
  {
   "cell_type": "code",
   "execution_count": 9,
   "id": "b3119178-8c98-4e03-9288-2fa3a2b667f0",
   "metadata": {
    "execution": {
     "iopub.execute_input": "2023-12-05T02:10:43.248407Z",
     "iopub.status.busy": "2023-12-05T02:10:43.247712Z",
     "iopub.status.idle": "2023-12-05T02:10:43.265750Z",
     "shell.execute_reply": "2023-12-05T02:10:43.263883Z"
    },
    "papermill": {
     "duration": 0.031692,
     "end_time": "2023-12-05T02:10:43.268685",
     "exception": false,
     "start_time": "2023-12-05T02:10:43.236993",
     "status": "completed"
    },
    "tags": []
   },
   "outputs": [],
   "source": [
    "batch_key = 'dataset'\n",
    "name = dataset_str.split('_')[0]\n",
    "query_batch = [f'lung_{name}']\n",
    "cell_type_key = 'scanvi_label'\n",
    "\n",
    "ref_model_dir_prefix = f'{data_dir}/HCA_Lung/' # directory in which to store the reference model directory\n",
    "\n",
    "surgery_model_dir_prefix = (\n",
    "    ref_model_dir_prefix  # directory in which to store the surgery model directory\n",
    ")\n",
    "path_reference_emb = (\n",
    "    \"./HLCA_emb_and_metadata.h5ad\"  # path to reference embedding to be created\n",
    ")\n",
    "path_query_data = \"./HLCA_query.h5ad\"  # input test query data\n",
    "# don't change the following paths:\n",
    "ref_model_dir = os.path.join(\n",
    "    ref_model_dir_prefix, \"HLCA_reference_model\"\n",
    ")  # don't change this\n",
    "surgery_model_dir = os.path.join(\n",
    "    surgery_model_dir_prefix, \"surgery_model\"\n",
    ")  # don't change this\n",
    "\n",
    "\n",
    "#Important to check how many epochs would be ideal\n",
    "surgery_epochs = 100\n",
    "early_stopping_kwargs_surgery = {\n",
    "    \"early_stopping_monitor\": \"elbo_train\",\n",
    "    \"early_stopping_patience\": 10,\n",
    "    \"early_stopping_min_delta\": 0.001,\n",
    "    \"plan_kwargs\": {\"weight_decay\": 0.0},\n",
    "}"
   ]
  },
  {
   "cell_type": "markdown",
   "id": "857c032e-fa2f-4fff-93c4-16e0a5d5d695",
   "metadata": {
    "papermill": {
     "duration": 0.008149,
     "end_time": "2023-12-05T02:10:43.288262",
     "exception": false,
     "start_time": "2023-12-05T02:10:43.280113",
     "status": "completed"
    },
    "tags": []
   },
   "source": [
    "We will start with downloading the needed model and data. First, let’s download the reference model, on which we will perform surgery. The HLCA reference model can be found on Zenodo, and we’ll download it below:"
   ]
  }
 ],
 "metadata": {
  "kernelspec": {
   "display_name": "Python 3 (ipykernel)",
   "language": "python",
   "name": "python3"
  },
  "language_info": {
   "codemirror_mode": {
    "name": "ipython",
    "version": 3
   },
   "file_extension": ".py",
   "mimetype": "text/x-python",
   "name": "python",
   "nbconvert_exporter": "python",
   "pygments_lexer": "ipython3",
   "version": "3.11.4"
  },
  "papermill": {
   "default_parameters": {},
   "duration": 25.190055,
   "end_time": "2023-12-05T02:10:46.018079",
   "environment_variables": {},
   "exception": null,
   "input_path": "annot_param.ipynb",
   "output_path": "out_nbs/Zilionis_Klein_2019_NSCLC.ipynb",
   "parameters": {
    "dataset_str": "Zilionis_Klein_2019_NSCLC"
   },
   "start_time": "2023-12-05T02:10:20.828024",
   "version": "2.5.0"
  }
 },
 "nbformat": 4,
 "nbformat_minor": 5
}