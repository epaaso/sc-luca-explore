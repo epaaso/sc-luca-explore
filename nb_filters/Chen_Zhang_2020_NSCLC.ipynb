{
 "cells": [
  {
   "cell_type": "code",
   "execution_count": 1,
   "id": "cf5779bd-bb92-4608-82c0-a780b9eec6c1",
   "metadata": {
    "execution": {
     "iopub.execute_input": "2023-12-05T02:10:21.829230Z",
     "iopub.status.busy": "2023-12-05T02:10:21.828571Z",
     "iopub.status.idle": "2023-12-05T02:10:21.848072Z",
     "shell.execute_reply": "2023-12-05T02:10:21.846708Z"
    },
    "papermill": {
     "duration": 0.092977,
     "end_time": "2023-12-05T02:10:21.874693",
     "exception": false,
     "start_time": "2023-12-05T02:10:21.781716",
     "status": "completed"
    },
    "tags": [
     "parameters"
    ]
   },
   "outputs": [],
   "source": [
    "filters_path = 'dsets.csv'\n",
    "dataset_str = 'Laughney_Massague_2020_NSCLC'\n",
    "adatas_path = '/root/datos/maestria/netopaas/luca/data/12_input_adatas'\n",
    "\n",
    "\n",
    "data_dir = '/root/datos/maestria/netopaas/lung_scRNA'\n",
    "backup_dir = '/root/datos/maestria/netopaas/luca_explore'\n",
    "ref_model_path = f'{data_dir}/HCA_Lung/HLCA_reference_model'"
   ]
  },
  {
   "cell_type": "code",
   "execution_count": 2,
   "id": "3c4463ae",
   "metadata": {
    "execution": {
     "iopub.execute_input": "2023-12-05T02:10:22.143865Z",
     "iopub.status.busy": "2023-12-05T02:10:22.142251Z",
     "iopub.status.idle": "2023-12-05T02:10:22.150062Z",
     "shell.execute_reply": "2023-12-05T02:10:22.148514Z"
    },
    "papermill": {
     "duration": 0.211351,
     "end_time": "2023-12-05T02:10:22.218771",
     "exception": false,
     "start_time": "2023-12-05T02:10:22.007420",
     "status": "completed"
    },
    "tags": [
     "injected-parameters"
    ]
   },
   "outputs": [],
   "source": [
    "# Parameters\n",
    "dataset_str = \"Chen_Zhang_2020_NSCLC\"\n"
   ]
  },
  {
   "cell_type": "code",
   "execution_count": 3,
   "id": "9beab61a-701d-4810-9684-e60139c70427",
   "metadata": {
    "execution": {
     "iopub.execute_input": "2023-12-05T02:10:22.367056Z",
     "iopub.status.busy": "2023-12-05T02:10:22.366127Z",
     "iopub.status.idle": "2023-12-05T02:10:35.148808Z",
     "shell.execute_reply": "2023-12-05T02:10:35.148006Z"
    },
    "papermill": {
     "duration": 12.88107,
     "end_time": "2023-12-05T02:10:35.165879",
     "exception": false,
     "start_time": "2023-12-05T02:10:22.284809",
     "status": "completed"
    },
    "tags": []
   },
   "outputs": [
    {
     "name": "stderr",
     "output_type": "stream",
     "text": [
      "WARNING:root:In order to use the mouse gastrulation seqFISH datsets, please install squidpy (see https://github.com/scverse/squidpy).\n"
     ]
    },
    {
     "name": "stderr",
     "output_type": "stream",
     "text": [
      "/usr/local/lib/python3.11/site-packages/scvi/_settings.py:63: UserWarning: Since v1.0.0, scvi-tools no longer uses a random seed by default. Run `scvi.settings.seed = 0` to reproduce results from previous versions.\n",
      "  self.seed = seed\n",
      "/usr/local/lib/python3.11/site-packages/scvi/_settings.py:70: UserWarning: Setting `dl_pin_memory_gpu_training` is deprecated in v1.0 and will be removed in v1.1. Please pass in `pin_memory` to the data loaders instead.\n",
      "  self.dl_pin_memory_gpu_training = (\n"
     ]
    },
    {
     "name": "stderr",
     "output_type": "stream",
     "text": [
      "2023-12-05 02:10:33.141389: E external/local_xla/xla/stream_executor/cuda/cuda_dnn.cc:9261] Unable to register cuDNN factory: Attempting to register factory for plugin cuDNN when one has already been registered\n",
      "2023-12-05 02:10:33.141433: E external/local_xla/xla/stream_executor/cuda/cuda_fft.cc:607] Unable to register cuFFT factory: Attempting to register factory for plugin cuFFT when one has already been registered\n",
      "2023-12-05 02:10:33.143099: E external/local_xla/xla/stream_executor/cuda/cuda_blas.cc:1515] Unable to register cuBLAS factory: Attempting to register factory for plugin cuBLAS when one has already been registered\n"
     ]
    },
    {
     "name": "stderr",
     "output_type": "stream",
     "text": [
      "2023-12-05 02:10:34.158268: W tensorflow/compiler/tf2tensorrt/utils/py_utils.cc:38] TF-TRT Warning: Could not find TensorRT\n"
     ]
    },
    {
     "name": "stderr",
     "output_type": "stream",
     "text": [
      "WARNING:root:In order to use sagenet models, please install pytorch geometric (see https://pytorch-geometric.readthedocs.io) and \n",
      " captum (see https://github.com/pytorch/captum).\n"
     ]
    },
    {
     "name": "stderr",
     "output_type": "stream",
     "text": [
      "WARNING:root:mvTCR is not installed. To use mvTCR models, please install it first using \"pip install mvtcr\"\n"
     ]
    },
    {
     "name": "stderr",
     "output_type": "stream",
     "text": [
      "WARNING:root:multigrate is not installed. To use multigrate models, please install it first using \"pip install multigrate\".\n"
     ]
    }
   ],
   "source": [
    "import gdown\n",
    "import gzip\n",
    "import shutil\n",
    "\n",
    "import pandas as pd\n",
    "import numpy as np\n",
    "from scipy import sparse\n",
    "\n",
    "import anndata as ad\n",
    "import scanpy as sc\n",
    "\n",
    "sc.settings.set_figure_params(dpi=200, frameon=False)\n",
    "sc.set_figure_params(dpi=200)\n",
    "sc.set_figure_params(figsize=(4, 4))\n",
    "\n",
    "import scarches as sca\n",
    "\n",
    "import sys, os\n",
    "sys.path.append(os.path.join(os.getcwd(), './utils'))\n",
    "from functions import remove_repeated_var_inds, join_map_mart"
   ]
  },
  {
   "cell_type": "code",
   "execution_count": 4,
   "id": "b4e81a22-a4b1-4a07-a801-cb3c5abdcafa",
   "metadata": {
    "execution": {
     "iopub.execute_input": "2023-12-05T02:10:35.215305Z",
     "iopub.status.busy": "2023-12-05T02:10:35.213889Z",
     "iopub.status.idle": "2023-12-05T02:10:40.753400Z",
     "shell.execute_reply": "2023-12-05T02:10:40.752254Z"
    },
    "papermill": {
     "duration": 5.579161,
     "end_time": "2023-12-05T02:10:40.755978",
     "exception": false,
     "start_time": "2023-12-05T02:10:35.176817",
     "status": "completed"
    },
    "tags": []
   },
   "outputs": [
    {
     "name": "stderr",
     "output_type": "stream",
     "text": [
      "/tmp/ipykernel_65348/1474169997.py:6: FutureWarning: Calling int on a single element Series is deprecated and will raise a TypeError in the future. Use int(ser.iloc[0]) instead\n",
      "  thresholds['min_counts']  = int(id_row.min_counts)\n",
      "/tmp/ipykernel_65348/1474169997.py:7: FutureWarning: Calling int on a single element Series is deprecated and will raise a TypeError in the future. Use int(ser.iloc[0]) instead\n",
      "  thresholds['max_counts'] = int(id_row.max_counts)\n",
      "/tmp/ipykernel_65348/1474169997.py:8: FutureWarning: Calling int on a single element Series is deprecated and will raise a TypeError in the future. Use int(ser.iloc[0]) instead\n",
      "  thresholds['min_genes'] = int(id_row.min_genes)\n",
      "/tmp/ipykernel_65348/1474169997.py:9: FutureWarning: Calling int on a single element Series is deprecated and will raise a TypeError in the future. Use int(ser.iloc[0]) instead\n",
      "  thresholds['max_genes'] = int(id_row.max_genes)\n",
      "/tmp/ipykernel_65348/1474169997.py:10: FutureWarning: Calling int on a single element Series is deprecated and will raise a TypeError in the future. Use int(ser.iloc[0]) instead\n",
      "  thresholds['max_pct_mito'] = int(id_row.max_pct_mito)\n"
     ]
    }
   ],
   "source": [
    "filters = pd.read_csv(filters_path)\n",
    "id_row = filters[filters.id == dataset_str]\n",
    "file_str = id_row.input_adata.iloc[0].split('/')[-1]\n",
    "\n",
    "thresholds = {}\n",
    "thresholds['min_counts']  = int(id_row.min_counts)\n",
    "thresholds['max_counts'] = int(id_row.max_counts)\n",
    "thresholds['min_genes'] = int(id_row.min_genes)\n",
    "thresholds['max_genes'] = int(id_row.max_genes)\n",
    "thresholds['max_pct_mito'] = int(id_row.max_pct_mito)\n",
    "\n",
    "adata = ad.read_h5ad(f'{adatas_path}/{file_str}')"
   ]
  },
  {
   "cell_type": "code",
   "execution_count": 5,
   "id": "98dc0168-7985-42c5-a20b-7ec88fa9dfff",
   "metadata": {
    "execution": {
     "iopub.execute_input": "2023-12-05T02:10:40.772420Z",
     "iopub.status.busy": "2023-12-05T02:10:40.772111Z",
     "iopub.status.idle": "2023-12-05T02:10:59.064559Z",
     "shell.execute_reply": "2023-12-05T02:10:59.063389Z"
    },
    "papermill": {
     "duration": 18.305416,
     "end_time": "2023-12-05T02:10:59.068756",
     "exception": false,
     "start_time": "2023-12-05T02:10:40.763340",
     "status": "completed"
    },
    "tags": []
   },
   "outputs": [
    {
     "name": "stdout",
     "output_type": "stream",
     "text": [
      "Filtering genes\n",
      "    Before: 36601\n"
     ]
    },
    {
     "name": "stdout",
     "output_type": "stream",
     "text": [
      "    After: 28863\n",
      "Filter by min_counts\n",
      "    Before: 145021\n"
     ]
    },
    {
     "name": "stdout",
     "output_type": "stream",
     "text": [
      "    After: 140088\n",
      "Filter by max_counts\n",
      "    Before: 140088\n"
     ]
    },
    {
     "name": "stdout",
     "output_type": "stream",
     "text": [
      "    After: 138789\n",
      "Filter by min_genes\n",
      "    Before: 138789\n"
     ]
    },
    {
     "name": "stdout",
     "output_type": "stream",
     "text": [
      "    After: 134946\n",
      "Filter by max_genes\n",
      "    Before: 134946\n"
     ]
    },
    {
     "name": "stdout",
     "output_type": "stream",
     "text": [
      "    After: 134946\n"
     ]
    },
    {
     "name": "stdout",
     "output_type": "stream",
     "text": [
      "Filter by max_pct_mito\n",
      "    Before: 134946\n"
     ]
    },
    {
     "name": "stdout",
     "output_type": "stream",
     "text": [
      "    After: 131287\n"
     ]
    }
   ],
   "source": [
    "#papermill_description=FILTERS\n",
    "\n",
    "# very basic gene filtering - genes with 0 cells cause some downstream processes to fail.\n",
    "print(\"Filtering genes\")\n",
    "print(f\"    Before: {adata.shape[1]}\")\n",
    "sc.pp.filter_genes(adata, min_counts=3)\n",
    "print(f\"    After: {adata.shape[1]}\")\n",
    "\n",
    "# %%\n",
    "# Apply thresholds\n",
    "print(\"Filter by min_counts\")\n",
    "print(f\"    Before: {adata.shape[0]}\")\n",
    "sc.pp.filter_cells(adata, min_counts=thresholds[\"min_counts\"])\n",
    "print(f\"    After: {adata.shape[0]}\")\n",
    "\n",
    "\n",
    "print(\"Filter by max_counts\")\n",
    "print(f\"    Before: {adata.shape[0]}\")\n",
    "sc.pp.filter_cells(adata, max_counts=thresholds[\"max_counts\"])\n",
    "print(f\"    After: {adata.shape[0]}\")\n",
    "\n",
    "\n",
    "print(\"Filter by min_genes\")\n",
    "print(f\"    Before: {adata.shape[0]}\")\n",
    "sc.pp.filter_cells(adata, min_genes=thresholds[\"min_genes\"])\n",
    "print(f\"    After: {adata.shape[0]}\")\n",
    "\n",
    "\n",
    "print(\"Filter by max_genes\")\n",
    "print(f\"    Before: {adata.shape[0]}\")\n",
    "sc.pp.filter_cells(adata, max_genes=thresholds[\"max_genes\"])\n",
    "print(f\"    After: {adata.shape[0]}\")\n",
    "\n",
    "# %%\n",
    "if \"mito\" not in adata.var.columns:\n",
    "    adata.var[\"mito\"] = adata.var_names.str.lower().str.startswith(\"mt-\")\n",
    "\n",
    "# %%\n",
    "sc.pp.calculate_qc_metrics(\n",
    "    adata, qc_vars=(\"mito\",), log1p=False, inplace=True, percent_top=None\n",
    ")\n",
    "\n",
    "print(\"Filter by max_pct_mito\")\n",
    "print(f\"    Before: {adata.shape[0]}\")\n",
    "adata = adata[adata.obs[\"pct_counts_mito\"] < thresholds[\"max_pct_mito\"]].copy()\n",
    "print(f\"    After: {adata.shape[0]}\")"
   ]
  },
  {
   "cell_type": "code",
   "execution_count": 6,
   "id": "1c721dfc-dbf8-4cf1-bb29-cd3c55ab44b4",
   "metadata": {
    "execution": {
     "iopub.execute_input": "2023-12-05T02:10:59.109017Z",
     "iopub.status.busy": "2023-12-05T02:10:59.108681Z",
     "iopub.status.idle": "2023-12-05T02:11:00.482228Z",
     "shell.execute_reply": "2023-12-05T02:11:00.481267Z"
    },
    "papermill": {
     "duration": 1.399214,
     "end_time": "2023-12-05T02:11:00.484646",
     "exception": false,
     "start_time": "2023-12-05T02:10:59.085432",
     "status": "completed"
    },
    "tags": []
   },
   "outputs": [],
   "source": [
    "adata.write_h5ad(f'{backup_dir}/filtered_{dataset_str}.h5ad')"
   ]
  }
 ],
 "metadata": {
  "kernelspec": {
   "display_name": "Python 3 (ipykernel)",
   "language": "python",
   "name": "python3"
  },
  "language_info": {
   "codemirror_mode": {
    "name": "ipython",
    "version": 3
   },
   "file_extension": ".py",
   "mimetype": "text/x-python",
   "name": "python",
   "nbconvert_exporter": "python",
   "pygments_lexer": "ipython3",
   "version": "3.11.4"
  },
  "papermill": {
   "default_parameters": {},
   "duration": 43.188189,
   "end_time": "2023-12-05T02:11:03.851282",
   "environment_variables": {},
   "exception": null,
   "input_path": "annot_param.ipynb",
   "output_path": "out_nbs/Chen_Zhang_2020_NSCLC.ipynb",
   "parameters": {
    "dataset_str": "Chen_Zhang_2020_NSCLC"
   },
   "start_time": "2023-12-05T02:10:20.663093",
   "version": "2.5.0"
  }
 },
 "nbformat": 4,
 "nbformat_minor": 5
}
