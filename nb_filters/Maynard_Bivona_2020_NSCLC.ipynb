{
 "cells": [
  {
   "cell_type": "code",
   "execution_count": 1,
   "id": "cf5779bd-bb92-4608-82c0-a780b9eec6c1",
   "metadata": {
    "execution": {
     "iopub.execute_input": "2023-12-06T01:38:14.339586Z",
     "iopub.status.busy": "2023-12-06T01:38:14.339058Z",
     "iopub.status.idle": "2023-12-06T01:38:14.352260Z",
     "shell.execute_reply": "2023-12-06T01:38:14.351373Z"
    },
    "papermill": {
     "duration": 0.056822,
     "end_time": "2023-12-06T01:38:14.360183",
     "exception": false,
     "start_time": "2023-12-06T01:38:14.303361",
     "status": "completed"
    },
    "tags": [
     "parameters"
    ]
   },
   "outputs": [],
   "source": [
    "filters_path = '../dsets.csv'\n",
    "dataset_str = 'Laughney_Massague_2020_NSCLC'\n",
    "adatas_path = '/root/datos/maestria/netopaas/luca/data/'\n",
    "\n",
    "\n",
    "data_dir = '/root/datos/maestria/netopaas/lung_scRNA'\n",
    "backup_dir = '/root/datos/maestria/netopaas/luca_explore'\n",
    "ref_model_path = f'{data_dir}/HCA_Lung/HLCA_reference_model'"
   ]
  },
  {
   "cell_type": "code",
   "execution_count": 2,
   "id": "0e22ebd5",
   "metadata": {
    "execution": {
     "iopub.execute_input": "2023-12-06T01:38:14.430522Z",
     "iopub.status.busy": "2023-12-06T01:38:14.430050Z",
     "iopub.status.idle": "2023-12-06T01:38:14.434475Z",
     "shell.execute_reply": "2023-12-06T01:38:14.433611Z"
    },
    "papermill": {
     "duration": 0.091975,
     "end_time": "2023-12-06T01:38:14.483458",
     "exception": false,
     "start_time": "2023-12-06T01:38:14.391483",
     "status": "completed"
    },
    "tags": [
     "injected-parameters"
    ]
   },
   "outputs": [],
   "source": [
    "# Parameters\n",
    "dataset_str = \"Maynard_Bivona_2020_NSCLC\"\n"
   ]
  },
  {
   "cell_type": "code",
   "execution_count": 3,
   "id": "9beab61a-701d-4810-9684-e60139c70427",
   "metadata": {
    "execution": {
     "iopub.execute_input": "2023-12-06T01:38:14.561541Z",
     "iopub.status.busy": "2023-12-06T01:38:14.561044Z",
     "iopub.status.idle": "2023-12-06T01:38:32.268013Z",
     "shell.execute_reply": "2023-12-06T01:38:32.266887Z"
    },
    "papermill": {
     "duration": 17.74256,
     "end_time": "2023-12-06T01:38:32.273170",
     "exception": false,
     "start_time": "2023-12-06T01:38:14.530610",
     "status": "completed"
    },
    "tags": []
   },
   "outputs": [
    {
     "name": "stderr",
     "output_type": "stream",
     "text": [
      "WARNING:root:In order to use the mouse gastrulation seqFISH datsets, please install squidpy (see https://github.com/scverse/squidpy).\n"
     ]
    },
    {
     "name": "stderr",
     "output_type": "stream",
     "text": [
      "/usr/local/lib/python3.11/site-packages/scvi/_settings.py:63: UserWarning: Since v1.0.0, scvi-tools no longer uses a random seed by default. Run `scvi.settings.seed = 0` to reproduce results from previous versions.\n",
      "  self.seed = seed\n",
      "/usr/local/lib/python3.11/site-packages/scvi/_settings.py:70: UserWarning: Setting `dl_pin_memory_gpu_training` is deprecated in v1.0 and will be removed in v1.1. Please pass in `pin_memory` to the data loaders instead.\n",
      "  self.dl_pin_memory_gpu_training = (\n"
     ]
    },
    {
     "name": "stderr",
     "output_type": "stream",
     "text": [
      "2023-12-06 01:38:29.585226: E external/local_xla/xla/stream_executor/cuda/cuda_dnn.cc:9261] Unable to register cuDNN factory: Attempting to register factory for plugin cuDNN when one has already been registered\n",
      "2023-12-06 01:38:29.585292: E external/local_xla/xla/stream_executor/cuda/cuda_fft.cc:607] Unable to register cuFFT factory: Attempting to register factory for plugin cuFFT when one has already been registered\n",
      "2023-12-06 01:38:29.588049: E external/local_xla/xla/stream_executor/cuda/cuda_blas.cc:1515] Unable to register cuBLAS factory: Attempting to register factory for plugin cuBLAS when one has already been registered\n"
     ]
    },
    {
     "name": "stderr",
     "output_type": "stream",
     "text": [
      "2023-12-06 01:38:31.167740: W tensorflow/compiler/tf2tensorrt/utils/py_utils.cc:38] TF-TRT Warning: Could not find TensorRT\n"
     ]
    },
    {
     "name": "stderr",
     "output_type": "stream",
     "text": [
      "WARNING:root:In order to use sagenet models, please install pytorch geometric (see https://pytorch-geometric.readthedocs.io) and \n",
      " captum (see https://github.com/pytorch/captum).\n"
     ]
    },
    {
     "name": "stderr",
     "output_type": "stream",
     "text": [
      "WARNING:root:mvTCR is not installed. To use mvTCR models, please install it first using \"pip install mvtcr\"\n"
     ]
    },
    {
     "name": "stderr",
     "output_type": "stream",
     "text": [
      "WARNING:root:multigrate is not installed. To use multigrate models, please install it first using \"pip install multigrate\".\n"
     ]
    }
   ],
   "source": [
    "import gdown\n",
    "import gzip\n",
    "import shutil\n",
    "\n",
    "import pandas as pd\n",
    "import numpy as np\n",
    "from scipy import sparse\n",
    "\n",
    "import anndata as ad\n",
    "import scanpy as sc\n",
    "\n",
    "sc.settings.set_figure_params(dpi=200, frameon=False)\n",
    "sc.set_figure_params(dpi=200)\n",
    "sc.set_figure_params(figsize=(4, 4))\n",
    "\n",
    "import scarches as sca\n",
    "\n",
    "import sys, os\n",
    "sys.path.append(os.path.join(os.getcwd(), '../utils'))\n",
    "from functions import remove_repeated_var_inds, join_map_mart"
   ]
  },
  {
   "cell_type": "code",
   "execution_count": 4,
   "id": "b4e81a22-a4b1-4a07-a801-cb3c5abdcafa",
   "metadata": {
    "execution": {
     "iopub.execute_input": "2023-12-06T01:38:32.301452Z",
     "iopub.status.busy": "2023-12-06T01:38:32.299345Z",
     "iopub.status.idle": "2023-12-06T01:38:55.415711Z",
     "shell.execute_reply": "2023-12-06T01:38:55.410104Z"
    },
    "papermill": {
     "duration": 23.131337,
     "end_time": "2023-12-06T01:38:55.421872",
     "exception": false,
     "start_time": "2023-12-06T01:38:32.290535",
     "status": "completed"
    },
    "tags": []
   },
   "outputs": [
    {
     "name": "stderr",
     "output_type": "stream",
     "text": [
      "/tmp/ipykernel_89796/4087660582.py:6: FutureWarning: Calling int on a single element Series is deprecated and will raise a TypeError in the future. Use int(ser.iloc[0]) instead\n",
      "  thresholds['min_counts']  = int(id_row.min_counts)\n",
      "/tmp/ipykernel_89796/4087660582.py:7: FutureWarning: Calling int on a single element Series is deprecated and will raise a TypeError in the future. Use int(ser.iloc[0]) instead\n",
      "  thresholds['max_counts'] = int(id_row.max_counts)\n",
      "/tmp/ipykernel_89796/4087660582.py:8: FutureWarning: Calling int on a single element Series is deprecated and will raise a TypeError in the future. Use int(ser.iloc[0]) instead\n",
      "  thresholds['min_genes'] = int(id_row.min_genes)\n",
      "/tmp/ipykernel_89796/4087660582.py:9: FutureWarning: Calling int on a single element Series is deprecated and will raise a TypeError in the future. Use int(ser.iloc[0]) instead\n",
      "  thresholds['max_genes'] = int(id_row.max_genes)\n",
      "/tmp/ipykernel_89796/4087660582.py:10: FutureWarning: Calling int on a single element Series is deprecated and will raise a TypeError in the future. Use int(ser.iloc[0]) instead\n",
      "  thresholds['max_pct_mito'] = int(id_row.max_pct_mito)\n"
     ]
    }
   ],
   "source": [
    "filters = pd.read_csv(filters_path)\n",
    "id_row = filters[filters.id == dataset_str]\n",
    "file_str = '/'.join(id_row.input_adata.iloc[0].split('/')[1:])\n",
    "\n",
    "thresholds = {}\n",
    "thresholds['min_counts']  = int(id_row.min_counts)\n",
    "thresholds['max_counts'] = int(id_row.max_counts)\n",
    "thresholds['min_genes'] = int(id_row.min_genes)\n",
    "thresholds['max_genes'] = int(id_row.max_genes)\n",
    "thresholds['max_pct_mito'] = int(id_row.max_pct_mito)\n",
    "\n",
    "adata = ad.read_h5ad(f'{adatas_path}/{file_str}')"
   ]
  },
  {
   "cell_type": "code",
   "execution_count": 5,
   "id": "f2b9c799-52a6-4345-95bd-d1723f34b984",
   "metadata": {
    "execution": {
     "iopub.execute_input": "2023-12-06T01:38:55.493788Z",
     "iopub.status.busy": "2023-12-06T01:38:55.489825Z",
     "iopub.status.idle": "2023-12-06T01:38:55.525900Z",
     "shell.execute_reply": "2023-12-06T01:38:55.521938Z"
    },
    "papermill": {
     "duration": 0.071396,
     "end_time": "2023-12-06T01:38:55.532955",
     "exception": false,
     "start_time": "2023-12-06T01:38:55.461559",
     "status": "completed"
    },
    "tags": []
   },
   "outputs": [],
   "source": [
    "if dataset_str == 'Zilionis_Klein_2019_NSCLC':\n",
    "    adata = adata[\n",
    "        adata.obs[\"tissue\"] == \"lung\", :\n",
    "    ]\n"
   ]
  },
  {
   "cell_type": "code",
   "execution_count": 6,
   "id": "98dc0168-7985-42c5-a20b-7ec88fa9dfff",
   "metadata": {
    "execution": {
     "iopub.execute_input": "2023-12-06T01:38:55.598656Z",
     "iopub.status.busy": "2023-12-06T01:38:55.594285Z",
     "iopub.status.idle": "2023-12-06T01:39:22.423914Z",
     "shell.execute_reply": "2023-12-06T01:39:22.422729Z"
    },
    "papermill": {
     "duration": 26.861955,
     "end_time": "2023-12-06T01:39:22.426220",
     "exception": false,
     "start_time": "2023-12-06T01:38:55.564265",
     "status": "completed"
    },
    "tags": []
   },
   "outputs": [
    {
     "name": "stdout",
     "output_type": "stream",
     "text": [
      "Filtering genes\n",
      "    Before: 60242\n"
     ]
    },
    {
     "name": "stdout",
     "output_type": "stream",
     "text": [
      "    After: 55556\n",
      "Filter by min_counts\n",
      "    Before: 21409\n"
     ]
    },
    {
     "name": "stdout",
     "output_type": "stream",
     "text": [
      "    After: 21409\n",
      "Filter by max_counts\n",
      "    Before: 21409\n"
     ]
    },
    {
     "name": "stdout",
     "output_type": "stream",
     "text": [
      "    After: 21353\n",
      "Filter by min_genes\n",
      "    Before: 21353\n"
     ]
    },
    {
     "name": "stdout",
     "output_type": "stream",
     "text": [
      "    After: 21345\n",
      "Filter by max_genes\n",
      "    Before: 21345\n"
     ]
    },
    {
     "name": "stdout",
     "output_type": "stream",
     "text": [
      "    After: 21345\n"
     ]
    },
    {
     "name": "stdout",
     "output_type": "stream",
     "text": [
      "Filter by max_pct_mito\n",
      "    Before: 21345\n"
     ]
    },
    {
     "name": "stdout",
     "output_type": "stream",
     "text": [
      "    After: 20592\n"
     ]
    }
   ],
   "source": [
    "#papermill_description=FILTERS\n",
    "\n",
    "# very basic gene filtering - genes with 0 cells cause some downstream processes to fail.\n",
    "print(\"Filtering genes\")\n",
    "print(f\"    Before: {adata.shape[1]}\")\n",
    "sc.pp.filter_genes(adata, min_counts=3)\n",
    "print(f\"    After: {adata.shape[1]}\")\n",
    "\n",
    "# %%\n",
    "# Apply thresholds\n",
    "print(\"Filter by min_counts\")\n",
    "print(f\"    Before: {adata.shape[0]}\")\n",
    "sc.pp.filter_cells(adata, min_counts=thresholds[\"min_counts\"])\n",
    "print(f\"    After: {adata.shape[0]}\")\n",
    "\n",
    "\n",
    "print(\"Filter by max_counts\")\n",
    "print(f\"    Before: {adata.shape[0]}\")\n",
    "sc.pp.filter_cells(adata, max_counts=thresholds[\"max_counts\"])\n",
    "print(f\"    After: {adata.shape[0]}\")\n",
    "\n",
    "\n",
    "print(\"Filter by min_genes\")\n",
    "print(f\"    Before: {adata.shape[0]}\")\n",
    "sc.pp.filter_cells(adata, min_genes=thresholds[\"min_genes\"])\n",
    "print(f\"    After: {adata.shape[0]}\")\n",
    "\n",
    "\n",
    "print(\"Filter by max_genes\")\n",
    "print(f\"    Before: {adata.shape[0]}\")\n",
    "sc.pp.filter_cells(adata, max_genes=thresholds[\"max_genes\"])\n",
    "print(f\"    After: {adata.shape[0]}\")\n",
    "\n",
    "# %%\n",
    "if \"mito\" not in adata.var.columns:\n",
    "    adata.var[\"mito\"] = adata.var_names.str.lower().str.startswith(\"mt-\")\n",
    "\n",
    "# %%\n",
    "sc.pp.calculate_qc_metrics(\n",
    "    adata, qc_vars=(\"mito\",), log1p=False, inplace=True, percent_top=None\n",
    ")\n",
    "\n",
    "print(\"Filter by max_pct_mito\")\n",
    "print(f\"    Before: {adata.shape[0]}\")\n",
    "adata = adata[adata.obs[\"pct_counts_mito\"] < thresholds[\"max_pct_mito\"]].copy()\n",
    "print(f\"    After: {adata.shape[0]}\")"
   ]
  },
  {
   "cell_type": "code",
   "execution_count": 7,
   "id": "1c721dfc-dbf8-4cf1-bb29-cd3c55ab44b4",
   "metadata": {
    "execution": {
     "iopub.execute_input": "2023-12-06T01:39:22.449018Z",
     "iopub.status.busy": "2023-12-06T01:39:22.448544Z",
     "iopub.status.idle": "2023-12-06T01:39:25.218425Z",
     "shell.execute_reply": "2023-12-06T01:39:25.216862Z"
    },
    "papermill": {
     "duration": 2.78458,
     "end_time": "2023-12-06T01:39:25.221287",
     "exception": false,
     "start_time": "2023-12-06T01:39:22.436707",
     "status": "completed"
    },
    "tags": []
   },
   "outputs": [],
   "source": [
    "adata.write_h5ad(f'{backup_dir}/surgeries/filtered_{dataset_str}.h5ad')"
   ]
  },
  {
   "cell_type": "markdown",
   "id": "15d4c5c3-1d22-41e7-8c6f-f42dc2636bda",
   "metadata": {
    "papermill": {
     "duration": 0.009231,
     "end_time": "2023-12-06T01:39:25.240607",
     "exception": false,
     "start_time": "2023-12-06T01:39:25.231376",
     "status": "completed"
    },
    "tags": []
   },
   "source": [
    "## 3.1.1 Automated annotation"
   ]
  },
  {
   "cell_type": "markdown",
   "id": "6b825cf8-5ad4-4de6-bb1a-e3cd6176da62",
   "metadata": {
    "papermill": {
     "duration": 0.008969,
     "end_time": "2023-12-06T01:39:25.258760",
     "exception": false,
     "start_time": "2023-12-06T01:39:25.249791",
     "status": "completed"
    },
    "tags": []
   },
   "source": [
    "For a more detailed walkthrough of the process go to https://docs.scarches.org/en/latest/hlca_map_classify.html\n",
    "\n",
    "We base ourselves greatly in that notebook and copy some parts.\n",
    "\n",
    "IT IS IMPORTANT THAT THE QUERY DATA IS IN RAW COUNTS, WE CHECK THAT HERE:\n"
   ]
  },
  {
   "cell_type": "code",
   "execution_count": 8,
   "id": "ff438032-791f-4070-a885-a3d36bcc0436",
   "metadata": {
    "execution": {
     "iopub.execute_input": "2023-12-06T01:39:25.278359Z",
     "iopub.status.busy": "2023-12-06T01:39:25.277891Z",
     "iopub.status.idle": "2023-12-06T01:39:25.290995Z",
     "shell.execute_reply": "2023-12-06T01:39:25.290193Z"
    },
    "papermill": {
     "duration": 0.025382,
     "end_time": "2023-12-06T01:39:25.292667",
     "exception": false,
     "start_time": "2023-12-06T01:39:25.267285",
     "status": "completed"
    },
    "tags": []
   },
   "outputs": [
    {
     "data": {
      "text/plain": [
       "array([[0., 0., 0., 0., 0., 0., 0., 0., 0., 0., 0., 0., 0., 0., 0., 0.,\n",
       "        0., 0., 0., 0., 0., 0., 0., 0., 0., 0., 0., 0., 0., 0.],\n",
       "       [0., 0., 0., 0., 0., 0., 0., 0., 0., 0., 0., 0., 0., 0., 0., 0.,\n",
       "        0., 0., 0., 0., 0., 0., 0., 0., 0., 0., 0., 0., 0., 0.],\n",
       "       [0., 0., 0., 0., 0., 0., 0., 0., 0., 0., 0., 0., 0., 0., 0., 0.,\n",
       "        0., 0., 0., 0., 0., 0., 0., 0., 0., 0., 0., 0., 0., 0.],\n",
       "       [0., 0., 0., 0., 0., 0., 0., 0., 0., 0., 0., 0., 0., 0., 0., 0.,\n",
       "        0., 0., 0., 0., 0., 0., 0., 0., 0., 0., 0., 0., 0., 0.],\n",
       "       [0., 0., 0., 0., 0., 0., 0., 0., 0., 0., 0., 0., 0., 0., 0., 0.,\n",
       "        0., 0., 0., 0., 0., 0., 0., 0., 0., 0., 0., 0., 0., 0.],\n",
       "       [0., 0., 0., 0., 0., 0., 0., 0., 0., 0., 0., 0., 0., 0., 0., 0.,\n",
       "        0., 0., 0., 0., 0., 0., 0., 0., 0., 0., 0., 0., 0., 0.],\n",
       "       [0., 0., 0., 0., 0., 0., 0., 0., 0., 0., 0., 0., 0., 0., 0., 0.,\n",
       "        0., 0., 0., 0., 0., 0., 0., 5., 0., 0., 0., 0., 0., 0.],\n",
       "       [0., 0., 0., 0., 0., 0., 0., 0., 0., 0., 0., 0., 0., 0., 0., 0.,\n",
       "        0., 0., 0., 0., 0., 0., 0., 0., 0., 0., 0., 0., 0., 0.],\n",
       "       [0., 0., 0., 0., 0., 0., 0., 0., 0., 0., 0., 0., 0., 0., 0., 0.,\n",
       "        0., 0., 0., 0., 0., 0., 0., 0., 0., 0., 0., 0., 0., 0.],\n",
       "       [0., 0., 0., 0., 0., 0., 0., 0., 0., 0., 0., 0., 0., 0., 0., 0.,\n",
       "        0., 0., 0., 0., 0., 0., 0., 0., 0., 0., 0., 0., 0., 0.]],\n",
       "      dtype=float32)"
      ]
     },
     "execution_count": 8,
     "metadata": {},
     "output_type": "execute_result"
    }
   ],
   "source": [
    "adata.X[:10, :30].toarray()"
   ]
  },
  {
   "cell_type": "code",
   "execution_count": 9,
   "id": "4e7e2fc3-435b-46f0-b266-958f415d8fa6",
   "metadata": {
    "execution": {
     "iopub.execute_input": "2023-12-06T01:39:25.306168Z",
     "iopub.status.busy": "2023-12-06T01:39:25.305849Z",
     "iopub.status.idle": "2023-12-06T01:39:25.311079Z",
     "shell.execute_reply": "2023-12-06T01:39:25.310388Z"
    },
    "papermill": {
     "duration": 0.013919,
     "end_time": "2023-12-06T01:39:25.312660",
     "exception": false,
     "start_time": "2023-12-06T01:39:25.298741",
     "status": "completed"
    },
    "tags": []
   },
   "outputs": [
    {
     "data": {
      "text/plain": [
       "AnnData object with n_obs × n_vars = 20592 × 55556\n",
       "    obs: 'age', 'sex', 'well', 'plate', 'cell_id', 'sample', 'patient', 'race', 'smoking_status', 'condition', 'driver_gene', 'driver_mutation', 'secondary_mutation', 'Notes', 'stage_at_diagnosis', 'pathlogy_review', 'biopsy_date', 'sort_date', 'biopsy_type', 'tissue', 'origin', 'biopsy_time_status', 'early_treatment_status', 'best_response_status', 'biopsy_timing', 'analysis', 'treatment_history', 'treatment_history_detail', 'line_of_therapy', 'treatment_type', 'treatment', 'percent_PFS_ref_values', 'percent.PFS.reference.values', 'infections', 'early_bx_day', 'treatment_start_date', 'pfs_over_under', 'pfs_day', 'pfs_month', 'date_of_death', 'stageIII.IV_ca_dx_date', 'ca_dx_OS', 'multi_chain', 'IR_VJ_1_locus', 'IR_VJ_2_locus', 'IR_VDJ_1_locus', 'IR_VDJ_2_locus', 'IR_VJ_1_cdr3', 'IR_VJ_2_cdr3', 'IR_VDJ_1_cdr3', 'IR_VDJ_2_cdr3', 'IR_VJ_1_cdr3_nt', 'IR_VJ_2_cdr3_nt', 'IR_VDJ_1_cdr3_nt', 'IR_VDJ_2_cdr3_nt', 'IR_VJ_1_expr', 'IR_VJ_2_expr', 'IR_VDJ_1_expr', 'IR_VDJ_2_expr', 'IR_VJ_1_expr_raw', 'IR_VJ_2_expr_raw', 'IR_VDJ_1_expr_raw', 'IR_VDJ_2_expr_raw', 'IR_VJ_1_v_gene', 'IR_VJ_2_v_gene', 'IR_VDJ_1_v_gene', 'IR_VDJ_2_v_gene', 'IR_VJ_1_d_gene', 'IR_VJ_2_d_gene', 'IR_VDJ_1_d_gene', 'IR_VDJ_2_d_gene', 'IR_VJ_1_j_gene', 'IR_VJ_2_j_gene', 'IR_VDJ_1_j_gene', 'IR_VDJ_2_j_gene', 'IR_VJ_1_c_gene', 'IR_VJ_2_c_gene', 'IR_VDJ_1_c_gene', 'IR_VDJ_2_c_gene', 'IR_VJ_1_junction_ins', 'IR_VJ_2_junction_ins', 'IR_VDJ_1_junction_ins', 'IR_VDJ_2_junction_ins', 'has_ir', 'n_counts', 'n_genes', 'n_genes_by_counts', 'total_counts', 'total_counts_mito', 'pct_counts_mito'\n",
       "    var: 'ensg', 'n_counts', 'mito', 'n_cells_by_counts', 'mean_counts', 'pct_dropout_by_counts', 'total_counts'\n",
       "    layers: 'counts_length_scaled', 'tpm'"
      ]
     },
     "execution_count": 9,
     "metadata": {},
     "output_type": "execute_result"
    }
   ],
   "source": [
    "adata"
   ]
  },
  {
   "cell_type": "markdown",
   "id": "b02b0d79-54b5-4b64-8b41-88370955e74e",
   "metadata": {
    "papermill": {
     "duration": 0.006156,
     "end_time": "2023-12-06T01:39:25.325069",
     "exception": false,
     "start_time": "2023-12-06T01:39:25.318913",
     "status": "completed"
    },
    "tags": []
   },
   "source": [
    "### Load Query dataset"
   ]
  },
  {
   "cell_type": "markdown",
   "id": "74babb47-0d17-40fc-8579-20daa10d9fdd",
   "metadata": {
    "papermill": {
     "duration": 0.010648,
     "end_time": "2023-12-06T01:39:25.342746",
     "exception": false,
     "start_time": "2023-12-06T01:39:25.332098",
     "status": "completed"
    },
    "tags": []
   },
   "source": [
    "scArches uses a reference atlas, of which there are everytime more extensive ones.\n",
    "An advantage of its approach is that one only has to save the weights of the trained neural network as \n",
    "a model file. And based on that model the tool does a surgey by adjusting certain weights to the query data.\n",
    "You have to download the model yourself as it would be very to add to the repo."
   ]
  },
  {
   "cell_type": "code",
   "execution_count": 10,
   "id": "b3119178-8c98-4e03-9288-2fa3a2b667f0",
   "metadata": {
    "execution": {
     "iopub.execute_input": "2023-12-06T01:39:25.366767Z",
     "iopub.status.busy": "2023-12-06T01:39:25.366290Z",
     "iopub.status.idle": "2023-12-06T01:39:25.375805Z",
     "shell.execute_reply": "2023-12-06T01:39:25.374888Z"
    },
    "papermill": {
     "duration": 0.024482,
     "end_time": "2023-12-06T01:39:25.378292",
     "exception": false,
     "start_time": "2023-12-06T01:39:25.353810",
     "status": "completed"
    },
    "tags": []
   },
   "outputs": [],
   "source": [
    "batch_key = 'dataset'\n",
    "name = dataset_str.split('_')[0]\n",
    "query_batch = [f'lung_{name}']\n",
    "cell_type_key = 'scanvi_label'\n",
    "\n",
    "ref_model_dir_prefix = f'{data_dir}/HCA_Lung/' # directory in which to store the reference model directory\n",
    "\n",
    "surgery_model_dir_prefix = (\n",
    "    ref_model_dir_prefix  # directory in which to store the surgery model directory\n",
    ")\n",
    "path_reference_emb = (\n",
    "    \"./HLCA_emb_and_metadata.h5ad\"  # path to reference embedding to be created\n",
    ")\n",
    "path_query_data = \"./HLCA_query.h5ad\"  # input test query data\n",
    "# don't change the following paths:\n",
    "ref_model_dir = os.path.join(\n",
    "    ref_model_dir_prefix, \"HLCA_reference_model\"\n",
    ")  # don't change this\n",
    "surgery_model_dir = os.path.join(\n",
    "    surgery_model_dir_prefix, \"surgery_model\"\n",
    ")  # don't change this\n",
    "\n",
    "\n",
    "#Important to check how many epochs would be ideal\n",
    "surgery_epochs = 100\n",
    "early_stopping_kwargs_surgery = {\n",
    "    \"early_stopping_monitor\": \"elbo_train\",\n",
    "    \"early_stopping_patience\": 10,\n",
    "    \"early_stopping_min_delta\": 0.001,\n",
    "    \"plan_kwargs\": {\"weight_decay\": 0.0},\n",
    "}"
   ]
  },
  {
   "cell_type": "markdown",
   "id": "857c032e-fa2f-4fff-93c4-16e0a5d5d695",
   "metadata": {
    "papermill": {
     "duration": 0.010829,
     "end_time": "2023-12-06T01:39:25.400315",
     "exception": false,
     "start_time": "2023-12-06T01:39:25.389486",
     "status": "completed"
    },
    "tags": []
   },
   "source": [
    "We will start with downloading the needed model and data. First, let’s download the reference model, on which we will perform surgery. The HLCA reference model can be found on Zenodo, and we’ll download it below:"
   ]
  }
 ],
 "metadata": {
  "kernelspec": {
   "display_name": "Python 3 (ipykernel)",
   "language": "python",
   "name": "python3"
  },
  "language_info": {
   "codemirror_mode": {
    "name": "ipython",
    "version": 3
   },
   "file_extension": ".py",
   "mimetype": "text/x-python",
   "name": "python",
   "nbconvert_exporter": "python",
   "pygments_lexer": "ipython3",
   "version": "3.11.4"
  },
  "papermill": {
   "default_parameters": {},
   "duration": 75.6555,
   "end_time": "2023-12-06T01:39:28.135048",
   "environment_variables": {},
   "exception": null,
   "input_path": "annot_param.ipynb",
   "output_path": "Maynard_Bivona_2020_NSCLC.ipynb",
   "parameters": {
    "dataset_str": "Maynard_Bivona_2020_NSCLC"
   },
   "start_time": "2023-12-06T01:38:12.479548",
   "version": "2.5.0"
  }
 },
 "nbformat": 4,
 "nbformat_minor": 5
}