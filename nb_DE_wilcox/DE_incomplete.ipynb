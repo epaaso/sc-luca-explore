{
 "cells": [
  {
   "cell_type": "markdown",
   "id": "d4e8dc79-3870-44d6-9c2e-60b0e21e8239",
   "metadata": {},
   "source": [
    "## DE"
   ]
  },
  {
   "cell_type": "markdown",
   "id": "338254e4-3dcf-4283-85a7-bc3e759b26df",
   "metadata": {},
   "source": [
    "### **edgeR**: Pseudo-bulk"
   ]
  },
  {
   "cell_type": "markdown",
   "id": "3cc5fa0f-0b71-49d5-ba85-a661c315748c",
   "metadata": {},
   "source": [
    "If the data you are working with does not have replicates, it could be beneficial to create multiple (e.g. 2-3) pseudobulks per patient to account for patient variability. Here we chose to create 3 pseudobulk per patient because we dont have replicates.\n",
    "\n",
    "We strongly recommend to read this guide https://f1000research.com/articles/9-1444 on design matrices.\n",
    "\n",
    "Regardless of whether we want to run the analysis only on a few cell subpopulations and fit a model for each one of them separately or fit one model for all of them, we first need to prepare the data, define a function to create pseudobulks and run the edgeR pipeline. First, let’s prepare the data.\n",
    "\n",
    "Since we need to create pseudobulks for each patient-condition combination, we first need to create such a column by concatenating replicate and label."
   ]
  },
  {
   "cell_type": "markdown",
   "id": "db7afc6d-2728-4fcb-af71-df0ab4764176",
   "metadata": {},
   "source": [
    "We need to clean up the cell type names, i.e. replace spaces with underscores and remove + symbols, to avoid Python to R conversion issues."
   ]
  },
  {
   "cell_type": "code",
   "execution_count": 1,
   "id": "11e8f842-6d53-4058-8579-9d3b2a113df3",
   "metadata": {},
   "outputs": [
    {
     "ename": "NameError",
     "evalue": "name 'adata' is not defined",
     "output_type": "error",
     "traceback": [
      "\u001b[0;31m---------------------------------------------------------------------------\u001b[0m",
      "\u001b[0;31mNameError\u001b[0m                                 Traceback (most recent call last)",
      "Cell \u001b[0;32mIn[1], line 2\u001b[0m\n\u001b[1;32m      1\u001b[0m \u001b[38;5;66;03m# We create a backup so that the names are consistent with our tutorial\u001b[39;00m\n\u001b[0;32m----> 2\u001b[0m adata_backup \u001b[38;5;241m=\u001b[39m \u001b[43madata\u001b[49m\u001b[38;5;241m.\u001b[39mcopy()\n",
      "\u001b[0;31mNameError\u001b[0m: name 'adata' is not defined"
     ]
    }
   ],
   "source": [
    "# We create a backup so that the names are consistent with our tutorial\n",
    "adata_backup = adata.copy()"
   ]
  },
  {
   "cell_type": "code",
   "execution_count": null,
   "id": "0b25a13d-65dd-42e2-bdcd-83efe4917eb2",
   "metadata": {},
   "outputs": [],
   "source": [
    "adata.obs = pd.get_dummies(adata.obs, columns=['leiden'])"
   ]
  },
  {
   "cell_type": "markdown",
   "id": "833d112d-ed33-4418-b762-ea98046347be",
   "metadata": {},
   "source": [
    "We need 4 keys in `.obs`.\n",
    "- 'sample' is combination of the replicate and label\n",
    "- 'label' is the condition to check differential expression against\n",
    "- 'replicate' is the experiment, (because we could have more than for the same subject, but we don't and we will simulate them)\n",
    "- 'cell_type' is the cell type for which we could iterate to do various DE"
   ]
  },
  {
   "cell_type": "code",
   "execution_count": 28,
   "id": "5f34d833-ec6b-4782-a0b9-175275528923",
   "metadata": {},
   "outputs": [],
   "source": [
    "adata.obs[\"sample\"] = [\n",
    "    f\"{rep}_{l}\" for rep, l in zip(adata.obs[\"sample\"], adata.obs[\"final_pred\"])\n",
    "]\n",
    "adata_raw.obs.groupby('sample').count()"
   ]
  },
  {
   "cell_type": "code",
   "execution_count": 29,
   "id": "7ca3a803-9ec5-401a-81f0-12b5ff57677e",
   "metadata": {},
   "outputs": [
    {
     "data": {
      "text/plain": [
       "5328     patient_41_normal_adjacent_Tumor\n",
       "6046     patient_41_normal_adjacent_Tumor\n",
       "13121    patient_45_normal_adjacent_Tumor\n",
       "21763      patient_32_tumor_primary_Tumor\n",
       "21858      patient_32_tumor_primary_Tumor\n",
       "                       ...               \n",
       "42936      patient_43_tumor_primary_Tumor\n",
       "43031      patient_43_tumor_primary_Tumor\n",
       "50547      patient_46_tumor_primary_Tumor\n",
       "52728      patient_46_tumor_primary_Tumor\n",
       "53066      patient_46_tumor_primary_Tumor\n",
       "Name: sample, Length: 1844, dtype: object"
      ]
     },
     "execution_count": 29,
     "metadata": {},
     "output_type": "execute_result"
    }
   ],
   "source": []
  },
  {
   "cell_type": "code",
   "execution_count": 70,
   "id": "848b0329-5c3d-4f5b-ab6f-be229696d0d8",
   "metadata": {},
   "outputs": [],
   "source": [
    "type_label = \"leiden\"\n",
    "adata.obs[type_label] = [ct.replace(\" \", \"_\") for ct in adata.obs[type_label]]\n",
    "adata.obs[type_label] = [ct.replace(\"+\", \"\") for ct in adata.obs[type_label]]"
   ]
  },
  {
   "cell_type": "markdown",
   "id": "260e4921-94ad-46b8-a58e-8ae4adb60dfc",
   "metadata": {},
   "source": [
    "We need to set categorical metadata to be indeed categorical to create pseudobulks."
   ]
  },
  {
   "cell_type": "code",
   "execution_count": 71,
   "id": "6d6dff4c-21a3-4150-8355-50cf7caf4b81",
   "metadata": {},
   "outputs": [],
   "source": [
    "adata.obs[\"sample\"] = adata.obs[\"sample\"].astype(\"category\")\n",
    "adata.obs[type_label] = adata.obs[type_label].astype(\"category\")"
   ]
  },
  {
   "cell_type": "markdown",
   "id": "4fc5e833-9b4d-46f6-a159-882749b26016",
   "metadata": {},
   "source": [
    "Now, let’s define the function we need to aggregate single cells into pseudo-replicates:\n",
    "\n",
    "- `aggregate_and_filter` is a function that creates an AnnData object with one pseudo-replicate for each donor for a specified subpopulation from the original single-cell AnnData object. Here we also filter out donors that have fewer than 30 cells for the specified population. \n",
    "  - Since we want to obtain the genes differentially expressed for every cluster proposed by our leiden algorithm.\n",
    "We will be changing th design of our function so that the condition is\n",
    "being or not in the cluster. And we only have one type of cell. Which is a constant everywhere.\n",
    "\n",
    "- by changing the `replicates_per_patient` parameter, several (n) pseudo-replicates can be created for each sample; cells are then split into n subsets of roughly equal sizes.\n"
   ]
  },
  {
   "cell_type": "code",
   "execution_count": 80,
   "id": "d3a6e330-f2ff-4172-905c-307b5e1e9fd6",
   "metadata": {},
   "outputs": [],
   "source": [
    "NUM_OF_CELL_PER_DONOR = 20\n",
    "import random\n",
    "\n",
    "def aggregate_and_filter(\n",
    "    adata,\n",
    "    cell_identity,\n",
    "    donor_key=\"sample\",\n",
    "    condition_key=\"leiden_0\",\n",
    "    cell_identity_key=\"constant\",\n",
    "    obs_to_keep=[],  # which additional metadata to keep, e.g. gender, age, etc.\n",
    "    replicates_per_patient=2,\n",
    "):\n",
    "    obs_to_keep = list(set(obs_to_keep) | set([donor_key, condition_key]))\n",
    "    # subset adata to the given cell identity\n",
    "    adata_cell_pop = adata[adata.obs[cell_identity_key] == cell_identity].copy()\n",
    "    # check which donors to keep according to the number of cells specified with NUM_OF_CELL_PER_DONOR\n",
    "    size_by_donor = adata_cell_pop.obs.groupby([donor_key]).size()\n",
    "    donors_to_drop = [\n",
    "        donor\n",
    "        for donor in size_by_donor.index\n",
    "        if size_by_donor[donor] <= NUM_OF_CELL_PER_DONOR\n",
    "    ]\n",
    "    if len(donors_to_drop) > 0:\n",
    "        print(\"Dropping the following samples:\")\n",
    "        print(donors_to_drop)\n",
    "    df = pd.DataFrame(columns=[*adata_cell_pop.var_names, *obs_to_keep])\n",
    "\n",
    "    adata_cell_pop.obs[donor_key] = adata_cell_pop.obs[donor_key].astype(\"category\")\n",
    "    for i, donor in enumerate(donors := adata_cell_pop.obs[donor_key].cat.categories):\n",
    "        print(f\"\\tProcessing donor {i+1} out of {len(donors)}...\", end=\"\\r\")\n",
    "        if donor not in donors_to_drop:\n",
    "            adata_donor = adata_cell_pop[adata_cell_pop.obs[donor_key] == donor]\n",
    "            # create replicates for each donor\n",
    "            indices = list(adata_donor.obs_names)\n",
    "            random.shuffle(indices)\n",
    "            indices = np.array_split(np.array(indices), replicates_per_patient)\n",
    "            for i, rep_idx in enumerate(indices):\n",
    "                adata_replicate = adata_donor[rep_idx]\n",
    "                # specify how to aggregate: sum gene expression for each gene for each donor and also keep the condition information\n",
    "                agg_dict = {gene: \"sum\" for gene in adata_replicate.var_names}\n",
    "                for obs in obs_to_keep:\n",
    "                    agg_dict[obs] = \"first\"\n",
    "                \n",
    "                # create a df with all genes, donor and condition info\n",
    "                df_donor = pd.DataFrame(adata_replicate.X.A)\n",
    "                df_donor.index = adata_replicate.obs_names\n",
    "                df_donor.columns = adata_replicate.var_names\n",
    "                df_donor = df_donor.join(adata_replicate.obs[obs_to_keep])\n",
    "                # aggregate\n",
    "                df_donor = df_donor.groupby(donor_key).agg(agg_dict)\n",
    "                df_donor[donor_key] = donor\n",
    "                df.loc[f\"{donor}_{i}\"] = df_donor.loc[donor]\n",
    "                print(df.drop(columns=adata_cell_pop.var_names))\n",
    "    print(\"\\n\")\n",
    "    # create AnnData object from the df\n",
    "    adata_cell_pop = sc.AnnData(\n",
    "        df[adata_cell_pop.var_names], obs=df.drop(columns=adata_cell_pop.var_names)\n",
    "    )\n",
    "    return adata_cell_pop"
   ]
  },
  {
   "cell_type": "code",
   "execution_count": null,
   "id": "eff1b809-34bf-47d1-ad72-4ed39472bc60",
   "metadata": {},
   "outputs": [],
   "source": [
    "aggregate_and_filter(adata, 'constant')"
   ]
  },
  {
   "cell_type": "markdown",
   "id": "e90ee9b4-e875-45b0-bae9-6e73cd600c8d",
   "metadata": {},
   "source": [
    "We also need to define a separate function to fit an edgeR GLM:\n",
    "\n",
    "- `fit_model` takes a `SingleCellExperiment` object as input, creates the design matrix and outputs the fitted GLM. We also output the edgeR object of class DGEList to do some exploratory data analysis (EDA).\n"
   ]
  },
  {
   "cell_type": "code",
   "execution_count": 75,
   "id": "885635fe-142d-4f4a-a8d6-94c1cb35a05a",
   "metadata": {},
   "outputs": [],
   "source": [
    "%%R\n",
    "fit_model <- function(adata_){\n",
    "    # create an edgeR object with counts and grouping factor\n",
    "    y <- DGEList(assay(adata_, \"X\"), group = colData(adata_)$label)\n",
    "    # filter out genes with low counts\n",
    "    print(\"Dimensions before subsetting:\")\n",
    "    print(dim(y))\n",
    "    print(\"\")\n",
    "    keep <- filterByExpr(y)\n",
    "    y <- y[keep, , keep.lib.sizes=FALSE]\n",
    "    print(\"Dimensions after subsetting:\")\n",
    "    print(dim(y))\n",
    "    print(\"\")\n",
    "    # normalize\n",
    "    y <- calcNormFactors(y)\n",
    "    # create a vector that is concatentation of condition and cell type that we will later use with contrasts\n",
    "    group <- paste0(colData(adata_)$label, \".\", colData(adata_)$cell_type)\n",
    "    # replicate <- colData(adata_)$replicate\n",
    "    # create a design matrix: even though we have multiple donors we dont have normal and lunk form the same donor\n",
    "    # so we dont consider this becuase it would lead to correlations in the coeffcients that would reduce the ranl\n",
    "    # of the matrix\n",
    "    design <- model.matrix(~ 0 + group)\n",
    "    # estimate dispersion\n",
    "    y <- estimateDisp(y, design = design)\n",
    "    # fit the model\n",
    "    fit <- glmQLFit(y, design)\n",
    "    return(list(\"fit\"=fit, \"design\"=design, \"y\"=y))\n",
    "}"
   ]
  },
  {
   "cell_type": "markdown",
   "id": "8643b50f-bce7-4d80-b40e-b0b1e5b431b6",
   "metadata": {},
   "source": [
    "Now we defined all the functions we need, so we can proceed with creating pseudobulks. We might want to look at available metadata later and therefore keep it in the AnnData object."
   ]
  },
  {
   "cell_type": "code",
   "execution_count": 106,
   "id": "d7d4c796-b1f9-4fe7-a444-68dbeb467330",
   "metadata": {},
   "outputs": [],
   "source": [
    "obs_to_keep = [\"tissue\", 'condition', \"sample\"]"
   ]
  },
  {
   "cell_type": "markdown",
   "id": "d5ec7e18-89be-44c2-887e-a5b318435503",
   "metadata": {},
   "source": [
    "We need to pass the raw counts to edgeR. Hence, we set .X to the counts layer to ensure the pseudo-replicates are created for raw counts."
   ]
  },
  {
   "cell_type": "code",
   "execution_count": 79,
   "id": "79d98ab7-30b4-4baf-ba49-936e90305c12",
   "metadata": {},
   "outputs": [],
   "source": [
    "adata.X = adata.layers[\"counts\"].copy()"
   ]
  },
  {
   "cell_type": "markdown",
   "id": "8d608fac-7285-4732-80bc-a1eb7bb3ce80",
   "metadata": {},
   "source": [
    "Before creating the pseudobulks we need to hot-encode the leiden clsuters so each\n",
    "one is compared to the background. And also add the constant column as an atavism."
   ]
  },
  {
   "cell_type": "code",
   "execution_count": 92,
   "id": "52a6cb64-e2be-4167-b4ff-392e61665f23",
   "metadata": {},
   "outputs": [],
   "source": [
    "# adata.obs = pd.get_dummies(adata.obs, columns=['leiden'])\n",
    "adata.obs['constant'] = 'tumor'\n",
    "adata.obs['constant'] = adata.obs['constant'].astype('category')"
   ]
  },
  {
   "cell_type": "code",
   "execution_count": 127,
   "id": "54828d87-bc8f-4e1c-a910-427b4d6da5d9",
   "metadata": {},
   "outputs": [
    {
     "data": {
      "text/plain": [
       "AnnData object with n_obs × n_vars = 2401 × 28863\n",
       "    obs: 'dataset', 'sample', 'accession', 'sex', 'condition', 'origin', 'patient', 'tissue', 'n_counts', 'n_genes', 'n_genes_by_counts', 'total_counts', 'total_counts_mito', 'pct_counts_mito', 'Level_2_transfered_label', 'final_pred', 'leiden_0', 'leiden_1', 'leiden_2', 'leiden_3', 'leiden_4', 'leiden_5', 'leiden_6', 'constant', 'leiden'\n",
       "    var: 'n_counts', 'mito', 'n_cells_by_counts', 'mean_counts', 'pct_dropout_by_counts', 'total_counts'\n",
       "    uns: 'pca', 'neighbors', 'leiden', 'umap', 'Level_2_transfered_label_colors', 'leiden_colors', 'log1p', 'sample_colors'\n",
       "    obsm: 'X_pca', 'X_umap'\n",
       "    varm: 'PCs'\n",
       "    layers: 'counts'\n",
       "    obsp: 'distances', 'connectivities'"
      ]
     },
     "execution_count": 127,
     "metadata": {},
     "output_type": "execute_result"
    }
   ],
   "source": [
    "adata"
   ]
  },
  {
   "cell_type": "markdown",
   "id": "26bca982-6cf0-4340-9991-6ab9a1570ca0",
   "metadata": {},
   "source": [
    "Next, we create the AnnData object with pseudobulks. We do it concurrently as the procces of the\n",
    "aggreggated sum does take a while.\n",
    "\n",
    "HERE we execute it so that we pass a different condition for every cluster."
   ]
  },
  {
   "cell_type": "code",
   "execution_count": 107,
   "id": "f384ba8a-ac5f-4837-b683-f8e78930156f",
   "metadata": {
    "collapsed": true,
    "jupyter": {
     "outputs_hidden": true
    },
    "tags": []
   },
   "outputs": [
    {
     "name": "stdout",
     "output_type": "stream",
     "text": [
      "Processing leiden_0...\n",
      "Processing leiden_1...\n",
      "Processing leiden_2...\n",
      "Processing leiden_3...\n",
      "Processing leiden_4...\n",
      "Processing leiden_5...\n",
      "Processing leiden_6...\n"
     ]
    },
    {
     "name": "stderr",
     "output_type": "stream",
     "text": [
      "/tmp/ipykernel_137001/3303381390.py:17: FutureWarning: The default of observed=False is deprecated and will be changed to True in a future version of pandas. Pass observed=False to retain current behavior or observed=True to adopt the future default and silence this warning.\n",
      "  size_by_donor = adata_cell_pop.obs.groupby([donor_key]).size()\n",
      "/tmp/ipykernel_137001/3303381390.py:17: FutureWarning: The default of observed=False is deprecated and will be changed to True in a future version of pandas. Pass observed=False to retain current behavior or observed=True to adopt the future default and silence this warning.\n",
      "  size_by_donor = adata_cell_pop.obs.groupby([donor_key]).size()\n",
      "/tmp/ipykernel_137001/3303381390.py:17: FutureWarning: The default of observed=False is deprecated and will be changed to True in a future version of pandas. Pass observed=False to retain current behavior or observed=True to adopt the future default and silence this warning.\n",
      "  size_by_donor = adata_cell_pop.obs.groupby([donor_key]).size()\n"
     ]
    },
    {
     "name": "stdout",
     "output_type": "stream",
     "text": [
      "\tProcessing donor 1 out of 2...\r"
     ]
    },
    {
     "name": "stderr",
     "output_type": "stream",
     "text": [
      "/tmp/ipykernel_137001/3303381390.py:17: FutureWarning: The default of observed=False is deprecated and will be changed to True in a future version of pandas. Pass observed=False to retain current behavior or observed=True to adopt the future default and silence this warning.\n",
      "  size_by_donor = adata_cell_pop.obs.groupby([donor_key]).size()\n",
      "/tmp/ipykernel_137001/3303381390.py:50: FutureWarning: The default of observed=False is deprecated and will be changed to True in a future version of pandas. Pass observed=False to retain current behavior or observed=True to adopt the future default and silence this warning.\n",
      "  df_donor = df_donor.groupby(donor_key).agg(agg_dict)\n",
      "/tmp/ipykernel_137001/3303381390.py:17: FutureWarning: The default of observed=False is deprecated and will be changed to True in a future version of pandas. Pass observed=False to retain current behavior or observed=True to adopt the future default and silence this warning.\n",
      "  size_by_donor = adata_cell_pop.obs.groupby([donor_key]).size()\n"
     ]
    },
    {
     "name": "stdout",
     "output_type": "stream",
     "text": [
      "\tProcessing donor 1 out of 2...\r"
     ]
    },
    {
     "name": "stderr",
     "output_type": "stream",
     "text": [
      "/tmp/ipykernel_137001/3303381390.py:50: FutureWarning: The default of observed=False is deprecated and will be changed to True in a future version of pandas. Pass observed=False to retain current behavior or observed=True to adopt the future default and silence this warning.\n",
      "  df_donor = df_donor.groupby(donor_key).agg(agg_dict)\n",
      "/tmp/ipykernel_137001/3303381390.py:17: FutureWarning: The default of observed=False is deprecated and will be changed to True in a future version of pandas. Pass observed=False to retain current behavior or observed=True to adopt the future default and silence this warning.\n",
      "  size_by_donor = adata_cell_pop.obs.groupby([donor_key]).size()\n"
     ]
    },
    {
     "name": "stdout",
     "output_type": "stream",
     "text": [
      "\tProcessing donor 1 out of 2...\r"
     ]
    },
    {
     "name": "stderr",
     "output_type": "stream",
     "text": [
      "/tmp/ipykernel_137001/3303381390.py:50: FutureWarning: The default of observed=False is deprecated and will be changed to True in a future version of pandas. Pass observed=False to retain current behavior or observed=True to adopt the future default and silence this warning.\n",
      "  df_donor = df_donor.groupby(donor_key).agg(agg_dict)\n",
      "/tmp/ipykernel_137001/3303381390.py:17: FutureWarning: The default of observed=False is deprecated and will be changed to True in a future version of pandas. Pass observed=False to retain current behavior or observed=True to adopt the future default and silence this warning.\n",
      "  size_by_donor = adata_cell_pop.obs.groupby([donor_key]).size()\n"
     ]
    },
    {
     "name": "stdout",
     "output_type": "stream",
     "text": [
      "\tProcessing donor 1 out of 2...\r"
     ]
    },
    {
     "name": "stderr",
     "output_type": "stream",
     "text": [
      "/tmp/ipykernel_137001/3303381390.py:50: FutureWarning: The default of observed=False is deprecated and will be changed to True in a future version of pandas. Pass observed=False to retain current behavior or observed=True to adopt the future default and silence this warning.\n",
      "  df_donor = df_donor.groupby(donor_key).agg(agg_dict)\n"
     ]
    },
    {
     "name": "stdout",
     "output_type": "stream",
     "text": [
      "\tProcessing donor 1 out of 2...\r"
     ]
    },
    {
     "name": "stderr",
     "output_type": "stream",
     "text": [
      "/tmp/ipykernel_137001/3303381390.py:50: FutureWarning: The default of observed=False is deprecated and will be changed to True in a future version of pandas. Pass observed=False to retain current behavior or observed=True to adopt the future default and silence this warning.\n",
      "  df_donor = df_donor.groupby(donor_key).agg(agg_dict)\n"
     ]
    },
    {
     "name": "stdout",
     "output_type": "stream",
     "text": [
      "\tProcessing donor 1 out of 2...\r"
     ]
    },
    {
     "name": "stderr",
     "output_type": "stream",
     "text": [
      "/tmp/ipykernel_137001/3303381390.py:50: FutureWarning: The default of observed=False is deprecated and will be changed to True in a future version of pandas. Pass observed=False to retain current behavior or observed=True to adopt the future default and silence this warning.\n",
      "  df_donor = df_donor.groupby(donor_key).agg(agg_dict)\n"
     ]
    },
    {
     "name": "stdout",
     "output_type": "stream",
     "text": [
      "\tProcessing donor 1 out of 2...\r"
     ]
    },
    {
     "name": "stderr",
     "output_type": "stream",
     "text": [
      "/tmp/ipykernel_137001/3303381390.py:50: FutureWarning: The default of observed=False is deprecated and will be changed to True in a future version of pandas. Pass observed=False to retain current behavior or observed=True to adopt the future default and silence this warning.\n",
      "  df_donor = df_donor.groupby(donor_key).agg(agg_dict)\n"
     ]
    },
    {
     "name": "stdout",
     "output_type": "stream",
     "text": [
      "          leiden_6 condition   sample tissue\n",
      "NSCLC-9_0    False     NSCLC  NSCLC-9   lung\n"
     ]
    },
    {
     "name": "stderr",
     "output_type": "stream",
     "text": [
      "/tmp/ipykernel_137001/3303381390.py:50: FutureWarning: The default of observed=False is deprecated and will be changed to True in a future version of pandas. Pass observed=False to retain current behavior or observed=True to adopt the future default and silence this warning.\n",
      "  df_donor = df_donor.groupby(donor_key).agg(agg_dict)\n"
     ]
    },
    {
     "name": "stdout",
     "output_type": "stream",
     "text": [
      "          condition   sample tissue leiden_1\n",
      "NSCLC-9_0     NSCLC  NSCLC-9   lung     True\n"
     ]
    },
    {
     "name": "stderr",
     "output_type": "stream",
     "text": [
      "/tmp/ipykernel_137001/3303381390.py:50: FutureWarning: The default of observed=False is deprecated and will be changed to True in a future version of pandas. Pass observed=False to retain current behavior or observed=True to adopt the future default and silence this warning.\n",
      "  df_donor = df_donor.groupby(donor_key).agg(agg_dict)\n"
     ]
    },
    {
     "name": "stdout",
     "output_type": "stream",
     "text": [
      "          condition   sample leiden_2 tissue\n",
      "NSCLC-9_0     NSCLC  NSCLC-9    False   lung\n"
     ]
    },
    {
     "name": "stderr",
     "output_type": "stream",
     "text": [
      "/tmp/ipykernel_137001/3303381390.py:50: FutureWarning: The default of observed=False is deprecated and will be changed to True in a future version of pandas. Pass observed=False to retain current behavior or observed=True to adopt the future default and silence this warning.\n",
      "  df_donor = df_donor.groupby(donor_key).agg(agg_dict)\n"
     ]
    },
    {
     "name": "stdout",
     "output_type": "stream",
     "text": [
      "          condition   sample leiden_3 tissue\n",
      "NSCLC-9_0     NSCLC  NSCLC-9    False   lung\n"
     ]
    },
    {
     "name": "stderr",
     "output_type": "stream",
     "text": [
      "/tmp/ipykernel_137001/3303381390.py:50: FutureWarning: The default of observed=False is deprecated and will be changed to True in a future version of pandas. Pass observed=False to retain current behavior or observed=True to adopt the future default and silence this warning.\n",
      "  df_donor = df_donor.groupby(donor_key).agg(agg_dict)\n"
     ]
    },
    {
     "name": "stdout",
     "output_type": "stream",
     "text": [
      "          condition   sample leiden_4 tissue\n",
      "NSCLC-9_0     NSCLC  NSCLC-9    False   lung\n"
     ]
    },
    {
     "name": "stderr",
     "output_type": "stream",
     "text": [
      "/tmp/ipykernel_137001/3303381390.py:50: FutureWarning: The default of observed=False is deprecated and will be changed to True in a future version of pandas. Pass observed=False to retain current behavior or observed=True to adopt the future default and silence this warning.\n",
      "  df_donor = df_donor.groupby(donor_key).agg(agg_dict)\n"
     ]
    },
    {
     "name": "stdout",
     "output_type": "stream",
     "text": [
      "          condition   sample leiden_0 tissue\n",
      "NSCLC-9_0     NSCLC  NSCLC-9    False   lung\n"
     ]
    },
    {
     "name": "stderr",
     "output_type": "stream",
     "text": [
      "/tmp/ipykernel_137001/3303381390.py:50: FutureWarning: The default of observed=False is deprecated and will be changed to True in a future version of pandas. Pass observed=False to retain current behavior or observed=True to adopt the future default and silence this warning.\n",
      "  df_donor = df_donor.groupby(donor_key).agg(agg_dict)\n"
     ]
    },
    {
     "name": "stdout",
     "output_type": "stream",
     "text": [
      "          condition leiden_5   sample tissue\n",
      "NSCLC-9_0     NSCLC    False  NSCLC-9   lung\n"
     ]
    },
    {
     "name": "stderr",
     "output_type": "stream",
     "text": [
      "/tmp/ipykernel_137001/3303381390.py:50: FutureWarning: The default of observed=False is deprecated and will be changed to True in a future version of pandas. Pass observed=False to retain current behavior or observed=True to adopt the future default and silence this warning.\n",
      "  df_donor = df_donor.groupby(donor_key).agg(agg_dict)\n"
     ]
    },
    {
     "name": "stdout",
     "output_type": "stream",
     "text": [
      "          leiden_6 condition   sample tissue\n",
      "NSCLC-9_0    False     NSCLC  NSCLC-9   lung\n",
      "NSCLC-9_1    False     NSCLC  NSCLC-9   lung\n"
     ]
    },
    {
     "name": "stderr",
     "output_type": "stream",
     "text": [
      "/tmp/ipykernel_137001/3303381390.py:50: FutureWarning: The default of observed=False is deprecated and will be changed to True in a future version of pandas. Pass observed=False to retain current behavior or observed=True to adopt the future default and silence this warning.\n",
      "  df_donor = df_donor.groupby(donor_key).agg(agg_dict)\n"
     ]
    },
    {
     "name": "stdout",
     "output_type": "stream",
     "text": [
      "          condition   sample tissue leiden_1\n",
      "NSCLC-9_0     NSCLC  NSCLC-9   lung     True\n",
      "NSCLC-9_1     NSCLC  NSCLC-9   lung     True\n"
     ]
    },
    {
     "name": "stderr",
     "output_type": "stream",
     "text": [
      "/tmp/ipykernel_137001/3303381390.py:50: FutureWarning: The default of observed=False is deprecated and will be changed to True in a future version of pandas. Pass observed=False to retain current behavior or observed=True to adopt the future default and silence this warning.\n",
      "  df_donor = df_donor.groupby(donor_key).agg(agg_dict)\n"
     ]
    },
    {
     "name": "stdout",
     "output_type": "stream",
     "text": [
      "          condition   sample leiden_2 tissue\n",
      "NSCLC-9_0     NSCLC  NSCLC-9    False   lung\n",
      "NSCLC-9_1     NSCLC  NSCLC-9    False   lung\n"
     ]
    },
    {
     "name": "stderr",
     "output_type": "stream",
     "text": [
      "/tmp/ipykernel_137001/3303381390.py:50: FutureWarning: The default of observed=False is deprecated and will be changed to True in a future version of pandas. Pass observed=False to retain current behavior or observed=True to adopt the future default and silence this warning.\n",
      "  df_donor = df_donor.groupby(donor_key).agg(agg_dict)\n"
     ]
    },
    {
     "name": "stdout",
     "output_type": "stream",
     "text": [
      "          condition   sample leiden_3 tissue\n",
      "NSCLC-9_0     NSCLC  NSCLC-9    False   lung\n",
      "NSCLC-9_1     NSCLC  NSCLC-9    False   lung\n"
     ]
    },
    {
     "name": "stderr",
     "output_type": "stream",
     "text": [
      "/tmp/ipykernel_137001/3303381390.py:50: FutureWarning: The default of observed=False is deprecated and will be changed to True in a future version of pandas. Pass observed=False to retain current behavior or observed=True to adopt the future default and silence this warning.\n",
      "  df_donor = df_donor.groupby(donor_key).agg(agg_dict)\n"
     ]
    },
    {
     "name": "stdout",
     "output_type": "stream",
     "text": [
      "          condition   sample leiden_4 tissue\n",
      "NSCLC-9_0     NSCLC  NSCLC-9    False   lung\n",
      "NSCLC-9_1     NSCLC  NSCLC-9    False   lung\n"
     ]
    },
    {
     "name": "stderr",
     "output_type": "stream",
     "text": [
      "/tmp/ipykernel_137001/3303381390.py:50: FutureWarning: The default of observed=False is deprecated and will be changed to True in a future version of pandas. Pass observed=False to retain current behavior or observed=True to adopt the future default and silence this warning.\n",
      "  df_donor = df_donor.groupby(donor_key).agg(agg_dict)\n"
     ]
    },
    {
     "name": "stdout",
     "output_type": "stream",
     "text": [
      "          condition leiden_5   sample tissue\n",
      "NSCLC-9_0     NSCLC    False  NSCLC-9   lung\n",
      "NSCLC-9_1     NSCLC    False  NSCLC-9   lung\n"
     ]
    },
    {
     "name": "stderr",
     "output_type": "stream",
     "text": [
      "/tmp/ipykernel_137001/3303381390.py:50: FutureWarning: The default of observed=False is deprecated and will be changed to True in a future version of pandas. Pass observed=False to retain current behavior or observed=True to adopt the future default and silence this warning.\n",
      "  df_donor = df_donor.groupby(donor_key).agg(agg_dict)\n"
     ]
    },
    {
     "name": "stdout",
     "output_type": "stream",
     "text": [
      "          condition   sample leiden_0 tissue\n",
      "NSCLC-9_0     NSCLC  NSCLC-9    False   lung\n",
      "NSCLC-9_1     NSCLC  NSCLC-9    False   lung\n"
     ]
    },
    {
     "name": "stderr",
     "output_type": "stream",
     "text": [
      "/tmp/ipykernel_137001/3303381390.py:50: FutureWarning: The default of observed=False is deprecated and will be changed to True in a future version of pandas. Pass observed=False to retain current behavior or observed=True to adopt the future default and silence this warning.\n",
      "  df_donor = df_donor.groupby(donor_key).agg(agg_dict)\n"
     ]
    },
    {
     "name": "stdout",
     "output_type": "stream",
     "text": [
      "          leiden_6 condition   sample tissue\n",
      "NSCLC-9_0    False     NSCLC  NSCLC-9   lung\n",
      "NSCLC-9_1    False     NSCLC  NSCLC-9   lung\n",
      "NSCLC-9_2    False     NSCLC  NSCLC-9   lung\n",
      "\tProcessing donor 2 out of 2...\r"
     ]
    },
    {
     "name": "stderr",
     "output_type": "stream",
     "text": [
      "/tmp/ipykernel_137001/3303381390.py:50: FutureWarning: The default of observed=False is deprecated and will be changed to True in a future version of pandas. Pass observed=False to retain current behavior or observed=True to adopt the future default and silence this warning.\n",
      "  df_donor = df_donor.groupby(donor_key).agg(agg_dict)\n"
     ]
    },
    {
     "name": "stdout",
     "output_type": "stream",
     "text": [
      "           leiden_6 condition    sample tissue\n",
      "NSCLC-9_0     False     NSCLC   NSCLC-9   lung\n",
      "NSCLC-9_1     False     NSCLC   NSCLC-9   lung\n",
      "NSCLC-9_2     False     NSCLC   NSCLC-9   lung\n",
      "NSCLC-10_0    False     NSCLC  NSCLC-10   lung\n"
     ]
    },
    {
     "name": "stderr",
     "output_type": "stream",
     "text": [
      "/tmp/ipykernel_137001/3303381390.py:50: FutureWarning: The default of observed=False is deprecated and will be changed to True in a future version of pandas. Pass observed=False to retain current behavior or observed=True to adopt the future default and silence this warning.\n",
      "  df_donor = df_donor.groupby(donor_key).agg(agg_dict)\n"
     ]
    },
    {
     "name": "stdout",
     "output_type": "stream",
     "text": [
      "          condition   sample tissue leiden_1\n",
      "NSCLC-9_0     NSCLC  NSCLC-9   lung     True\n",
      "NSCLC-9_1     NSCLC  NSCLC-9   lung     True\n",
      "NSCLC-9_2     NSCLC  NSCLC-9   lung     True\n",
      "\tProcessing donor 2 out of 2...\r"
     ]
    },
    {
     "name": "stderr",
     "output_type": "stream",
     "text": [
      "/tmp/ipykernel_137001/3303381390.py:50: FutureWarning: The default of observed=False is deprecated and will be changed to True in a future version of pandas. Pass observed=False to retain current behavior or observed=True to adopt the future default and silence this warning.\n",
      "  df_donor = df_donor.groupby(donor_key).agg(agg_dict)\n"
     ]
    },
    {
     "name": "stdout",
     "output_type": "stream",
     "text": [
      "          condition leiden_5   sample tissue\n",
      "NSCLC-9_0     NSCLC    False  NSCLC-9   lung\n",
      "NSCLC-9_1     NSCLC    False  NSCLC-9   lung\n",
      "NSCLC-9_2     NSCLC    False  NSCLC-9   lung\n",
      "          condition   sample leiden_3 tissue\n",
      "NSCLC-9_0     NSCLC  NSCLC-9    False   lung\n",
      "NSCLC-9_1     NSCLC  NSCLC-9    False   lung\n",
      "NSCLC-9_2     NSCLC  NSCLC-9    False   lung\n",
      "\tProcessing donor 2 out of 2...\r"
     ]
    },
    {
     "name": "stderr",
     "output_type": "stream",
     "text": [
      "/tmp/ipykernel_137001/3303381390.py:50: FutureWarning: The default of observed=False is deprecated and will be changed to True in a future version of pandas. Pass observed=False to retain current behavior or observed=True to adopt the future default and silence this warning.\n",
      "  df_donor = df_donor.groupby(donor_key).agg(agg_dict)\n",
      "/tmp/ipykernel_137001/3303381390.py:50: FutureWarning: The default of observed=False is deprecated and will be changed to True in a future version of pandas. Pass observed=False to retain current behavior or observed=True to adopt the future default and silence this warning.\n",
      "  df_donor = df_donor.groupby(donor_key).agg(agg_dict)\n"
     ]
    },
    {
     "name": "stdout",
     "output_type": "stream",
     "text": [
      "          condition   sample leiden_4 tissue\n",
      "NSCLC-9_0     NSCLC  NSCLC-9    False   lung\n",
      "NSCLC-9_1     NSCLC  NSCLC-9    False   lung\n",
      "NSCLC-9_2     NSCLC  NSCLC-9    False   lung\n",
      "          condition   sample leiden_0 tissue\n",
      "NSCLC-9_0     NSCLC  NSCLC-9    False   lung\n",
      "NSCLC-9_1     NSCLC  NSCLC-9    False   lung\n",
      "NSCLC-9_2     NSCLC  NSCLC-9    False   lung\n",
      "\tProcessing donor 2 out of 2...\r"
     ]
    },
    {
     "name": "stderr",
     "output_type": "stream",
     "text": [
      "/tmp/ipykernel_137001/3303381390.py:50: FutureWarning: The default of observed=False is deprecated and will be changed to True in a future version of pandas. Pass observed=False to retain current behavior or observed=True to adopt the future default and silence this warning.\n",
      "  df_donor = df_donor.groupby(donor_key).agg(agg_dict)\n",
      "/tmp/ipykernel_137001/3303381390.py:50: FutureWarning: The default of observed=False is deprecated and will be changed to True in a future version of pandas. Pass observed=False to retain current behavior or observed=True to adopt the future default and silence this warning.\n",
      "  df_donor = df_donor.groupby(donor_key).agg(agg_dict)\n"
     ]
    },
    {
     "name": "stdout",
     "output_type": "stream",
     "text": [
      "          condition   sample leiden_2 tissue\n",
      "NSCLC-9_0     NSCLC  NSCLC-9    False   lung\n",
      "NSCLC-9_1     NSCLC  NSCLC-9    False   lung\n",
      "NSCLC-9_2     NSCLC  NSCLC-9    False   lung\n",
      "\tProcessing donor 2 out of 2...\r"
     ]
    },
    {
     "name": "stderr",
     "output_type": "stream",
     "text": [
      "/tmp/ipykernel_137001/3303381390.py:50: FutureWarning: The default of observed=False is deprecated and will be changed to True in a future version of pandas. Pass observed=False to retain current behavior or observed=True to adopt the future default and silence this warning.\n",
      "  df_donor = df_donor.groupby(donor_key).agg(agg_dict)\n"
     ]
    },
    {
     "name": "stdout",
     "output_type": "stream",
     "text": [
      "           leiden_6 condition    sample tissue\n",
      "NSCLC-9_0     False     NSCLC   NSCLC-9   lung\n",
      "NSCLC-9_1     False     NSCLC   NSCLC-9   lung\n",
      "NSCLC-9_2     False     NSCLC   NSCLC-9   lung\n",
      "NSCLC-10_0    False     NSCLC  NSCLC-10   lung\n",
      "NSCLC-10_1    False     NSCLC  NSCLC-10   lung\n"
     ]
    },
    {
     "name": "stderr",
     "output_type": "stream",
     "text": [
      "/tmp/ipykernel_137001/3303381390.py:50: FutureWarning: The default of observed=False is deprecated and will be changed to True in a future version of pandas. Pass observed=False to retain current behavior or observed=True to adopt the future default and silence this warning.\n",
      "  df_donor = df_donor.groupby(donor_key).agg(agg_dict)\n"
     ]
    },
    {
     "name": "stdout",
     "output_type": "stream",
     "text": [
      "           condition    sample leiden_3 tissue\n",
      "NSCLC-9_0      NSCLC   NSCLC-9    False   lung\n",
      "NSCLC-9_1      NSCLC   NSCLC-9    False   lung\n",
      "NSCLC-9_2      NSCLC   NSCLC-9    False   lung\n",
      "NSCLC-10_0     NSCLC  NSCLC-10    False   lung\n",
      "           condition    sample tissue leiden_1\n",
      "NSCLC-9_0      NSCLC   NSCLC-9   lung     True\n",
      "NSCLC-9_1      NSCLC   NSCLC-9   lung     True\n",
      "NSCLC-9_2      NSCLC   NSCLC-9   lung     True\n",
      "NSCLC-10_0     NSCLC  NSCLC-10   lung    False\n"
     ]
    },
    {
     "name": "stderr",
     "output_type": "stream",
     "text": [
      "/tmp/ipykernel_137001/3303381390.py:50: FutureWarning: The default of observed=False is deprecated and will be changed to True in a future version of pandas. Pass observed=False to retain current behavior or observed=True to adopt the future default and silence this warning.\n",
      "  df_donor = df_donor.groupby(donor_key).agg(agg_dict)\n",
      "/tmp/ipykernel_137001/3303381390.py:50: FutureWarning: The default of observed=False is deprecated and will be changed to True in a future version of pandas. Pass observed=False to retain current behavior or observed=True to adopt the future default and silence this warning.\n",
      "  df_donor = df_donor.groupby(donor_key).agg(agg_dict)\n"
     ]
    },
    {
     "name": "stdout",
     "output_type": "stream",
     "text": [
      "           condition    sample leiden_0 tissue\n",
      "NSCLC-9_0      NSCLC   NSCLC-9    False   lung\n",
      "NSCLC-9_1      NSCLC   NSCLC-9    False   lung\n",
      "NSCLC-9_2      NSCLC   NSCLC-9    False   lung\n",
      "NSCLC-10_0     NSCLC  NSCLC-10    False   lung\n"
     ]
    },
    {
     "name": "stderr",
     "output_type": "stream",
     "text": [
      "/tmp/ipykernel_137001/3303381390.py:50: FutureWarning: The default of observed=False is deprecated and will be changed to True in a future version of pandas. Pass observed=False to retain current behavior or observed=True to adopt the future default and silence this warning.\n",
      "  df_donor = df_donor.groupby(donor_key).agg(agg_dict)\n"
     ]
    },
    {
     "name": "stdout",
     "output_type": "stream",
     "text": [
      "           condition    sample leiden_2 tissue\n",
      "NSCLC-9_0      NSCLC   NSCLC-9    False   lung\n",
      "NSCLC-9_1      NSCLC   NSCLC-9    False   lung\n",
      "NSCLC-9_2      NSCLC   NSCLC-9    False   lung\n",
      "NSCLC-10_0     NSCLC  NSCLC-10    False   lung\n"
     ]
    },
    {
     "name": "stderr",
     "output_type": "stream",
     "text": [
      "/tmp/ipykernel_137001/3303381390.py:50: FutureWarning: The default of observed=False is deprecated and will be changed to True in a future version of pandas. Pass observed=False to retain current behavior or observed=True to adopt the future default and silence this warning.\n",
      "  df_donor = df_donor.groupby(donor_key).agg(agg_dict)\n"
     ]
    },
    {
     "name": "stdout",
     "output_type": "stream",
     "text": [
      "           condition leiden_5    sample tissue\n",
      "NSCLC-9_0      NSCLC    False   NSCLC-9   lung\n",
      "NSCLC-9_1      NSCLC    False   NSCLC-9   lung\n",
      "NSCLC-9_2      NSCLC    False   NSCLC-9   lung\n",
      "NSCLC-10_0     NSCLC    False  NSCLC-10   lung\n"
     ]
    },
    {
     "name": "stderr",
     "output_type": "stream",
     "text": [
      "/tmp/ipykernel_137001/3303381390.py:50: FutureWarning: The default of observed=False is deprecated and will be changed to True in a future version of pandas. Pass observed=False to retain current behavior or observed=True to adopt the future default and silence this warning.\n",
      "  df_donor = df_donor.groupby(donor_key).agg(agg_dict)\n"
     ]
    },
    {
     "name": "stdout",
     "output_type": "stream",
     "text": [
      "           condition    sample leiden_4 tissue\n",
      "NSCLC-9_0      NSCLC   NSCLC-9    False   lung\n",
      "NSCLC-9_1      NSCLC   NSCLC-9    False   lung\n",
      "NSCLC-9_2      NSCLC   NSCLC-9    False   lung\n",
      "NSCLC-10_0     NSCLC  NSCLC-10    False   lung\n"
     ]
    },
    {
     "name": "stderr",
     "output_type": "stream",
     "text": [
      "/tmp/ipykernel_137001/3303381390.py:50: FutureWarning: The default of observed=False is deprecated and will be changed to True in a future version of pandas. Pass observed=False to retain current behavior or observed=True to adopt the future default and silence this warning.\n",
      "  df_donor = df_donor.groupby(donor_key).agg(agg_dict)\n"
     ]
    },
    {
     "name": "stdout",
     "output_type": "stream",
     "text": [
      "           leiden_6 condition    sample tissue\n",
      "NSCLC-9_0     False     NSCLC   NSCLC-9   lung\n",
      "NSCLC-9_1     False     NSCLC   NSCLC-9   lung\n",
      "NSCLC-9_2     False     NSCLC   NSCLC-9   lung\n",
      "NSCLC-10_0    False     NSCLC  NSCLC-10   lung\n",
      "NSCLC-10_1    False     NSCLC  NSCLC-10   lung\n",
      "NSCLC-10_2    False     NSCLC  NSCLC-10   lung\n",
      "\n",
      "\n",
      "Finished leiden_0...\n",
      "           condition    sample leiden_4 tissue\n",
      "NSCLC-9_0      NSCLC   NSCLC-9    False   lung\n",
      "NSCLC-9_1      NSCLC   NSCLC-9    False   lung\n",
      "NSCLC-9_2      NSCLC   NSCLC-9    False   lung\n",
      "NSCLC-10_0     NSCLC  NSCLC-10    False   lung\n",
      "NSCLC-10_1     NSCLC  NSCLC-10    False   lung\n"
     ]
    },
    {
     "name": "stderr",
     "output_type": "stream",
     "text": [
      "/tmp/ipykernel_137001/3303381390.py:50: FutureWarning: The default of observed=False is deprecated and will be changed to True in a future version of pandas. Pass observed=False to retain current behavior or observed=True to adopt the future default and silence this warning.\n",
      "  df_donor = df_donor.groupby(donor_key).agg(agg_dict)\n"
     ]
    },
    {
     "name": "stdout",
     "output_type": "stream",
     "text": [
      "           condition    sample tissue leiden_1\n",
      "NSCLC-9_0      NSCLC   NSCLC-9   lung     True\n",
      "NSCLC-9_1      NSCLC   NSCLC-9   lung     True\n",
      "NSCLC-9_2      NSCLC   NSCLC-9   lung     True\n",
      "NSCLC-10_0     NSCLC  NSCLC-10   lung    False\n",
      "NSCLC-10_1     NSCLC  NSCLC-10   lung    False\n"
     ]
    },
    {
     "name": "stderr",
     "output_type": "stream",
     "text": [
      "/tmp/ipykernel_137001/3303381390.py:50: FutureWarning: The default of observed=False is deprecated and will be changed to True in a future version of pandas. Pass observed=False to retain current behavior or observed=True to adopt the future default and silence this warning.\n",
      "  df_donor = df_donor.groupby(donor_key).agg(agg_dict)\n"
     ]
    },
    {
     "name": "stdout",
     "output_type": "stream",
     "text": [
      "           condition    sample leiden_0 tissue\n",
      "NSCLC-9_0      NSCLC   NSCLC-9    False   lung\n",
      "NSCLC-9_1      NSCLC   NSCLC-9    False   lung\n",
      "NSCLC-9_2      NSCLC   NSCLC-9    False   lung\n",
      "NSCLC-10_0     NSCLC  NSCLC-10    False   lung\n",
      "NSCLC-10_1     NSCLC  NSCLC-10    False   lung\n"
     ]
    },
    {
     "name": "stderr",
     "output_type": "stream",
     "text": [
      "/tmp/ipykernel_137001/3303381390.py:50: FutureWarning: The default of observed=False is deprecated and will be changed to True in a future version of pandas. Pass observed=False to retain current behavior or observed=True to adopt the future default and silence this warning.\n",
      "  df_donor = df_donor.groupby(donor_key).agg(agg_dict)\n"
     ]
    },
    {
     "name": "stdout",
     "output_type": "stream",
     "text": [
      "           condition leiden_5    sample tissue\n",
      "NSCLC-9_0      NSCLC    False   NSCLC-9   lung\n",
      "NSCLC-9_1      NSCLC    False   NSCLC-9   lung\n",
      "NSCLC-9_2      NSCLC    False   NSCLC-9   lung\n",
      "NSCLC-10_0     NSCLC    False  NSCLC-10   lung\n",
      "NSCLC-10_1     NSCLC    False  NSCLC-10   lung\n",
      "           condition    sample leiden_2 tissue\n",
      "NSCLC-9_0      NSCLC   NSCLC-9    False   lung\n",
      "NSCLC-9_1      NSCLC   NSCLC-9    False   lung\n",
      "NSCLC-9_2      NSCLC   NSCLC-9    False   lung\n",
      "NSCLC-10_0     NSCLC  NSCLC-10    False   lung\n",
      "NSCLC-10_1     NSCLC  NSCLC-10    False   lung\n",
      "           condition    sample leiden_3 tissue\n",
      "NSCLC-9_0      NSCLC   NSCLC-9    False   lung\n",
      "NSCLC-9_1      NSCLC   NSCLC-9    False   lung\n",
      "NSCLC-9_2      NSCLC   NSCLC-9    False   lung\n",
      "NSCLC-10_0     NSCLC  NSCLC-10    False   lung\n",
      "NSCLC-10_1     NSCLC  NSCLC-10    False   lung\n"
     ]
    },
    {
     "name": "stderr",
     "output_type": "stream",
     "text": [
      "/tmp/ipykernel_137001/3303381390.py:50: FutureWarning: The default of observed=False is deprecated and will be changed to True in a future version of pandas. Pass observed=False to retain current behavior or observed=True to adopt the future default and silence this warning.\n",
      "  df_donor = df_donor.groupby(donor_key).agg(agg_dict)\n",
      "/tmp/ipykernel_137001/3303381390.py:50: FutureWarning: The default of observed=False is deprecated and will be changed to True in a future version of pandas. Pass observed=False to retain current behavior or observed=True to adopt the future default and silence this warning.\n",
      "  df_donor = df_donor.groupby(donor_key).agg(agg_dict)\n",
      "/tmp/ipykernel_137001/3303381390.py:50: FutureWarning: The default of observed=False is deprecated and will be changed to True in a future version of pandas. Pass observed=False to retain current behavior or observed=True to adopt the future default and silence this warning.\n",
      "  df_donor = df_donor.groupby(donor_key).agg(agg_dict)\n"
     ]
    },
    {
     "name": "stdout",
     "output_type": "stream",
     "text": [
      "           condition    sample leiden_4 tissue\n",
      "NSCLC-9_0      NSCLC   NSCLC-9    False   lung\n",
      "NSCLC-9_1      NSCLC   NSCLC-9    False   lung\n",
      "NSCLC-9_2      NSCLC   NSCLC-9    False   lung\n",
      "NSCLC-10_0     NSCLC  NSCLC-10    False   lung\n",
      "NSCLC-10_1     NSCLC  NSCLC-10    False   lung\n",
      "NSCLC-10_2     NSCLC  NSCLC-10    False   lung\n",
      "\n",
      "\n",
      "Finished leiden_1...\n"
     ]
    },
    {
     "name": "stderr",
     "output_type": "stream",
     "text": [
      "/tmp/ipykernel_137001/3605754491.py:28: FutureWarning: Use anndata.concat instead of AnnData.concatenate, AnnData.concatenate is deprecated and will be removed in the future. See the tutorial for concat at: https://anndata.readthedocs.io/en/latest/concatenation.html\n",
      "  adata_pb = adata_pb.concatenate(adata_leiden_cluster)\n"
     ]
    },
    {
     "name": "stdout",
     "output_type": "stream",
     "text": [
      "           condition    sample leiden_2 tissue\n",
      "NSCLC-9_0      NSCLC   NSCLC-9    False   lung\n",
      "NSCLC-9_1      NSCLC   NSCLC-9    False   lung\n",
      "NSCLC-9_2      NSCLC   NSCLC-9    False   lung\n",
      "NSCLC-10_0     NSCLC  NSCLC-10    False   lung\n",
      "NSCLC-10_1     NSCLC  NSCLC-10    False   lung\n",
      "NSCLC-10_2     NSCLC  NSCLC-10    False   lung\n",
      "\n",
      "\n",
      "           condition    sample leiden_0 tissue\n",
      "NSCLC-9_0      NSCLC   NSCLC-9    False   lung\n",
      "NSCLC-9_1      NSCLC   NSCLC-9    False   lung\n",
      "NSCLC-9_2      NSCLC   NSCLC-9    False   lung\n",
      "NSCLC-10_0     NSCLC  NSCLC-10    False   lung\n",
      "NSCLC-10_1     NSCLC  NSCLC-10    False   lung\n",
      "NSCLC-10_2     NSCLC  NSCLC-10    False   lung\n",
      "\n",
      "\n",
      "           condition    sample tissue leiden_1\n",
      "NSCLC-9_0      NSCLC   NSCLC-9   lung     True\n",
      "NSCLC-9_1      NSCLC   NSCLC-9   lung     True\n",
      "NSCLC-9_2      NSCLC   NSCLC-9   lung     True\n",
      "NSCLC-10_0     NSCLC  NSCLC-10   lung    False\n",
      "NSCLC-10_1     NSCLC  NSCLC-10   lung    False\n",
      "NSCLC-10_2     NSCLC  NSCLC-10   lung    False\n",
      "\n",
      "\n",
      "           condition    sample leiden_3 tissue\n",
      "NSCLC-9_0      NSCLC   NSCLC-9    False   lung\n",
      "NSCLC-9_1      NSCLC   NSCLC-9    False   lung\n",
      "NSCLC-9_2      NSCLC   NSCLC-9    False   lung\n",
      "NSCLC-10_0     NSCLC  NSCLC-10    False   lung\n",
      "NSCLC-10_1     NSCLC  NSCLC-10    False   lung\n",
      "NSCLC-10_2     NSCLC  NSCLC-10    False   lung\n",
      "\n",
      "\n",
      "           condition leiden_5    sample tissue\n",
      "NSCLC-9_0      NSCLC    False   NSCLC-9   lung\n",
      "NSCLC-9_1      NSCLC    False   NSCLC-9   lung\n",
      "NSCLC-9_2      NSCLC    False   NSCLC-9   lung\n",
      "NSCLC-10_0     NSCLC    False  NSCLC-10   lung\n",
      "NSCLC-10_1     NSCLC    False  NSCLC-10   lung\n",
      "NSCLC-10_2     NSCLC    False  NSCLC-10   lung\n",
      "\n",
      "\n",
      "Finished leiden_2...\n"
     ]
    },
    {
     "name": "stderr",
     "output_type": "stream",
     "text": [
      "/tmp/ipykernel_137001/3605754491.py:28: FutureWarning: Use anndata.concat instead of AnnData.concatenate, AnnData.concatenate is deprecated and will be removed in the future. See the tutorial for concat at: https://anndata.readthedocs.io/en/latest/concatenation.html\n",
      "  adata_pb = adata_pb.concatenate(adata_leiden_cluster)\n"
     ]
    },
    {
     "name": "stdout",
     "output_type": "stream",
     "text": [
      "Finished leiden_3...\n"
     ]
    },
    {
     "name": "stderr",
     "output_type": "stream",
     "text": [
      "/tmp/ipykernel_137001/3605754491.py:28: FutureWarning: Use anndata.concat instead of AnnData.concatenate, AnnData.concatenate is deprecated and will be removed in the future. See the tutorial for concat at: https://anndata.readthedocs.io/en/latest/concatenation.html\n",
      "  adata_pb = adata_pb.concatenate(adata_leiden_cluster)\n"
     ]
    },
    {
     "name": "stdout",
     "output_type": "stream",
     "text": [
      "Finished leiden_4...\n"
     ]
    },
    {
     "name": "stderr",
     "output_type": "stream",
     "text": [
      "/tmp/ipykernel_137001/3605754491.py:28: FutureWarning: Use anndata.concat instead of AnnData.concatenate, AnnData.concatenate is deprecated and will be removed in the future. See the tutorial for concat at: https://anndata.readthedocs.io/en/latest/concatenation.html\n",
      "  adata_pb = adata_pb.concatenate(adata_leiden_cluster)\n"
     ]
    },
    {
     "name": "stdout",
     "output_type": "stream",
     "text": [
      "Finished leiden_5...\n",
      "Finished leiden_6...\n"
     ]
    },
    {
     "name": "stderr",
     "output_type": "stream",
     "text": [
      "/tmp/ipykernel_137001/3605754491.py:28: FutureWarning: Use anndata.concat instead of AnnData.concatenate, AnnData.concatenate is deprecated and will be removed in the future. See the tutorial for concat at: https://anndata.readthedocs.io/en/latest/concatenation.html\n",
      "  adata_pb = adata_pb.concatenate(adata_leiden_cluster)\n",
      "/tmp/ipykernel_137001/3605754491.py:28: FutureWarning: Use anndata.concat instead of AnnData.concatenate, AnnData.concatenate is deprecated and will be removed in the future. See the tutorial for concat at: https://anndata.readthedocs.io/en/latest/concatenation.html\n",
      "  adata_pb = adata_pb.concatenate(adata_leiden_cluster)\n"
     ]
    },
    {
     "data": {
      "text/plain": [
       "AnnData object with n_obs × n_vars = 42 × 28863\n",
       "    obs: 'leiden_6', 'condition', 'sample', 'tissue', 'leiden_4', 'batch', 'leiden_2', 'leiden_0', 'leiden_1', 'leiden_3', 'leiden_5'"
      ]
     },
     "execution_count": 107,
     "metadata": {},
     "output_type": "execute_result"
    }
   ],
   "source": [
    "import concurrent.futures\n",
    "# Process the remaining cell types concurrently\n",
    "conditions = [f'leiden_{i}' for i in range(0,7)]\n",
    "\n",
    "def process_cell_type(adata, condition, obs_to_keep, replicates_per_patient):\n",
    "    # print(f'Processing {cell_type}...')\n",
    "    return aggregate_and_filter(adata, 'tumor', condition_key=condition,\n",
    "                                obs_to_keep=obs_to_keep,\n",
    "                                replicates_per_patient=replicates_per_patient)\n",
    "\n",
    "\n",
    "adata_pb = None\n",
    "with concurrent.futures.ProcessPoolExecutor() as executor:\n",
    "    futures = []\n",
    "    for condition in conditions:\n",
    "        print(f'Processing {condition}...')\n",
    "        future = executor.submit(process_cell_type, adata, condition,\n",
    "                               obs_to_keep, 3)\n",
    "        futures.append(future)\n",
    "\n",
    "    for i, future in enumerate(concurrent.futures.as_completed(futures)):\n",
    "        print(f'Finished {conditions[i]}...')\n",
    "        adata_leiden_cluster = future.result()\n",
    "        \n",
    "        if i==0:\n",
    "            adata_pb = adata_leiden_cluster\n",
    "        else:\n",
    "            adata_pb = adata_pb.concatenate(adata_leiden_cluster)\n",
    "\n",
    "adata_pb"
   ]
  }
 ],
 "metadata": {
  "kernelspec": {
   "display_name": "Python 3 (ipykernel)",
   "language": "python",
   "name": "python3"
  },
  "language_info": {
   "codemirror_mode": {
    "name": "ipython",
    "version": 3
   },
   "file_extension": ".py",
   "mimetype": "text/x-python",
   "name": "python",
   "nbconvert_exporter": "python",
   "pygments_lexer": "ipython3",
   "version": "3.11.6"
  }
 },
 "nbformat": 4,
 "nbformat_minor": 5
}
